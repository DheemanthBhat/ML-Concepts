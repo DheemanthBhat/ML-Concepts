{
 "cells": [
  {
   "cell_type": "code",
   "execution_count": 1,
   "id": "bf8ddab0",
   "metadata": {},
   "outputs": [
    {
     "data": {
      "application/javascript": [
       "\n",
       "            setTimeout(function() {\n",
       "                var nbb_cell_id = 1;\n",
       "                var nbb_unformatted_code = \"# Enable code formatting using external plugin: nb_black.\\n%reload_ext nb_black\";\n",
       "                var nbb_formatted_code = \"# Enable code formatting using external plugin: nb_black.\\n%reload_ext nb_black\";\n",
       "                var nbb_cells = Jupyter.notebook.get_cells();\n",
       "                for (var i = 0; i < nbb_cells.length; ++i) {\n",
       "                    if (nbb_cells[i].input_prompt_number == nbb_cell_id) {\n",
       "                        if (nbb_cells[i].get_text() == nbb_unformatted_code) {\n",
       "                             nbb_cells[i].set_text(nbb_formatted_code);\n",
       "                        }\n",
       "                        break;\n",
       "                    }\n",
       "                }\n",
       "            }, 500);\n",
       "            "
      ],
      "text/plain": [
       "<IPython.core.display.Javascript object>"
      ]
     },
     "metadata": {},
     "output_type": "display_data"
    }
   ],
   "source": [
    "# Enable code formatting using external plugin: nb_black.\n",
    "%reload_ext nb_black"
   ]
  },
  {
   "cell_type": "markdown",
   "id": "0c673781",
   "metadata": {},
   "source": [
    "# Naive Bayes Classifier\n",
    "\n",
    "## Index\n",
    "\n",
    "1. [Setup](#[1]-Setup)\n",
    "2. [Data Analysis](#[2]-Data-Analysis)\n",
    "3. [Implement Naive Bayes](#[3]-Implement-Naive-Bayes)\n",
    "4. [Training Model](#[4]-Training-Model)\n",
    "5. [Testing Model](#[5]-Testing-Model)\n",
    "6. [Testing Laplace Smoothing (Additive Smoothing)](#[6]-Testing-Additive-Smoothing)\n",
    "\n",
    "## Objective\n",
    "\n",
    "1. Implement simple **Naive Bayes classifier for categorical features**.\n",
    "2. **Train and test model** on sample weather forecast dataset.\n",
    "3. Using the model predict if its ideal to **play Tennis outdoors**."
   ]
  },
  {
   "cell_type": "markdown",
   "id": "ca78cabe",
   "metadata": {},
   "source": [
    "<a id=\"[1]-Setup\"></a>\n",
    "# [1] Setup\n",
    "\n",
    "### Import and configure required libraries"
   ]
  },
  {
   "cell_type": "code",
   "execution_count": 2,
   "id": "4d11196f",
   "metadata": {},
   "outputs": [
    {
     "name": "stdout",
     "output_type": "stream",
     "text": [
      "Pandas version: 1.4.2\n",
      "PrettyTable version: 3.3.0\n"
     ]
    },
    {
     "data": {
      "application/javascript": [
       "\n",
       "            setTimeout(function() {\n",
       "                var nbb_cell_id = 2;\n",
       "                var nbb_unformatted_code = \"# Data manipulation libraries\\nimport pandas as pd\\n\\n# Data visualization libraries\\nimport prettytable\\nfrom prettytable import PrettyTable\\n\\n# General imports\\nimport math\\n\\n# Library versions used in below EDA.\\nprint(\\\"Pandas version:\\\", pd.__version__)\\nprint(\\\"PrettyTable version:\\\", prettytable.__version__)\\n\\n# Configure Pandas.\\n# Set display width to maximum 130 characters in the output, post which it will continue in next line.\\npd.options.display.width = 130\";\n",
       "                var nbb_formatted_code = \"# Data manipulation libraries\\nimport pandas as pd\\n\\n# Data visualization libraries\\nimport prettytable\\nfrom prettytable import PrettyTable\\n\\n# General imports\\nimport math\\n\\n# Library versions used in below EDA.\\nprint(\\\"Pandas version:\\\", pd.__version__)\\nprint(\\\"PrettyTable version:\\\", prettytable.__version__)\\n\\n# Configure Pandas.\\n# Set display width to maximum 130 characters in the output, post which it will continue in next line.\\npd.options.display.width = 130\";\n",
       "                var nbb_cells = Jupyter.notebook.get_cells();\n",
       "                for (var i = 0; i < nbb_cells.length; ++i) {\n",
       "                    if (nbb_cells[i].input_prompt_number == nbb_cell_id) {\n",
       "                        if (nbb_cells[i].get_text() == nbb_unformatted_code) {\n",
       "                             nbb_cells[i].set_text(nbb_formatted_code);\n",
       "                        }\n",
       "                        break;\n",
       "                    }\n",
       "                }\n",
       "            }, 500);\n",
       "            "
      ],
      "text/plain": [
       "<IPython.core.display.Javascript object>"
      ]
     },
     "metadata": {},
     "output_type": "display_data"
    }
   ],
   "source": [
    "# Data manipulation libraries\n",
    "import pandas as pd\n",
    "\n",
    "# Data visualization libraries\n",
    "import prettytable\n",
    "from prettytable import PrettyTable\n",
    "\n",
    "# General imports\n",
    "import math\n",
    "\n",
    "# Library versions used in below EDA.\n",
    "print(\"Pandas version:\", pd.__version__)\n",
    "print(\"PrettyTable version:\", prettytable.__version__)\n",
    "\n",
    "# Configure Pandas.\n",
    "# Set display width to maximum 130 characters in the output, post which it will continue in next line.\n",
    "pd.options.display.width = 130"
   ]
  },
  {
   "cell_type": "markdown",
   "id": "75c2d8ea",
   "metadata": {},
   "source": [
    "#### Common functions"
   ]
  },
  {
   "cell_type": "code",
   "execution_count": 3,
   "id": "e6cb2bbe",
   "metadata": {},
   "outputs": [
    {
     "data": {
      "application/javascript": [
       "\n",
       "            setTimeout(function() {\n",
       "                var nbb_cell_id = 3;\n",
       "                var nbb_unformatted_code = \"def is_empty(element) -> bool:\\n    \\\"\\\"\\\"\\n    Function to check if input `element` is empty.\\n\\n    Other than some special exclusions and inclusions,\\n    this function returns boolean result of Falsy check.\\n    \\\"\\\"\\\"\\n    if (isinstance(element, int) or isinstance(element, float)) and element == 0:\\n        # Exclude 0 and 0.0 from the Falsy set.\\n        return False\\n    elif isinstance(element, str) and len(element.strip()) == 0:\\n        # Include string with only one or more empty space(s) into Falsy set.\\n        return True\\n    elif isinstance(element, bool):\\n        # Exclude False from the Falsy set.\\n        return False\\n    else:\\n        # Falsy check.\\n        return False if element else True\\n\\n\\ndef get_count(items, get_key=lambda item: item):\\n    \\\"\\\"\\\"\\n    Function to count `key` in a list of items.\\n    \\\"\\\"\\\"\\n    count = {}\\n    for index, item in enumerate(items):\\n        if is_empty(get_key(item)):\\n            raise ValueError(f\\\"Specified key not found in the item at index: {index} in the list.\\\")\\n\\n        count[get_key(item)] = count.get(get_key(item), 0) + 1\\n\\n    return count.get(True, count)\\n\\n\\nENABLE_LOG = False\\n\\n\\ndef text(*args):\\n    \\\"\\\"\\\"\\n    Function to print() input string when logging is enabled.\\n    \\\"\\\"\\\"\\n    if ENABLE_LOG is True:\\n        print(*args)\\n\\n\\ndef title(title_str, padding=[1, 1], line_style=\\\"=\\\"):\\n    \\\"\\\"\\\"\\n    Function to print() input string with some styles, when logging is enabled.\\n    \\\"\\\"\\\"\\n    if ENABLE_LOG is True:\\n        pad_top, pad_bot = padding\\n        pt = \\\"\\\\n\\\" * pad_top\\n        pb = \\\"\\\\n\\\" * pad_bot\\n        print(pt + title_str + \\\"\\\\n\\\" + line_style * len(title_str) + pb)\";\n",
       "                var nbb_formatted_code = \"def is_empty(element) -> bool:\\n    \\\"\\\"\\\"\\n    Function to check if input `element` is empty.\\n\\n    Other than some special exclusions and inclusions,\\n    this function returns boolean result of Falsy check.\\n    \\\"\\\"\\\"\\n    if (isinstance(element, int) or isinstance(element, float)) and element == 0:\\n        # Exclude 0 and 0.0 from the Falsy set.\\n        return False\\n    elif isinstance(element, str) and len(element.strip()) == 0:\\n        # Include string with only one or more empty space(s) into Falsy set.\\n        return True\\n    elif isinstance(element, bool):\\n        # Exclude False from the Falsy set.\\n        return False\\n    else:\\n        # Falsy check.\\n        return False if element else True\\n\\n\\ndef get_count(items, get_key=lambda item: item):\\n    \\\"\\\"\\\"\\n    Function to count `key` in a list of items.\\n    \\\"\\\"\\\"\\n    count = {}\\n    for index, item in enumerate(items):\\n        if is_empty(get_key(item)):\\n            raise ValueError(f\\\"Specified key not found in the item at index: {index} in the list.\\\")\\n\\n        count[get_key(item)] = count.get(get_key(item), 0) + 1\\n\\n    return count.get(True, count)\\n\\n\\nENABLE_LOG = False\\n\\n\\ndef text(*args):\\n    \\\"\\\"\\\"\\n    Function to print() input string when logging is enabled.\\n    \\\"\\\"\\\"\\n    if ENABLE_LOG is True:\\n        print(*args)\\n\\n\\ndef title(title_str, padding=[1, 1], line_style=\\\"=\\\"):\\n    \\\"\\\"\\\"\\n    Function to print() input string with some styles, when logging is enabled.\\n    \\\"\\\"\\\"\\n    if ENABLE_LOG is True:\\n        pad_top, pad_bot = padding\\n        pt = \\\"\\\\n\\\" * pad_top\\n        pb = \\\"\\\\n\\\" * pad_bot\\n        print(pt + title_str + \\\"\\\\n\\\" + line_style * len(title_str) + pb)\";\n",
       "                var nbb_cells = Jupyter.notebook.get_cells();\n",
       "                for (var i = 0; i < nbb_cells.length; ++i) {\n",
       "                    if (nbb_cells[i].input_prompt_number == nbb_cell_id) {\n",
       "                        if (nbb_cells[i].get_text() == nbb_unformatted_code) {\n",
       "                             nbb_cells[i].set_text(nbb_formatted_code);\n",
       "                        }\n",
       "                        break;\n",
       "                    }\n",
       "                }\n",
       "            }, 500);\n",
       "            "
      ],
      "text/plain": [
       "<IPython.core.display.Javascript object>"
      ]
     },
     "metadata": {},
     "output_type": "display_data"
    }
   ],
   "source": [
    "def is_empty(element) -> bool:\n",
    "    \"\"\"\n",
    "    Function to check if input `element` is empty.\n",
    "\n",
    "    Other than some special exclusions and inclusions,\n",
    "    this function returns boolean result of Falsy check.\n",
    "    \"\"\"\n",
    "    if (isinstance(element, int) or isinstance(element, float)) and element == 0:\n",
    "        # Exclude 0 and 0.0 from the Falsy set.\n",
    "        return False\n",
    "    elif isinstance(element, str) and len(element.strip()) == 0:\n",
    "        # Include string with only one or more empty space(s) into Falsy set.\n",
    "        return True\n",
    "    elif isinstance(element, bool):\n",
    "        # Exclude False from the Falsy set.\n",
    "        return False\n",
    "    else:\n",
    "        # Falsy check.\n",
    "        return False if element else True\n",
    "\n",
    "\n",
    "def get_count(items, get_key=lambda item: item):\n",
    "    \"\"\"\n",
    "    Function to count `key` in a list of items.\n",
    "    \"\"\"\n",
    "    count = {}\n",
    "    for index, item in enumerate(items):\n",
    "        if is_empty(get_key(item)):\n",
    "            raise ValueError(f\"Specified key not found in the item at index: {index} in the list.\")\n",
    "\n",
    "        count[get_key(item)] = count.get(get_key(item), 0) + 1\n",
    "\n",
    "    return count.get(True, count)\n",
    "\n",
    "\n",
    "ENABLE_LOG = False\n",
    "\n",
    "\n",
    "def text(*args):\n",
    "    \"\"\"\n",
    "    Function to print() input string when logging is enabled.\n",
    "    \"\"\"\n",
    "    if ENABLE_LOG is True:\n",
    "        print(*args)\n",
    "\n",
    "\n",
    "def title(title_str, padding=[1, 1], line_style=\"=\"):\n",
    "    \"\"\"\n",
    "    Function to print() input string with some styles, when logging is enabled.\n",
    "    \"\"\"\n",
    "    if ENABLE_LOG is True:\n",
    "        pad_top, pad_bot = padding\n",
    "        pt = \"\\n\" * pad_top\n",
    "        pb = \"\\n\" * pad_bot\n",
    "        print(pt + title_str + \"\\n\" + line_style * len(title_str) + pb)"
   ]
  },
  {
   "cell_type": "markdown",
   "id": "b5caa379",
   "metadata": {},
   "source": [
    "#### Load data-points from the `.csv` file"
   ]
  },
  {
   "cell_type": "code",
   "execution_count": 4,
   "id": "6cf2f56d",
   "metadata": {},
   "outputs": [
    {
     "data": {
      "text/html": [
       "<div>\n",
       "<style scoped>\n",
       "    .dataframe tbody tr th:only-of-type {\n",
       "        vertical-align: middle;\n",
       "    }\n",
       "\n",
       "    .dataframe tbody tr th {\n",
       "        vertical-align: top;\n",
       "    }\n",
       "\n",
       "    .dataframe thead th {\n",
       "        text-align: right;\n",
       "    }\n",
       "</style>\n",
       "<table border=\"1\" class=\"dataframe\">\n",
       "  <thead>\n",
       "    <tr style=\"text-align: right;\">\n",
       "      <th></th>\n",
       "      <th>Outlook</th>\n",
       "      <th>Temperature</th>\n",
       "      <th>Humidity</th>\n",
       "      <th>Windy</th>\n",
       "      <th>Play</th>\n",
       "    </tr>\n",
       "  </thead>\n",
       "  <tbody>\n",
       "    <tr>\n",
       "      <th>0</th>\n",
       "      <td>Sunny</td>\n",
       "      <td>Hot</td>\n",
       "      <td>High</td>\n",
       "      <td>Weak</td>\n",
       "      <td>No</td>\n",
       "    </tr>\n",
       "    <tr>\n",
       "      <th>1</th>\n",
       "      <td>Sunny</td>\n",
       "      <td>Hot</td>\n",
       "      <td>High</td>\n",
       "      <td>Strong</td>\n",
       "      <td>No</td>\n",
       "    </tr>\n",
       "    <tr>\n",
       "      <th>2</th>\n",
       "      <td>Overcast</td>\n",
       "      <td>Hot</td>\n",
       "      <td>High</td>\n",
       "      <td>Weak</td>\n",
       "      <td>Yes</td>\n",
       "    </tr>\n",
       "    <tr>\n",
       "      <th>3</th>\n",
       "      <td>Rain</td>\n",
       "      <td>Mild</td>\n",
       "      <td>High</td>\n",
       "      <td>Weak</td>\n",
       "      <td>Yes</td>\n",
       "    </tr>\n",
       "    <tr>\n",
       "      <th>4</th>\n",
       "      <td>Rain</td>\n",
       "      <td>Cool</td>\n",
       "      <td>Normal</td>\n",
       "      <td>Weak</td>\n",
       "      <td>Yes</td>\n",
       "    </tr>\n",
       "    <tr>\n",
       "      <th>5</th>\n",
       "      <td>Rain</td>\n",
       "      <td>Cool</td>\n",
       "      <td>Normal</td>\n",
       "      <td>Strong</td>\n",
       "      <td>No</td>\n",
       "    </tr>\n",
       "    <tr>\n",
       "      <th>6</th>\n",
       "      <td>Overcast</td>\n",
       "      <td>Cool</td>\n",
       "      <td>Normal</td>\n",
       "      <td>Strong</td>\n",
       "      <td>Yes</td>\n",
       "    </tr>\n",
       "    <tr>\n",
       "      <th>7</th>\n",
       "      <td>Sunny</td>\n",
       "      <td>Mild</td>\n",
       "      <td>High</td>\n",
       "      <td>Weak</td>\n",
       "      <td>No</td>\n",
       "    </tr>\n",
       "    <tr>\n",
       "      <th>8</th>\n",
       "      <td>Sunny</td>\n",
       "      <td>Cool</td>\n",
       "      <td>Normal</td>\n",
       "      <td>Weak</td>\n",
       "      <td>Yes</td>\n",
       "    </tr>\n",
       "    <tr>\n",
       "      <th>9</th>\n",
       "      <td>Rain</td>\n",
       "      <td>Mild</td>\n",
       "      <td>Normal</td>\n",
       "      <td>Weak</td>\n",
       "      <td>Yes</td>\n",
       "    </tr>\n",
       "    <tr>\n",
       "      <th>10</th>\n",
       "      <td>Sunny</td>\n",
       "      <td>Mild</td>\n",
       "      <td>Normal</td>\n",
       "      <td>Strong</td>\n",
       "      <td>Yes</td>\n",
       "    </tr>\n",
       "    <tr>\n",
       "      <th>11</th>\n",
       "      <td>Overcast</td>\n",
       "      <td>Mild</td>\n",
       "      <td>High</td>\n",
       "      <td>Strong</td>\n",
       "      <td>Yes</td>\n",
       "    </tr>\n",
       "    <tr>\n",
       "      <th>12</th>\n",
       "      <td>Overcast</td>\n",
       "      <td>Hot</td>\n",
       "      <td>Normal</td>\n",
       "      <td>Weak</td>\n",
       "      <td>Yes</td>\n",
       "    </tr>\n",
       "    <tr>\n",
       "      <th>13</th>\n",
       "      <td>Rain</td>\n",
       "      <td>Mild</td>\n",
       "      <td>High</td>\n",
       "      <td>Strong</td>\n",
       "      <td>No</td>\n",
       "    </tr>\n",
       "  </tbody>\n",
       "</table>\n",
       "</div>"
      ],
      "text/plain": [
       "     Outlook Temperature Humidity   Windy Play\n",
       "0      Sunny         Hot     High    Weak   No\n",
       "1      Sunny         Hot     High  Strong   No\n",
       "2   Overcast         Hot     High    Weak  Yes\n",
       "3       Rain        Mild     High    Weak  Yes\n",
       "4       Rain        Cool   Normal    Weak  Yes\n",
       "5       Rain        Cool   Normal  Strong   No\n",
       "6   Overcast        Cool   Normal  Strong  Yes\n",
       "7      Sunny        Mild     High    Weak   No\n",
       "8      Sunny        Cool   Normal    Weak  Yes\n",
       "9       Rain        Mild   Normal    Weak  Yes\n",
       "10     Sunny        Mild   Normal  Strong  Yes\n",
       "11  Overcast        Mild     High  Strong  Yes\n",
       "12  Overcast         Hot   Normal    Weak  Yes\n",
       "13      Rain        Mild     High  Strong   No"
      ]
     },
     "execution_count": 4,
     "metadata": {},
     "output_type": "execute_result"
    },
    {
     "data": {
      "application/javascript": [
       "\n",
       "            setTimeout(function() {\n",
       "                var nbb_cell_id = 4;\n",
       "                var nbb_unformatted_code = \"wthr_df = pd.read_csv(\\\"../input/simple-weather-forecast/weather_forecast.csv\\\")\\nwthr_df.head(14)\";\n",
       "                var nbb_formatted_code = \"wthr_df = pd.read_csv(\\\"../input/simple-weather-forecast/weather_forecast.csv\\\")\\nwthr_df.head(14)\";\n",
       "                var nbb_cells = Jupyter.notebook.get_cells();\n",
       "                for (var i = 0; i < nbb_cells.length; ++i) {\n",
       "                    if (nbb_cells[i].input_prompt_number == nbb_cell_id) {\n",
       "                        if (nbb_cells[i].get_text() == nbb_unformatted_code) {\n",
       "                             nbb_cells[i].set_text(nbb_formatted_code);\n",
       "                        }\n",
       "                        break;\n",
       "                    }\n",
       "                }\n",
       "            }, 500);\n",
       "            "
      ],
      "text/plain": [
       "<IPython.core.display.Javascript object>"
      ]
     },
     "metadata": {},
     "output_type": "display_data"
    }
   ],
   "source": [
    "wthr_df = pd.read_csv(\"../input/simple-weather-forecast/weather_forecast.csv\")\n",
    "wthr_df.head(14)"
   ]
  },
  {
   "cell_type": "markdown",
   "id": "308921a0",
   "metadata": {},
   "source": [
    "<a id=\"[2]-Data-Analysis\"></a>\n",
    "# [2] Data Analysis"
   ]
  },
  {
   "cell_type": "code",
   "execution_count": 5,
   "id": "b7647c8e",
   "metadata": {},
   "outputs": [
    {
     "name": "stdout",
     "output_type": "stream",
     "text": [
      "Rows: 14 Columns: 5\n"
     ]
    },
    {
     "data": {
      "application/javascript": [
       "\n",
       "            setTimeout(function() {\n",
       "                var nbb_cell_id = 5;\n",
       "                var nbb_unformatted_code = \"rows, cols = wthr_df.shape\\nprint(\\\"Rows:\\\", rows, \\\"Columns:\\\", cols)\";\n",
       "                var nbb_formatted_code = \"rows, cols = wthr_df.shape\\nprint(\\\"Rows:\\\", rows, \\\"Columns:\\\", cols)\";\n",
       "                var nbb_cells = Jupyter.notebook.get_cells();\n",
       "                for (var i = 0; i < nbb_cells.length; ++i) {\n",
       "                    if (nbb_cells[i].input_prompt_number == nbb_cell_id) {\n",
       "                        if (nbb_cells[i].get_text() == nbb_unformatted_code) {\n",
       "                             nbb_cells[i].set_text(nbb_formatted_code);\n",
       "                        }\n",
       "                        break;\n",
       "                    }\n",
       "                }\n",
       "            }, 500);\n",
       "            "
      ],
      "text/plain": [
       "<IPython.core.display.Javascript object>"
      ]
     },
     "metadata": {},
     "output_type": "display_data"
    }
   ],
   "source": [
    "rows, cols = wthr_df.shape\n",
    "print(\"Rows:\", rows, \"Columns:\", cols)"
   ]
  },
  {
   "cell_type": "markdown",
   "id": "e1e0564c",
   "metadata": {},
   "source": [
    "`DataFrame` metadata:"
   ]
  },
  {
   "cell_type": "code",
   "execution_count": 6,
   "id": "74301316",
   "metadata": {},
   "outputs": [
    {
     "name": "stdout",
     "output_type": "stream",
     "text": [
      "<class 'pandas.core.frame.DataFrame'>\n",
      "RangeIndex: 14 entries, 0 to 13\n",
      "Data columns (total 5 columns):\n",
      " #   Column       Non-Null Count  Dtype \n",
      "---  ------       --------------  ----- \n",
      " 0   Outlook      14 non-null     object\n",
      " 1   Temperature  14 non-null     object\n",
      " 2   Humidity     14 non-null     object\n",
      " 3   Windy        14 non-null     object\n",
      " 4   Play         14 non-null     object\n",
      "dtypes: object(5)\n",
      "memory usage: 688.0+ bytes\n"
     ]
    },
    {
     "data": {
      "application/javascript": [
       "\n",
       "            setTimeout(function() {\n",
       "                var nbb_cell_id = 6;\n",
       "                var nbb_unformatted_code = \"wthr_df.info()\";\n",
       "                var nbb_formatted_code = \"wthr_df.info()\";\n",
       "                var nbb_cells = Jupyter.notebook.get_cells();\n",
       "                for (var i = 0; i < nbb_cells.length; ++i) {\n",
       "                    if (nbb_cells[i].input_prompt_number == nbb_cell_id) {\n",
       "                        if (nbb_cells[i].get_text() == nbb_unformatted_code) {\n",
       "                             nbb_cells[i].set_text(nbb_formatted_code);\n",
       "                        }\n",
       "                        break;\n",
       "                    }\n",
       "                }\n",
       "            }, 500);\n",
       "            "
      ],
      "text/plain": [
       "<IPython.core.display.Javascript object>"
      ]
     },
     "metadata": {},
     "output_type": "display_data"
    }
   ],
   "source": [
    "wthr_df.info()"
   ]
  },
  {
   "cell_type": "markdown",
   "id": "192bfea1",
   "metadata": {},
   "source": [
    "**Observations**\n",
    "\n",
    "1. Dataset contains **14 rows and 5 columns**.\n",
    "2. All five columns in 14 rows have `non-null` values. **No missing data**.\n",
    "3. All the column contain data in **string data-type**.\n",
    "4. All columns are **categorical features**."
   ]
  },
  {
   "cell_type": "markdown",
   "id": "a8146267",
   "metadata": {},
   "source": [
    "#### Distinct values for each feature"
   ]
  },
  {
   "cell_type": "code",
   "execution_count": 7,
   "id": "f873b054",
   "metadata": {},
   "outputs": [
    {
     "name": "stdout",
     "output_type": "stream",
     "text": [
      "+-------------+-----------------------+-------+\n",
      "| Features    | Distinct Values       | Count |\n",
      "+-------------+-----------------------+-------+\n",
      "| Outlook     | Sunny, Overcast, Rain | 3     |\n",
      "| Temperature | Hot, Mild, Cool       | 3     |\n",
      "| Humidity    | High, Normal          | 2     |\n",
      "| Windy       | Weak, Strong          | 2     |\n",
      "+-------------+-----------------------+-------+\n"
     ]
    },
    {
     "data": {
      "application/javascript": [
       "\n",
       "            setTimeout(function() {\n",
       "                var nbb_cell_id = 7;\n",
       "                var nbb_unformatted_code = \"table = PrettyTable([\\\"Features\\\", \\\"Distinct Values\\\", \\\"Count\\\"], align=\\\"l\\\")\\n\\nfor feature in wthr_df.columns[0:-1]:\\n    unq_vals = wthr_df[feature].unique().tolist()\\n    table.add_row([feature, \\\", \\\".join(unq_vals), len(unq_vals)])\\n\\nprint(table)\";\n",
       "                var nbb_formatted_code = \"table = PrettyTable([\\\"Features\\\", \\\"Distinct Values\\\", \\\"Count\\\"], align=\\\"l\\\")\\n\\nfor feature in wthr_df.columns[0:-1]:\\n    unq_vals = wthr_df[feature].unique().tolist()\\n    table.add_row([feature, \\\", \\\".join(unq_vals), len(unq_vals)])\\n\\nprint(table)\";\n",
       "                var nbb_cells = Jupyter.notebook.get_cells();\n",
       "                for (var i = 0; i < nbb_cells.length; ++i) {\n",
       "                    if (nbb_cells[i].input_prompt_number == nbb_cell_id) {\n",
       "                        if (nbb_cells[i].get_text() == nbb_unformatted_code) {\n",
       "                             nbb_cells[i].set_text(nbb_formatted_code);\n",
       "                        }\n",
       "                        break;\n",
       "                    }\n",
       "                }\n",
       "            }, 500);\n",
       "            "
      ],
      "text/plain": [
       "<IPython.core.display.Javascript object>"
      ]
     },
     "metadata": {},
     "output_type": "display_data"
    }
   ],
   "source": [
    "table = PrettyTable([\"Features\", \"Distinct Values\", \"Count\"], align=\"l\")\n",
    "\n",
    "for feature in wthr_df.columns[0:-1]:\n",
    "    unq_vals = wthr_df[feature].unique().tolist()\n",
    "    table.add_row([feature, \", \".join(unq_vals), len(unq_vals)])\n",
    "\n",
    "print(table)"
   ]
  },
  {
   "cell_type": "markdown",
   "id": "6df6ccf4",
   "metadata": {},
   "source": [
    "#### Class label"
   ]
  },
  {
   "cell_type": "code",
   "execution_count": 8,
   "id": "3bf2c271",
   "metadata": {},
   "outputs": [
    {
     "data": {
      "text/plain": [
       "Yes    9\n",
       "No     5\n",
       "Name: Play, dtype: int64"
      ]
     },
     "execution_count": 8,
     "metadata": {},
     "output_type": "execute_result"
    },
    {
     "data": {
      "application/javascript": [
       "\n",
       "            setTimeout(function() {\n",
       "                var nbb_cell_id = 8;\n",
       "                var nbb_unformatted_code = \"wthr_df[\\\"Play\\\"].value_counts()\";\n",
       "                var nbb_formatted_code = \"wthr_df[\\\"Play\\\"].value_counts()\";\n",
       "                var nbb_cells = Jupyter.notebook.get_cells();\n",
       "                for (var i = 0; i < nbb_cells.length; ++i) {\n",
       "                    if (nbb_cells[i].input_prompt_number == nbb_cell_id) {\n",
       "                        if (nbb_cells[i].get_text() == nbb_unformatted_code) {\n",
       "                             nbb_cells[i].set_text(nbb_formatted_code);\n",
       "                        }\n",
       "                        break;\n",
       "                    }\n",
       "                }\n",
       "            }, 500);\n",
       "            "
      ],
      "text/plain": [
       "<IPython.core.display.Javascript object>"
      ]
     },
     "metadata": {},
     "output_type": "display_data"
    }
   ],
   "source": [
    "wthr_df[\"Play\"].value_counts()"
   ]
  },
  {
   "cell_type": "markdown",
   "id": "2adfc9b9",
   "metadata": {},
   "source": [
    "**Observations**\n",
    "\n",
    "1. Dataset is **slightly imbalanced**.\n",
    "2. Dataset contains **64% positive data-points** i.e., Play == \"Yes\". Positive data-points are **Majority class**.\n",
    "3. Dataset contains **36% negative data-points** i.e., Play == \"No\". Negative data-points are **Minority class**.\n",
    "\n",
    "### How Imbalanced dataset affects Naive Bayes?\n",
    "\n",
    "1. Minority class will get very **small Prior** value to begin with.\n",
    "2. **Laplace Smoothing** gives **undue attention** to Minority class.\n",
    "\n",
    "#### Solution\n",
    "\n",
    "Solution to above problem is either **Up-sampling** or **Down-sampling**. In this case Up-sampling is better than Down-sampling since the dataset is too small.\n",
    "\n",
    "### Up-sampling the Minority class\n",
    "\n",
    "Up-sampling dataset by duplicating last four rows in the dataset."
   ]
  },
  {
   "cell_type": "code",
   "execution_count": 9,
   "id": "5f1026ca",
   "metadata": {},
   "outputs": [
    {
     "data": {
      "text/html": [
       "<div>\n",
       "<style scoped>\n",
       "    .dataframe tbody tr th:only-of-type {\n",
       "        vertical-align: middle;\n",
       "    }\n",
       "\n",
       "    .dataframe tbody tr th {\n",
       "        vertical-align: top;\n",
       "    }\n",
       "\n",
       "    .dataframe thead th {\n",
       "        text-align: right;\n",
       "    }\n",
       "</style>\n",
       "<table border=\"1\" class=\"dataframe\">\n",
       "  <thead>\n",
       "    <tr style=\"text-align: right;\">\n",
       "      <th></th>\n",
       "      <th>Outlook</th>\n",
       "      <th>Temperature</th>\n",
       "      <th>Humidity</th>\n",
       "      <th>Windy</th>\n",
       "      <th>Play</th>\n",
       "    </tr>\n",
       "  </thead>\n",
       "  <tbody>\n",
       "    <tr>\n",
       "      <th>9</th>\n",
       "      <td>Rain</td>\n",
       "      <td>Mild</td>\n",
       "      <td>Normal</td>\n",
       "      <td>Weak</td>\n",
       "      <td>Yes</td>\n",
       "    </tr>\n",
       "    <tr>\n",
       "      <th>2</th>\n",
       "      <td>Overcast</td>\n",
       "      <td>Hot</td>\n",
       "      <td>High</td>\n",
       "      <td>Weak</td>\n",
       "      <td>Yes</td>\n",
       "    </tr>\n",
       "    <tr>\n",
       "      <th>3</th>\n",
       "      <td>Rain</td>\n",
       "      <td>Mild</td>\n",
       "      <td>High</td>\n",
       "      <td>Weak</td>\n",
       "      <td>Yes</td>\n",
       "    </tr>\n",
       "    <tr>\n",
       "      <th>4</th>\n",
       "      <td>Rain</td>\n",
       "      <td>Cool</td>\n",
       "      <td>Normal</td>\n",
       "      <td>Weak</td>\n",
       "      <td>Yes</td>\n",
       "    </tr>\n",
       "    <tr>\n",
       "      <th>6</th>\n",
       "      <td>Overcast</td>\n",
       "      <td>Cool</td>\n",
       "      <td>Normal</td>\n",
       "      <td>Strong</td>\n",
       "      <td>Yes</td>\n",
       "    </tr>\n",
       "    <tr>\n",
       "      <th>8</th>\n",
       "      <td>Sunny</td>\n",
       "      <td>Cool</td>\n",
       "      <td>Normal</td>\n",
       "      <td>Weak</td>\n",
       "      <td>Yes</td>\n",
       "    </tr>\n",
       "    <tr>\n",
       "      <th>10</th>\n",
       "      <td>Sunny</td>\n",
       "      <td>Mild</td>\n",
       "      <td>Normal</td>\n",
       "      <td>Strong</td>\n",
       "      <td>Yes</td>\n",
       "    </tr>\n",
       "    <tr>\n",
       "      <th>11</th>\n",
       "      <td>Overcast</td>\n",
       "      <td>Mild</td>\n",
       "      <td>High</td>\n",
       "      <td>Strong</td>\n",
       "      <td>Yes</td>\n",
       "    </tr>\n",
       "    <tr>\n",
       "      <th>12</th>\n",
       "      <td>Overcast</td>\n",
       "      <td>Hot</td>\n",
       "      <td>Normal</td>\n",
       "      <td>Weak</td>\n",
       "      <td>Yes</td>\n",
       "    </tr>\n",
       "    <tr>\n",
       "      <th>13</th>\n",
       "      <td>Rain</td>\n",
       "      <td>Mild</td>\n",
       "      <td>High</td>\n",
       "      <td>Strong</td>\n",
       "      <td>No</td>\n",
       "    </tr>\n",
       "    <tr>\n",
       "      <th>16</th>\n",
       "      <td>Sunny</td>\n",
       "      <td>Mild</td>\n",
       "      <td>High</td>\n",
       "      <td>Weak</td>\n",
       "      <td>No</td>\n",
       "    </tr>\n",
       "    <tr>\n",
       "      <th>15</th>\n",
       "      <td>Rain</td>\n",
       "      <td>Cool</td>\n",
       "      <td>Normal</td>\n",
       "      <td>Strong</td>\n",
       "      <td>No</td>\n",
       "    </tr>\n",
       "    <tr>\n",
       "      <th>14</th>\n",
       "      <td>Sunny</td>\n",
       "      <td>Hot</td>\n",
       "      <td>High</td>\n",
       "      <td>Strong</td>\n",
       "      <td>No</td>\n",
       "    </tr>\n",
       "    <tr>\n",
       "      <th>0</th>\n",
       "      <td>Sunny</td>\n",
       "      <td>Hot</td>\n",
       "      <td>High</td>\n",
       "      <td>Weak</td>\n",
       "      <td>No</td>\n",
       "    </tr>\n",
       "    <tr>\n",
       "      <th>1</th>\n",
       "      <td>Sunny</td>\n",
       "      <td>Hot</td>\n",
       "      <td>High</td>\n",
       "      <td>Strong</td>\n",
       "      <td>No</td>\n",
       "    </tr>\n",
       "    <tr>\n",
       "      <th>7</th>\n",
       "      <td>Sunny</td>\n",
       "      <td>Mild</td>\n",
       "      <td>High</td>\n",
       "      <td>Weak</td>\n",
       "      <td>No</td>\n",
       "    </tr>\n",
       "    <tr>\n",
       "      <th>5</th>\n",
       "      <td>Rain</td>\n",
       "      <td>Cool</td>\n",
       "      <td>Normal</td>\n",
       "      <td>Strong</td>\n",
       "      <td>No</td>\n",
       "    </tr>\n",
       "    <tr>\n",
       "      <th>17</th>\n",
       "      <td>Rain</td>\n",
       "      <td>Mild</td>\n",
       "      <td>High</td>\n",
       "      <td>Strong</td>\n",
       "      <td>No</td>\n",
       "    </tr>\n",
       "  </tbody>\n",
       "</table>\n",
       "</div>"
      ],
      "text/plain": [
       "     Outlook Temperature Humidity   Windy Play\n",
       "9       Rain        Mild   Normal    Weak  Yes\n",
       "2   Overcast         Hot     High    Weak  Yes\n",
       "3       Rain        Mild     High    Weak  Yes\n",
       "4       Rain        Cool   Normal    Weak  Yes\n",
       "6   Overcast        Cool   Normal  Strong  Yes\n",
       "8      Sunny        Cool   Normal    Weak  Yes\n",
       "10     Sunny        Mild   Normal  Strong  Yes\n",
       "11  Overcast        Mild     High  Strong  Yes\n",
       "12  Overcast         Hot   Normal    Weak  Yes\n",
       "13      Rain        Mild     High  Strong   No\n",
       "16     Sunny        Mild     High    Weak   No\n",
       "15      Rain        Cool   Normal  Strong   No\n",
       "14     Sunny         Hot     High  Strong   No\n",
       "0      Sunny         Hot     High    Weak   No\n",
       "1      Sunny         Hot     High  Strong   No\n",
       "7      Sunny        Mild     High    Weak   No\n",
       "5       Rain        Cool   Normal  Strong   No\n",
       "17      Rain        Mild     High  Strong   No"
      ]
     },
     "execution_count": 9,
     "metadata": {},
     "output_type": "execute_result"
    },
    {
     "data": {
      "application/javascript": [
       "\n",
       "            setTimeout(function() {\n",
       "                var nbb_cell_id = 9;\n",
       "                var nbb_unformatted_code = \"# Filter to fetch all minority class values.\\nfltr = wthr_df[\\\"Play\\\"] == \\\"No\\\"\\n\\n# Apply filter and slice out last four rows.\\nlast_four_rows = wthr_df.loc[fltr][-4:]\\n\\n# Append last four rows of original DataFrame into a new DataFrame.\\nwthr_dfb = pd.concat([wthr_df, last_four_rows], ignore_index=True)\\n\\n# Sort by `Play` column to check the concatenation.\\nwthr_dfb.sort_values(by=[\\\"Play\\\"], ascending=False)\";\n",
       "                var nbb_formatted_code = \"# Filter to fetch all minority class values.\\nfltr = wthr_df[\\\"Play\\\"] == \\\"No\\\"\\n\\n# Apply filter and slice out last four rows.\\nlast_four_rows = wthr_df.loc[fltr][-4:]\\n\\n# Append last four rows of original DataFrame into a new DataFrame.\\nwthr_dfb = pd.concat([wthr_df, last_four_rows], ignore_index=True)\\n\\n# Sort by `Play` column to check the concatenation.\\nwthr_dfb.sort_values(by=[\\\"Play\\\"], ascending=False)\";\n",
       "                var nbb_cells = Jupyter.notebook.get_cells();\n",
       "                for (var i = 0; i < nbb_cells.length; ++i) {\n",
       "                    if (nbb_cells[i].input_prompt_number == nbb_cell_id) {\n",
       "                        if (nbb_cells[i].get_text() == nbb_unformatted_code) {\n",
       "                             nbb_cells[i].set_text(nbb_formatted_code);\n",
       "                        }\n",
       "                        break;\n",
       "                    }\n",
       "                }\n",
       "            }, 500);\n",
       "            "
      ],
      "text/plain": [
       "<IPython.core.display.Javascript object>"
      ]
     },
     "metadata": {},
     "output_type": "display_data"
    }
   ],
   "source": [
    "# Filter to fetch all minority class values.\n",
    "fltr = wthr_df[\"Play\"] == \"No\"\n",
    "\n",
    "# Apply filter and slice out last four rows.\n",
    "last_four_rows = wthr_df.loc[fltr][-4:]\n",
    "\n",
    "# Append last four rows of original DataFrame into a new DataFrame.\n",
    "wthr_dfb = pd.concat([wthr_df, last_four_rows], ignore_index=True)\n",
    "\n",
    "# Sort by `Play` column to check the concatenation.\n",
    "wthr_dfb.sort_values(by=[\"Play\"], ascending=False)"
   ]
  },
  {
   "cell_type": "code",
   "execution_count": 10,
   "id": "8c73a586",
   "metadata": {},
   "outputs": [
    {
     "data": {
      "text/plain": [
       "No     9\n",
       "Yes    9\n",
       "Name: Play, dtype: int64"
      ]
     },
     "execution_count": 10,
     "metadata": {},
     "output_type": "execute_result"
    },
    {
     "data": {
      "application/javascript": [
       "\n",
       "            setTimeout(function() {\n",
       "                var nbb_cell_id = 10;\n",
       "                var nbb_unformatted_code = \"# Verify if dataset is balanced.\\nwthr_dfb[\\\"Play\\\"].value_counts()\";\n",
       "                var nbb_formatted_code = \"# Verify if dataset is balanced.\\nwthr_dfb[\\\"Play\\\"].value_counts()\";\n",
       "                var nbb_cells = Jupyter.notebook.get_cells();\n",
       "                for (var i = 0; i < nbb_cells.length; ++i) {\n",
       "                    if (nbb_cells[i].input_prompt_number == nbb_cell_id) {\n",
       "                        if (nbb_cells[i].get_text() == nbb_unformatted_code) {\n",
       "                             nbb_cells[i].set_text(nbb_formatted_code);\n",
       "                        }\n",
       "                        break;\n",
       "                    }\n",
       "                }\n",
       "            }, 500);\n",
       "            "
      ],
      "text/plain": [
       "<IPython.core.display.Javascript object>"
      ]
     },
     "metadata": {},
     "output_type": "display_data"
    }
   ],
   "source": [
    "# Verify if dataset is balanced.\n",
    "wthr_dfb[\"Play\"].value_counts()"
   ]
  },
  {
   "cell_type": "markdown",
   "id": "90dd1e13",
   "metadata": {},
   "source": [
    "Now the dataset is balanced!"
   ]
  },
  {
   "cell_type": "markdown",
   "id": "403ebb66",
   "metadata": {},
   "source": [
    "<a id=\"[3]-Implement-Naive-Bayes\"></a>\n",
    "# [3] Implement Naive Bayes\n",
    "\n",
    "Implement Naive Bayes with below features:\n",
    "\n",
    "1. Integrate Laplace Smoothing.\n",
    "2. Avoid numerical underflow.\n",
    "3. Show Feature Importance & Model Interpretability.\n",
    "4. Log model training."
   ]
  },
  {
   "cell_type": "code",
   "execution_count": 11,
   "id": "db21fcbd",
   "metadata": {},
   "outputs": [
    {
     "data": {
      "application/javascript": [
       "\n",
       "            setTimeout(function() {\n",
       "                var nbb_cell_id = 11;\n",
       "                var nbb_unformatted_code = \"def NaiveBayes(df):\\n    \\\"\\\"\\\"\\n    Closure to implement simple Naive Bayes Classifier.\\n    \\\"\\\"\\\"\\n    N, cols = df.shape  # N: Number of data-points, columns\\n\\n    # Split features and class-label.\\n    f_names = df.columns[0:-1]\\n    l_name = df.columns[-1]\\n    labels = df[l_name].value_counts().to_dict()\\n\\n    # Calculate class-label Prior.\\n    cl_p = {label: count / N for label, count in labels.items()}\\n\\n    def fit(K, alpha=1):\\n        \\\"\\\"\\\"\\n        Train model using every data-point based on Naive Bayes technique.\\n        \\\"\\\"\\\"\\n\\n        def laplace_smoothing(a, b, k, sep=False):\\n            \\\"\\\"\\\"\\n            Function to compute Laplace Smoothing.\\n            \\\"\\\"\\\"\\n            return ((a + alpha), (b + (alpha * k))) if sep else ((a + alpha) / (b + (alpha * k)))\\n\\n        # Print class-label Prior value.\\n        title(\\\"Prior:\\\")\\n        [text(f\\\"P({label}) = {count}/{N}\\\") for label, count in labels.items()]\\n\\n        # Build and print Likelihood table.\\n        title(\\\"Likelihood with Laplace Smoothing:\\\", [2, 0])\\n        model = {}\\n        for f_idx, f_name in enumerate(f_names):\\n            # For each feature calculate conditional probability.\\n            title(f'Feature: \\\"{f_name}\\\" & label: {list(labels.keys())}', [1, 0], \\\"-\\\")\\n\\n            vals = df[[f_name, l_name]].values\\n            f_count = get_count(vals, lambda item: item[0] + item[1])\\n\\n            # Calculate probability of feature = `feature` | class-label == `label`.\\n            for feature in df[f_name].unique().tolist():\\n                for label, count in labels.items():\\n                    aib = f_count.get(feature + label, 0)\\n                    nmtr, dnomtr = laplace_smoothing(aib, count, K[f_idx], sep=True)\\n                    model[(f_name, feature, label)] = nmtr / dnomtr\\n                    text(f\\\"P({f_name} = {feature} | {l_name} == {label}) = {nmtr}/{dnomtr}\\\")\\n\\n        text(\\\"\\\\nModel training complete!\\\")\\n\\n        def sort_order(item):\\n            \\\"\\\"\\\"\\n            Sort model my label and probability in descending order.\\n            \\\"\\\"\\\"\\n            (f_name, f_value, label), prob = item\\n            return (label, prob)\\n\\n        # Sort model to observe Feature Importance & Interpretability.\\n        s_model = sorted(model.items(), key=sort_order, reverse=True)  # Sorted model.\\n\\n        title(\\\"Feature Importance & Interpretability\\\", [2, 0])\\n        table = PrettyTable([\\\"Sl. No.\\\", \\\"Ft Name\\\", \\\"Ft Value\\\", \\\"Label\\\", \\\"Prob\\\"], align=\\\"r\\\")\\n        for idx, l in enumerate(s_model):\\n            (f_name, f_val, label), prob = l\\n            table.add_row([idx + 1, f_name, f_val, label, round(prob, 4)])\\n        text(table)\\n\\n        def predict(x_qs):\\n            \\\"\\\"\\\"\\n            Function to compute Posterior using Prior and Likelihood.\\n            \\\"\\\"\\\"\\n            sigma_cl = {}  # Calculate sigma per class-label.\\n            for label, count in labels.items():\\n                sigma = math.log(cl_p[label])  # Initialize `sigma` with Prior.\\n                for idx, x_q in enumerate(x_qs):\\n                    # If model receives an unseen feature value then use Laplace Smoothing.\\n                    cp = model.get((f_names[idx], x_q, label), laplace_smoothing(0, count, K[idx]))\\n\\n                    # Log probabilities for numerical stability.\\n                    sigma += math.log(cp)\\n\\n                sigma_cl[label] = round(sigma, 4)\\n                text(f\\\"P({l_name} = {label} | {x_qs}) = {sigma_cl[label]}\\\")\\n\\n            # Compare log-prob and return largest value as `y_q`.\\n            return max(sigma_cl, key=lambda item: sigma_cl[item])\\n\\n        return predict\\n\\n    return fit\";\n",
       "                var nbb_formatted_code = \"def NaiveBayes(df):\\n    \\\"\\\"\\\"\\n    Closure to implement simple Naive Bayes Classifier.\\n    \\\"\\\"\\\"\\n    N, cols = df.shape  # N: Number of data-points, columns\\n\\n    # Split features and class-label.\\n    f_names = df.columns[0:-1]\\n    l_name = df.columns[-1]\\n    labels = df[l_name].value_counts().to_dict()\\n\\n    # Calculate class-label Prior.\\n    cl_p = {label: count / N for label, count in labels.items()}\\n\\n    def fit(K, alpha=1):\\n        \\\"\\\"\\\"\\n        Train model using every data-point based on Naive Bayes technique.\\n        \\\"\\\"\\\"\\n\\n        def laplace_smoothing(a, b, k, sep=False):\\n            \\\"\\\"\\\"\\n            Function to compute Laplace Smoothing.\\n            \\\"\\\"\\\"\\n            return ((a + alpha), (b + (alpha * k))) if sep else ((a + alpha) / (b + (alpha * k)))\\n\\n        # Print class-label Prior value.\\n        title(\\\"Prior:\\\")\\n        [text(f\\\"P({label}) = {count}/{N}\\\") for label, count in labels.items()]\\n\\n        # Build and print Likelihood table.\\n        title(\\\"Likelihood with Laplace Smoothing:\\\", [2, 0])\\n        model = {}\\n        for f_idx, f_name in enumerate(f_names):\\n            # For each feature calculate conditional probability.\\n            title(f'Feature: \\\"{f_name}\\\" & label: {list(labels.keys())}', [1, 0], \\\"-\\\")\\n\\n            vals = df[[f_name, l_name]].values\\n            f_count = get_count(vals, lambda item: item[0] + item[1])\\n\\n            # Calculate probability of feature = `feature` | class-label == `label`.\\n            for feature in df[f_name].unique().tolist():\\n                for label, count in labels.items():\\n                    aib = f_count.get(feature + label, 0)\\n                    nmtr, dnomtr = laplace_smoothing(aib, count, K[f_idx], sep=True)\\n                    model[(f_name, feature, label)] = nmtr / dnomtr\\n                    text(f\\\"P({f_name} = {feature} | {l_name} == {label}) = {nmtr}/{dnomtr}\\\")\\n\\n        text(\\\"\\\\nModel training complete!\\\")\\n\\n        def sort_order(item):\\n            \\\"\\\"\\\"\\n            Sort model my label and probability in descending order.\\n            \\\"\\\"\\\"\\n            (f_name, f_value, label), prob = item\\n            return (label, prob)\\n\\n        # Sort model to observe Feature Importance & Interpretability.\\n        s_model = sorted(model.items(), key=sort_order, reverse=True)  # Sorted model.\\n\\n        title(\\\"Feature Importance & Interpretability\\\", [2, 0])\\n        table = PrettyTable([\\\"Sl. No.\\\", \\\"Ft Name\\\", \\\"Ft Value\\\", \\\"Label\\\", \\\"Prob\\\"], align=\\\"r\\\")\\n        for idx, l in enumerate(s_model):\\n            (f_name, f_val, label), prob = l\\n            table.add_row([idx + 1, f_name, f_val, label, round(prob, 4)])\\n        text(table)\\n\\n        def predict(x_qs):\\n            \\\"\\\"\\\"\\n            Function to compute Posterior using Prior and Likelihood.\\n            \\\"\\\"\\\"\\n            sigma_cl = {}  # Calculate sigma per class-label.\\n            for label, count in labels.items():\\n                sigma = math.log(cl_p[label])  # Initialize `sigma` with Prior.\\n                for idx, x_q in enumerate(x_qs):\\n                    # If model receives an unseen feature value then use Laplace Smoothing.\\n                    cp = model.get((f_names[idx], x_q, label), laplace_smoothing(0, count, K[idx]))\\n\\n                    # Log probabilities for numerical stability.\\n                    sigma += math.log(cp)\\n\\n                sigma_cl[label] = round(sigma, 4)\\n                text(f\\\"P({l_name} = {label} | {x_qs}) = {sigma_cl[label]}\\\")\\n\\n            # Compare log-prob and return largest value as `y_q`.\\n            return max(sigma_cl, key=lambda item: sigma_cl[item])\\n\\n        return predict\\n\\n    return fit\";\n",
       "                var nbb_cells = Jupyter.notebook.get_cells();\n",
       "                for (var i = 0; i < nbb_cells.length; ++i) {\n",
       "                    if (nbb_cells[i].input_prompt_number == nbb_cell_id) {\n",
       "                        if (nbb_cells[i].get_text() == nbb_unformatted_code) {\n",
       "                             nbb_cells[i].set_text(nbb_formatted_code);\n",
       "                        }\n",
       "                        break;\n",
       "                    }\n",
       "                }\n",
       "            }, 500);\n",
       "            "
      ],
      "text/plain": [
       "<IPython.core.display.Javascript object>"
      ]
     },
     "metadata": {},
     "output_type": "display_data"
    }
   ],
   "source": [
    "def NaiveBayes(df):\n",
    "    \"\"\"\n",
    "    Closure to implement simple Naive Bayes Classifier.\n",
    "    \"\"\"\n",
    "    N, cols = df.shape  # N: Number of data-points, columns\n",
    "\n",
    "    # Split features and class-label.\n",
    "    f_names = df.columns[0:-1]\n",
    "    l_name = df.columns[-1]\n",
    "    labels = df[l_name].value_counts().to_dict()\n",
    "\n",
    "    # Calculate class-label Prior.\n",
    "    cl_p = {label: count / N for label, count in labels.items()}\n",
    "\n",
    "    def fit(K, alpha=1):\n",
    "        \"\"\"\n",
    "        Train model using every data-point based on Naive Bayes technique.\n",
    "        \"\"\"\n",
    "\n",
    "        def laplace_smoothing(a, b, k, sep=False):\n",
    "            \"\"\"\n",
    "            Function to compute Laplace Smoothing.\n",
    "            \"\"\"\n",
    "            return ((a + alpha), (b + (alpha * k))) if sep else ((a + alpha) / (b + (alpha * k)))\n",
    "\n",
    "        # Print class-label Prior value.\n",
    "        title(\"Prior:\")\n",
    "        [text(f\"P({label}) = {count}/{N}\") for label, count in labels.items()]\n",
    "\n",
    "        # Build and print Likelihood table.\n",
    "        title(\"Likelihood with Laplace Smoothing:\", [2, 0])\n",
    "        model = {}\n",
    "        for f_idx, f_name in enumerate(f_names):\n",
    "            # For each feature calculate conditional probability.\n",
    "            title(f'Feature: \"{f_name}\" & label: {list(labels.keys())}', [1, 0], \"-\")\n",
    "\n",
    "            vals = df[[f_name, l_name]].values\n",
    "            f_count = get_count(vals, lambda item: item[0] + item[1])\n",
    "\n",
    "            # Calculate probability of feature = `feature` | class-label == `label`.\n",
    "            for feature in df[f_name].unique().tolist():\n",
    "                for label, count in labels.items():\n",
    "                    aib = f_count.get(feature + label, 0)\n",
    "                    nmtr, dnomtr = laplace_smoothing(aib, count, K[f_idx], sep=True)\n",
    "                    model[(f_name, feature, label)] = nmtr / dnomtr\n",
    "                    text(f\"P({f_name} = {feature} | {l_name} == {label}) = {nmtr}/{dnomtr}\")\n",
    "\n",
    "        text(\"\\nModel training complete!\")\n",
    "\n",
    "        def sort_order(item):\n",
    "            \"\"\"\n",
    "            Sort model my label and probability in descending order.\n",
    "            \"\"\"\n",
    "            (f_name, f_value, label), prob = item\n",
    "            return (label, prob)\n",
    "\n",
    "        # Sort model to observe Feature Importance & Interpretability.\n",
    "        s_model = sorted(model.items(), key=sort_order, reverse=True)  # Sorted model.\n",
    "\n",
    "        title(\"Feature Importance & Interpretability\", [2, 0])\n",
    "        table = PrettyTable([\"Sl. No.\", \"Ft Name\", \"Ft Value\", \"Label\", \"Prob\"], align=\"r\")\n",
    "        for idx, l in enumerate(s_model):\n",
    "            (f_name, f_val, label), prob = l\n",
    "            table.add_row([idx + 1, f_name, f_val, label, round(prob, 4)])\n",
    "        text(table)\n",
    "\n",
    "        def predict(x_qs):\n",
    "            \"\"\"\n",
    "            Function to compute Posterior using Prior and Likelihood.\n",
    "            \"\"\"\n",
    "            sigma_cl = {}  # Calculate sigma per class-label.\n",
    "            for label, count in labels.items():\n",
    "                sigma = math.log(cl_p[label])  # Initialize `sigma` with Prior.\n",
    "                for idx, x_q in enumerate(x_qs):\n",
    "                    # If model receives an unseen feature value then use Laplace Smoothing.\n",
    "                    cp = model.get((f_names[idx], x_q, label), laplace_smoothing(0, count, K[idx]))\n",
    "\n",
    "                    # Log probabilities for numerical stability.\n",
    "                    sigma += math.log(cp)\n",
    "\n",
    "                sigma_cl[label] = round(sigma, 4)\n",
    "                text(f\"P({l_name} = {label} | {x_qs}) = {sigma_cl[label]}\")\n",
    "\n",
    "            # Compare log-prob and return largest value as `y_q`.\n",
    "            return max(sigma_cl, key=lambda item: sigma_cl[item])\n",
    "\n",
    "        return predict\n",
    "\n",
    "    return fit"
   ]
  },
  {
   "cell_type": "markdown",
   "id": "f6f90256",
   "metadata": {},
   "source": [
    "> Note: \n",
    "> Above implementation is verified using [`CategoricalNB`][1] class of **scikit-learn** library. \n",
    "> Check [verification code][2] in Github.\n",
    "\n",
    "[1]: https://scikit-learn.org/stable/modules/generated/sklearn.naive_bayes.CategoricalNB.html#sklearn-naive-bayes-categoricalnb\n",
    "[2]: https://github.com/DheemanthBhat/ML-Concepts/blob/4fc1e9c33f4ddb8abfa381dd97bf9835aa9cedd6/4.%20Naive%20Bayes/Naive%20Bayes%20Classifier%20-%20CategoricalNB.ipynb"
   ]
  },
  {
   "cell_type": "markdown",
   "id": "b83fbf87",
   "metadata": {},
   "source": [
    "<a id=\"[4]-Training-Model\"></a>\n",
    "# [4] Training Model\n",
    "\n",
    "#### Initialize classifier"
   ]
  },
  {
   "cell_type": "code",
   "execution_count": 12,
   "id": "46bca332",
   "metadata": {},
   "outputs": [
    {
     "data": {
      "application/javascript": [
       "\n",
       "            setTimeout(function() {\n",
       "                var nbb_cell_id = 12;\n",
       "                var nbb_unformatted_code = \"fit = NaiveBayes(wthr_dfb)\";\n",
       "                var nbb_formatted_code = \"fit = NaiveBayes(wthr_dfb)\";\n",
       "                var nbb_cells = Jupyter.notebook.get_cells();\n",
       "                for (var i = 0; i < nbb_cells.length; ++i) {\n",
       "                    if (nbb_cells[i].input_prompt_number == nbb_cell_id) {\n",
       "                        if (nbb_cells[i].get_text() == nbb_unformatted_code) {\n",
       "                             nbb_cells[i].set_text(nbb_formatted_code);\n",
       "                        }\n",
       "                        break;\n",
       "                    }\n",
       "                }\n",
       "            }, 500);\n",
       "            "
      ],
      "text/plain": [
       "<IPython.core.display.Javascript object>"
      ]
     },
     "metadata": {},
     "output_type": "display_data"
    }
   ],
   "source": [
    "fit = NaiveBayes(wthr_dfb)"
   ]
  },
  {
   "cell_type": "markdown",
   "id": "cff3ae58",
   "metadata": {},
   "source": [
    "Train model using training dataset.\n",
    "\n",
    "> Note: Set `ENABLE_LOG` to `False` to train model silently (without logs).\n",
    "\n",
    "#### Number of available categories for each feature\n",
    "\n",
    "| Features    | Number of categories  | K |\n",
    "|-------------|-----------------------|---|\n",
    "| Outlook     | Sunny, Overcast, Rain | 3 |\n",
    "| Temperature | Hot, Mild, Cool       | 3 |\n",
    "| Humidity    | Low, Normal, High     | 3 |\n",
    "| Windy       | Weak, Strong          | 2 |"
   ]
  },
  {
   "cell_type": "code",
   "execution_count": 13,
   "id": "699ff5e8",
   "metadata": {},
   "outputs": [
    {
     "name": "stdout",
     "output_type": "stream",
     "text": [
      "\n",
      "Prior:\n",
      "======\n",
      "\n",
      "P(No) = 9/18\n",
      "P(Yes) = 9/18\n",
      "\n",
      "\n",
      "Likelihood with Laplace Smoothing:\n",
      "==================================\n",
      "\n",
      "Feature: \"Outlook\" & label: ['No', 'Yes']\n",
      "-----------------------------------------\n",
      "P(Outlook = Sunny | Play == No) = 6/12\n",
      "P(Outlook = Sunny | Play == Yes) = 3/12\n",
      "P(Outlook = Overcast | Play == No) = 1/12\n",
      "P(Outlook = Overcast | Play == Yes) = 5/12\n",
      "P(Outlook = Rain | Play == No) = 5/12\n",
      "P(Outlook = Rain | Play == Yes) = 4/12\n",
      "\n",
      "Feature: \"Temperature\" & label: ['No', 'Yes']\n",
      "---------------------------------------------\n",
      "P(Temperature = Hot | Play == No) = 4/12\n",
      "P(Temperature = Hot | Play == Yes) = 3/12\n",
      "P(Temperature = Mild | Play == No) = 5/12\n",
      "P(Temperature = Mild | Play == Yes) = 5/12\n",
      "P(Temperature = Cool | Play == No) = 3/12\n",
      "P(Temperature = Cool | Play == Yes) = 4/12\n",
      "\n",
      "Feature: \"Humidity\" & label: ['No', 'Yes']\n",
      "------------------------------------------\n",
      "P(Humidity = High | Play == No) = 8/12\n",
      "P(Humidity = High | Play == Yes) = 4/12\n",
      "P(Humidity = Normal | Play == No) = 3/12\n",
      "P(Humidity = Normal | Play == Yes) = 7/12\n",
      "\n",
      "Feature: \"Windy\" & label: ['No', 'Yes']\n",
      "---------------------------------------\n",
      "P(Windy = Weak | Play == No) = 4/11\n",
      "P(Windy = Weak | Play == Yes) = 7/11\n",
      "P(Windy = Strong | Play == No) = 7/11\n",
      "P(Windy = Strong | Play == Yes) = 4/11\n",
      "\n",
      "Model training complete!\n",
      "\n",
      "\n",
      "Feature Importance & Interpretability\n",
      "=====================================\n",
      "+---------+-------------+----------+-------+--------+\n",
      "| Sl. No. |     Ft Name | Ft Value | Label |   Prob |\n",
      "+---------+-------------+----------+-------+--------+\n",
      "|       1 |       Windy |     Weak |   Yes | 0.6364 |\n",
      "|       2 |    Humidity |   Normal |   Yes | 0.5833 |\n",
      "|       3 |     Outlook | Overcast |   Yes | 0.4167 |\n",
      "|       4 | Temperature |     Mild |   Yes | 0.4167 |\n",
      "|       5 |       Windy |   Strong |   Yes | 0.3636 |\n",
      "|       6 |     Outlook |     Rain |   Yes | 0.3333 |\n",
      "|       7 | Temperature |     Cool |   Yes | 0.3333 |\n",
      "|       8 |    Humidity |     High |   Yes | 0.3333 |\n",
      "|       9 |     Outlook |    Sunny |   Yes |   0.25 |\n",
      "|      10 | Temperature |      Hot |   Yes |   0.25 |\n",
      "|      11 |    Humidity |     High |    No | 0.6667 |\n",
      "|      12 |       Windy |   Strong |    No | 0.6364 |\n",
      "|      13 |     Outlook |    Sunny |    No |    0.5 |\n",
      "|      14 |     Outlook |     Rain |    No | 0.4167 |\n",
      "|      15 | Temperature |     Mild |    No | 0.4167 |\n",
      "|      16 |       Windy |     Weak |    No | 0.3636 |\n",
      "|      17 | Temperature |      Hot |    No | 0.3333 |\n",
      "|      18 | Temperature |     Cool |    No |   0.25 |\n",
      "|      19 |    Humidity |   Normal |    No |   0.25 |\n",
      "|      20 |     Outlook | Overcast |    No | 0.0833 |\n",
      "+---------+-------------+----------+-------+--------+\n"
     ]
    },
    {
     "data": {
      "application/javascript": [
       "\n",
       "            setTimeout(function() {\n",
       "                var nbb_cell_id = 13;\n",
       "                var nbb_unformatted_code = \"ENABLE_LOG = True\\npredict = fit(K=[3, 3, 3, 2])\";\n",
       "                var nbb_formatted_code = \"ENABLE_LOG = True\\npredict = fit(K=[3, 3, 3, 2])\";\n",
       "                var nbb_cells = Jupyter.notebook.get_cells();\n",
       "                for (var i = 0; i < nbb_cells.length; ++i) {\n",
       "                    if (nbb_cells[i].input_prompt_number == nbb_cell_id) {\n",
       "                        if (nbb_cells[i].get_text() == nbb_unformatted_code) {\n",
       "                             nbb_cells[i].set_text(nbb_formatted_code);\n",
       "                        }\n",
       "                        break;\n",
       "                    }\n",
       "                }\n",
       "            }, 500);\n",
       "            "
      ],
      "text/plain": [
       "<IPython.core.display.Javascript object>"
      ]
     },
     "metadata": {},
     "output_type": "display_data"
    }
   ],
   "source": [
    "ENABLE_LOG = True\n",
    "predict = fit(K=[3, 3, 3, 2])"
   ]
  },
  {
   "cell_type": "markdown",
   "id": "ea11df4b",
   "metadata": {},
   "source": [
    "---\n",
    "\n",
    "**Observations**\n",
    "\n",
    "Features like _Windy_, _Humidity_ and _Temperature_ are important features respectively to predict if its an ideal weather condition to play Tennis outdoors. \n",
    "\n",
    "Model has learnt below amazing knowledge using likelihood probability:\n",
    "\n",
    "2. Feature _Windy_ has high probability values as seen in:\n",
    "    * **Row 1**: When wind is _Weak_ we can play outdoors.\n",
    "    * **Row 12**: When wind is _Strong_ we cannot play outdoors.\n",
    "1. Feature _Humidity_ has high probability values as seen in:\n",
    "    * **Row 2**: When humidity is _Normal_ we can play outdoors.\n",
    "    * **Row 11**: When humidity is _High_ we cannot play outdoors.\n",
    "3. Feature _Temperature_ has high probability values as seen in:\n",
    "    * **Row 7**: When temperature is _Cool_ we can play outdoors.\n",
    "    * **Row 17**: When temperature is _Hot_ we cannot play outdoors.\n",
    "    * **Row 4 & 15**: When temperature is _Mild_, it depends on other features to decide if we can play outdoors.\n",
    "4. Clearly feature _Outlook_ has least importance as seen in:\n",
    "    * **Row 6**: _Outlook_ is _Rain_ but we can Play outdoors (label says \"Yes\").\n",
    "    * **Row 13**: _Outlook_ is _Sunny_ but we cannot Play outdoors (label says \"No\"). "
   ]
  },
  {
   "cell_type": "markdown",
   "id": "f8ead705",
   "metadata": {},
   "source": [
    "<a id=\"[5]-Testing-Model\"></a>\n",
    "# [5] Testing Model"
   ]
  },
  {
   "cell_type": "code",
   "execution_count": 14,
   "id": "14ad4979",
   "metadata": {},
   "outputs": [
    {
     "name": "stdout",
     "output_type": "stream",
     "text": [
      "Query point: ['Sunny', 'Cool', 'High', 'Strong']\n",
      "Output: No\n"
     ]
    },
    {
     "data": {
      "application/javascript": [
       "\n",
       "            setTimeout(function() {\n",
       "                var nbb_cell_id = 14;\n",
       "                var nbb_unformatted_code = \"ENABLE_LOG = False\\n\\n# Features: Outlook, Temperature, Humidity, Windy.\\nx_q = [\\\"Sunny\\\", \\\"Cool\\\", \\\"High\\\", \\\"Strong\\\"]  # Query point\\ny_q = predict(x_q)\\n\\nprint(\\\"Query point:\\\", x_q)\\nprint(\\\"Output:\\\", y_q)\";\n",
       "                var nbb_formatted_code = \"ENABLE_LOG = False\\n\\n# Features: Outlook, Temperature, Humidity, Windy.\\nx_q = [\\\"Sunny\\\", \\\"Cool\\\", \\\"High\\\", \\\"Strong\\\"]  # Query point\\ny_q = predict(x_q)\\n\\nprint(\\\"Query point:\\\", x_q)\\nprint(\\\"Output:\\\", y_q)\";\n",
       "                var nbb_cells = Jupyter.notebook.get_cells();\n",
       "                for (var i = 0; i < nbb_cells.length; ++i) {\n",
       "                    if (nbb_cells[i].input_prompt_number == nbb_cell_id) {\n",
       "                        if (nbb_cells[i].get_text() == nbb_unformatted_code) {\n",
       "                             nbb_cells[i].set_text(nbb_formatted_code);\n",
       "                        }\n",
       "                        break;\n",
       "                    }\n",
       "                }\n",
       "            }, 500);\n",
       "            "
      ],
      "text/plain": [
       "<IPython.core.display.Javascript object>"
      ]
     },
     "metadata": {},
     "output_type": "display_data"
    }
   ],
   "source": [
    "ENABLE_LOG = False\n",
    "\n",
    "# Features: Outlook, Temperature, Humidity, Windy.\n",
    "x_q = [\"Sunny\", \"Cool\", \"High\", \"Strong\"]  # Query point\n",
    "y_q = predict(x_q)\n",
    "\n",
    "print(\"Query point:\", x_q)\n",
    "print(\"Output:\", y_q)"
   ]
  },
  {
   "cell_type": "markdown",
   "id": "41648f03",
   "metadata": {},
   "source": [
    "<a id=\"[6]-Testing-Additive-Smoothing\"></a>\n",
    "# [6] Testing Additive Smoothing\n",
    "\n",
    "Feature `Humidity` contains only `[High, Normal]` values in training dataset. Pass a new value `Low`, not seen in training dataset to check Laplace Smoothing. "
   ]
  },
  {
   "cell_type": "code",
   "execution_count": 15,
   "id": "fa532ac1",
   "metadata": {},
   "outputs": [
    {
     "name": "stdout",
     "output_type": "stream",
     "text": [
      "P(Play = No | ['Sunny', 'Cool', 'Low', 'Strong']) = -5.7095\n",
      "P(Play = Yes | ['Sunny', 'Cool', 'Low', 'Strong']) = -6.6746\n",
      "Query point: ['Sunny', 'Cool', 'Low', 'Strong']\n",
      "Output: No\n"
     ]
    },
    {
     "data": {
      "application/javascript": [
       "\n",
       "            setTimeout(function() {\n",
       "                var nbb_cell_id = 15;\n",
       "                var nbb_unformatted_code = \"ENABLE_LOG = True\\n\\n# Features: Outlook, Temperature, Humidity, Windy.\\nx_q = [\\\"Sunny\\\", \\\"Cool\\\", \\\"Low\\\", \\\"Strong\\\"]  # Query point\\ny_q = predict(x_q)\\n\\nprint(\\\"Query point:\\\", x_q)\\nprint(\\\"Output:\\\", y_q)\";\n",
       "                var nbb_formatted_code = \"ENABLE_LOG = True\\n\\n# Features: Outlook, Temperature, Humidity, Windy.\\nx_q = [\\\"Sunny\\\", \\\"Cool\\\", \\\"Low\\\", \\\"Strong\\\"]  # Query point\\ny_q = predict(x_q)\\n\\nprint(\\\"Query point:\\\", x_q)\\nprint(\\\"Output:\\\", y_q)\";\n",
       "                var nbb_cells = Jupyter.notebook.get_cells();\n",
       "                for (var i = 0; i < nbb_cells.length; ++i) {\n",
       "                    if (nbb_cells[i].input_prompt_number == nbb_cell_id) {\n",
       "                        if (nbb_cells[i].get_text() == nbb_unformatted_code) {\n",
       "                             nbb_cells[i].set_text(nbb_formatted_code);\n",
       "                        }\n",
       "                        break;\n",
       "                    }\n",
       "                }\n",
       "            }, 500);\n",
       "            "
      ],
      "text/plain": [
       "<IPython.core.display.Javascript object>"
      ]
     },
     "metadata": {},
     "output_type": "display_data"
    }
   ],
   "source": [
    "ENABLE_LOG = True\n",
    "\n",
    "# Features: Outlook, Temperature, Humidity, Windy.\n",
    "x_q = [\"Sunny\", \"Cool\", \"Low\", \"Strong\"]  # Query point\n",
    "y_q = predict(x_q)\n",
    "\n",
    "print(\"Query point:\", x_q)\n",
    "print(\"Output:\", y_q)"
   ]
  },
  {
   "cell_type": "markdown",
   "id": "710ec3e7",
   "metadata": {},
   "source": [
    "It is _sunny_, temperature is _cool_, humidity is _low_ but wind is _Strong_ hence we cannot play outdoors.  \n",
    "\n",
    "Now if wind is _weak_ its an ideal situation to play outdoors, so lets check the model prediction when weather is _\"Sunny\", \"Cool\", \"Low\", \"Weak\"_:"
   ]
  },
  {
   "cell_type": "code",
   "execution_count": 16,
   "id": "34356115",
   "metadata": {},
   "outputs": [
    {
     "name": "stdout",
     "output_type": "stream",
     "text": [
      "P(Play = No | ['Sunny', 'Cool', 'Low', 'Weak']) = -6.2691\n",
      "P(Play = Yes | ['Sunny', 'Cool', 'Low', 'Weak']) = -6.1149\n",
      "Query point: ['Sunny', 'Cool', 'Low', 'Weak']\n",
      "Output: Yes\n"
     ]
    },
    {
     "data": {
      "application/javascript": [
       "\n",
       "            setTimeout(function() {\n",
       "                var nbb_cell_id = 16;\n",
       "                var nbb_unformatted_code = \"# Features: Outlook, Temperature, Humidity, Windy.\\nx_q = [\\\"Sunny\\\", \\\"Cool\\\", \\\"Low\\\", \\\"Weak\\\"]  # Query point\\ny_q = predict(x_q)\\n\\nprint(\\\"Query point:\\\", x_q)\\nprint(\\\"Output:\\\", y_q)\";\n",
       "                var nbb_formatted_code = \"# Features: Outlook, Temperature, Humidity, Windy.\\nx_q = [\\\"Sunny\\\", \\\"Cool\\\", \\\"Low\\\", \\\"Weak\\\"]  # Query point\\ny_q = predict(x_q)\\n\\nprint(\\\"Query point:\\\", x_q)\\nprint(\\\"Output:\\\", y_q)\";\n",
       "                var nbb_cells = Jupyter.notebook.get_cells();\n",
       "                for (var i = 0; i < nbb_cells.length; ++i) {\n",
       "                    if (nbb_cells[i].input_prompt_number == nbb_cell_id) {\n",
       "                        if (nbb_cells[i].get_text() == nbb_unformatted_code) {\n",
       "                             nbb_cells[i].set_text(nbb_formatted_code);\n",
       "                        }\n",
       "                        break;\n",
       "                    }\n",
       "                }\n",
       "            }, 500);\n",
       "            "
      ],
      "text/plain": [
       "<IPython.core.display.Javascript object>"
      ]
     },
     "metadata": {},
     "output_type": "display_data"
    }
   ],
   "source": [
    "# Features: Outlook, Temperature, Humidity, Windy.\n",
    "x_q = [\"Sunny\", \"Cool\", \"Low\", \"Weak\"]  # Query point\n",
    "y_q = predict(x_q)\n",
    "\n",
    "print(\"Query point:\", x_q)\n",
    "print(\"Output:\", y_q)"
   ]
  },
  {
   "cell_type": "markdown",
   "id": "98f672d5",
   "metadata": {},
   "source": [
    "Well indeed its an ideal weather condition to play outdoors!"
   ]
  }
 ],
 "metadata": {
  "kernelspec": {
   "display_name": "Python 3 (ipykernel)",
   "language": "python",
   "name": "python3"
  },
  "language_info": {
   "codemirror_mode": {
    "name": "ipython",
    "version": 3
   },
   "file_extension": ".py",
   "mimetype": "text/x-python",
   "name": "python",
   "nbconvert_exporter": "python",
   "pygments_lexer": "ipython3",
   "version": "3.9.13"
  }
 },
 "nbformat": 4,
 "nbformat_minor": 5
}
