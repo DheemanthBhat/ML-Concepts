{
 "cells": [
  {
   "cell_type": "code",
   "execution_count": 1,
   "id": "8431b58d",
   "metadata": {},
   "outputs": [
    {
     "data": {
      "application/javascript": [
       "\n",
       "            setTimeout(function() {\n",
       "                var nbb_cell_id = 1;\n",
       "                var nbb_unformatted_code = \"# Enable code formatting using external plugin: nb_black.\\n%reload_ext nb_black\";\n",
       "                var nbb_formatted_code = \"# Enable code formatting using external plugin: nb_black.\\n%reload_ext nb_black\";\n",
       "                var nbb_cells = Jupyter.notebook.get_cells();\n",
       "                for (var i = 0; i < nbb_cells.length; ++i) {\n",
       "                    if (nbb_cells[i].input_prompt_number == nbb_cell_id) {\n",
       "                        if (nbb_cells[i].get_text() == nbb_unformatted_code) {\n",
       "                             nbb_cells[i].set_text(nbb_formatted_code);\n",
       "                        }\n",
       "                        break;\n",
       "                    }\n",
       "                }\n",
       "            }, 500);\n",
       "            "
      ],
      "text/plain": [
       "<IPython.core.display.Javascript object>"
      ]
     },
     "metadata": {},
     "output_type": "display_data"
    }
   ],
   "source": [
    "# Enable code formatting using external plugin: nb_black.\n",
    "%reload_ext nb_black"
   ]
  },
  {
   "cell_type": "markdown",
   "id": "f18d260f",
   "metadata": {},
   "source": [
    "# Linear Regression\n",
    "\n",
    "### Objective\n",
    "\n",
    "Implement multivariate **Linear Regression** using _Gradient Descent_ minimization technique."
   ]
  },
  {
   "cell_type": "markdown",
   "id": "324b5c82",
   "metadata": {},
   "source": [
    "<a id=\"#[1]-Setup\"></a>\n",
    "# [1] Setup\n",
    "\n",
    "### Import and configure required libraries"
   ]
  },
  {
   "cell_type": "code",
   "execution_count": 2,
   "id": "4a61a27d",
   "metadata": {},
   "outputs": [
    {
     "name": "stdout",
     "output_type": "stream",
     "text": [
      "NumPy version: 1.21.5\n",
      "Pandas version: 1.4.2\n",
      "Matplotlib version: 3.5.1\n",
      "Seaborn version: 0.11.2\n",
      "PrettyTable version: 3.3.0\n"
     ]
    },
    {
     "data": {
      "application/javascript": [
       "\n",
       "            setTimeout(function() {\n",
       "                var nbb_cell_id = 2;\n",
       "                var nbb_unformatted_code = \"# Data manipulation libraries\\nimport numpy as np\\nimport pandas as pd\\n\\n# Data visualization libraries\\nimport matplotlib\\nimport matplotlib.pyplot as plt\\nimport seaborn as sns\\nimport prettytable\\nfrom prettytable import PrettyTable\\n\\n\\n# Library versions used in below EDA.\\nprint(\\\"NumPy version:\\\", np.__version__)\\nprint(\\\"Pandas version:\\\", pd.__version__)\\nprint(\\\"Matplotlib version:\\\", matplotlib.__version__)\\nprint(\\\"Seaborn version:\\\", sns.__version__)\\nprint(\\\"PrettyTable version:\\\", prettytable.__version__)\\n\\n# Configure NumPy.\\n# Set `Line width` to Maximum 130 characters in the output, post which it will continue in next line.\\nnp.set_printoptions(linewidth=130)\\n\\n# Configure Pandas.\\n# Set display width to maximum 130 characters in the output, post which it will continue in next line.\\npd.options.display.width = 130\\n\\n# Configure Seaborn.\\nsns.set_style(\\\"whitegrid\\\")  # Set white background with grid.\\nsns.set_palette(\\\"deep\\\")  # Set color palette.\\nsns.set_context(\\\"paper\\\", font_scale=1.5)  # Set font to scale 1.5 more than normal.\";\n",
       "                var nbb_formatted_code = \"# Data manipulation libraries\\nimport numpy as np\\nimport pandas as pd\\n\\n# Data visualization libraries\\nimport matplotlib\\nimport matplotlib.pyplot as plt\\nimport seaborn as sns\\nimport prettytable\\nfrom prettytable import PrettyTable\\n\\n\\n# Library versions used in below EDA.\\nprint(\\\"NumPy version:\\\", np.__version__)\\nprint(\\\"Pandas version:\\\", pd.__version__)\\nprint(\\\"Matplotlib version:\\\", matplotlib.__version__)\\nprint(\\\"Seaborn version:\\\", sns.__version__)\\nprint(\\\"PrettyTable version:\\\", prettytable.__version__)\\n\\n# Configure NumPy.\\n# Set `Line width` to Maximum 130 characters in the output, post which it will continue in next line.\\nnp.set_printoptions(linewidth=130)\\n\\n# Configure Pandas.\\n# Set display width to maximum 130 characters in the output, post which it will continue in next line.\\npd.options.display.width = 130\\n\\n# Configure Seaborn.\\nsns.set_style(\\\"whitegrid\\\")  # Set white background with grid.\\nsns.set_palette(\\\"deep\\\")  # Set color palette.\\nsns.set_context(\\\"paper\\\", font_scale=1.5)  # Set font to scale 1.5 more than normal.\";\n",
       "                var nbb_cells = Jupyter.notebook.get_cells();\n",
       "                for (var i = 0; i < nbb_cells.length; ++i) {\n",
       "                    if (nbb_cells[i].input_prompt_number == nbb_cell_id) {\n",
       "                        if (nbb_cells[i].get_text() == nbb_unformatted_code) {\n",
       "                             nbb_cells[i].set_text(nbb_formatted_code);\n",
       "                        }\n",
       "                        break;\n",
       "                    }\n",
       "                }\n",
       "            }, 500);\n",
       "            "
      ],
      "text/plain": [
       "<IPython.core.display.Javascript object>"
      ]
     },
     "metadata": {},
     "output_type": "display_data"
    }
   ],
   "source": [
    "# Data manipulation libraries\n",
    "import numpy as np\n",
    "import pandas as pd\n",
    "\n",
    "# Data visualization libraries\n",
    "import matplotlib\n",
    "import matplotlib.pyplot as plt\n",
    "import seaborn as sns\n",
    "import prettytable\n",
    "from prettytable import PrettyTable\n",
    "\n",
    "\n",
    "# Library versions used in below EDA.\n",
    "print(\"NumPy version:\", np.__version__)\n",
    "print(\"Pandas version:\", pd.__version__)\n",
    "print(\"Matplotlib version:\", matplotlib.__version__)\n",
    "print(\"Seaborn version:\", sns.__version__)\n",
    "print(\"PrettyTable version:\", prettytable.__version__)\n",
    "\n",
    "# Configure NumPy.\n",
    "# Set `Line width` to Maximum 130 characters in the output, post which it will continue in next line.\n",
    "np.set_printoptions(linewidth=130)\n",
    "\n",
    "# Configure Pandas.\n",
    "# Set display width to maximum 130 characters in the output, post which it will continue in next line.\n",
    "pd.options.display.width = 130\n",
    "\n",
    "# Configure Seaborn.\n",
    "sns.set_style(\"whitegrid\")  # Set white background with grid.\n",
    "sns.set_palette(\"deep\")  # Set color palette.\n",
    "sns.set_context(\"paper\", font_scale=1.5)  # Set font to scale 1.5 more than normal."
   ]
  },
  {
   "cell_type": "markdown",
   "id": "4ac2be27",
   "metadata": {},
   "source": [
    "#### Common functions"
   ]
  },
  {
   "cell_type": "code",
   "execution_count": 3,
   "id": "c1d86954",
   "metadata": {},
   "outputs": [
    {
     "data": {
      "application/javascript": [
       "\n",
       "            setTimeout(function() {\n",
       "                var nbb_cell_id = 3;\n",
       "                var nbb_unformatted_code = \"def get_shape(np_array):\\n    if not isinstance(np_array, np.ndarray):\\n        raise ValueError(f\\\"Received {type(np_array)} instead of numpy array.\\\")\\n\\n    if np_array.size == 0:\\n        raise ValueError(f\\\"Received empty numpy array.\\\")\\n\\n    shape = list(np_array.shape)\\n    return (shape.pop(), None) if len(shape) == 1 else (shape[0], shape[1])\\n\\n\\nENABLE_LOG = False\\n\\n\\ndef text(*args):\\n    \\\"\\\"\\\"\\n    Function to print() input string when logging is enabled.\\n    \\\"\\\"\\\"\\n    if ENABLE_LOG is True:\\n        print(*args)\\n\\n\\ndef title(title_str, padding=[1, 1], line_style=\\\"=\\\"):\\n    \\\"\\\"\\\"\\n    Function to print() input string with some styles, when logging is enabled.\\n    \\\"\\\"\\\"\\n    if ENABLE_LOG is True:\\n        pad_top, pad_bot = padding\\n        pt = \\\"\\\\n\\\" * pad_top\\n        pb = \\\"\\\\n\\\" * pad_bot\\n        print(pt + title_str + \\\"\\\\n\\\" + line_style * len(title_str) + pb)\";\n",
       "                var nbb_formatted_code = \"def get_shape(np_array):\\n    if not isinstance(np_array, np.ndarray):\\n        raise ValueError(f\\\"Received {type(np_array)} instead of numpy array.\\\")\\n\\n    if np_array.size == 0:\\n        raise ValueError(f\\\"Received empty numpy array.\\\")\\n\\n    shape = list(np_array.shape)\\n    return (shape.pop(), None) if len(shape) == 1 else (shape[0], shape[1])\\n\\n\\nENABLE_LOG = False\\n\\n\\ndef text(*args):\\n    \\\"\\\"\\\"\\n    Function to print() input string when logging is enabled.\\n    \\\"\\\"\\\"\\n    if ENABLE_LOG is True:\\n        print(*args)\\n\\n\\ndef title(title_str, padding=[1, 1], line_style=\\\"=\\\"):\\n    \\\"\\\"\\\"\\n    Function to print() input string with some styles, when logging is enabled.\\n    \\\"\\\"\\\"\\n    if ENABLE_LOG is True:\\n        pad_top, pad_bot = padding\\n        pt = \\\"\\\\n\\\" * pad_top\\n        pb = \\\"\\\\n\\\" * pad_bot\\n        print(pt + title_str + \\\"\\\\n\\\" + line_style * len(title_str) + pb)\";\n",
       "                var nbb_cells = Jupyter.notebook.get_cells();\n",
       "                for (var i = 0; i < nbb_cells.length; ++i) {\n",
       "                    if (nbb_cells[i].input_prompt_number == nbb_cell_id) {\n",
       "                        if (nbb_cells[i].get_text() == nbb_unformatted_code) {\n",
       "                             nbb_cells[i].set_text(nbb_formatted_code);\n",
       "                        }\n",
       "                        break;\n",
       "                    }\n",
       "                }\n",
       "            }, 500);\n",
       "            "
      ],
      "text/plain": [
       "<IPython.core.display.Javascript object>"
      ]
     },
     "metadata": {},
     "output_type": "display_data"
    }
   ],
   "source": [
    "def get_shape(np_array):\n",
    "    if not isinstance(np_array, np.ndarray):\n",
    "        raise ValueError(f\"Received {type(np_array)} instead of numpy array.\")\n",
    "\n",
    "    if np_array.size == 0:\n",
    "        raise ValueError(f\"Received empty numpy array.\")\n",
    "\n",
    "    shape = list(np_array.shape)\n",
    "    return (shape.pop(), None) if len(shape) == 1 else (shape[0], shape[1])\n",
    "\n",
    "\n",
    "ENABLE_LOG = False\n",
    "\n",
    "\n",
    "def text(*args):\n",
    "    \"\"\"\n",
    "    Function to print() input string when logging is enabled.\n",
    "    \"\"\"\n",
    "    if ENABLE_LOG is True:\n",
    "        print(*args)\n",
    "\n",
    "\n",
    "def title(title_str, padding=[1, 1], line_style=\"=\"):\n",
    "    \"\"\"\n",
    "    Function to print() input string with some styles, when logging is enabled.\n",
    "    \"\"\"\n",
    "    if ENABLE_LOG is True:\n",
    "        pad_top, pad_bot = padding\n",
    "        pt = \"\\n\" * pad_top\n",
    "        pb = \"\\n\" * pad_bot\n",
    "        print(pt + title_str + \"\\n\" + line_style * len(title_str) + pb)"
   ]
  },
  {
   "cell_type": "markdown",
   "id": "0d552942",
   "metadata": {},
   "source": [
    "#### Load data-points from the `.csv` file"
   ]
  },
  {
   "cell_type": "code",
   "execution_count": 4,
   "id": "cfcf6d9c",
   "metadata": {},
   "outputs": [
    {
     "data": {
      "text/html": [
       "<div>\n",
       "<style scoped>\n",
       "    .dataframe tbody tr th:only-of-type {\n",
       "        vertical-align: middle;\n",
       "    }\n",
       "\n",
       "    .dataframe tbody tr th {\n",
       "        vertical-align: top;\n",
       "    }\n",
       "\n",
       "    .dataframe thead th {\n",
       "        text-align: right;\n",
       "    }\n",
       "</style>\n",
       "<table border=\"1\" class=\"dataframe\">\n",
       "  <thead>\n",
       "    <tr style=\"text-align: right;\">\n",
       "      <th></th>\n",
       "      <th>X</th>\n",
       "      <th>Y</th>\n",
       "    </tr>\n",
       "  </thead>\n",
       "  <tbody>\n",
       "    <tr>\n",
       "      <th>0</th>\n",
       "      <td>171</td>\n",
       "      <td>183</td>\n",
       "    </tr>\n",
       "    <tr>\n",
       "      <th>1</th>\n",
       "      <td>15</td>\n",
       "      <td>84</td>\n",
       "    </tr>\n",
       "    <tr>\n",
       "      <th>2</th>\n",
       "      <td>9</td>\n",
       "      <td>85</td>\n",
       "    </tr>\n",
       "    <tr>\n",
       "      <th>3</th>\n",
       "      <td>219</td>\n",
       "      <td>228</td>\n",
       "    </tr>\n",
       "    <tr>\n",
       "      <th>4</th>\n",
       "      <td>154</td>\n",
       "      <td>199</td>\n",
       "    </tr>\n",
       "  </tbody>\n",
       "</table>\n",
       "</div>"
      ],
      "text/plain": [
       "     X    Y\n",
       "0  171  183\n",
       "1   15   84\n",
       "2    9   85\n",
       "3  219  228\n",
       "4  154  199"
      ]
     },
     "execution_count": 4,
     "metadata": {},
     "output_type": "execute_result"
    },
    {
     "data": {
      "application/javascript": [
       "\n",
       "            setTimeout(function() {\n",
       "                var nbb_cell_id = 4;\n",
       "                var nbb_unformatted_code = \"uv_df = pd.read_csv(\\\"./univariate_data_points.csv\\\")\\nuv_df.head()\";\n",
       "                var nbb_formatted_code = \"uv_df = pd.read_csv(\\\"./univariate_data_points.csv\\\")\\nuv_df.head()\";\n",
       "                var nbb_cells = Jupyter.notebook.get_cells();\n",
       "                for (var i = 0; i < nbb_cells.length; ++i) {\n",
       "                    if (nbb_cells[i].input_prompt_number == nbb_cell_id) {\n",
       "                        if (nbb_cells[i].get_text() == nbb_unformatted_code) {\n",
       "                             nbb_cells[i].set_text(nbb_formatted_code);\n",
       "                        }\n",
       "                        break;\n",
       "                    }\n",
       "                }\n",
       "            }, 500);\n",
       "            "
      ],
      "text/plain": [
       "<IPython.core.display.Javascript object>"
      ]
     },
     "metadata": {},
     "output_type": "display_data"
    }
   ],
   "source": [
    "uv_df = pd.read_csv(\"./univariate_data_points.csv\")\n",
    "uv_df.head()"
   ]
  },
  {
   "cell_type": "markdown",
   "id": "bcfc207d",
   "metadata": {},
   "source": [
    "# [2] Data Analysis"
   ]
  },
  {
   "cell_type": "code",
   "execution_count": 5,
   "id": "43b52e9d",
   "metadata": {},
   "outputs": [
    {
     "name": "stdout",
     "output_type": "stream",
     "text": [
      "Rows: 500\n",
      "Columns: 2\n"
     ]
    },
    {
     "data": {
      "application/javascript": [
       "\n",
       "            setTimeout(function() {\n",
       "                var nbb_cell_id = 5;\n",
       "                var nbb_unformatted_code = \"rows, cols = uv_df.shape\\n\\nprint(\\\"Rows:\\\", rows)\\nprint(\\\"Columns:\\\", cols)\";\n",
       "                var nbb_formatted_code = \"rows, cols = uv_df.shape\\n\\nprint(\\\"Rows:\\\", rows)\\nprint(\\\"Columns:\\\", cols)\";\n",
       "                var nbb_cells = Jupyter.notebook.get_cells();\n",
       "                for (var i = 0; i < nbb_cells.length; ++i) {\n",
       "                    if (nbb_cells[i].input_prompt_number == nbb_cell_id) {\n",
       "                        if (nbb_cells[i].get_text() == nbb_unformatted_code) {\n",
       "                             nbb_cells[i].set_text(nbb_formatted_code);\n",
       "                        }\n",
       "                        break;\n",
       "                    }\n",
       "                }\n",
       "            }, 500);\n",
       "            "
      ],
      "text/plain": [
       "<IPython.core.display.Javascript object>"
      ]
     },
     "metadata": {},
     "output_type": "display_data"
    }
   ],
   "source": [
    "rows, cols = uv_df.shape\n",
    "\n",
    "print(\"Rows:\", rows)\n",
    "print(\"Columns:\", cols)"
   ]
  },
  {
   "cell_type": "code",
   "execution_count": 6,
   "id": "86d6a1e9",
   "metadata": {},
   "outputs": [
    {
     "name": "stdout",
     "output_type": "stream",
     "text": [
      "<class 'pandas.core.frame.DataFrame'>\n",
      "RangeIndex: 500 entries, 0 to 499\n",
      "Data columns (total 2 columns):\n",
      " #   Column  Non-Null Count  Dtype\n",
      "---  ------  --------------  -----\n",
      " 0   X       500 non-null    int64\n",
      " 1   Y       500 non-null    int64\n",
      "dtypes: int64(2)\n",
      "memory usage: 7.9 KB\n"
     ]
    },
    {
     "data": {
      "application/javascript": [
       "\n",
       "            setTimeout(function() {\n",
       "                var nbb_cell_id = 6;\n",
       "                var nbb_unformatted_code = \"uv_df.info()\";\n",
       "                var nbb_formatted_code = \"uv_df.info()\";\n",
       "                var nbb_cells = Jupyter.notebook.get_cells();\n",
       "                for (var i = 0; i < nbb_cells.length; ++i) {\n",
       "                    if (nbb_cells[i].input_prompt_number == nbb_cell_id) {\n",
       "                        if (nbb_cells[i].get_text() == nbb_unformatted_code) {\n",
       "                             nbb_cells[i].set_text(nbb_formatted_code);\n",
       "                        }\n",
       "                        break;\n",
       "                    }\n",
       "                }\n",
       "            }, 500);\n",
       "            "
      ],
      "text/plain": [
       "<IPython.core.display.Javascript object>"
      ]
     },
     "metadata": {},
     "output_type": "display_data"
    }
   ],
   "source": [
    "uv_df.info()"
   ]
  },
  {
   "cell_type": "code",
   "execution_count": 7,
   "id": "250662a5",
   "metadata": {},
   "outputs": [
    {
     "data": {
      "text/plain": [
       "X    298\n",
       "Y    272\n",
       "dtype: int64"
      ]
     },
     "execution_count": 7,
     "metadata": {},
     "output_type": "execute_result"
    },
    {
     "data": {
      "application/javascript": [
       "\n",
       "            setTimeout(function() {\n",
       "                var nbb_cell_id = 7;\n",
       "                var nbb_unformatted_code = \"uv_df.apply(max)\";\n",
       "                var nbb_formatted_code = \"uv_df.apply(max)\";\n",
       "                var nbb_cells = Jupyter.notebook.get_cells();\n",
       "                for (var i = 0; i < nbb_cells.length; ++i) {\n",
       "                    if (nbb_cells[i].input_prompt_number == nbb_cell_id) {\n",
       "                        if (nbb_cells[i].get_text() == nbb_unformatted_code) {\n",
       "                             nbb_cells[i].set_text(nbb_formatted_code);\n",
       "                        }\n",
       "                        break;\n",
       "                    }\n",
       "                }\n",
       "            }, 500);\n",
       "            "
      ],
      "text/plain": [
       "<IPython.core.display.Javascript object>"
      ]
     },
     "metadata": {},
     "output_type": "display_data"
    }
   ],
   "source": [
    "uv_df.apply(max)"
   ]
  },
  {
   "cell_type": "markdown",
   "id": "1eeb248d",
   "metadata": {},
   "source": [
    "#### Plot attributes"
   ]
  },
  {
   "cell_type": "code",
   "execution_count": 8,
   "id": "6279b160",
   "metadata": {},
   "outputs": [
    {
     "data": {
      "image/png": "[encoded data removed]",
      "text/plain": [
       "<Figure size 432x360 with 1 Axes>"
      ]
     },
     "metadata": {},
     "output_type": "display_data"
    },
    {
     "data": {
      "application/javascript": [
       "\n",
       "            setTimeout(function() {\n",
       "                var nbb_cell_id = 8;\n",
       "                var nbb_unformatted_code = \"plt.figure(figsize=(6, 5))\\n\\nsns.scatterplot(data=uv_df, x=\\\"X\\\", y=\\\"Y\\\")\\nplt.xticks(ticks=range(0, 300, 50))\\nplt.yticks(ticks=range(0, 280, 50))\\n\\nplt.show()\";\n",
       "                var nbb_formatted_code = \"plt.figure(figsize=(6, 5))\\n\\nsns.scatterplot(data=uv_df, x=\\\"X\\\", y=\\\"Y\\\")\\nplt.xticks(ticks=range(0, 300, 50))\\nplt.yticks(ticks=range(0, 280, 50))\\n\\nplt.show()\";\n",
       "                var nbb_cells = Jupyter.notebook.get_cells();\n",
       "                for (var i = 0; i < nbb_cells.length; ++i) {\n",
       "                    if (nbb_cells[i].input_prompt_number == nbb_cell_id) {\n",
       "                        if (nbb_cells[i].get_text() == nbb_unformatted_code) {\n",
       "                             nbb_cells[i].set_text(nbb_formatted_code);\n",
       "                        }\n",
       "                        break;\n",
       "                    }\n",
       "                }\n",
       "            }, 500);\n",
       "            "
      ],
      "text/plain": [
       "<IPython.core.display.Javascript object>"
      ]
     },
     "metadata": {},
     "output_type": "display_data"
    }
   ],
   "source": [
    "plt.figure(figsize=(6, 5))\n",
    "\n",
    "sns.scatterplot(data=uv_df, x=\"X\", y=\"Y\")\n",
    "plt.xticks(ticks=range(0, 300, 50))\n",
    "plt.yticks(ticks=range(0, 280, 50))\n",
    "\n",
    "plt.show()"
   ]
  },
  {
   "cell_type": "markdown",
   "id": "3478fbaf",
   "metadata": {},
   "source": [
    "# [3] Implementation\n",
    "\n",
    "1. Feature Scaling.\n",
    "2. Adjusting Learning rate."
   ]
  },
  {
   "cell_type": "code",
   "execution_count": 9,
   "id": "2b2409bf",
   "metadata": {},
   "outputs": [
    {
     "data": {
      "application/javascript": [
       "\n",
       "            setTimeout(function() {\n",
       "                var nbb_cell_id = 9;\n",
       "                var nbb_unformatted_code = \"def linear_regression(X, Y, theta=[]):\\n    \\\"\\\"\\\"\\n    Closure to implement multivariate Linear Regression \\n    using Batch Gradient Descent minimization technique.\\n    \\\"\\\"\\\"\\n    PRECISION = 4\\n    LEARNING_RATE = 0.5\\n    MAX_ITER = 1000\\n\\n    def preprocess(features):\\n        \\\"\\\"\\\"\\n        Function to preprocess input variables:\\n            1. Adding dummy feature zero.\\n            2. Feature scaling.\\n        \\\"\\\"\\\"\\n        rows, cols = get_shape(features)\\n\\n        if not cols:\\n            # Reshape NumPy array to vector.\\n            text(\\\"Reshaping NumPy array, univeriate feature, to vector.\\\")\\n            features = features.reshape((rows, 1))\\n\\n        # Dummy feature x0 for y-intercept or theta-zero.\\n        X_0 = np.ones((rows, 1), features.dtype)\\n\\n        # Horizontally append X0 to Features.\\n        return np.hstack((X_0, features))\\n\\n    # Preprocessing feature.\\n    X = preprocess(X)\\n\\n    m, n = get_shape(X)\\n    # m: Total number for records or data-points\\n    # n: Total number for input-variables or features.\\n\\n    \\\"\\\"\\\"\\n    Initialize empty model parameters if not present.\\n    \\\"\\\"\\\"\\n    if len(theta) == 0:\\n        theta = np.zeros(n)\\n\\n    title(\\\"Linear Regression\\\")\\n\\n    text(\\\"Model Attributes:\\\")\\n    text(\\\"\\\\tX shape:\\\", get_shape(X))\\n    text(\\\"\\\\tY shape:\\\", get_shape(Y))\\n    text(\\\"\\\\t\\u03b8 shape:\\\", get_shape(theta))\\n\\n    def fit(alpha=LEARNING_RATE, max_iter=MAX_ITER, precision=PRECISION):\\n        \\\"\\\"\\\"\\n        Train model using Linear Regression.\\n        \\\"\\\"\\\"\\n\\n        def h(X):\\n            \\\"\\\"\\\"\\n            Function to compute hypothesis using matrix multiplication technique.\\n            This hypothesis is a Linear Regression model.\\n            \\\"\\\"\\\"\\n            return np.matmul(theta, X.transpose())\\n\\n        def gradient_descent(alpha=LEARNING_RATE):\\n            \\\"\\\"\\\"\\n            Function to compute derivative of Squared Error cost function for\\n            Gradient Descent algorithm using matrix multiplication technique.\\n            \\\"\\\"\\\"\\n            error = h(X) - Y\\n            slope = (alpha / m) * np.matmul(X.transpose(), error)\\n\\n            # Round off and return updated Theta.\\n            return np.around(theta - slope, precision)\\n\\n        text(\\\"Model Training started.\\\")\\n\\n        for i in range(0, max_iter):\\n            nonlocal theta\\n            theta = gradient_descent(alpha)\\n\\n        text(\\\"Model Training complete!\\\")\\n\\n        def predict(features, precision=PRECISION):\\n            \\\"\\\"\\\"\\n            Function to predict target value for the given features.\\n            \\\"\\\"\\\"\\n            # Preprocessing features before predicting target.\\n            pp_f = preprocess(np.array(features, ndmin=2))\\n\\n            # Predict and return target value.\\n            return h(pp_f).item()\\n\\n        return predict\\n\\n    return fit\";\n",
       "                var nbb_formatted_code = \"def linear_regression(X, Y, theta=[]):\\n    \\\"\\\"\\\"\\n    Closure to implement multivariate Linear Regression\\n    using Batch Gradient Descent minimization technique.\\n    \\\"\\\"\\\"\\n    PRECISION = 4\\n    LEARNING_RATE = 0.5\\n    MAX_ITER = 1000\\n\\n    def preprocess(features):\\n        \\\"\\\"\\\"\\n        Function to preprocess input variables:\\n            1. Adding dummy feature zero.\\n            2. Feature scaling.\\n        \\\"\\\"\\\"\\n        rows, cols = get_shape(features)\\n\\n        if not cols:\\n            # Reshape NumPy array to vector.\\n            text(\\\"Reshaping NumPy array, univeriate feature, to vector.\\\")\\n            features = features.reshape((rows, 1))\\n\\n        # Dummy feature x0 for y-intercept or theta-zero.\\n        X_0 = np.ones((rows, 1), features.dtype)\\n\\n        # Horizontally append X0 to Features.\\n        return np.hstack((X_0, features))\\n\\n    # Preprocessing feature.\\n    X = preprocess(X)\\n\\n    m, n = get_shape(X)\\n    # m: Total number for records or data-points\\n    # n: Total number for input-variables or features.\\n\\n    \\\"\\\"\\\"\\n    Initialize empty model parameters if not present.\\n    \\\"\\\"\\\"\\n    if len(theta) == 0:\\n        theta = np.zeros(n)\\n\\n    title(\\\"Linear Regression\\\")\\n\\n    text(\\\"Model Attributes:\\\")\\n    text(\\\"\\\\tX shape:\\\", get_shape(X))\\n    text(\\\"\\\\tY shape:\\\", get_shape(Y))\\n    text(\\\"\\\\t\\u03b8 shape:\\\", get_shape(theta))\\n\\n    def fit(alpha=LEARNING_RATE, max_iter=MAX_ITER, precision=PRECISION):\\n        \\\"\\\"\\\"\\n        Train model using Linear Regression.\\n        \\\"\\\"\\\"\\n\\n        def h(X):\\n            \\\"\\\"\\\"\\n            Function to compute hypothesis using matrix multiplication technique.\\n            This hypothesis is a Linear Regression model.\\n            \\\"\\\"\\\"\\n            return np.matmul(theta, X.transpose())\\n\\n        def gradient_descent(alpha=LEARNING_RATE):\\n            \\\"\\\"\\\"\\n            Function to compute derivative of Squared Error cost function for\\n            Gradient Descent algorithm using matrix multiplication technique.\\n            \\\"\\\"\\\"\\n            error = h(X) - Y\\n            slope = (alpha / m) * np.matmul(X.transpose(), error)\\n\\n            # Round off and return updated Theta.\\n            return np.around(theta - slope, precision)\\n\\n        text(\\\"Model Training started.\\\")\\n\\n        for i in range(0, max_iter):\\n            nonlocal theta\\n            theta = gradient_descent(alpha)\\n\\n        text(\\\"Model Training complete!\\\")\\n\\n        def predict(features, precision=PRECISION):\\n            \\\"\\\"\\\"\\n            Function to predict target value for the given features.\\n            \\\"\\\"\\\"\\n            # Preprocessing features before predicting target.\\n            pp_f = preprocess(np.array(features, ndmin=2))\\n\\n            # Predict and return target value.\\n            return h(pp_f).item()\\n\\n        return predict\\n\\n    return fit\";\n",
       "                var nbb_cells = Jupyter.notebook.get_cells();\n",
       "                for (var i = 0; i < nbb_cells.length; ++i) {\n",
       "                    if (nbb_cells[i].input_prompt_number == nbb_cell_id) {\n",
       "                        if (nbb_cells[i].get_text() == nbb_unformatted_code) {\n",
       "                             nbb_cells[i].set_text(nbb_formatted_code);\n",
       "                        }\n",
       "                        break;\n",
       "                    }\n",
       "                }\n",
       "            }, 500);\n",
       "            "
      ],
      "text/plain": [
       "<IPython.core.display.Javascript object>"
      ]
     },
     "metadata": {},
     "output_type": "display_data"
    }
   ],
   "source": [
    "def linear_regression(X, Y, theta=[]):\n",
    "    \"\"\"\n",
    "    Closure to implement multivariate Linear Regression\n",
    "    using Batch Gradient Descent minimization technique.\n",
    "    \"\"\"\n",
    "    PRECISION = 4\n",
    "    LEARNING_RATE = 0.5\n",
    "    MAX_ITER = 1000\n",
    "\n",
    "    def preprocess(features):\n",
    "        \"\"\"\n",
    "        Function to preprocess input variables:\n",
    "            1. Adding dummy feature zero.\n",
    "            2. Feature scaling.\n",
    "        \"\"\"\n",
    "        rows, cols = get_shape(features)\n",
    "\n",
    "        if not cols:\n",
    "            # Reshape NumPy array to vector.\n",
    "            text(\"Reshaping NumPy array, univeriate feature, to vector.\")\n",
    "            features = features.reshape((rows, 1))\n",
    "\n",
    "        # Dummy feature x0 for y-intercept or theta-zero.\n",
    "        X_0 = np.ones((rows, 1), features.dtype)\n",
    "\n",
    "        # Horizontally append X0 to Features.\n",
    "        return np.hstack((X_0, features))\n",
    "\n",
    "    # Preprocessing feature.\n",
    "    X = preprocess(X)\n",
    "\n",
    "    m, n = get_shape(X)\n",
    "    # m: Total number for records or data-points\n",
    "    # n: Total number for input-variables or features.\n",
    "\n",
    "    \"\"\"\n",
    "    Initialize empty model parameters if not present.\n",
    "    \"\"\"\n",
    "    if len(theta) == 0:\n",
    "        theta = np.zeros(n)\n",
    "\n",
    "    title(\"Linear Regression\")\n",
    "\n",
    "    text(\"Model Attributes:\")\n",
    "    text(\"\\tX shape:\", get_shape(X))\n",
    "    text(\"\\tY shape:\", get_shape(Y))\n",
    "    text(\"\\tθ shape:\", get_shape(theta))\n",
    "\n",
    "    def fit(alpha=LEARNING_RATE, max_iter=MAX_ITER, precision=PRECISION):\n",
    "        \"\"\"\n",
    "        Train model using Linear Regression.\n",
    "        \"\"\"\n",
    "\n",
    "        def h(X):\n",
    "            \"\"\"\n",
    "            Function to compute hypothesis using matrix multiplication technique.\n",
    "            This hypothesis is a Linear Regression model.\n",
    "            \"\"\"\n",
    "            return np.matmul(theta, X.transpose())\n",
    "\n",
    "        def gradient_descent(alpha=LEARNING_RATE):\n",
    "            \"\"\"\n",
    "            Function to compute derivative of Squared Error cost function for\n",
    "            Gradient Descent algorithm using matrix multiplication technique.\n",
    "            \"\"\"\n",
    "            error = h(X) - Y\n",
    "            slope = (alpha / m) * np.matmul(X.transpose(), error)\n",
    "\n",
    "            # Round off and return updated Theta.\n",
    "            return np.around(theta - slope, precision)\n",
    "\n",
    "        text(\"Model Training started.\")\n",
    "\n",
    "        for i in range(0, max_iter):\n",
    "            nonlocal theta\n",
    "            theta = gradient_descent(alpha)\n",
    "\n",
    "        text(\"Model Training complete!\")\n",
    "\n",
    "        def predict(features, precision=PRECISION):\n",
    "            \"\"\"\n",
    "            Function to predict target value for the given features.\n",
    "            \"\"\"\n",
    "            # Preprocessing features before predicting target.\n",
    "            pp_f = preprocess(np.array(features, ndmin=2))\n",
    "\n",
    "            # Predict and return target value.\n",
    "            return h(pp_f).item()\n",
    "\n",
    "        return predict\n",
    "\n",
    "    return fit"
   ]
  },
  {
   "cell_type": "markdown",
   "id": "7303ade7",
   "metadata": {},
   "source": [
    "#### Test"
   ]
  },
  {
   "cell_type": "code",
   "execution_count": 10,
   "id": "57f83df3",
   "metadata": {},
   "outputs": [
    {
     "name": "stdout",
     "output_type": "stream",
     "text": [
      "\n",
      "Linear Regression\n",
      "=================\n",
      "\n",
      "Model Attributes:\n",
      "\tX shape: (5, 4)\n",
      "\tY shape: (5, None)\n",
      "\tθ shape: (4, None)\n",
      "Model Training started.\n",
      "Model Training complete!\n",
      "\n",
      "Output:\n",
      "For input x = [29, 4, 101], predicted y = 301.382061\n"
     ]
    },
    {
     "data": {
      "application/javascript": [
       "\n",
       "            setTimeout(function() {\n",
       "                var nbb_cell_id = 10;\n",
       "                var nbb_unformatted_code = \"ENABLE_LOG = True\\n\\nX = np.array(\\n    [\\n        [20, 2, 100],\\n        [26, 1, 103],\\n        [25, 0, 109],\\n        [24, 5, 102],\\n        [29, 4, 100],\\n    ]\\n)\\nY = np.array([300, 301, 302, 303, 304])\\n\\n# Initialize\\nfit = linear_regression(X, Y)\\n\\n# Fit Linear Regression model.\\npredict = fit(alpha=0.00007, precision=6)\\n\\nx = [29, 4, 101]\\ny = predict(x)\\n\\nprint(\\\"\\\\nOutput:\\\")\\nprint(f\\\"For input x = {x}, predicted y = {y}\\\")\";\n",
       "                var nbb_formatted_code = \"ENABLE_LOG = True\\n\\nX = np.array(\\n    [\\n        [20, 2, 100],\\n        [26, 1, 103],\\n        [25, 0, 109],\\n        [24, 5, 102],\\n        [29, 4, 100],\\n    ]\\n)\\nY = np.array([300, 301, 302, 303, 304])\\n\\n# Initialize\\nfit = linear_regression(X, Y)\\n\\n# Fit Linear Regression model.\\npredict = fit(alpha=0.00007, precision=6)\\n\\nx = [29, 4, 101]\\ny = predict(x)\\n\\nprint(\\\"\\\\nOutput:\\\")\\nprint(f\\\"For input x = {x}, predicted y = {y}\\\")\";\n",
       "                var nbb_cells = Jupyter.notebook.get_cells();\n",
       "                for (var i = 0; i < nbb_cells.length; ++i) {\n",
       "                    if (nbb_cells[i].input_prompt_number == nbb_cell_id) {\n",
       "                        if (nbb_cells[i].get_text() == nbb_unformatted_code) {\n",
       "                             nbb_cells[i].set_text(nbb_formatted_code);\n",
       "                        }\n",
       "                        break;\n",
       "                    }\n",
       "                }\n",
       "            }, 500);\n",
       "            "
      ],
      "text/plain": [
       "<IPython.core.display.Javascript object>"
      ]
     },
     "metadata": {},
     "output_type": "display_data"
    }
   ],
   "source": [
    "ENABLE_LOG = True\n",
    "\n",
    "X = np.array(\n",
    "    [\n",
    "        [20, 2, 100],\n",
    "        [26, 1, 103],\n",
    "        [25, 0, 109],\n",
    "        [24, 5, 102],\n",
    "        [29, 4, 100],\n",
    "    ]\n",
    ")\n",
    "Y = np.array([300, 301, 302, 303, 304])\n",
    "\n",
    "# Initialize\n",
    "fit = linear_regression(X, Y)\n",
    "\n",
    "# Fit Linear Regression model.\n",
    "predict = fit(alpha=0.00007, precision=6)\n",
    "\n",
    "x = [29, 4, 101]\n",
    "y = predict(x)\n",
    "\n",
    "print(\"\\nOutput:\")\n",
    "print(f\"For input x = {x}, predicted y = {y}\")"
   ]
  },
  {
   "cell_type": "markdown",
   "id": "6dacaf84",
   "metadata": {},
   "source": [
    "# [5] Appendix\n",
    "\n",
    "Cost Function using **traditional looping technique**."
   ]
  },
  {
   "cell_type": "code",
   "execution_count": 11,
   "id": "16d9c2f8",
   "metadata": {},
   "outputs": [
    {
     "data": {
      "application/javascript": [
       "\n",
       "            setTimeout(function() {\n",
       "                var nbb_cell_id = 11;\n",
       "                var nbb_unformatted_code = \"def gradient_descent_2(X, Y, theta, alpha=0.5):\\n    \\\"\\\"\\\"\\n    Function to compute derivative of Squared Error cost function for Gradient Descent algorithm.\\n    Using traditional looping technique.\\n    \\\"\\\"\\\"\\n    m, n = get_shape(X)\\n    # m: Total number for records or data-points\\n    # n: Total number for input-variables or features.\\n\\n    if not n:\\n        # Reshape NumPy array to vector.\\n        text(\\\"Reshaping NumPy array, univeriate feature X, to vector.\\\")\\n        X = X.reshape((m, 1))\\n\\n    # Dummy feature x0 for y-intercept or theta-zero.\\n    X_0 = np.ones((m, 1), X.dtype)\\n    # Horizontally append X0 to Features.\\n    X = np.hstack((X_0, X))\\n\\n    text(\\\"X shape:\\\", get_shape(X))\\n    text(\\\"Y shape:\\\", get_shape(Y))\\n    text(\\\"\\u03b8 shape:\\\", get_shape(theta))\\n\\n    def h(x):\\n        # Calculate hypothesis:\\n        # h = t0*x0 + t1*x1 + t2*x2 + ... + tn*xn\\n        hypothesis = 0\\n        for idx, xi in enumerate(x):\\n            hypothesis += theta[idx] * xi\\n\\n        return hypothesis\\n\\n    new_theta = np.array([])\\n    for idx, t in enumerate(theta):\\n        sigma = 0\\n        for i, data_point in enumerate(X):\\n            # Calculate squared error:\\n            # (h(X0) - y0) + (h(X1) - y1) + ... + (h(Xm) - ym)\\n            error = h(data_point) - Y[i]\\n            sigma += data_point[idx] * error\\n\\n        slope = (alpha / m) * sigma\\n        new_theta = np.append(new_theta, round(t - slope, 4))\\n\\n    # Return updated Theta.\\n    return new_theta\";\n",
       "                var nbb_formatted_code = \"def gradient_descent_2(X, Y, theta, alpha=0.5):\\n    \\\"\\\"\\\"\\n    Function to compute derivative of Squared Error cost function for Gradient Descent algorithm.\\n    Using traditional looping technique.\\n    \\\"\\\"\\\"\\n    m, n = get_shape(X)\\n    # m: Total number for records or data-points\\n    # n: Total number for input-variables or features.\\n\\n    if not n:\\n        # Reshape NumPy array to vector.\\n        text(\\\"Reshaping NumPy array, univeriate feature X, to vector.\\\")\\n        X = X.reshape((m, 1))\\n\\n    # Dummy feature x0 for y-intercept or theta-zero.\\n    X_0 = np.ones((m, 1), X.dtype)\\n    # Horizontally append X0 to Features.\\n    X = np.hstack((X_0, X))\\n\\n    text(\\\"X shape:\\\", get_shape(X))\\n    text(\\\"Y shape:\\\", get_shape(Y))\\n    text(\\\"\\u03b8 shape:\\\", get_shape(theta))\\n\\n    def h(x):\\n        # Calculate hypothesis:\\n        # h = t0*x0 + t1*x1 + t2*x2 + ... + tn*xn\\n        hypothesis = 0\\n        for idx, xi in enumerate(x):\\n            hypothesis += theta[idx] * xi\\n\\n        return hypothesis\\n\\n    new_theta = np.array([])\\n    for idx, t in enumerate(theta):\\n        sigma = 0\\n        for i, data_point in enumerate(X):\\n            # Calculate squared error:\\n            # (h(X0) - y0) + (h(X1) - y1) + ... + (h(Xm) - ym)\\n            error = h(data_point) - Y[i]\\n            sigma += data_point[idx] * error\\n\\n        slope = (alpha / m) * sigma\\n        new_theta = np.append(new_theta, round(t - slope, 4))\\n\\n    # Return updated Theta.\\n    return new_theta\";\n",
       "                var nbb_cells = Jupyter.notebook.get_cells();\n",
       "                for (var i = 0; i < nbb_cells.length; ++i) {\n",
       "                    if (nbb_cells[i].input_prompt_number == nbb_cell_id) {\n",
       "                        if (nbb_cells[i].get_text() == nbb_unformatted_code) {\n",
       "                             nbb_cells[i].set_text(nbb_formatted_code);\n",
       "                        }\n",
       "                        break;\n",
       "                    }\n",
       "                }\n",
       "            }, 500);\n",
       "            "
      ],
      "text/plain": [
       "<IPython.core.display.Javascript object>"
      ]
     },
     "metadata": {},
     "output_type": "display_data"
    }
   ],
   "source": [
    "def gradient_descent_2(X, Y, theta, alpha=0.5):\n",
    "    \"\"\"\n",
    "    Function to compute derivative of Squared Error cost function for Gradient Descent algorithm.\n",
    "    Using traditional looping technique.\n",
    "    \"\"\"\n",
    "    m, n = get_shape(X)\n",
    "    # m: Total number for records or data-points\n",
    "    # n: Total number for input-variables or features.\n",
    "\n",
    "    if not n:\n",
    "        # Reshape NumPy array to vector.\n",
    "        text(\"Reshaping NumPy array, univeriate feature X, to vector.\")\n",
    "        X = X.reshape((m, 1))\n",
    "\n",
    "    # Dummy feature x0 for y-intercept or theta-zero.\n",
    "    X_0 = np.ones((m, 1), X.dtype)\n",
    "    # Horizontally append X0 to Features.\n",
    "    X = np.hstack((X_0, X))\n",
    "\n",
    "    text(\"X shape:\", get_shape(X))\n",
    "    text(\"Y shape:\", get_shape(Y))\n",
    "    text(\"θ shape:\", get_shape(theta))\n",
    "\n",
    "    def h(x):\n",
    "        # Calculate hypothesis:\n",
    "        # h = t0*x0 + t1*x1 + t2*x2 + ... + tn*xn\n",
    "        hypothesis = 0\n",
    "        for idx, xi in enumerate(x):\n",
    "            hypothesis += theta[idx] * xi\n",
    "\n",
    "        return hypothesis\n",
    "\n",
    "    new_theta = np.array([])\n",
    "    for idx, t in enumerate(theta):\n",
    "        sigma = 0\n",
    "        for i, data_point in enumerate(X):\n",
    "            # Calculate squared error:\n",
    "            # (h(X0) - y0) + (h(X1) - y1) + ... + (h(Xm) - ym)\n",
    "            error = h(data_point) - Y[i]\n",
    "            sigma += data_point[idx] * error\n",
    "\n",
    "        slope = (alpha / m) * sigma\n",
    "        new_theta = np.append(new_theta, round(t - slope, 4))\n",
    "\n",
    "    # Return updated Theta.\n",
    "    return new_theta"
   ]
  },
  {
   "cell_type": "markdown",
   "id": "959f80c9",
   "metadata": {},
   "source": [
    "#### Test 1: Univariate Dataset\n",
    "\n",
    "Expected updated theta values:\n",
    "```\n",
    "[114.393, 9852.442]\n",
    "```\n",
    "> Note: Check `alpha` (learning rate) if the output is different."
   ]
  },
  {
   "cell_type": "code",
   "execution_count": 12,
   "id": "d8ee4435",
   "metadata": {},
   "outputs": [
    {
     "name": "stdout",
     "output_type": "stream",
     "text": [
      "Reshaping NumPy array, univeriate feature X, to vector.\n",
      "X shape: (500, 2)\n",
      "Y shape: (500, None)\n",
      "θ shape: (2, None)\n",
      "Updated theta: [114.393, 9852.442]\n"
     ]
    },
    {
     "data": {
      "application/javascript": [
       "\n",
       "            setTimeout(function() {\n",
       "                var nbb_cell_id = 12;\n",
       "                var nbb_unformatted_code = \"X = uv_df[\\\"X\\\"].values\\nY = uv_df[\\\"Y\\\"].values\\ntheta = np.array([60, 0])\\n\\nut = gradient_descent_2(X, Y, theta)\\nprint(\\\"Updated theta:\\\", ut.tolist())\";\n",
       "                var nbb_formatted_code = \"X = uv_df[\\\"X\\\"].values\\nY = uv_df[\\\"Y\\\"].values\\ntheta = np.array([60, 0])\\n\\nut = gradient_descent_2(X, Y, theta)\\nprint(\\\"Updated theta:\\\", ut.tolist())\";\n",
       "                var nbb_cells = Jupyter.notebook.get_cells();\n",
       "                for (var i = 0; i < nbb_cells.length; ++i) {\n",
       "                    if (nbb_cells[i].input_prompt_number == nbb_cell_id) {\n",
       "                        if (nbb_cells[i].get_text() == nbb_unformatted_code) {\n",
       "                             nbb_cells[i].set_text(nbb_formatted_code);\n",
       "                        }\n",
       "                        break;\n",
       "                    }\n",
       "                }\n",
       "            }, 500);\n",
       "            "
      ],
      "text/plain": [
       "<IPython.core.display.Javascript object>"
      ]
     },
     "metadata": {},
     "output_type": "display_data"
    }
   ],
   "source": [
    "X = uv_df[\"X\"].values\n",
    "Y = uv_df[\"Y\"].values\n",
    "theta = np.array([60, 0])\n",
    "\n",
    "ut = gradient_descent_2(X, Y, theta)\n",
    "print(\"Updated theta:\", ut.tolist())"
   ]
  },
  {
   "cell_type": "markdown",
   "id": "9ec6711c",
   "metadata": {},
   "source": [
    "#### Test 2: Multivariate Dataset\n",
    "\n",
    "Expected updated theta values:\n",
    "```\n",
    "[8.8, 173.6,  21.4, 686.2]\n",
    "```"
   ]
  },
  {
   "cell_type": "code",
   "execution_count": 13,
   "id": "364f1ef2",
   "metadata": {},
   "outputs": [
    {
     "name": "stdout",
     "output_type": "stream",
     "text": [
      "X shape: (5, 4)\n",
      "Y shape: (5, None)\n",
      "θ shape: (4, None)\n",
      "Updated theta: [5.4, 86.3, 12.7, 344.6]\n"
     ]
    },
    {
     "data": {
      "application/javascript": [
       "\n",
       "            setTimeout(function() {\n",
       "                var nbb_cell_id = 13;\n",
       "                var nbb_unformatted_code = \"X = np.array(\\n    [\\n        [20, 2, 100],\\n        [26, 1, 103],\\n        [25, 0, 109],\\n        [24, 5, 102],\\n        [29, 4, 100],\\n    ]\\n)\\nY = np.array([300, 301, 302, 303, 304])\\ntheta = np.array([2, -1, 4, 3])  # Theta\\n\\nut = gradient_descent_2(X, Y, theta)\\nprint(\\\"Updated theta:\\\", ut.tolist())\";\n",
       "                var nbb_formatted_code = \"X = np.array(\\n    [\\n        [20, 2, 100],\\n        [26, 1, 103],\\n        [25, 0, 109],\\n        [24, 5, 102],\\n        [29, 4, 100],\\n    ]\\n)\\nY = np.array([300, 301, 302, 303, 304])\\ntheta = np.array([2, -1, 4, 3])  # Theta\\n\\nut = gradient_descent_2(X, Y, theta)\\nprint(\\\"Updated theta:\\\", ut.tolist())\";\n",
       "                var nbb_cells = Jupyter.notebook.get_cells();\n",
       "                for (var i = 0; i < nbb_cells.length; ++i) {\n",
       "                    if (nbb_cells[i].input_prompt_number == nbb_cell_id) {\n",
       "                        if (nbb_cells[i].get_text() == nbb_unformatted_code) {\n",
       "                             nbb_cells[i].set_text(nbb_formatted_code);\n",
       "                        }\n",
       "                        break;\n",
       "                    }\n",
       "                }\n",
       "            }, 500);\n",
       "            "
      ],
      "text/plain": [
       "<IPython.core.display.Javascript object>"
      ]
     },
     "metadata": {},
     "output_type": "display_data"
    }
   ],
   "source": [
    "X = np.array(\n",
    "    [\n",
    "        [20, 2, 100],\n",
    "        [26, 1, 103],\n",
    "        [25, 0, 109],\n",
    "        [24, 5, 102],\n",
    "        [29, 4, 100],\n",
    "    ]\n",
    ")\n",
    "Y = np.array([300, 301, 302, 303, 304])\n",
    "theta = np.array([2, -1, 4, 3])  # Theta\n",
    "\n",
    "ut = gradient_descent_2(X, Y, theta)\n",
    "print(\"Updated theta:\", ut.tolist())"
   ]
  }
 ],
 "metadata": {
  "kernelspec": {
   "display_name": "Python 3 (ipykernel)",
   "language": "python",
   "name": "python3"
  },
  "language_info": {
   "codemirror_mode": {
    "name": "ipython",
    "version": 3
   },
   "file_extension": ".py",
   "mimetype": "text/x-python",
   "name": "python",
   "nbconvert_exporter": "python",
   "pygments_lexer": "ipython3",
   "version": "3.9.12"
  }
 },
 "nbformat": 4,
 "nbformat_minor": 5
}
