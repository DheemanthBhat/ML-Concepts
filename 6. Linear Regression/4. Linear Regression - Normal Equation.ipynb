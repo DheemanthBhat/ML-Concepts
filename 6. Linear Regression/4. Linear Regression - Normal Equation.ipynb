{
 "cells": [
  {
   "cell_type": "code",
   "execution_count": 1,
   "id": "8431b58d",
   "metadata": {},
   "outputs": [
    {
     "data": {
      "application/javascript": [
       "\n",
       "            setTimeout(function() {\n",
       "                var nbb_cell_id = 1;\n",
       "                var nbb_unformatted_code = \"# Enable code formatting using external plugin: nb_black.\\n%reload_ext nb_black\";\n",
       "                var nbb_formatted_code = \"# Enable code formatting using external plugin: nb_black.\\n%reload_ext nb_black\";\n",
       "                var nbb_cells = Jupyter.notebook.get_cells();\n",
       "                for (var i = 0; i < nbb_cells.length; ++i) {\n",
       "                    if (nbb_cells[i].input_prompt_number == nbb_cell_id) {\n",
       "                        if (nbb_cells[i].get_text() == nbb_unformatted_code) {\n",
       "                             nbb_cells[i].set_text(nbb_formatted_code);\n",
       "                        }\n",
       "                        break;\n",
       "                    }\n",
       "                }\n",
       "            }, 500);\n",
       "            "
      ],
      "text/plain": [
       "<IPython.core.display.Javascript object>"
      ]
     },
     "metadata": {},
     "output_type": "display_data"
    }
   ],
   "source": [
    "# Enable code formatting using external plugin: nb_black.\n",
    "%reload_ext nb_black"
   ]
  },
  {
   "cell_type": "markdown",
   "id": "f18d260f",
   "metadata": {},
   "source": [
    "# Linear Regression: Normal Equation\n",
    "\n",
    "Ref: [Machine Learning Stanford University][1] (old version) by [Dr. Andrew Ng][2].\n",
    "\n",
    "## Index\n",
    "\n",
    "1. [Setup](#[1]-Setup)\n",
    "2. [Data Analysis](#[2]-Data-Analysis)\n",
    "3. [Implement Linear Regression](#[3]-Implement-Linear-Regression)\n",
    "4. [Training Model](#[4]-Training-Model)\n",
    "5. [Testing Model](#[5]-Testing-Model)\n",
    "\n",
    "### Objective\n",
    "\n",
    "Implement multivariate **Linear Regression** using _Normal Equation_ technique.\n",
    "\n",
    "[1]: https://www.coursera.org/learn/machine-learning\n",
    "[2]: https://www.andrewng.org/"
   ]
  },
  {
   "cell_type": "markdown",
   "id": "324b5c82",
   "metadata": {},
   "source": [
    "<a id=\"[1]-Setup\"></a>\n",
    "# [1] Setup\n",
    "\n",
    "### Import and configure required libraries"
   ]
  },
  {
   "cell_type": "code",
   "execution_count": 2,
   "id": "4a61a27d",
   "metadata": {},
   "outputs": [
    {
     "name": "stdout",
     "output_type": "stream",
     "text": [
      "NumPy version: 1.21.5\n",
      "Pandas version: 1.4.2\n",
      "Matplotlib version: 3.5.1\n",
      "Seaborn version: 0.11.2\n",
      "PrettyTable version: 3.3.0\n"
     ]
    },
    {
     "data": {
      "application/javascript": [
       "\n",
       "            setTimeout(function() {\n",
       "                var nbb_cell_id = 2;\n",
       "                var nbb_unformatted_code = \"# Data manipulation libraries\\nimport numpy as np\\nimport pandas as pd\\n\\n# Data visualization libraries\\nimport matplotlib\\nimport matplotlib.pyplot as plt\\nimport seaborn as sns\\nimport prettytable\\nfrom prettytable import PrettyTable\\n\\n\\n# Library versions used in below EDA.\\nprint(\\\"NumPy version:\\\", np.__version__)\\nprint(\\\"Pandas version:\\\", pd.__version__)\\nprint(\\\"Matplotlib version:\\\", matplotlib.__version__)\\nprint(\\\"Seaborn version:\\\", sns.__version__)\\nprint(\\\"PrettyTable version:\\\", prettytable.__version__)\\n\\n# Configure NumPy.\\n# Set `Line width` to Maximum 130 characters in the output, post which it will continue in next line.\\nnp.set_printoptions(linewidth=130)\\n\\n# Configure Pandas.\\n# Set display width to maximum 130 characters in the output, post which it will continue in next line.\\npd.options.display.width = 130\\n\\n# Configure Seaborn.\\nsns.set_style(\\\"whitegrid\\\")  # Set white background with grid.\\nsns.set_palette(\\\"deep\\\")  # Set color palette.\\nsns.set_context(\\\"paper\\\", font_scale=1.5)  # Set font to scale 1.5 more than normal.\";\n",
       "                var nbb_formatted_code = \"# Data manipulation libraries\\nimport numpy as np\\nimport pandas as pd\\n\\n# Data visualization libraries\\nimport matplotlib\\nimport matplotlib.pyplot as plt\\nimport seaborn as sns\\nimport prettytable\\nfrom prettytable import PrettyTable\\n\\n\\n# Library versions used in below EDA.\\nprint(\\\"NumPy version:\\\", np.__version__)\\nprint(\\\"Pandas version:\\\", pd.__version__)\\nprint(\\\"Matplotlib version:\\\", matplotlib.__version__)\\nprint(\\\"Seaborn version:\\\", sns.__version__)\\nprint(\\\"PrettyTable version:\\\", prettytable.__version__)\\n\\n# Configure NumPy.\\n# Set `Line width` to Maximum 130 characters in the output, post which it will continue in next line.\\nnp.set_printoptions(linewidth=130)\\n\\n# Configure Pandas.\\n# Set display width to maximum 130 characters in the output, post which it will continue in next line.\\npd.options.display.width = 130\\n\\n# Configure Seaborn.\\nsns.set_style(\\\"whitegrid\\\")  # Set white background with grid.\\nsns.set_palette(\\\"deep\\\")  # Set color palette.\\nsns.set_context(\\\"paper\\\", font_scale=1.5)  # Set font to scale 1.5 more than normal.\";\n",
       "                var nbb_cells = Jupyter.notebook.get_cells();\n",
       "                for (var i = 0; i < nbb_cells.length; ++i) {\n",
       "                    if (nbb_cells[i].input_prompt_number == nbb_cell_id) {\n",
       "                        if (nbb_cells[i].get_text() == nbb_unformatted_code) {\n",
       "                             nbb_cells[i].set_text(nbb_formatted_code);\n",
       "                        }\n",
       "                        break;\n",
       "                    }\n",
       "                }\n",
       "            }, 500);\n",
       "            "
      ],
      "text/plain": [
       "<IPython.core.display.Javascript object>"
      ]
     },
     "metadata": {},
     "output_type": "display_data"
    }
   ],
   "source": [
    "# Data manipulation libraries\n",
    "import numpy as np\n",
    "import pandas as pd\n",
    "\n",
    "# Data visualization libraries\n",
    "import matplotlib\n",
    "import matplotlib.pyplot as plt\n",
    "import seaborn as sns\n",
    "import prettytable\n",
    "from prettytable import PrettyTable\n",
    "\n",
    "\n",
    "# Library versions used in below EDA.\n",
    "print(\"NumPy version:\", np.__version__)\n",
    "print(\"Pandas version:\", pd.__version__)\n",
    "print(\"Matplotlib version:\", matplotlib.__version__)\n",
    "print(\"Seaborn version:\", sns.__version__)\n",
    "print(\"PrettyTable version:\", prettytable.__version__)\n",
    "\n",
    "# Configure NumPy.\n",
    "# Set `Line width` to Maximum 130 characters in the output, post which it will continue in next line.\n",
    "np.set_printoptions(linewidth=130)\n",
    "\n",
    "# Configure Pandas.\n",
    "# Set display width to maximum 130 characters in the output, post which it will continue in next line.\n",
    "pd.options.display.width = 130\n",
    "\n",
    "# Configure Seaborn.\n",
    "sns.set_style(\"whitegrid\")  # Set white background with grid.\n",
    "sns.set_palette(\"deep\")  # Set color palette.\n",
    "sns.set_context(\"paper\", font_scale=1.5)  # Set font to scale 1.5 more than normal."
   ]
  },
  {
   "cell_type": "markdown",
   "id": "4ac2be27",
   "metadata": {},
   "source": [
    "#### Common functions"
   ]
  },
  {
   "cell_type": "code",
   "execution_count": 3,
   "id": "c1d86954",
   "metadata": {},
   "outputs": [
    {
     "data": {
      "application/javascript": [
       "\n",
       "            setTimeout(function() {\n",
       "                var nbb_cell_id = 3;\n",
       "                var nbb_unformatted_code = \"def get_shape(np_array):\\n    if not isinstance(np_array, np.ndarray):\\n        raise ValueError(f\\\"Received {type(np_array)} instead of numpy array.\\\")\\n\\n    if np_array.size == 0:\\n        raise ValueError(\\\"Received empty numpy array.\\\")\\n\\n    shape = list(np_array.shape)\\n    return (shape.pop(), None) if len(shape) == 1 else (shape[0], shape[1])\\n\\n\\nENABLE_LOG = False\\n\\n\\ndef text(*args):\\n    \\\"\\\"\\\"\\n    Function to print() input string when logging is enabled.\\n    \\\"\\\"\\\"\\n    if ENABLE_LOG is True:\\n        print(*args)\\n\\n\\ndef title(title_str, padding=[1, 1], line_style=\\\"=\\\"):\\n    \\\"\\\"\\\"\\n    Function to print() input string with some styles, when logging is enabled.\\n    \\\"\\\"\\\"\\n    if ENABLE_LOG is True:\\n        pad_top, pad_bot = padding\\n        pt = \\\"\\\\n\\\" * pad_top\\n        pb = \\\"\\\\n\\\" * pad_bot\\n        print(pt + title_str + \\\"\\\\n\\\" + line_style * len(title_str) + pb)\";\n",
       "                var nbb_formatted_code = \"def get_shape(np_array):\\n    if not isinstance(np_array, np.ndarray):\\n        raise ValueError(f\\\"Received {type(np_array)} instead of numpy array.\\\")\\n\\n    if np_array.size == 0:\\n        raise ValueError(\\\"Received empty numpy array.\\\")\\n\\n    shape = list(np_array.shape)\\n    return (shape.pop(), None) if len(shape) == 1 else (shape[0], shape[1])\\n\\n\\nENABLE_LOG = False\\n\\n\\ndef text(*args):\\n    \\\"\\\"\\\"\\n    Function to print() input string when logging is enabled.\\n    \\\"\\\"\\\"\\n    if ENABLE_LOG is True:\\n        print(*args)\\n\\n\\ndef title(title_str, padding=[1, 1], line_style=\\\"=\\\"):\\n    \\\"\\\"\\\"\\n    Function to print() input string with some styles, when logging is enabled.\\n    \\\"\\\"\\\"\\n    if ENABLE_LOG is True:\\n        pad_top, pad_bot = padding\\n        pt = \\\"\\\\n\\\" * pad_top\\n        pb = \\\"\\\\n\\\" * pad_bot\\n        print(pt + title_str + \\\"\\\\n\\\" + line_style * len(title_str) + pb)\";\n",
       "                var nbb_cells = Jupyter.notebook.get_cells();\n",
       "                for (var i = 0; i < nbb_cells.length; ++i) {\n",
       "                    if (nbb_cells[i].input_prompt_number == nbb_cell_id) {\n",
       "                        if (nbb_cells[i].get_text() == nbb_unformatted_code) {\n",
       "                             nbb_cells[i].set_text(nbb_formatted_code);\n",
       "                        }\n",
       "                        break;\n",
       "                    }\n",
       "                }\n",
       "            }, 500);\n",
       "            "
      ],
      "text/plain": [
       "<IPython.core.display.Javascript object>"
      ]
     },
     "metadata": {},
     "output_type": "display_data"
    }
   ],
   "source": [
    "def get_shape(np_array):\n",
    "    if not isinstance(np_array, np.ndarray):\n",
    "        raise ValueError(f\"Received {type(np_array)} instead of numpy array.\")\n",
    "\n",
    "    if np_array.size == 0:\n",
    "        raise ValueError(\"Received empty numpy array.\")\n",
    "\n",
    "    shape = list(np_array.shape)\n",
    "    return (shape.pop(), None) if len(shape) == 1 else (shape[0], shape[1])\n",
    "\n",
    "\n",
    "ENABLE_LOG = False\n",
    "\n",
    "\n",
    "def text(*args):\n",
    "    \"\"\"\n",
    "    Function to print() input string when logging is enabled.\n",
    "    \"\"\"\n",
    "    if ENABLE_LOG is True:\n",
    "        print(*args)\n",
    "\n",
    "\n",
    "def title(title_str, padding=[1, 1], line_style=\"=\"):\n",
    "    \"\"\"\n",
    "    Function to print() input string with some styles, when logging is enabled.\n",
    "    \"\"\"\n",
    "    if ENABLE_LOG is True:\n",
    "        pad_top, pad_bot = padding\n",
    "        pt = \"\\n\" * pad_top\n",
    "        pb = \"\\n\" * pad_bot\n",
    "        print(pt + title_str + \"\\n\" + line_style * len(title_str) + pb)"
   ]
  },
  {
   "cell_type": "markdown",
   "id": "0d552942",
   "metadata": {},
   "source": [
    "#### Load data-points from the `.csv` file"
   ]
  },
  {
   "cell_type": "code",
   "execution_count": 4,
   "id": "cfcf6d9c",
   "metadata": {},
   "outputs": [
    {
     "data": {
      "text/html": [
       "<div>\n",
       "<style scoped>\n",
       "    .dataframe tbody tr th:only-of-type {\n",
       "        vertical-align: middle;\n",
       "    }\n",
       "\n",
       "    .dataframe tbody tr th {\n",
       "        vertical-align: top;\n",
       "    }\n",
       "\n",
       "    .dataframe thead th {\n",
       "        text-align: right;\n",
       "    }\n",
       "</style>\n",
       "<table border=\"1\" class=\"dataframe\">\n",
       "  <thead>\n",
       "    <tr style=\"text-align: right;\">\n",
       "      <th></th>\n",
       "      <th>X</th>\n",
       "      <th>Y</th>\n",
       "    </tr>\n",
       "  </thead>\n",
       "  <tbody>\n",
       "    <tr>\n",
       "      <th>0</th>\n",
       "      <td>171</td>\n",
       "      <td>183</td>\n",
       "    </tr>\n",
       "    <tr>\n",
       "      <th>1</th>\n",
       "      <td>15</td>\n",
       "      <td>84</td>\n",
       "    </tr>\n",
       "    <tr>\n",
       "      <th>2</th>\n",
       "      <td>9</td>\n",
       "      <td>85</td>\n",
       "    </tr>\n",
       "    <tr>\n",
       "      <th>3</th>\n",
       "      <td>219</td>\n",
       "      <td>228</td>\n",
       "    </tr>\n",
       "    <tr>\n",
       "      <th>4</th>\n",
       "      <td>154</td>\n",
       "      <td>199</td>\n",
       "    </tr>\n",
       "  </tbody>\n",
       "</table>\n",
       "</div>"
      ],
      "text/plain": [
       "     X    Y\n",
       "0  171  183\n",
       "1   15   84\n",
       "2    9   85\n",
       "3  219  228\n",
       "4  154  199"
      ]
     },
     "execution_count": 4,
     "metadata": {},
     "output_type": "execute_result"
    },
    {
     "data": {
      "application/javascript": [
       "\n",
       "            setTimeout(function() {\n",
       "                var nbb_cell_id = 4;\n",
       "                var nbb_unformatted_code = \"uv_df = pd.read_csv(\\\"./univariate_data_points.csv\\\")\\nuv_df.head()\";\n",
       "                var nbb_formatted_code = \"uv_df = pd.read_csv(\\\"./univariate_data_points.csv\\\")\\nuv_df.head()\";\n",
       "                var nbb_cells = Jupyter.notebook.get_cells();\n",
       "                for (var i = 0; i < nbb_cells.length; ++i) {\n",
       "                    if (nbb_cells[i].input_prompt_number == nbb_cell_id) {\n",
       "                        if (nbb_cells[i].get_text() == nbb_unformatted_code) {\n",
       "                             nbb_cells[i].set_text(nbb_formatted_code);\n",
       "                        }\n",
       "                        break;\n",
       "                    }\n",
       "                }\n",
       "            }, 500);\n",
       "            "
      ],
      "text/plain": [
       "<IPython.core.display.Javascript object>"
      ]
     },
     "metadata": {},
     "output_type": "display_data"
    }
   ],
   "source": [
    "uv_df = pd.read_csv(\"./univariate_data_points.csv\")\n",
    "uv_df.head()"
   ]
  },
  {
   "cell_type": "markdown",
   "id": "bcfc207d",
   "metadata": {},
   "source": [
    "<a id=\"[2]-Data-Analysis\"></a>\n",
    "# [2] Data Analysis"
   ]
  },
  {
   "cell_type": "code",
   "execution_count": 5,
   "id": "43b52e9d",
   "metadata": {},
   "outputs": [
    {
     "name": "stdout",
     "output_type": "stream",
     "text": [
      "Rows: 500\n",
      "Columns: 2\n"
     ]
    },
    {
     "data": {
      "application/javascript": [
       "\n",
       "            setTimeout(function() {\n",
       "                var nbb_cell_id = 5;\n",
       "                var nbb_unformatted_code = \"rows, cols = uv_df.shape\\n\\nprint(\\\"Rows:\\\", rows)\\nprint(\\\"Columns:\\\", cols)\";\n",
       "                var nbb_formatted_code = \"rows, cols = uv_df.shape\\n\\nprint(\\\"Rows:\\\", rows)\\nprint(\\\"Columns:\\\", cols)\";\n",
       "                var nbb_cells = Jupyter.notebook.get_cells();\n",
       "                for (var i = 0; i < nbb_cells.length; ++i) {\n",
       "                    if (nbb_cells[i].input_prompt_number == nbb_cell_id) {\n",
       "                        if (nbb_cells[i].get_text() == nbb_unformatted_code) {\n",
       "                             nbb_cells[i].set_text(nbb_formatted_code);\n",
       "                        }\n",
       "                        break;\n",
       "                    }\n",
       "                }\n",
       "            }, 500);\n",
       "            "
      ],
      "text/plain": [
       "<IPython.core.display.Javascript object>"
      ]
     },
     "metadata": {},
     "output_type": "display_data"
    }
   ],
   "source": [
    "rows, cols = uv_df.shape\n",
    "\n",
    "print(\"Rows:\", rows)\n",
    "print(\"Columns:\", cols)"
   ]
  },
  {
   "cell_type": "code",
   "execution_count": 6,
   "id": "86d6a1e9",
   "metadata": {},
   "outputs": [
    {
     "name": "stdout",
     "output_type": "stream",
     "text": [
      "<class 'pandas.core.frame.DataFrame'>\n",
      "RangeIndex: 500 entries, 0 to 499\n",
      "Data columns (total 2 columns):\n",
      " #   Column  Non-Null Count  Dtype\n",
      "---  ------  --------------  -----\n",
      " 0   X       500 non-null    int64\n",
      " 1   Y       500 non-null    int64\n",
      "dtypes: int64(2)\n",
      "memory usage: 7.9 KB\n"
     ]
    },
    {
     "data": {
      "application/javascript": [
       "\n",
       "            setTimeout(function() {\n",
       "                var nbb_cell_id = 6;\n",
       "                var nbb_unformatted_code = \"uv_df.info()\";\n",
       "                var nbb_formatted_code = \"uv_df.info()\";\n",
       "                var nbb_cells = Jupyter.notebook.get_cells();\n",
       "                for (var i = 0; i < nbb_cells.length; ++i) {\n",
       "                    if (nbb_cells[i].input_prompt_number == nbb_cell_id) {\n",
       "                        if (nbb_cells[i].get_text() == nbb_unformatted_code) {\n",
       "                             nbb_cells[i].set_text(nbb_formatted_code);\n",
       "                        }\n",
       "                        break;\n",
       "                    }\n",
       "                }\n",
       "            }, 500);\n",
       "            "
      ],
      "text/plain": [
       "<IPython.core.display.Javascript object>"
      ]
     },
     "metadata": {},
     "output_type": "display_data"
    }
   ],
   "source": [
    "uv_df.info()"
   ]
  },
  {
   "cell_type": "code",
   "execution_count": 7,
   "id": "250662a5",
   "metadata": {},
   "outputs": [
    {
     "data": {
      "text/plain": [
       "X    298\n",
       "Y    272\n",
       "dtype: int64"
      ]
     },
     "execution_count": 7,
     "metadata": {},
     "output_type": "execute_result"
    },
    {
     "data": {
      "application/javascript": [
       "\n",
       "            setTimeout(function() {\n",
       "                var nbb_cell_id = 7;\n",
       "                var nbb_unformatted_code = \"uv_df.apply(max)\";\n",
       "                var nbb_formatted_code = \"uv_df.apply(max)\";\n",
       "                var nbb_cells = Jupyter.notebook.get_cells();\n",
       "                for (var i = 0; i < nbb_cells.length; ++i) {\n",
       "                    if (nbb_cells[i].input_prompt_number == nbb_cell_id) {\n",
       "                        if (nbb_cells[i].get_text() == nbb_unformatted_code) {\n",
       "                             nbb_cells[i].set_text(nbb_formatted_code);\n",
       "                        }\n",
       "                        break;\n",
       "                    }\n",
       "                }\n",
       "            }, 500);\n",
       "            "
      ],
      "text/plain": [
       "<IPython.core.display.Javascript object>"
      ]
     },
     "metadata": {},
     "output_type": "display_data"
    }
   ],
   "source": [
    "uv_df.apply(max)"
   ]
  },
  {
   "cell_type": "markdown",
   "id": "1eeb248d",
   "metadata": {},
   "source": [
    "#### Plot attributes"
   ]
  },
  {
   "cell_type": "code",
   "execution_count": 8,
   "id": "6279b160",
   "metadata": {},
   "outputs": [
    {
     "data": {
      "image/png": "[encoded data removed]",
      "text/plain": [
       "<Figure size 432x360 with 1 Axes>"
      ]
     },
     "metadata": {},
     "output_type": "display_data"
    },
    {
     "data": {
      "application/javascript": [
       "\n",
       "            setTimeout(function() {\n",
       "                var nbb_cell_id = 8;\n",
       "                var nbb_unformatted_code = \"plt.figure(figsize=(6, 5))\\n\\nsns.scatterplot(data=uv_df, x=\\\"X\\\", y=\\\"Y\\\")\\nplt.title(\\\"Univariate data-points\\\")\\nplt.xticks(ticks=range(0, 350, 50))\\nplt.yticks(ticks=range(0, 350, 50))\\n\\nplt.show()\";\n",
       "                var nbb_formatted_code = \"plt.figure(figsize=(6, 5))\\n\\nsns.scatterplot(data=uv_df, x=\\\"X\\\", y=\\\"Y\\\")\\nplt.title(\\\"Univariate data-points\\\")\\nplt.xticks(ticks=range(0, 350, 50))\\nplt.yticks(ticks=range(0, 350, 50))\\n\\nplt.show()\";\n",
       "                var nbb_cells = Jupyter.notebook.get_cells();\n",
       "                for (var i = 0; i < nbb_cells.length; ++i) {\n",
       "                    if (nbb_cells[i].input_prompt_number == nbb_cell_id) {\n",
       "                        if (nbb_cells[i].get_text() == nbb_unformatted_code) {\n",
       "                             nbb_cells[i].set_text(nbb_formatted_code);\n",
       "                        }\n",
       "                        break;\n",
       "                    }\n",
       "                }\n",
       "            }, 500);\n",
       "            "
      ],
      "text/plain": [
       "<IPython.core.display.Javascript object>"
      ]
     },
     "metadata": {},
     "output_type": "display_data"
    }
   ],
   "source": [
    "plt.figure(figsize=(6, 5))\n",
    "\n",
    "sns.scatterplot(data=uv_df, x=\"X\", y=\"Y\")\n",
    "plt.title(\"Univariate data-points\")\n",
    "plt.xticks(ticks=range(0, 350, 50))\n",
    "plt.yticks(ticks=range(0, 350, 50))\n",
    "\n",
    "plt.show()"
   ]
  },
  {
   "cell_type": "markdown",
   "id": "3478fbaf",
   "metadata": {},
   "source": [
    "<a id=\"[3]-Implement-Linear-Regression\"></a>\n",
    "# [3] Implement Linear Regression\n",
    "\n",
    "Implement Linear Regression with below features:\n",
    "\n",
    "1. Normal Equation technique.\n",
    "2. Regularization.\n",
    "\n",
    "#### Conventions\n",
    "\n",
    "1. $m :=$ Total number of training data-points.\n",
    "2. $X :=$ Input variables / Features\n",
    "3. $y :=$ Output variable / Target\n",
    "4. $(x^{(i)}, y^{(i)}) :=$ $i^{th}$ training data-point.\n",
    "5. $n :=$ Total number of features in the dataset.\n",
    "\n",
    "### Hypothesis $h_\\theta(x)$\n",
    "\n",
    "$$\n",
    "\\large\n",
    "h_\\theta(x) = \\theta^{T} \\cdot x \\\\[5mm]\n",
    "\\text {Where $\\vec{x}$ is a vector of length n}\n",
    "$$\n",
    "\n",
    "$$\n",
    "\\large\n",
    "h_\\theta(x) = \\theta^{T} \\cdot X^{T} \\\\[5mm]\n",
    "\\text {Where $X$ is a $m \\times n$ matrix}\n",
    "$$\n",
    "\n",
    "### Model parameters\n",
    "\n",
    "$$\n",
    "\\large\n",
    "\\theta = \\theta_0, \\theta_1, \\theta_2, \\dots, \\theta_n\n",
    "$$\n",
    "\n",
    "### Cost Function $J(\\theta)$\n",
    "\n",
    "$$\n",
    "\\large\n",
    "J(\\theta) = \\frac{1}{2m} \\sum_{i = 1}^{m} \\bigl(h_{\\theta}(x^{(i)}) - y^{(i)}\\bigr)^{2}\n",
    "$$\n",
    "\n",
    "### Cost Function $J(\\theta)$ with Regularization\n",
    "\n",
    "$$\n",
    "\\large\n",
    "J(\\theta)=\\frac{1}{2m}\\biggl[\\sum_{i = 1}^{m}\\bigl(h_{\\theta}(x^{(i)})-y^{(i)}\\bigr)^{2}+\\lambda\\sum_{j=1}^{n}\\theta_j^{2}\\biggr] \\\\[10mm]\n",
    "\\text {Where $\\lambda$ is the Regularization parameter}\n",
    "$$\n",
    "\n",
    "### Normal Equation\n",
    "\n",
    "$$\n",
    "\\large\n",
    "\\theta = (X^{T}X)^{-1}(X^{T}y)\n",
    "$$\n",
    "\n",
    "### Normal Equation with Regularization\n",
    "\n",
    "$$\n",
    "\\large\n",
    "\\theta = (X^{T}X+\\lambda\\cdot{L})^{-1}(X^{T}y) \\\\[5mm]\n",
    "\\text {Where $\\lambda$ is an identity matrix of size $(n + 1)$ with first element set to zero}\n",
    "$$"
   ]
  },
  {
   "cell_type": "markdown",
   "id": "1c030ae8",
   "metadata": {},
   "source": [
    "#### Linear Regression"
   ]
  },
  {
   "cell_type": "code",
   "execution_count": 9,
   "id": "2b2409bf",
   "metadata": {},
   "outputs": [
    {
     "data": {
      "application/javascript": [
       "\n",
       "            setTimeout(function() {\n",
       "                var nbb_cell_id = 9;\n",
       "                var nbb_unformatted_code = \"from numpy.linalg import pinv\\n\\n\\ndef linear_regression(X, Y, theta=None, scaling=True):\\n    \\\"\\\"\\\"\\n    Function to implement multivariate Linear Regression\\n    using Normal Equation technique (analytical approach).\\n    \\\"\\\"\\\"\\n    LAMDA = 1  # misspelt to avoid Python keyword `lambda`.\\n    PRECISION = 6\\n\\n    def preprocess(features):\\n        \\\"\\\"\\\"\\n        Closure to preprocess input variables:\\n            1. Reshape univariate dataset if necessary.\\n            2. Adding dummy feature theta-zero.\\n        \\\"\\\"\\\"\\n        rows, cols = get_shape(features)\\n\\n        if not cols:\\n            # Reshape NumPy array to vector.\\n            text(\\\"Reshaping NumPy array, univariate feature, to vector.\\\")\\n            features = features.reshape((rows, 1))\\n\\n        # Add dummy feature X0 for y-intercept into features\\n        X_0 = np.ones((rows, 1), features.dtype)\\n        return np.hstack((X_0, features))  # Concatenate horizontally.\\n\\n    # Preprocessing features.\\n    X = preprocess(X)\\n\\n    # Get final shape after preprocessing.\\n    m, n = get_shape(X)\\n    # m: Total number for records or data-points\\n    # n: Total number for input-variables or features.\\n\\n    # Initialize empty model parameters if not present.\\n    if not theta:\\n        theta = np.zeros(n)\\n\\n    def fit(lamda=LAMDA, precision=PRECISION):\\n        \\\"\\\"\\\"\\n        Fit model parameters(\\u03b8) to the dataset i.e., train model using Linear Regression.\\n        \\\"\\\"\\\"\\n        nonlocal theta\\n\\n        L = np.identity(n)\\n        L[0, 0] = 0  # Add lambda 0 for dummy feature X0.\\n\\n        title(\\\"Linear Regression\\\")\\n        text(\\\"Model Attributes:\\\")\\n        text(\\\"\\\\tX shape:\\\", get_shape(X))\\n        text(\\\"\\\\tY shape:\\\", get_shape(Y))\\n        text(\\\"\\\\t\\u03b8 shape:\\\", get_shape(theta))\\n\\n        # Function to compute hypothesis using matrix multiplication technique.\\n        # This hypothesis is a Linear Regression model.\\n        h = lambda X: np.matmul(theta, X.transpose())\\n\\n        def normal_equation():\\n            \\\"\\\"\\\"\\n            Closure to minimize Squared Error cost function using Normal Equation.\\n            \\\"\\\"\\\"\\n            X_T = X.transpose()\\n\\n            \\\"\\\"\\\"\\n            From NumPy use `pinv()` (pseudo-inverse) instead of \\n            `inv()` (inverse) to handel non-invertible matrices.\\n            \\\"\\\"\\\"\\n            lhs = pinv(np.matmul(X_T, X) + (lamda * L))\\n            rhs = np.matmul(X_T, Y)\\n\\n            # Round off and return updated Theta.\\n            return np.around(np.matmul(lhs, rhs), precision)\\n\\n        text(\\\"\\\\nModel training started.\\\")\\n        theta = normal_equation()\\n        text(\\\"Model parameters:\\\", theta.tolist())\\n        text(\\\"Model training complete!\\\\n\\\")\\n\\n        def predict(features, precision=PRECISION):\\n            \\\"\\\"\\\"\\n            Closure to predict target value for the given features.\\n            \\\"\\\"\\\"\\n            # Preprocessing features before predicting target.\\n            pp_f = preprocess(np.array(features, ndmin=2))\\n\\n            # Predict and return target value.\\n            y = round(h(pp_f).item(), precision)\\n            return (y, theta.tolist())\\n\\n        return predict\\n\\n    return fit\";\n",
       "                var nbb_formatted_code = \"from numpy.linalg import pinv\\n\\n\\ndef linear_regression(X, Y, theta=None, scaling=True):\\n    \\\"\\\"\\\"\\n    Function to implement multivariate Linear Regression\\n    using Normal Equation technique (analytical approach).\\n    \\\"\\\"\\\"\\n    LAMDA = 1  # misspelt to avoid Python keyword `lambda`.\\n    PRECISION = 6\\n\\n    def preprocess(features):\\n        \\\"\\\"\\\"\\n        Closure to preprocess input variables:\\n            1. Reshape univariate dataset if necessary.\\n            2. Adding dummy feature theta-zero.\\n        \\\"\\\"\\\"\\n        rows, cols = get_shape(features)\\n\\n        if not cols:\\n            # Reshape NumPy array to vector.\\n            text(\\\"Reshaping NumPy array, univariate feature, to vector.\\\")\\n            features = features.reshape((rows, 1))\\n\\n        # Add dummy feature X0 for y-intercept into features\\n        X_0 = np.ones((rows, 1), features.dtype)\\n        return np.hstack((X_0, features))  # Concatenate horizontally.\\n\\n    # Preprocessing features.\\n    X = preprocess(X)\\n\\n    # Get final shape after preprocessing.\\n    m, n = get_shape(X)\\n    # m: Total number for records or data-points\\n    # n: Total number for input-variables or features.\\n\\n    # Initialize empty model parameters if not present.\\n    if not theta:\\n        theta = np.zeros(n)\\n\\n    def fit(lamda=LAMDA, precision=PRECISION):\\n        \\\"\\\"\\\"\\n        Fit model parameters(\\u03b8) to the dataset i.e., train model using Linear Regression.\\n        \\\"\\\"\\\"\\n        nonlocal theta\\n\\n        L = np.identity(n)\\n        L[0, 0] = 0  # Add lambda 0 for dummy feature X0.\\n\\n        title(\\\"Linear Regression\\\")\\n        text(\\\"Model Attributes:\\\")\\n        text(\\\"\\\\tX shape:\\\", get_shape(X))\\n        text(\\\"\\\\tY shape:\\\", get_shape(Y))\\n        text(\\\"\\\\t\\u03b8 shape:\\\", get_shape(theta))\\n\\n        # Function to compute hypothesis using matrix multiplication technique.\\n        # This hypothesis is a Linear Regression model.\\n        h = lambda X: np.matmul(theta, X.transpose())\\n\\n        def normal_equation():\\n            \\\"\\\"\\\"\\n            Closure to minimize Squared Error cost function using Normal Equation.\\n            \\\"\\\"\\\"\\n            X_T = X.transpose()\\n\\n            \\\"\\\"\\\"\\n            From NumPy use `pinv()` (pseudo-inverse) instead of \\n            `inv()` (inverse) to handel non-invertible matrices.\\n            \\\"\\\"\\\"\\n            lhs = pinv(np.matmul(X_T, X) + (lamda * L))\\n            rhs = np.matmul(X_T, Y)\\n\\n            # Round off and return updated Theta.\\n            return np.around(np.matmul(lhs, rhs), precision)\\n\\n        text(\\\"\\\\nModel training started.\\\")\\n        theta = normal_equation()\\n        text(\\\"Model parameters:\\\", theta.tolist())\\n        text(\\\"Model training complete!\\\\n\\\")\\n\\n        def predict(features, precision=PRECISION):\\n            \\\"\\\"\\\"\\n            Closure to predict target value for the given features.\\n            \\\"\\\"\\\"\\n            # Preprocessing features before predicting target.\\n            pp_f = preprocess(np.array(features, ndmin=2))\\n\\n            # Predict and return target value.\\n            y = round(h(pp_f).item(), precision)\\n            return (y, theta.tolist())\\n\\n        return predict\\n\\n    return fit\";\n",
       "                var nbb_cells = Jupyter.notebook.get_cells();\n",
       "                for (var i = 0; i < nbb_cells.length; ++i) {\n",
       "                    if (nbb_cells[i].input_prompt_number == nbb_cell_id) {\n",
       "                        if (nbb_cells[i].get_text() == nbb_unformatted_code) {\n",
       "                             nbb_cells[i].set_text(nbb_formatted_code);\n",
       "                        }\n",
       "                        break;\n",
       "                    }\n",
       "                }\n",
       "            }, 500);\n",
       "            "
      ],
      "text/plain": [
       "<IPython.core.display.Javascript object>"
      ]
     },
     "metadata": {},
     "output_type": "display_data"
    }
   ],
   "source": [
    "from numpy.linalg import pinv\n",
    "\n",
    "\n",
    "def linear_regression(X, Y, theta=None, scaling=True):\n",
    "    \"\"\"\n",
    "    Function to implement multivariate Linear Regression\n",
    "    using Normal Equation technique (analytical approach).\n",
    "    \"\"\"\n",
    "    LAMDA = 1  # misspelt to avoid Python keyword `lambda`.\n",
    "    PRECISION = 6\n",
    "\n",
    "    def preprocess(features):\n",
    "        \"\"\"\n",
    "        Closure to preprocess input variables:\n",
    "            1. Reshape univariate dataset if necessary.\n",
    "            2. Adding dummy feature theta-zero.\n",
    "        \"\"\"\n",
    "        rows, cols = get_shape(features)\n",
    "\n",
    "        if not cols:\n",
    "            # Reshape NumPy array to vector.\n",
    "            text(\"Reshaping NumPy array, univariate feature, to vector.\")\n",
    "            features = features.reshape((rows, 1))\n",
    "\n",
    "        # Add dummy feature X0 for y-intercept into features\n",
    "        X_0 = np.ones((rows, 1), features.dtype)\n",
    "        return np.hstack((X_0, features))  # Concatenate horizontally.\n",
    "\n",
    "    # Preprocessing features.\n",
    "    X = preprocess(X)\n",
    "\n",
    "    # Get final shape after preprocessing.\n",
    "    m, n = get_shape(X)\n",
    "    # m: Total number for records or data-points\n",
    "    # n: Total number for input-variables or features.\n",
    "\n",
    "    # Initialize empty model parameters if not present.\n",
    "    if not theta:\n",
    "        theta = np.zeros(n)\n",
    "\n",
    "    def fit(lamda=LAMDA, precision=PRECISION):\n",
    "        \"\"\"\n",
    "        Fit model parameters(θ) to the dataset i.e., train model using Linear Regression.\n",
    "        \"\"\"\n",
    "        nonlocal theta\n",
    "\n",
    "        L = np.identity(n)\n",
    "        L[0, 0] = 0  # Add lambda 0 for dummy feature X0.\n",
    "\n",
    "        title(\"Linear Regression\")\n",
    "        text(\"Model Attributes:\")\n",
    "        text(\"\\tX shape:\", get_shape(X))\n",
    "        text(\"\\tY shape:\", get_shape(Y))\n",
    "        text(\"\\tθ shape:\", get_shape(theta))\n",
    "\n",
    "        # Function to compute hypothesis using matrix multiplication technique.\n",
    "        # This hypothesis is a Linear Regression model.\n",
    "        h = lambda X: np.matmul(theta, X.transpose())\n",
    "\n",
    "        def normal_equation():\n",
    "            \"\"\"\n",
    "            Closure to minimize Squared Error cost function using Normal Equation.\n",
    "            \"\"\"\n",
    "            X_T = X.transpose()\n",
    "\n",
    "            \"\"\"\n",
    "            From NumPy use `pinv()` (pseudo-inverse) instead of \n",
    "            `inv()` (inverse) to handel non-invertible matrices.\n",
    "            \"\"\"\n",
    "            lhs = pinv(np.matmul(X_T, X) + (lamda * L))\n",
    "            rhs = np.matmul(X_T, Y)\n",
    "\n",
    "            # Round off and return updated Theta.\n",
    "            return np.around(np.matmul(lhs, rhs), precision)\n",
    "\n",
    "        text(\"\\nModel training started.\")\n",
    "        theta = normal_equation()\n",
    "        text(\"Model parameters:\", theta.tolist())\n",
    "        text(\"Model training complete!\\n\")\n",
    "\n",
    "        def predict(features, precision=PRECISION):\n",
    "            \"\"\"\n",
    "            Closure to predict target value for the given features.\n",
    "            \"\"\"\n",
    "            # Preprocessing features before predicting target.\n",
    "            pp_f = preprocess(np.array(features, ndmin=2))\n",
    "\n",
    "            # Predict and return target value.\n",
    "            y = round(h(pp_f).item(), precision)\n",
    "            return (y, theta.tolist())\n",
    "\n",
    "        return predict\n",
    "\n",
    "    return fit"
   ]
  },
  {
   "cell_type": "markdown",
   "id": "4f89a02f",
   "metadata": {},
   "source": [
    "> Note: In the above code $\\lambda$ is declared as `lamda` purposefully, to avoid Python keyword `lambda`."
   ]
  },
  {
   "cell_type": "markdown",
   "id": "9caf6ec0",
   "metadata": {},
   "source": [
    "<a id=\"[4]-Training-Model\"></a>\n",
    "# [4] Training Model\n",
    "\n",
    "#### Initialize Regressor"
   ]
  },
  {
   "cell_type": "code",
   "execution_count": 10,
   "id": "6fabe32d",
   "metadata": {},
   "outputs": [
    {
     "name": "stdout",
     "output_type": "stream",
     "text": [
      "Reshaping NumPy array, univariate feature, to vector.\n"
     ]
    },
    {
     "data": {
      "application/javascript": [
       "\n",
       "            setTimeout(function() {\n",
       "                var nbb_cell_id = 10;\n",
       "                var nbb_unformatted_code = \"ENABLE_LOG = True\\n\\nX = uv_df[\\\"X\\\"].values\\nY = uv_df[\\\"Y\\\"].values\\n\\nfit = linear_regression(X, Y)\";\n",
       "                var nbb_formatted_code = \"ENABLE_LOG = True\\n\\nX = uv_df[\\\"X\\\"].values\\nY = uv_df[\\\"Y\\\"].values\\n\\nfit = linear_regression(X, Y)\";\n",
       "                var nbb_cells = Jupyter.notebook.get_cells();\n",
       "                for (var i = 0; i < nbb_cells.length; ++i) {\n",
       "                    if (nbb_cells[i].input_prompt_number == nbb_cell_id) {\n",
       "                        if (nbb_cells[i].get_text() == nbb_unformatted_code) {\n",
       "                             nbb_cells[i].set_text(nbb_formatted_code);\n",
       "                        }\n",
       "                        break;\n",
       "                    }\n",
       "                }\n",
       "            }, 500);\n",
       "            "
      ],
      "text/plain": [
       "<IPython.core.display.Javascript object>"
      ]
     },
     "metadata": {},
     "output_type": "display_data"
    }
   ],
   "source": [
    "ENABLE_LOG = True\n",
    "\n",
    "X = uv_df[\"X\"].values\n",
    "Y = uv_df[\"Y\"].values\n",
    "\n",
    "fit = linear_regression(X, Y)"
   ]
  },
  {
   "cell_type": "markdown",
   "id": "32fea6c5",
   "metadata": {},
   "source": [
    "Train model using training dataset.\n",
    "\n",
    "> Note: Set `ENABLE_LOG` to `False` to train model silently (without logs)"
   ]
  },
  {
   "cell_type": "code",
   "execution_count": 11,
   "id": "6637aa93",
   "metadata": {
    "scrolled": false
   },
   "outputs": [
    {
     "name": "stdout",
     "output_type": "stream",
     "text": [
      "\n",
      "Linear Regression\n",
      "=================\n",
      "\n",
      "Model Attributes:\n",
      "\tX shape: (500, 2)\n",
      "\tY shape: (500, None)\n",
      "\tθ shape: (2, None)\n",
      "\n",
      "Model training started.\n",
      "Model parameters: [70.125861, 0.673227]\n",
      "Model training complete!\n",
      "\n"
     ]
    },
    {
     "data": {
      "application/javascript": [
       "\n",
       "            setTimeout(function() {\n",
       "                var nbb_cell_id = 11;\n",
       "                var nbb_unformatted_code = \"# Fit Linear Regression model.\\npredict = fit()\";\n",
       "                var nbb_formatted_code = \"# Fit Linear Regression model.\\npredict = fit()\";\n",
       "                var nbb_cells = Jupyter.notebook.get_cells();\n",
       "                for (var i = 0; i < nbb_cells.length; ++i) {\n",
       "                    if (nbb_cells[i].input_prompt_number == nbb_cell_id) {\n",
       "                        if (nbb_cells[i].get_text() == nbb_unformatted_code) {\n",
       "                             nbb_cells[i].set_text(nbb_formatted_code);\n",
       "                        }\n",
       "                        break;\n",
       "                    }\n",
       "                }\n",
       "            }, 500);\n",
       "            "
      ],
      "text/plain": [
       "<IPython.core.display.Javascript object>"
      ]
     },
     "metadata": {},
     "output_type": "display_data"
    }
   ],
   "source": [
    "# Fit Linear Regression model.\n",
    "predict = fit()"
   ]
  },
  {
   "cell_type": "markdown",
   "id": "73df560c",
   "metadata": {},
   "source": [
    "<a id=\"[5]-Testing-Model\"></a>\n",
    "# [5] Testing Model\n",
    "\n",
    "#### Test 1: Univariate dataset"
   ]
  },
  {
   "cell_type": "code",
   "execution_count": 12,
   "id": "28d02646",
   "metadata": {},
   "outputs": [
    {
     "name": "stdout",
     "output_type": "stream",
     "text": [
      "Output:\n",
      "Input features: [200]\n",
      "Predicted target: 204.771\n",
      "Model parameters fit to the dataset: [70.125861, 0.673227]\n"
     ]
    },
    {
     "data": {
      "application/javascript": [
       "\n",
       "            setTimeout(function() {\n",
       "                var nbb_cell_id = 12;\n",
       "                var nbb_unformatted_code = \"x = [200]\\ny, model_prms = predict(x, precision=3)\\n\\nprint(\\\"Output:\\\")\\nprint(\\\"Input features:\\\", x),\\nprint(\\\"Predicted target:\\\", y)\\nprint(\\\"Model parameters fit to the dataset:\\\", model_prms)\";\n",
       "                var nbb_formatted_code = \"x = [200]\\ny, model_prms = predict(x, precision=3)\\n\\nprint(\\\"Output:\\\")\\nprint(\\\"Input features:\\\", x),\\nprint(\\\"Predicted target:\\\", y)\\nprint(\\\"Model parameters fit to the dataset:\\\", model_prms)\";\n",
       "                var nbb_cells = Jupyter.notebook.get_cells();\n",
       "                for (var i = 0; i < nbb_cells.length; ++i) {\n",
       "                    if (nbb_cells[i].input_prompt_number == nbb_cell_id) {\n",
       "                        if (nbb_cells[i].get_text() == nbb_unformatted_code) {\n",
       "                             nbb_cells[i].set_text(nbb_formatted_code);\n",
       "                        }\n",
       "                        break;\n",
       "                    }\n",
       "                }\n",
       "            }, 500);\n",
       "            "
      ],
      "text/plain": [
       "<IPython.core.display.Javascript object>"
      ]
     },
     "metadata": {},
     "output_type": "display_data"
    }
   ],
   "source": [
    "x = [200]\n",
    "y, model_prms = predict(x, precision=3)\n",
    "\n",
    "print(\"Output:\")\n",
    "print(\"Input features:\", x),\n",
    "print(\"Predicted target:\", y)\n",
    "print(\"Model parameters fit to the dataset:\", model_prms)"
   ]
  },
  {
   "cell_type": "markdown",
   "id": "f88f990f",
   "metadata": {},
   "source": [
    "#### Plot Model"
   ]
  },
  {
   "cell_type": "code",
   "execution_count": 13,
   "id": "3d17f602",
   "metadata": {},
   "outputs": [
    {
     "data": {
      "image/png": "[encoded data removed]",
      "text/plain": [
       "<Figure size 432x360 with 1 Axes>"
      ]
     },
     "metadata": {},
     "output_type": "display_data"
    },
    {
     "data": {
      "application/javascript": [
       "\n",
       "            setTimeout(function() {\n",
       "                var nbb_cell_id = 13;\n",
       "                var nbb_unformatted_code = \"plt.figure(figsize=(6, 5))\\n\\nt0, t1 = model_prms\\n\\nx = range(0, 300)\\ny = [t0 + t1 * i for i in x]\\n\\n# Model\\nsns.lineplot(x=x, y=y, color=\\\"red\\\")\\n\\n# Data points\\nsns.scatterplot(data=uv_df, x=\\\"X\\\", y=\\\"Y\\\")\\nplt.title(\\\"Linear Regression Model\\\")\\nplt.xticks(ticks=range(0, 350, 50))\\nplt.yticks(ticks=range(0, 350, 50))\\n\\nplt.show()\";\n",
       "                var nbb_formatted_code = \"plt.figure(figsize=(6, 5))\\n\\nt0, t1 = model_prms\\n\\nx = range(0, 300)\\ny = [t0 + t1 * i for i in x]\\n\\n# Model\\nsns.lineplot(x=x, y=y, color=\\\"red\\\")\\n\\n# Data points\\nsns.scatterplot(data=uv_df, x=\\\"X\\\", y=\\\"Y\\\")\\nplt.title(\\\"Linear Regression Model\\\")\\nplt.xticks(ticks=range(0, 350, 50))\\nplt.yticks(ticks=range(0, 350, 50))\\n\\nplt.show()\";\n",
       "                var nbb_cells = Jupyter.notebook.get_cells();\n",
       "                for (var i = 0; i < nbb_cells.length; ++i) {\n",
       "                    if (nbb_cells[i].input_prompt_number == nbb_cell_id) {\n",
       "                        if (nbb_cells[i].get_text() == nbb_unformatted_code) {\n",
       "                             nbb_cells[i].set_text(nbb_formatted_code);\n",
       "                        }\n",
       "                        break;\n",
       "                    }\n",
       "                }\n",
       "            }, 500);\n",
       "            "
      ],
      "text/plain": [
       "<IPython.core.display.Javascript object>"
      ]
     },
     "metadata": {},
     "output_type": "display_data"
    }
   ],
   "source": [
    "plt.figure(figsize=(6, 5))\n",
    "\n",
    "t0, t1 = model_prms\n",
    "\n",
    "x = range(0, 300)\n",
    "y = [t0 + t1 * i for i in x]\n",
    "\n",
    "# Model\n",
    "sns.lineplot(x=x, y=y, color=\"red\")\n",
    "\n",
    "# Data points\n",
    "sns.scatterplot(data=uv_df, x=\"X\", y=\"Y\")\n",
    "plt.title(\"Linear Regression Model\")\n",
    "plt.xticks(ticks=range(0, 350, 50))\n",
    "plt.yticks(ticks=range(0, 350, 50))\n",
    "\n",
    "plt.show()"
   ]
  },
  {
   "cell_type": "markdown",
   "id": "7303ade7",
   "metadata": {},
   "source": [
    "#### Test 2: Multivariate dataset"
   ]
  },
  {
   "cell_type": "code",
   "execution_count": 14,
   "id": "57f83df3",
   "metadata": {
    "scrolled": false
   },
   "outputs": [
    {
     "name": "stdout",
     "output_type": "stream",
     "text": [
      "\n",
      "Linear Regression\n",
      "=================\n",
      "\n",
      "Model Attributes:\n",
      "\tX shape: (5, 4)\n",
      "\tY shape: (5, None)\n",
      "\tθ shape: (4, None)\n",
      "\n",
      "Model training started.\n",
      "Model parameters: [276.046969, 0.294545, 0.558908, 0.168356]\n",
      "Model training complete!\n",
      "\n",
      "Output:\n",
      "Input features: [29, 4, 101]\n",
      "Predicted target: 303.828\n"
     ]
    },
    {
     "data": {
      "application/javascript": [
       "\n",
       "            setTimeout(function() {\n",
       "                var nbb_cell_id = 14;\n",
       "                var nbb_unformatted_code = \"ENABLE_LOG = True\\n\\nX = np.array(\\n    [\\n        [20, 2, 100],\\n        [26, 1, 103],\\n        [25, 0, 109],\\n        [24, 5, 102],\\n        [29, 4, 100],\\n    ]\\n)\\nY = np.array([300, 301, 302, 303, 304])\\n\\n# Initialize Regressor\\nfit = linear_regression(X, Y)\\n\\n# Fit Linear Regression model.\\npredict = fit()\\n\\n# Predict target.\\nx = [29, 4, 101]\\ny, _ = predict(x, precision=3)\\n\\nprint(\\\"Output:\\\")\\nprint(\\\"Input features:\\\", x),\\nprint(\\\"Predicted target:\\\", y)\";\n",
       "                var nbb_formatted_code = \"ENABLE_LOG = True\\n\\nX = np.array(\\n    [\\n        [20, 2, 100],\\n        [26, 1, 103],\\n        [25, 0, 109],\\n        [24, 5, 102],\\n        [29, 4, 100],\\n    ]\\n)\\nY = np.array([300, 301, 302, 303, 304])\\n\\n# Initialize Regressor\\nfit = linear_regression(X, Y)\\n\\n# Fit Linear Regression model.\\npredict = fit()\\n\\n# Predict target.\\nx = [29, 4, 101]\\ny, _ = predict(x, precision=3)\\n\\nprint(\\\"Output:\\\")\\nprint(\\\"Input features:\\\", x),\\nprint(\\\"Predicted target:\\\", y)\";\n",
       "                var nbb_cells = Jupyter.notebook.get_cells();\n",
       "                for (var i = 0; i < nbb_cells.length; ++i) {\n",
       "                    if (nbb_cells[i].input_prompt_number == nbb_cell_id) {\n",
       "                        if (nbb_cells[i].get_text() == nbb_unformatted_code) {\n",
       "                             nbb_cells[i].set_text(nbb_formatted_code);\n",
       "                        }\n",
       "                        break;\n",
       "                    }\n",
       "                }\n",
       "            }, 500);\n",
       "            "
      ],
      "text/plain": [
       "<IPython.core.display.Javascript object>"
      ]
     },
     "metadata": {},
     "output_type": "display_data"
    }
   ],
   "source": [
    "ENABLE_LOG = True\n",
    "\n",
    "X = np.array(\n",
    "    [\n",
    "        [20, 2, 100],\n",
    "        [26, 1, 103],\n",
    "        [25, 0, 109],\n",
    "        [24, 5, 102],\n",
    "        [29, 4, 100],\n",
    "    ]\n",
    ")\n",
    "Y = np.array([300, 301, 302, 303, 304])\n",
    "\n",
    "# Initialize Regressor\n",
    "fit = linear_regression(X, Y)\n",
    "\n",
    "# Fit Linear Regression model.\n",
    "predict = fit()\n",
    "\n",
    "# Predict target.\n",
    "x = [29, 4, 101]\n",
    "y, _ = predict(x, precision=3)\n",
    "\n",
    "print(\"Output:\")\n",
    "print(\"Input features:\", x),\n",
    "print(\"Predicted target:\", y)"
   ]
  }
 ],
 "metadata": {
  "kernelspec": {
   "display_name": "Python 3 (ipykernel)",
   "language": "python",
   "name": "python3"
  },
  "language_info": {
   "codemirror_mode": {
    "name": "ipython",
    "version": 3
   },
   "file_extension": ".py",
   "mimetype": "text/x-python",
   "name": "python",
   "nbconvert_exporter": "python",
   "pygments_lexer": "ipython3",
   "version": "3.9.12"
  }
 },
 "nbformat": 4,
 "nbformat_minor": 5
}
