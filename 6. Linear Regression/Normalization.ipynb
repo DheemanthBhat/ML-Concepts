{
 "cells": [
  {
   "cell_type": "code",
   "execution_count": 1,
   "id": "d8f24b20",
   "metadata": {},
   "outputs": [
    {
     "data": {
      "application/javascript": [
       "\n",
       "            setTimeout(function() {\n",
       "                var nbb_cell_id = 1;\n",
       "                var nbb_unformatted_code = \"# Enable code formatting using external plugin: nb_black.\\n%reload_ext nb_black\";\n",
       "                var nbb_formatted_code = \"# Enable code formatting using external plugin: nb_black.\\n%reload_ext nb_black\";\n",
       "                var nbb_cells = Jupyter.notebook.get_cells();\n",
       "                for (var i = 0; i < nbb_cells.length; ++i) {\n",
       "                    if (nbb_cells[i].input_prompt_number == nbb_cell_id) {\n",
       "                        if (nbb_cells[i].get_text() == nbb_unformatted_code) {\n",
       "                             nbb_cells[i].set_text(nbb_formatted_code);\n",
       "                        }\n",
       "                        break;\n",
       "                    }\n",
       "                }\n",
       "            }, 500);\n",
       "            "
      ],
      "text/plain": [
       "<IPython.core.display.Javascript object>"
      ]
     },
     "metadata": {},
     "output_type": "display_data"
    }
   ],
   "source": [
    "# Enable code formatting using external plugin: nb_black.\n",
    "%reload_ext nb_black"
   ]
  },
  {
   "cell_type": "code",
   "execution_count": 2,
   "id": "ac6585ac",
   "metadata": {},
   "outputs": [
    {
     "name": "stdout",
     "output_type": "stream",
     "text": [
      "NumPy version: 1.21.5\n"
     ]
    },
    {
     "data": {
      "application/javascript": [
       "\n",
       "            setTimeout(function() {\n",
       "                var nbb_cell_id = 2;\n",
       "                var nbb_unformatted_code = \"# Data manipulation libraries\\nimport numpy as np\\n\\n# Data visualization libraries\\nfrom prettytable import PrettyTable\\n\\n# Data modeling libraries\\nfrom sklearn.preprocessing import normalize, StandardScaler\\n\\n# Library versions used in below EDA.\\nprint(\\\"NumPy version:\\\", np.__version__)\\n\\n# Configure NumPy.\\n# Set `Line width` to Maximum 130 characters in the output, post which it will continue in next line.\\nnp.set_printoptions(linewidth=130)\";\n",
       "                var nbb_formatted_code = \"# Data manipulation libraries\\nimport numpy as np\\n\\n# Data visualization libraries\\nfrom prettytable import PrettyTable\\n\\n# Data modeling libraries\\nfrom sklearn.preprocessing import normalize, StandardScaler\\n\\n# Library versions used in below EDA.\\nprint(\\\"NumPy version:\\\", np.__version__)\\n\\n# Configure NumPy.\\n# Set `Line width` to Maximum 130 characters in the output, post which it will continue in next line.\\nnp.set_printoptions(linewidth=130)\";\n",
       "                var nbb_cells = Jupyter.notebook.get_cells();\n",
       "                for (var i = 0; i < nbb_cells.length; ++i) {\n",
       "                    if (nbb_cells[i].input_prompt_number == nbb_cell_id) {\n",
       "                        if (nbb_cells[i].get_text() == nbb_unformatted_code) {\n",
       "                             nbb_cells[i].set_text(nbb_formatted_code);\n",
       "                        }\n",
       "                        break;\n",
       "                    }\n",
       "                }\n",
       "            }, 500);\n",
       "            "
      ],
      "text/plain": [
       "<IPython.core.display.Javascript object>"
      ]
     },
     "metadata": {},
     "output_type": "display_data"
    }
   ],
   "source": [
    "# Data manipulation libraries\n",
    "import numpy as np\n",
    "\n",
    "# Data visualization libraries\n",
    "from prettytable import PrettyTable\n",
    "\n",
    "# Data modeling libraries\n",
    "from sklearn.preprocessing import normalize, StandardScaler\n",
    "\n",
    "# Library versions used in below EDA.\n",
    "print(\"NumPy version:\", np.__version__)\n",
    "\n",
    "# Configure NumPy.\n",
    "# Set `Line width` to Maximum 130 characters in the output, post which it will continue in next line.\n",
    "np.set_printoptions(linewidth=130)"
   ]
  },
  {
   "cell_type": "code",
   "execution_count": 3,
   "id": "92993a5e",
   "metadata": {},
   "outputs": [
    {
     "data": {
      "text/plain": [
       "array([[100,  -3,   3,   0, 100],\n",
       "       [125,   1,   3,   0,   1],\n",
       "       [150,   2,   3,   0,   0]])"
      ]
     },
     "execution_count": 3,
     "metadata": {},
     "output_type": "execute_result"
    },
    {
     "data": {
      "application/javascript": [
       "\n",
       "            setTimeout(function() {\n",
       "                var nbb_cell_id = 3;\n",
       "                var nbb_unformatted_code = \"X = np.array([[100, -3, 3, 0, 100], [125, 1, 3, 0, 1], [150, 2, 3, 0, 0]])\\nX\";\n",
       "                var nbb_formatted_code = \"X = np.array([[100, -3, 3, 0, 100], [125, 1, 3, 0, 1], [150, 2, 3, 0, 0]])\\nX\";\n",
       "                var nbb_cells = Jupyter.notebook.get_cells();\n",
       "                for (var i = 0; i < nbb_cells.length; ++i) {\n",
       "                    if (nbb_cells[i].input_prompt_number == nbb_cell_id) {\n",
       "                        if (nbb_cells[i].get_text() == nbb_unformatted_code) {\n",
       "                             nbb_cells[i].set_text(nbb_formatted_code);\n",
       "                        }\n",
       "                        break;\n",
       "                    }\n",
       "                }\n",
       "            }, 500);\n",
       "            "
      ],
      "text/plain": [
       "<IPython.core.display.Javascript object>"
      ]
     },
     "metadata": {},
     "output_type": "display_data"
    }
   ],
   "source": [
    "X = np.array([[100, -3, 3, 0, 100], [125, 1, 3, 0, 1], [150, 2, 3, 0, 0]])\n",
    "X"
   ]
  },
  {
   "cell_type": "code",
   "execution_count": 4,
   "id": "183dc2f7",
   "metadata": {},
   "outputs": [
    {
     "data": {
      "text/plain": [
       "array([125.        ,   0.        ,   3.        ,   0.        ,  33.66666667])"
      ]
     },
     "execution_count": 4,
     "metadata": {},
     "output_type": "execute_result"
    },
    {
     "data": {
      "application/javascript": [
       "\n",
       "            setTimeout(function() {\n",
       "                var nbb_cell_id = 4;\n",
       "                var nbb_unformatted_code = \"mean = X.mean(axis=0)\\nmean\";\n",
       "                var nbb_formatted_code = \"mean = X.mean(axis=0)\\nmean\";\n",
       "                var nbb_cells = Jupyter.notebook.get_cells();\n",
       "                for (var i = 0; i < nbb_cells.length; ++i) {\n",
       "                    if (nbb_cells[i].input_prompt_number == nbb_cell_id) {\n",
       "                        if (nbb_cells[i].get_text() == nbb_unformatted_code) {\n",
       "                             nbb_cells[i].set_text(nbb_formatted_code);\n",
       "                        }\n",
       "                        break;\n",
       "                    }\n",
       "                }\n",
       "            }, 500);\n",
       "            "
      ],
      "text/plain": [
       "<IPython.core.display.Javascript object>"
      ]
     },
     "metadata": {},
     "output_type": "display_data"
    }
   ],
   "source": [
    "mean = X.mean(axis=0)\n",
    "mean"
   ]
  },
  {
   "cell_type": "code",
   "execution_count": 5,
   "id": "eba5c2c1",
   "metadata": {},
   "outputs": [
    {
     "data": {
      "text/plain": [
       "array([20.41241452,  2.1602469 ,  0.        ,  0.        , 46.90652644])"
      ]
     },
     "execution_count": 5,
     "metadata": {},
     "output_type": "execute_result"
    },
    {
     "data": {
      "application/javascript": [
       "\n",
       "            setTimeout(function() {\n",
       "                var nbb_cell_id = 5;\n",
       "                var nbb_unformatted_code = \"std = X.std(axis=0)\\nstd\";\n",
       "                var nbb_formatted_code = \"std = X.std(axis=0)\\nstd\";\n",
       "                var nbb_cells = Jupyter.notebook.get_cells();\n",
       "                for (var i = 0; i < nbb_cells.length; ++i) {\n",
       "                    if (nbb_cells[i].input_prompt_number == nbb_cell_id) {\n",
       "                        if (nbb_cells[i].get_text() == nbb_unformatted_code) {\n",
       "                             nbb_cells[i].set_text(nbb_formatted_code);\n",
       "                        }\n",
       "                        break;\n",
       "                    }\n",
       "                }\n",
       "            }, 500);\n",
       "            "
      ],
      "text/plain": [
       "<IPython.core.display.Javascript object>"
      ]
     },
     "metadata": {},
     "output_type": "display_data"
    }
   ],
   "source": [
    "std = X.std(axis=0)\n",
    "std"
   ]
  },
  {
   "cell_type": "code",
   "execution_count": 6,
   "id": "2545ca6e",
   "metadata": {},
   "outputs": [
    {
     "data": {
      "text/plain": [
       "array([[-25.        ,  -3.        ,   0.        ,   0.        ,  66.33333333],\n",
       "       [  0.        ,   1.        ,   0.        ,   0.        , -32.66666667],\n",
       "       [ 25.        ,   2.        ,   0.        ,   0.        , -33.66666667]])"
      ]
     },
     "execution_count": 6,
     "metadata": {},
     "output_type": "execute_result"
    },
    {
     "data": {
      "application/javascript": [
       "\n",
       "            setTimeout(function() {\n",
       "                var nbb_cell_id = 6;\n",
       "                var nbb_unformatted_code = \"z_mean = X - mean\\nz_mean\";\n",
       "                var nbb_formatted_code = \"z_mean = X - mean\\nz_mean\";\n",
       "                var nbb_cells = Jupyter.notebook.get_cells();\n",
       "                for (var i = 0; i < nbb_cells.length; ++i) {\n",
       "                    if (nbb_cells[i].input_prompt_number == nbb_cell_id) {\n",
       "                        if (nbb_cells[i].get_text() == nbb_unformatted_code) {\n",
       "                             nbb_cells[i].set_text(nbb_formatted_code);\n",
       "                        }\n",
       "                        break;\n",
       "                    }\n",
       "                }\n",
       "            }, 500);\n",
       "            "
      ],
      "text/plain": [
       "<IPython.core.display.Javascript object>"
      ]
     },
     "metadata": {},
     "output_type": "display_data"
    }
   ],
   "source": [
    "z_mean = X - mean\n",
    "z_mean"
   ]
  },
  {
   "cell_type": "code",
   "execution_count": 7,
   "id": "7fd80066",
   "metadata": {},
   "outputs": [
    {
     "name": "stderr",
     "output_type": "stream",
     "text": [
      "C:\\Users\\dheem\\AppData\\Local\\Temp/ipykernel_12444/1116164279.py:1: RuntimeWarning: invalid value encountered in true_divide\n",
      "  z_mean / std\n"
     ]
    },
    {
     "data": {
      "text/plain": [
       "array([[-1.22474487, -1.38873015,         nan,         nan,  1.41416   ],\n",
       "       [ 0.        ,  0.46291005,         nan,         nan, -0.6964205 ],\n",
       "       [ 1.22474487,  0.9258201 ,         nan,         nan, -0.7177395 ]])"
      ]
     },
     "execution_count": 7,
     "metadata": {},
     "output_type": "execute_result"
    },
    {
     "data": {
      "application/javascript": [
       "\n",
       "            setTimeout(function() {\n",
       "                var nbb_cell_id = 7;\n",
       "                var nbb_unformatted_code = \"z_mean / std\";\n",
       "                var nbb_formatted_code = \"z_mean / std\";\n",
       "                var nbb_cells = Jupyter.notebook.get_cells();\n",
       "                for (var i = 0; i < nbb_cells.length; ++i) {\n",
       "                    if (nbb_cells[i].input_prompt_number == nbb_cell_id) {\n",
       "                        if (nbb_cells[i].get_text() == nbb_unformatted_code) {\n",
       "                             nbb_cells[i].set_text(nbb_formatted_code);\n",
       "                        }\n",
       "                        break;\n",
       "                    }\n",
       "                }\n",
       "            }, 500);\n",
       "            "
      ],
      "text/plain": [
       "<IPython.core.display.Javascript object>"
      ]
     },
     "metadata": {},
     "output_type": "display_data"
    }
   ],
   "source": [
    "z_mean / std"
   ]
  },
  {
   "cell_type": "code",
   "execution_count": 8,
   "id": "d5a1ef97",
   "metadata": {},
   "outputs": [
    {
     "data": {
      "text/plain": [
       "array([[0., 0., 0., 0., 0.],\n",
       "       [0., 0., 0., 0., 0.],\n",
       "       [0., 0., 0., 0., 0.]])"
      ]
     },
     "execution_count": 8,
     "metadata": {},
     "output_type": "execute_result"
    },
    {
     "data": {
      "application/javascript": [
       "\n",
       "            setTimeout(function() {\n",
       "                var nbb_cell_id = 8;\n",
       "                var nbb_unformatted_code = \"np.zeros_like(X, dtype=\\\"float\\\")\";\n",
       "                var nbb_formatted_code = \"np.zeros_like(X, dtype=\\\"float\\\")\";\n",
       "                var nbb_cells = Jupyter.notebook.get_cells();\n",
       "                for (var i = 0; i < nbb_cells.length; ++i) {\n",
       "                    if (nbb_cells[i].input_prompt_number == nbb_cell_id) {\n",
       "                        if (nbb_cells[i].get_text() == nbb_unformatted_code) {\n",
       "                             nbb_cells[i].set_text(nbb_formatted_code);\n",
       "                        }\n",
       "                        break;\n",
       "                    }\n",
       "                }\n",
       "            }, 500);\n",
       "            "
      ],
      "text/plain": [
       "<IPython.core.display.Javascript object>"
      ]
     },
     "metadata": {},
     "output_type": "display_data"
    }
   ],
   "source": [
    "np.zeros_like(X, dtype=\"float\")"
   ]
  },
  {
   "cell_type": "markdown",
   "id": "1058ccd2",
   "metadata": {},
   "source": [
    "### Implement Mean Normalization"
   ]
  },
  {
   "cell_type": "code",
   "execution_count": 9,
   "id": "6664b499",
   "metadata": {},
   "outputs": [
    {
     "data": {
      "application/javascript": [
       "\n",
       "            setTimeout(function() {\n",
       "                var nbb_cell_id = 9;\n",
       "                var nbb_unformatted_code = \"def feature_scaling(X):\\n    print(\\\"X:\\\")\\n    print(X)\\n    # print(\\\"Shape:\\\", X.shape)\\n\\n    mean = X.mean(axis=0)\\n    std = X.std(axis=0)\\n\\n    z_mean = X - mean\\n    n_X = np.divide(z_mean, std, out=np.zeros_like(X, dtype=\\\"float\\\"), where=std != 0)\\n    print(\\\"Normalized X:\\\")\\n    print(n_X)\";\n",
       "                var nbb_formatted_code = \"def feature_scaling(X):\\n    print(\\\"X:\\\")\\n    print(X)\\n    # print(\\\"Shape:\\\", X.shape)\\n\\n    mean = X.mean(axis=0)\\n    std = X.std(axis=0)\\n\\n    z_mean = X - mean\\n    n_X = np.divide(z_mean, std, out=np.zeros_like(X, dtype=\\\"float\\\"), where=std != 0)\\n    print(\\\"Normalized X:\\\")\\n    print(n_X)\";\n",
       "                var nbb_cells = Jupyter.notebook.get_cells();\n",
       "                for (var i = 0; i < nbb_cells.length; ++i) {\n",
       "                    if (nbb_cells[i].input_prompt_number == nbb_cell_id) {\n",
       "                        if (nbb_cells[i].get_text() == nbb_unformatted_code) {\n",
       "                             nbb_cells[i].set_text(nbb_formatted_code);\n",
       "                        }\n",
       "                        break;\n",
       "                    }\n",
       "                }\n",
       "            }, 500);\n",
       "            "
      ],
      "text/plain": [
       "<IPython.core.display.Javascript object>"
      ]
     },
     "metadata": {},
     "output_type": "display_data"
    }
   ],
   "source": [
    "def feature_scaling(X):\n",
    "    print(\"X:\")\n",
    "    print(X)\n",
    "    # print(\"Shape:\", X.shape)\n",
    "\n",
    "    mean = X.mean(axis=0)\n",
    "    std = X.std(axis=0)\n",
    "\n",
    "    z_mean = X - mean\n",
    "    n_X = np.divide(z_mean, std, out=np.zeros_like(X, dtype=\"float\"), where=std != 0)\n",
    "    print(\"Normalized X:\")\n",
    "    print(n_X)"
   ]
  },
  {
   "cell_type": "markdown",
   "id": "71bcc3d3",
   "metadata": {},
   "source": [
    "#### Testing"
   ]
  },
  {
   "cell_type": "code",
   "execution_count": 10,
   "id": "90dd7364",
   "metadata": {},
   "outputs": [
    {
     "name": "stdout",
     "output_type": "stream",
     "text": [
      "X:\n",
      "[[100   1   0  -1  56]]\n",
      "Normalized X:\n",
      "[[0. 0. 0. 0. 0.]]\n"
     ]
    },
    {
     "data": {
      "application/javascript": [
       "\n",
       "            setTimeout(function() {\n",
       "                var nbb_cell_id = 10;\n",
       "                var nbb_unformatted_code = \"feature_scaling(np.array([[100, 1, 0, -1, 56]]))\";\n",
       "                var nbb_formatted_code = \"feature_scaling(np.array([[100, 1, 0, -1, 56]]))\";\n",
       "                var nbb_cells = Jupyter.notebook.get_cells();\n",
       "                for (var i = 0; i < nbb_cells.length; ++i) {\n",
       "                    if (nbb_cells[i].input_prompt_number == nbb_cell_id) {\n",
       "                        if (nbb_cells[i].get_text() == nbb_unformatted_code) {\n",
       "                             nbb_cells[i].set_text(nbb_formatted_code);\n",
       "                        }\n",
       "                        break;\n",
       "                    }\n",
       "                }\n",
       "            }, 500);\n",
       "            "
      ],
      "text/plain": [
       "<IPython.core.display.Javascript object>"
      ]
     },
     "metadata": {},
     "output_type": "display_data"
    }
   ],
   "source": [
    "feature_scaling(np.array([[100, 1, 0, -1, 56]]))"
   ]
  },
  {
   "cell_type": "code",
   "execution_count": 11,
   "id": "ac609903",
   "metadata": {},
   "outputs": [
    {
     "name": "stdout",
     "output_type": "stream",
     "text": [
      "X:\n",
      "[[100  -3   3   0 100]\n",
      " [125   1   3   0   1]\n",
      " [150   2   3   0   0]]\n",
      "Normalized X:\n",
      "[[-1.22474487 -1.38873015  0.          0.          1.41416   ]\n",
      " [ 0.          0.46291005  0.          0.         -0.6964205 ]\n",
      " [ 1.22474487  0.9258201   0.          0.         -0.7177395 ]]\n"
     ]
    },
    {
     "data": {
      "application/javascript": [
       "\n",
       "            setTimeout(function() {\n",
       "                var nbb_cell_id = 11;\n",
       "                var nbb_unformatted_code = \"X = np.array([[100, -3, 3, 0, 100], [125, 1, 3, 0, 1], [150, 2, 3, 0, 0]])\\nfeature_scaling(X)\";\n",
       "                var nbb_formatted_code = \"X = np.array([[100, -3, 3, 0, 100], [125, 1, 3, 0, 1], [150, 2, 3, 0, 0]])\\nfeature_scaling(X)\";\n",
       "                var nbb_cells = Jupyter.notebook.get_cells();\n",
       "                for (var i = 0; i < nbb_cells.length; ++i) {\n",
       "                    if (nbb_cells[i].input_prompt_number == nbb_cell_id) {\n",
       "                        if (nbb_cells[i].get_text() == nbb_unformatted_code) {\n",
       "                             nbb_cells[i].set_text(nbb_formatted_code);\n",
       "                        }\n",
       "                        break;\n",
       "                    }\n",
       "                }\n",
       "            }, 500);\n",
       "            "
      ],
      "text/plain": [
       "<IPython.core.display.Javascript object>"
      ]
     },
     "metadata": {},
     "output_type": "display_data"
    }
   ],
   "source": [
    "X = np.array([[100, -3, 3, 0, 100], [125, 1, 3, 0, 1], [150, 2, 3, 0, 0]])\n",
    "feature_scaling(X)"
   ]
  },
  {
   "cell_type": "code",
   "execution_count": 12,
   "id": "0cc64f9d",
   "metadata": {},
   "outputs": [
    {
     "name": "stdout",
     "output_type": "stream",
     "text": [
      "X:\n",
      "[[100]\n",
      " [  1]\n",
      " [  0]\n",
      " [ -1]\n",
      " [ 56]]\n",
      "Normalized X:\n",
      "[[ 1.69160781]\n",
      " [-0.74253715]\n",
      " [-0.76712447]\n",
      " [-0.79171179]\n",
      " [ 0.6097656 ]]\n"
     ]
    },
    {
     "data": {
      "application/javascript": [
       "\n",
       "            setTimeout(function() {\n",
       "                var nbb_cell_id = 12;\n",
       "                var nbb_unformatted_code = \"feature_scaling(np.array([[100], [1], [0], [-1], [56]]))\";\n",
       "                var nbb_formatted_code = \"feature_scaling(np.array([[100], [1], [0], [-1], [56]]))\";\n",
       "                var nbb_cells = Jupyter.notebook.get_cells();\n",
       "                for (var i = 0; i < nbb_cells.length; ++i) {\n",
       "                    if (nbb_cells[i].input_prompt_number == nbb_cell_id) {\n",
       "                        if (nbb_cells[i].get_text() == nbb_unformatted_code) {\n",
       "                             nbb_cells[i].set_text(nbb_formatted_code);\n",
       "                        }\n",
       "                        break;\n",
       "                    }\n",
       "                }\n",
       "            }, 500);\n",
       "            "
      ],
      "text/plain": [
       "<IPython.core.display.Javascript object>"
      ]
     },
     "metadata": {},
     "output_type": "display_data"
    }
   ],
   "source": [
    "feature_scaling(np.array([[100], [1], [0], [-1], [56]]))"
   ]
  },
  {
   "cell_type": "markdown",
   "id": "9bb03a4e",
   "metadata": {},
   "source": [
    "### Mean Normalization using scikit-learn"
   ]
  },
  {
   "cell_type": "code",
   "execution_count": 13,
   "id": "5d8b7c87",
   "metadata": {},
   "outputs": [
    {
     "data": {
      "application/javascript": [
       "\n",
       "            setTimeout(function() {\n",
       "                var nbb_cell_id = 13;\n",
       "                var nbb_unformatted_code = \"def feature_scaling2(X):\\n    print(\\\"X:\\\")\\n    print(X)\\n    # print(\\\"Shape:\\\", X.shape)\\n\\n    # nrm_X = normalize(X, norm=\\\"l2\\\")\\n    # print(\\\"Normalized X:\\\")\\n    # print(nrm_X)\\n\\n    scaler = StandardScaler().fit(X)\\n    std_X = scaler.transform(X)\\n\\n    print(\\\"Standardized X:\\\")\\n    print(std_X)\";\n",
       "                var nbb_formatted_code = \"def feature_scaling2(X):\\n    print(\\\"X:\\\")\\n    print(X)\\n    # print(\\\"Shape:\\\", X.shape)\\n\\n    # nrm_X = normalize(X, norm=\\\"l2\\\")\\n    # print(\\\"Normalized X:\\\")\\n    # print(nrm_X)\\n\\n    scaler = StandardScaler().fit(X)\\n    std_X = scaler.transform(X)\\n\\n    print(\\\"Standardized X:\\\")\\n    print(std_X)\";\n",
       "                var nbb_cells = Jupyter.notebook.get_cells();\n",
       "                for (var i = 0; i < nbb_cells.length; ++i) {\n",
       "                    if (nbb_cells[i].input_prompt_number == nbb_cell_id) {\n",
       "                        if (nbb_cells[i].get_text() == nbb_unformatted_code) {\n",
       "                             nbb_cells[i].set_text(nbb_formatted_code);\n",
       "                        }\n",
       "                        break;\n",
       "                    }\n",
       "                }\n",
       "            }, 500);\n",
       "            "
      ],
      "text/plain": [
       "<IPython.core.display.Javascript object>"
      ]
     },
     "metadata": {},
     "output_type": "display_data"
    }
   ],
   "source": [
    "def feature_scaling2(X):\n",
    "    print(\"X:\")\n",
    "    print(X)\n",
    "    # print(\"Shape:\", X.shape)\n",
    "\n",
    "    # nrm_X = normalize(X, norm=\"l2\")\n",
    "    # print(\"Normalized X:\")\n",
    "    # print(nrm_X)\n",
    "\n",
    "    scaler = StandardScaler().fit(X)\n",
    "    std_X = scaler.transform(X)\n",
    "\n",
    "    print(\"Standardized X:\")\n",
    "    print(std_X)"
   ]
  },
  {
   "cell_type": "markdown",
   "id": "d36adf0f",
   "metadata": {},
   "source": [
    "#### Testing"
   ]
  },
  {
   "cell_type": "code",
   "execution_count": 14,
   "id": "d1c985d7",
   "metadata": {},
   "outputs": [
    {
     "name": "stdout",
     "output_type": "stream",
     "text": [
      "X:\n",
      "[[100   1   0  -1  56]]\n",
      "Standardized X:\n",
      "[[0. 0. 0. 0. 0.]]\n"
     ]
    },
    {
     "data": {
      "application/javascript": [
       "\n",
       "            setTimeout(function() {\n",
       "                var nbb_cell_id = 14;\n",
       "                var nbb_unformatted_code = \"feature_scaling2(np.array([[100, 1, 0, -1, 56]]))\";\n",
       "                var nbb_formatted_code = \"feature_scaling2(np.array([[100, 1, 0, -1, 56]]))\";\n",
       "                var nbb_cells = Jupyter.notebook.get_cells();\n",
       "                for (var i = 0; i < nbb_cells.length; ++i) {\n",
       "                    if (nbb_cells[i].input_prompt_number == nbb_cell_id) {\n",
       "                        if (nbb_cells[i].get_text() == nbb_unformatted_code) {\n",
       "                             nbb_cells[i].set_text(nbb_formatted_code);\n",
       "                        }\n",
       "                        break;\n",
       "                    }\n",
       "                }\n",
       "            }, 500);\n",
       "            "
      ],
      "text/plain": [
       "<IPython.core.display.Javascript object>"
      ]
     },
     "metadata": {},
     "output_type": "display_data"
    }
   ],
   "source": [
    "feature_scaling2(np.array([[100, 1, 0, -1, 56]]))"
   ]
  },
  {
   "cell_type": "code",
   "execution_count": 15,
   "id": "153bb3e8",
   "metadata": {},
   "outputs": [
    {
     "name": "stdout",
     "output_type": "stream",
     "text": [
      "X:\n",
      "[[100  -3   3   0 100]\n",
      " [125   1   3   0   1]\n",
      " [150   2   3   0   0]]\n",
      "Standardized X:\n",
      "[[-1.22474487 -1.38873015  0.          0.          1.41416   ]\n",
      " [ 0.          0.46291005  0.          0.         -0.6964205 ]\n",
      " [ 1.22474487  0.9258201   0.          0.         -0.7177395 ]]\n"
     ]
    },
    {
     "data": {
      "application/javascript": [
       "\n",
       "            setTimeout(function() {\n",
       "                var nbb_cell_id = 15;\n",
       "                var nbb_unformatted_code = \"X = np.array([[100, -3, 3, 0, 100], [125, 1, 3, 0, 1], [150, 2, 3, 0, 0]])\\nfeature_scaling2(X)\";\n",
       "                var nbb_formatted_code = \"X = np.array([[100, -3, 3, 0, 100], [125, 1, 3, 0, 1], [150, 2, 3, 0, 0]])\\nfeature_scaling2(X)\";\n",
       "                var nbb_cells = Jupyter.notebook.get_cells();\n",
       "                for (var i = 0; i < nbb_cells.length; ++i) {\n",
       "                    if (nbb_cells[i].input_prompt_number == nbb_cell_id) {\n",
       "                        if (nbb_cells[i].get_text() == nbb_unformatted_code) {\n",
       "                             nbb_cells[i].set_text(nbb_formatted_code);\n",
       "                        }\n",
       "                        break;\n",
       "                    }\n",
       "                }\n",
       "            }, 500);\n",
       "            "
      ],
      "text/plain": [
       "<IPython.core.display.Javascript object>"
      ]
     },
     "metadata": {},
     "output_type": "display_data"
    }
   ],
   "source": [
    "X = np.array([[100, -3, 3, 0, 100], [125, 1, 3, 0, 1], [150, 2, 3, 0, 0]])\n",
    "feature_scaling2(X)"
   ]
  },
  {
   "cell_type": "code",
   "execution_count": 16,
   "id": "5c894ef6",
   "metadata": {},
   "outputs": [
    {
     "name": "stdout",
     "output_type": "stream",
     "text": [
      "X:\n",
      "[[100]\n",
      " [  1]\n",
      " [  0]\n",
      " [ -1]\n",
      " [ 56]]\n",
      "Standardized X:\n",
      "[[ 1.69160781]\n",
      " [-0.74253715]\n",
      " [-0.76712447]\n",
      " [-0.79171179]\n",
      " [ 0.6097656 ]]\n"
     ]
    },
    {
     "data": {
      "application/javascript": [
       "\n",
       "            setTimeout(function() {\n",
       "                var nbb_cell_id = 16;\n",
       "                var nbb_unformatted_code = \"feature_scaling2(np.array([[100], [1], [0], [-1], [56]]))\";\n",
       "                var nbb_formatted_code = \"feature_scaling2(np.array([[100], [1], [0], [-1], [56]]))\";\n",
       "                var nbb_cells = Jupyter.notebook.get_cells();\n",
       "                for (var i = 0; i < nbb_cells.length; ++i) {\n",
       "                    if (nbb_cells[i].input_prompt_number == nbb_cell_id) {\n",
       "                        if (nbb_cells[i].get_text() == nbb_unformatted_code) {\n",
       "                             nbb_cells[i].set_text(nbb_formatted_code);\n",
       "                        }\n",
       "                        break;\n",
       "                    }\n",
       "                }\n",
       "            }, 500);\n",
       "            "
      ],
      "text/plain": [
       "<IPython.core.display.Javascript object>"
      ]
     },
     "metadata": {},
     "output_type": "display_data"
    }
   ],
   "source": [
    "feature_scaling2(np.array([[100], [1], [0], [-1], [56]]))"
   ]
  }
 ],
 "metadata": {
  "kernelspec": {
   "display_name": "Python 3 (ipykernel)",
   "language": "python",
   "name": "python3"
  },
  "language_info": {
   "codemirror_mode": {
    "name": "ipython",
    "version": 3
   },
   "file_extension": ".py",
   "mimetype": "text/x-python",
   "name": "python",
   "nbconvert_exporter": "python",
   "pygments_lexer": "ipython3",
   "version": "3.9.12"
  }
 },
 "nbformat": 4,
 "nbformat_minor": 5
}
