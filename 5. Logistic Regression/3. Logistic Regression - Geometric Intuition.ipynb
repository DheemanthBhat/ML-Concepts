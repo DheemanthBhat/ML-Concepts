{
 "cells": [
  {
   "cell_type": "code",
   "execution_count": 1,
   "id": "d10737b4",
   "metadata": {},
   "outputs": [
    {
     "data": {
      "application/javascript": [
       "\n",
       "            setTimeout(function() {\n",
       "                var nbb_cell_id = 1;\n",
       "                var nbb_unformatted_code = \"# Enable code formatting using external plugin: nb_black.\\n%reload_ext nb_black\";\n",
       "                var nbb_formatted_code = \"# Enable code formatting using external plugin: nb_black.\\n%reload_ext nb_black\";\n",
       "                var nbb_cells = Jupyter.notebook.get_cells();\n",
       "                for (var i = 0; i < nbb_cells.length; ++i) {\n",
       "                    if (nbb_cells[i].input_prompt_number == nbb_cell_id) {\n",
       "                        if (nbb_cells[i].get_text() == nbb_unformatted_code) {\n",
       "                             nbb_cells[i].set_text(nbb_formatted_code);\n",
       "                        }\n",
       "                        break;\n",
       "                    }\n",
       "                }\n",
       "            }, 500);\n",
       "            "
      ],
      "text/plain": [
       "<IPython.core.display.Javascript object>"
      ]
     },
     "metadata": {},
     "output_type": "display_data"
    }
   ],
   "source": [
    "# Enable code formatting using external plugin: nb_black.\n",
    "%reload_ext nb_black"
   ]
  },
  {
   "cell_type": "markdown",
   "id": "2e168c6e",
   "metadata": {},
   "source": [
    "<h1>\n",
    "<font color=\"red\">Incomplete Code !!!</font>\n",
    "</h1>\n",
    "\n",
    "# 3. Logistic Regression - Geometric Intuition\n",
    "\n",
    "1. Classification Algorithm.\n",
    "2. Output or prediction is a discrete value: $ -1 \\le h_{\\theta}(x) \\le 1 $\n",
    "\n",
    "### Objective\n",
    "\n",
    "Implement multi-class classification using **Logistic Regression**."
   ]
  },
  {
   "cell_type": "markdown",
   "id": "324b5c82",
   "metadata": {},
   "source": [
    "<a id=\"#[1]-Setup\"></a>\n",
    "# [1] Setup\n",
    "\n",
    "### Import and configure required libraries"
   ]
  },
  {
   "cell_type": "code",
   "execution_count": 2,
   "id": "4a61a27d",
   "metadata": {},
   "outputs": [
    {
     "name": "stdout",
     "output_type": "stream",
     "text": [
      "NumPy version: 1.21.5\n",
      "Pandas version: 1.4.2\n",
      "Matplotlib version: 3.5.1\n",
      "Seaborn version: 0.11.2\n",
      "PrettyTable version: 3.3.0\n"
     ]
    },
    {
     "data": {
      "application/javascript": [
       "\n",
       "            setTimeout(function() {\n",
       "                var nbb_cell_id = 2;\n",
       "                var nbb_unformatted_code = \"# Data manipulation libraries\\nimport numpy as np\\nimport pandas as pd\\n\\n# Data visualization libraries\\nimport matplotlib\\nimport matplotlib.pyplot as plt\\nimport seaborn as sns\\nimport prettytable\\nfrom prettytable import PrettyTable\\n\\n\\n# Library versions used in below EDA.\\nprint(\\\"NumPy version:\\\", np.__version__)\\nprint(\\\"Pandas version:\\\", pd.__version__)\\nprint(\\\"Matplotlib version:\\\", matplotlib.__version__)\\nprint(\\\"Seaborn version:\\\", sns.__version__)\\nprint(\\\"PrettyTable version:\\\", prettytable.__version__)\\n\\n# Configure NumPy.\\n# Set `Line width` to Maximum 130 characters in the output, post which it will continue in next line.\\nnp.set_printoptions(linewidth=130)\\n\\n# Configure Pandas.\\n# Set display width to maximum 130 characters in the output, post which it will continue in next line.\\npd.options.display.width = 130\\n\\n# Configure Seaborn.\\nsns.set_style(\\\"whitegrid\\\")  # Set white background with grid.\\nsns.set_palette(\\\"deep\\\")  # Set color palette.\\nsns.set_context(\\\"paper\\\", font_scale=1.5)  # Set font to scale 1.5 more than normal.\";\n",
       "                var nbb_formatted_code = \"# Data manipulation libraries\\nimport numpy as np\\nimport pandas as pd\\n\\n# Data visualization libraries\\nimport matplotlib\\nimport matplotlib.pyplot as plt\\nimport seaborn as sns\\nimport prettytable\\nfrom prettytable import PrettyTable\\n\\n\\n# Library versions used in below EDA.\\nprint(\\\"NumPy version:\\\", np.__version__)\\nprint(\\\"Pandas version:\\\", pd.__version__)\\nprint(\\\"Matplotlib version:\\\", matplotlib.__version__)\\nprint(\\\"Seaborn version:\\\", sns.__version__)\\nprint(\\\"PrettyTable version:\\\", prettytable.__version__)\\n\\n# Configure NumPy.\\n# Set `Line width` to Maximum 130 characters in the output, post which it will continue in next line.\\nnp.set_printoptions(linewidth=130)\\n\\n# Configure Pandas.\\n# Set display width to maximum 130 characters in the output, post which it will continue in next line.\\npd.options.display.width = 130\\n\\n# Configure Seaborn.\\nsns.set_style(\\\"whitegrid\\\")  # Set white background with grid.\\nsns.set_palette(\\\"deep\\\")  # Set color palette.\\nsns.set_context(\\\"paper\\\", font_scale=1.5)  # Set font to scale 1.5 more than normal.\";\n",
       "                var nbb_cells = Jupyter.notebook.get_cells();\n",
       "                for (var i = 0; i < nbb_cells.length; ++i) {\n",
       "                    if (nbb_cells[i].input_prompt_number == nbb_cell_id) {\n",
       "                        if (nbb_cells[i].get_text() == nbb_unformatted_code) {\n",
       "                             nbb_cells[i].set_text(nbb_formatted_code);\n",
       "                        }\n",
       "                        break;\n",
       "                    }\n",
       "                }\n",
       "            }, 500);\n",
       "            "
      ],
      "text/plain": [
       "<IPython.core.display.Javascript object>"
      ]
     },
     "metadata": {},
     "output_type": "display_data"
    }
   ],
   "source": [
    "# Data manipulation libraries\n",
    "import numpy as np\n",
    "import pandas as pd\n",
    "\n",
    "# Data visualization libraries\n",
    "import matplotlib\n",
    "import matplotlib.pyplot as plt\n",
    "import seaborn as sns\n",
    "import prettytable\n",
    "from prettytable import PrettyTable\n",
    "\n",
    "\n",
    "# Library versions used in below EDA.\n",
    "print(\"NumPy version:\", np.__version__)\n",
    "print(\"Pandas version:\", pd.__version__)\n",
    "print(\"Matplotlib version:\", matplotlib.__version__)\n",
    "print(\"Seaborn version:\", sns.__version__)\n",
    "print(\"PrettyTable version:\", prettytable.__version__)\n",
    "\n",
    "# Configure NumPy.\n",
    "# Set `Line width` to Maximum 130 characters in the output, post which it will continue in next line.\n",
    "np.set_printoptions(linewidth=130)\n",
    "\n",
    "# Configure Pandas.\n",
    "# Set display width to maximum 130 characters in the output, post which it will continue in next line.\n",
    "pd.options.display.width = 130\n",
    "\n",
    "# Configure Seaborn.\n",
    "sns.set_style(\"whitegrid\")  # Set white background with grid.\n",
    "sns.set_palette(\"deep\")  # Set color palette.\n",
    "sns.set_context(\"paper\", font_scale=1.5)  # Set font to scale 1.5 more than normal."
   ]
  },
  {
   "cell_type": "markdown",
   "id": "4ac2be27",
   "metadata": {},
   "source": [
    "#### Common functions"
   ]
  },
  {
   "cell_type": "code",
   "execution_count": 3,
   "id": "c1d86954",
   "metadata": {},
   "outputs": [
    {
     "data": {
      "application/javascript": [
       "\n",
       "            setTimeout(function() {\n",
       "                var nbb_cell_id = 3;\n",
       "                var nbb_unformatted_code = \"def get_shape(np_array):\\n    if not isinstance(np_array, np.ndarray):\\n        raise ValueError(f\\\"Received {type(np_array)} instead of numpy array.\\\")\\n\\n    if np_array.size == 0:\\n        raise ValueError(\\\"Received empty numpy array.\\\")\\n\\n    shape = list(np_array.shape)\\n    return (shape.pop(), None) if len(shape) == 1 else (shape[0], shape[1])\\n\\n\\nENABLE_LOG = False\\n\\n\\ndef text(*args):\\n    \\\"\\\"\\\"\\n    Function to print() input string when logging is enabled.\\n    \\\"\\\"\\\"\\n    if ENABLE_LOG is True:\\n        print(*args)\\n\\n\\ndef texts(nth=10, table=None):\\n    \\\"\\\"\\\"\\n    Function to print() every `nth` input string when logging is enabled.\\n    \\\"\\\"\\\"\\n    itr_count = 0\\n    count = 0\\n\\n    def stack(*args):\\n        \\\"\\\"\\\"\\n        Function to print() input string when logging is enabled.\\n        \\\"\\\"\\\"\\n        nonlocal itr_count, count\\n\\n        itr_count += 1\\n        count += 1\\n        if count == nth and ENABLE_LOG is True:\\n            if table:\\n                table.add_row([itr_count, *args])\\n            else:\\n                print(\\\"Itr:\\\", itr_count, \\\"->\\\", *args)\\n\\n            count = 0\\n\\n    return stack\\n\\n\\ndef title(title_str, padding=[1, 1], line_style=\\\"=\\\"):\\n    \\\"\\\"\\\"\\n    Function to print() input string with some styles, when logging is enabled.\\n    \\\"\\\"\\\"\\n    if ENABLE_LOG is True:\\n        pad_top, pad_bot = padding\\n        pt = \\\"\\\\n\\\" * pad_top\\n        pb = \\\"\\\\n\\\" * pad_bot\\n        print(pt + title_str + \\\"\\\\n\\\" + line_style * len(title_str) + pb)\";\n",
       "                var nbb_formatted_code = \"def get_shape(np_array):\\n    if not isinstance(np_array, np.ndarray):\\n        raise ValueError(f\\\"Received {type(np_array)} instead of numpy array.\\\")\\n\\n    if np_array.size == 0:\\n        raise ValueError(\\\"Received empty numpy array.\\\")\\n\\n    shape = list(np_array.shape)\\n    return (shape.pop(), None) if len(shape) == 1 else (shape[0], shape[1])\\n\\n\\nENABLE_LOG = False\\n\\n\\ndef text(*args):\\n    \\\"\\\"\\\"\\n    Function to print() input string when logging is enabled.\\n    \\\"\\\"\\\"\\n    if ENABLE_LOG is True:\\n        print(*args)\\n\\n\\ndef texts(nth=10, table=None):\\n    \\\"\\\"\\\"\\n    Function to print() every `nth` input string when logging is enabled.\\n    \\\"\\\"\\\"\\n    itr_count = 0\\n    count = 0\\n\\n    def stack(*args):\\n        \\\"\\\"\\\"\\n        Function to print() input string when logging is enabled.\\n        \\\"\\\"\\\"\\n        nonlocal itr_count, count\\n\\n        itr_count += 1\\n        count += 1\\n        if count == nth and ENABLE_LOG is True:\\n            if table:\\n                table.add_row([itr_count, *args])\\n            else:\\n                print(\\\"Itr:\\\", itr_count, \\\"->\\\", *args)\\n\\n            count = 0\\n\\n    return stack\\n\\n\\ndef title(title_str, padding=[1, 1], line_style=\\\"=\\\"):\\n    \\\"\\\"\\\"\\n    Function to print() input string with some styles, when logging is enabled.\\n    \\\"\\\"\\\"\\n    if ENABLE_LOG is True:\\n        pad_top, pad_bot = padding\\n        pt = \\\"\\\\n\\\" * pad_top\\n        pb = \\\"\\\\n\\\" * pad_bot\\n        print(pt + title_str + \\\"\\\\n\\\" + line_style * len(title_str) + pb)\";\n",
       "                var nbb_cells = Jupyter.notebook.get_cells();\n",
       "                for (var i = 0; i < nbb_cells.length; ++i) {\n",
       "                    if (nbb_cells[i].input_prompt_number == nbb_cell_id) {\n",
       "                        if (nbb_cells[i].get_text() == nbb_unformatted_code) {\n",
       "                             nbb_cells[i].set_text(nbb_formatted_code);\n",
       "                        }\n",
       "                        break;\n",
       "                    }\n",
       "                }\n",
       "            }, 500);\n",
       "            "
      ],
      "text/plain": [
       "<IPython.core.display.Javascript object>"
      ]
     },
     "metadata": {},
     "output_type": "display_data"
    }
   ],
   "source": [
    "def get_shape(np_array):\n",
    "    if not isinstance(np_array, np.ndarray):\n",
    "        raise ValueError(f\"Received {type(np_array)} instead of numpy array.\")\n",
    "\n",
    "    if np_array.size == 0:\n",
    "        raise ValueError(\"Received empty numpy array.\")\n",
    "\n",
    "    shape = list(np_array.shape)\n",
    "    return (shape.pop(), None) if len(shape) == 1 else (shape[0], shape[1])\n",
    "\n",
    "\n",
    "ENABLE_LOG = False\n",
    "\n",
    "\n",
    "def text(*args):\n",
    "    \"\"\"\n",
    "    Function to print() input string when logging is enabled.\n",
    "    \"\"\"\n",
    "    if ENABLE_LOG is True:\n",
    "        print(*args)\n",
    "\n",
    "\n",
    "def texts(nth=10, table=None):\n",
    "    \"\"\"\n",
    "    Function to print() every `nth` input string when logging is enabled.\n",
    "    \"\"\"\n",
    "    itr_count = 0\n",
    "    count = 0\n",
    "\n",
    "    def stack(*args):\n",
    "        \"\"\"\n",
    "        Function to print() input string when logging is enabled.\n",
    "        \"\"\"\n",
    "        nonlocal itr_count, count\n",
    "\n",
    "        itr_count += 1\n",
    "        count += 1\n",
    "        if count == nth and ENABLE_LOG is True:\n",
    "            if table:\n",
    "                table.add_row([itr_count, *args])\n",
    "            else:\n",
    "                print(\"Itr:\", itr_count, \"->\", *args)\n",
    "\n",
    "            count = 0\n",
    "\n",
    "    return stack\n",
    "\n",
    "\n",
    "def title(title_str, padding=[1, 1], line_style=\"=\"):\n",
    "    \"\"\"\n",
    "    Function to print() input string with some styles, when logging is enabled.\n",
    "    \"\"\"\n",
    "    if ENABLE_LOG is True:\n",
    "        pad_top, pad_bot = padding\n",
    "        pt = \"\\n\" * pad_top\n",
    "        pb = \"\\n\" * pad_bot\n",
    "        print(pt + title_str + \"\\n\" + line_style * len(title_str) + pb)"
   ]
  },
  {
   "cell_type": "markdown",
   "id": "0d552942",
   "metadata": {},
   "source": [
    "#### Load data-points from the `.csv` file"
   ]
  },
  {
   "cell_type": "code",
   "execution_count": 4,
   "id": "cfcf6d9c",
   "metadata": {},
   "outputs": [
    {
     "data": {
      "text/html": [
       "<div>\n",
       "<style scoped>\n",
       "    .dataframe tbody tr th:only-of-type {\n",
       "        vertical-align: middle;\n",
       "    }\n",
       "\n",
       "    .dataframe tbody tr th {\n",
       "        vertical-align: top;\n",
       "    }\n",
       "\n",
       "    .dataframe thead th {\n",
       "        text-align: right;\n",
       "    }\n",
       "</style>\n",
       "<table border=\"1\" class=\"dataframe\">\n",
       "  <thead>\n",
       "    <tr style=\"text-align: right;\">\n",
       "      <th></th>\n",
       "      <th>X1</th>\n",
       "      <th>X2</th>\n",
       "      <th>CL</th>\n",
       "    </tr>\n",
       "  </thead>\n",
       "  <tbody>\n",
       "    <tr>\n",
       "      <th>0</th>\n",
       "      <td>144</td>\n",
       "      <td>75</td>\n",
       "      <td>0</td>\n",
       "    </tr>\n",
       "    <tr>\n",
       "      <th>1</th>\n",
       "      <td>169</td>\n",
       "      <td>185</td>\n",
       "      <td>1</td>\n",
       "    </tr>\n",
       "    <tr>\n",
       "      <th>2</th>\n",
       "      <td>227</td>\n",
       "      <td>224</td>\n",
       "      <td>1</td>\n",
       "    </tr>\n",
       "    <tr>\n",
       "      <th>3</th>\n",
       "      <td>103</td>\n",
       "      <td>25</td>\n",
       "      <td>0</td>\n",
       "    </tr>\n",
       "    <tr>\n",
       "      <th>4</th>\n",
       "      <td>241</td>\n",
       "      <td>295</td>\n",
       "      <td>1</td>\n",
       "    </tr>\n",
       "  </tbody>\n",
       "</table>\n",
       "</div>"
      ],
      "text/plain": [
       "    X1   X2  CL\n",
       "0  144   75   0\n",
       "1  169  185   1\n",
       "2  227  224   1\n",
       "3  103   25   0\n",
       "4  241  295   1"
      ]
     },
     "execution_count": 4,
     "metadata": {},
     "output_type": "execute_result"
    },
    {
     "data": {
      "application/javascript": [
       "\n",
       "            setTimeout(function() {\n",
       "                var nbb_cell_id = 4;\n",
       "                var nbb_unformatted_code = \"biv_df = pd.read_csv(\\\"./bivariate_data_points.csv\\\")\\nbiv_df.head()\";\n",
       "                var nbb_formatted_code = \"biv_df = pd.read_csv(\\\"./bivariate_data_points.csv\\\")\\nbiv_df.head()\";\n",
       "                var nbb_cells = Jupyter.notebook.get_cells();\n",
       "                for (var i = 0; i < nbb_cells.length; ++i) {\n",
       "                    if (nbb_cells[i].input_prompt_number == nbb_cell_id) {\n",
       "                        if (nbb_cells[i].get_text() == nbb_unformatted_code) {\n",
       "                             nbb_cells[i].set_text(nbb_formatted_code);\n",
       "                        }\n",
       "                        break;\n",
       "                    }\n",
       "                }\n",
       "            }, 500);\n",
       "            "
      ],
      "text/plain": [
       "<IPython.core.display.Javascript object>"
      ]
     },
     "metadata": {},
     "output_type": "display_data"
    }
   ],
   "source": [
    "biv_df = pd.read_csv(\"../input/synthetic-datasets/bivariate_data_points.csv\")\n",
    "biv_df.head()"
   ]
  },
  {
   "cell_type": "markdown",
   "id": "bcfc207d",
   "metadata": {},
   "source": [
    "# [2] Data Analysis"
   ]
  },
  {
   "cell_type": "code",
   "execution_count": 5,
   "id": "43b52e9d",
   "metadata": {},
   "outputs": [
    {
     "name": "stdout",
     "output_type": "stream",
     "text": [
      "Rows: 500\n",
      "Columns: 3\n"
     ]
    },
    {
     "data": {
      "application/javascript": [
       "\n",
       "            setTimeout(function() {\n",
       "                var nbb_cell_id = 5;\n",
       "                var nbb_unformatted_code = \"rows, cols = biv_df.shape\\n\\nprint(\\\"Rows:\\\", rows)\\nprint(\\\"Columns:\\\", cols)\";\n",
       "                var nbb_formatted_code = \"rows, cols = biv_df.shape\\n\\nprint(\\\"Rows:\\\", rows)\\nprint(\\\"Columns:\\\", cols)\";\n",
       "                var nbb_cells = Jupyter.notebook.get_cells();\n",
       "                for (var i = 0; i < nbb_cells.length; ++i) {\n",
       "                    if (nbb_cells[i].input_prompt_number == nbb_cell_id) {\n",
       "                        if (nbb_cells[i].get_text() == nbb_unformatted_code) {\n",
       "                             nbb_cells[i].set_text(nbb_formatted_code);\n",
       "                        }\n",
       "                        break;\n",
       "                    }\n",
       "                }\n",
       "            }, 500);\n",
       "            "
      ],
      "text/plain": [
       "<IPython.core.display.Javascript object>"
      ]
     },
     "metadata": {},
     "output_type": "display_data"
    }
   ],
   "source": [
    "rows, cols = biv_df.shape\n",
    "\n",
    "print(\"Rows:\", rows)\n",
    "print(\"Columns:\", cols)"
   ]
  },
  {
   "cell_type": "code",
   "execution_count": 6,
   "id": "86d6a1e9",
   "metadata": {},
   "outputs": [
    {
     "name": "stdout",
     "output_type": "stream",
     "text": [
      "<class 'pandas.core.frame.DataFrame'>\n",
      "RangeIndex: 500 entries, 0 to 499\n",
      "Data columns (total 3 columns):\n",
      " #   Column  Non-Null Count  Dtype\n",
      "---  ------  --------------  -----\n",
      " 0   X1      500 non-null    int64\n",
      " 1   X2      500 non-null    int64\n",
      " 2   CL      500 non-null    int64\n",
      "dtypes: int64(3)\n",
      "memory usage: 11.8 KB\n"
     ]
    },
    {
     "data": {
      "application/javascript": [
       "\n",
       "            setTimeout(function() {\n",
       "                var nbb_cell_id = 6;\n",
       "                var nbb_unformatted_code = \"biv_df.info()\";\n",
       "                var nbb_formatted_code = \"biv_df.info()\";\n",
       "                var nbb_cells = Jupyter.notebook.get_cells();\n",
       "                for (var i = 0; i < nbb_cells.length; ++i) {\n",
       "                    if (nbb_cells[i].input_prompt_number == nbb_cell_id) {\n",
       "                        if (nbb_cells[i].get_text() == nbb_unformatted_code) {\n",
       "                             nbb_cells[i].set_text(nbb_formatted_code);\n",
       "                        }\n",
       "                        break;\n",
       "                    }\n",
       "                }\n",
       "            }, 500);\n",
       "            "
      ],
      "text/plain": [
       "<IPython.core.display.Javascript object>"
      ]
     },
     "metadata": {},
     "output_type": "display_data"
    }
   ],
   "source": [
    "biv_df.info()"
   ]
  },
  {
   "cell_type": "code",
   "execution_count": 7,
   "id": "250662a5",
   "metadata": {},
   "outputs": [
    {
     "data": {
      "text/plain": [
       "X1    291\n",
       "X2    322\n",
       "CL      1\n",
       "dtype: int64"
      ]
     },
     "execution_count": 7,
     "metadata": {},
     "output_type": "execute_result"
    },
    {
     "data": {
      "application/javascript": [
       "\n",
       "            setTimeout(function() {\n",
       "                var nbb_cell_id = 7;\n",
       "                var nbb_unformatted_code = \"biv_df.apply(max)\";\n",
       "                var nbb_formatted_code = \"biv_df.apply(max)\";\n",
       "                var nbb_cells = Jupyter.notebook.get_cells();\n",
       "                for (var i = 0; i < nbb_cells.length; ++i) {\n",
       "                    if (nbb_cells[i].input_prompt_number == nbb_cell_id) {\n",
       "                        if (nbb_cells[i].get_text() == nbb_unformatted_code) {\n",
       "                             nbb_cells[i].set_text(nbb_formatted_code);\n",
       "                        }\n",
       "                        break;\n",
       "                    }\n",
       "                }\n",
       "            }, 500);\n",
       "            "
      ],
      "text/plain": [
       "<IPython.core.display.Javascript object>"
      ]
     },
     "metadata": {},
     "output_type": "display_data"
    }
   ],
   "source": [
    "biv_df.apply(max)"
   ]
  },
  {
   "cell_type": "code",
   "execution_count": 8,
   "id": "7b2ace4a",
   "metadata": {},
   "outputs": [
    {
     "data": {
      "text/plain": [
       "0    250\n",
       "1    250\n",
       "Name: CL, dtype: int64"
      ]
     },
     "execution_count": 8,
     "metadata": {},
     "output_type": "execute_result"
    },
    {
     "data": {
      "application/javascript": [
       "\n",
       "            setTimeout(function() {\n",
       "                var nbb_cell_id = 8;\n",
       "                var nbb_unformatted_code = \"biv_df[\\\"CL\\\"].value_counts()\";\n",
       "                var nbb_formatted_code = \"biv_df[\\\"CL\\\"].value_counts()\";\n",
       "                var nbb_cells = Jupyter.notebook.get_cells();\n",
       "                for (var i = 0; i < nbb_cells.length; ++i) {\n",
       "                    if (nbb_cells[i].input_prompt_number == nbb_cell_id) {\n",
       "                        if (nbb_cells[i].get_text() == nbb_unformatted_code) {\n",
       "                             nbb_cells[i].set_text(nbb_formatted_code);\n",
       "                        }\n",
       "                        break;\n",
       "                    }\n",
       "                }\n",
       "            }, 500);\n",
       "            "
      ],
      "text/plain": [
       "<IPython.core.display.Javascript object>"
      ]
     },
     "metadata": {},
     "output_type": "display_data"
    }
   ],
   "source": [
    "biv_df[\"CL\"].value_counts()"
   ]
  },
  {
   "cell_type": "markdown",
   "id": "ed81255f",
   "metadata": {},
   "source": [
    "**Observations**\n",
    "\n",
    "1. There are two class-labels `0` and `1`.\n",
    "2. The dataset is **balanced**."
   ]
  },
  {
   "cell_type": "markdown",
   "id": "f462ead3",
   "metadata": {},
   "source": [
    "#### Replace class-labels `[0, 1]` with `[-1, 1]`"
   ]
  },
  {
   "cell_type": "code",
   "execution_count": 9,
   "id": "ca3b6631",
   "metadata": {},
   "outputs": [
    {
     "data": {
      "text/plain": [
       "-1    250\n",
       " 1    250\n",
       "Name: CL, dtype: int64"
      ]
     },
     "execution_count": 9,
     "metadata": {},
     "output_type": "execute_result"
    },
    {
     "data": {
      "application/javascript": [
       "\n",
       "            setTimeout(function() {\n",
       "                var nbb_cell_id = 9;\n",
       "                var nbb_unformatted_code = \"biv_df[\\\"CL\\\"] = biv_df[\\\"CL\\\"].map({0: -1, 1: 1})\\nbiv_df[\\\"CL\\\"].value_counts()\";\n",
       "                var nbb_formatted_code = \"biv_df[\\\"CL\\\"] = biv_df[\\\"CL\\\"].map({0: -1, 1: 1})\\nbiv_df[\\\"CL\\\"].value_counts()\";\n",
       "                var nbb_cells = Jupyter.notebook.get_cells();\n",
       "                for (var i = 0; i < nbb_cells.length; ++i) {\n",
       "                    if (nbb_cells[i].input_prompt_number == nbb_cell_id) {\n",
       "                        if (nbb_cells[i].get_text() == nbb_unformatted_code) {\n",
       "                             nbb_cells[i].set_text(nbb_formatted_code);\n",
       "                        }\n",
       "                        break;\n",
       "                    }\n",
       "                }\n",
       "            }, 500);\n",
       "            "
      ],
      "text/plain": [
       "<IPython.core.display.Javascript object>"
      ]
     },
     "metadata": {},
     "output_type": "display_data"
    }
   ],
   "source": [
    "biv_df[\"CL\"] = biv_df[\"CL\"].map({0: -1, 1: 1})\n",
    "biv_df[\"CL\"].value_counts()"
   ]
  },
  {
   "cell_type": "markdown",
   "id": "1eeb248d",
   "metadata": {},
   "source": [
    "#### Plot attributes"
   ]
  },
  {
   "cell_type": "code",
   "execution_count": 10,
   "id": "6279b160",
   "metadata": {},
   "outputs": [
    {
     "data": {
      "image/png": "[encoded data removed]",
      "text/plain": [
       "<Figure size 648x432 with 1 Axes>"
      ]
     },
     "metadata": {},
     "output_type": "display_data"
    },
    {
     "data": {
      "application/javascript": [
       "\n",
       "            setTimeout(function() {\n",
       "                var nbb_cell_id = 10;\n",
       "                var nbb_unformatted_code = \"plt.figure(figsize=(9, 6))\\n\\nsns.scatterplot(\\n    data=biv_df,\\n    x=\\\"X1\\\",\\n    y=\\\"X2\\\",\\n    hue=\\\"CL\\\",\\n    palette=\\\"bright\\\",\\n    style=\\\"CL\\\",\\n    size=\\\"CL\\\",\\n    markers=[\\\"o\\\", \\\"X\\\"],\\n    sizes=(30, 60),\\n)\\nplt.xticks(ticks=range(0, 350, 50))\\nplt.yticks(ticks=range(0, 350, 50))\\n\\nplt.show()\";\n",
       "                var nbb_formatted_code = \"plt.figure(figsize=(9, 6))\\n\\nsns.scatterplot(\\n    data=biv_df,\\n    x=\\\"X1\\\",\\n    y=\\\"X2\\\",\\n    hue=\\\"CL\\\",\\n    palette=\\\"bright\\\",\\n    style=\\\"CL\\\",\\n    size=\\\"CL\\\",\\n    markers=[\\\"o\\\", \\\"X\\\"],\\n    sizes=(30, 60),\\n)\\nplt.xticks(ticks=range(0, 350, 50))\\nplt.yticks(ticks=range(0, 350, 50))\\n\\nplt.show()\";\n",
       "                var nbb_cells = Jupyter.notebook.get_cells();\n",
       "                for (var i = 0; i < nbb_cells.length; ++i) {\n",
       "                    if (nbb_cells[i].input_prompt_number == nbb_cell_id) {\n",
       "                        if (nbb_cells[i].get_text() == nbb_unformatted_code) {\n",
       "                             nbb_cells[i].set_text(nbb_formatted_code);\n",
       "                        }\n",
       "                        break;\n",
       "                    }\n",
       "                }\n",
       "            }, 500);\n",
       "            "
      ],
      "text/plain": [
       "<IPython.core.display.Javascript object>"
      ]
     },
     "metadata": {},
     "output_type": "display_data"
    }
   ],
   "source": [
    "plt.figure(figsize=(9, 6))\n",
    "\n",
    "sns.scatterplot(\n",
    "    data=biv_df,\n",
    "    x=\"X1\",\n",
    "    y=\"X2\",\n",
    "    hue=\"CL\",\n",
    "    palette=\"bright\",\n",
    "    style=\"CL\",\n",
    "    size=\"CL\",\n",
    "    markers=[\"o\", \"X\"],\n",
    "    sizes=(30, 60),\n",
    ")\n",
    "plt.xticks(ticks=range(0, 350, 50))\n",
    "plt.yticks(ticks=range(0, 350, 50))\n",
    "\n",
    "plt.show()"
   ]
  },
  {
   "cell_type": "markdown",
   "id": "3478fbaf",
   "metadata": {},
   "source": [
    "# [3] Implementation\n",
    "\n",
    "Implement Logistic Regression with below features:\n",
    "\n",
    "1. Feature Scaling.\n",
    "2. Regularization.\n",
    "3. Auto adjusting Learning rate (α).\n",
    "\n",
    "### Hypothesis $h_\\theta(x)$\n",
    "\n",
    "$$\n",
    "\\large\n",
    "h_\\theta(x) = \\frac{1}{1 + e^{-(\\theta^{T} \\cdot X^{T})}} \\\\[1cm]\n",
    "\\text {Where X is a $m \\times n$ matrix and $\\vec{\\theta}$ is a vector of length n} \\\\\n",
    "$$\n",
    "\n",
    "### Model parameters\n",
    "\n",
    "$$\n",
    "\\large\n",
    "\\theta = \\theta_0, \\theta_1, \\theta_2, \\dots, \\theta_n\n",
    "$$\n",
    "\n",
    "### Cost Function $J(\\theta)$\n",
    "\n",
    "$$\n",
    "\\large\n",
    "J(\\theta) = \\frac{1}{m} \\sum_{i = 1}^{m} \\text {Cost}(h_\\theta(x^{(i)}), y^{(i)})\n",
    "$$\n",
    "\n",
    "$$\n",
    "\\large\n",
    "\\text {Cost}(h_\\theta(x), y) =\n",
    "\\begin{cases}\n",
    "  \\hfill -\\log(h_\\theta(x)) \\hspace{1cm} \\text{if y = 1} \\\\\n",
    "  -\\log(1 - h_\\theta(x)) \\hspace{1cm} \\text{if y = 0} \\\\\n",
    "\\end{cases}\n",
    "$$\n",
    "\n",
    "\n",
    "### Goal\n",
    "\n",
    "$$\n",
    "\\large\n",
    "\\min_{\\theta} J(\\theta)\n",
    "$$"
   ]
  },
  {
   "cell_type": "markdown",
   "id": "dfb10a99",
   "metadata": {},
   "source": [
    "#### Standardization or Z-score Normalization"
   ]
  },
  {
   "cell_type": "code",
   "execution_count": 11,
   "id": "6cc806ff",
   "metadata": {},
   "outputs": [
    {
     "data": {
      "application/javascript": [
       "\n",
       "            setTimeout(function() {\n",
       "                var nbb_cell_id = 11;\n",
       "                var nbb_unformatted_code = \"def standardization(features):\\n    \\\"\\\"\\\"\\n    Function to implement Standardization or Z-score Normalization.\\n    \\\"\\\"\\\"\\n    # Step 1: Compute mean.\\n    mean = features.mean(axis=0)\\n\\n    # Step 2: Compute standard-deviation.\\n    std = features.std(axis=0)\\n\\n    def transform(sample=features):\\n        # Step 3: Remove mean from features.\\n        z_mean = sample - mean\\n\\n        # Step 4: Scale features to unit-variance.\\n        zeros = np.zeros_like(sample, dtype=\\\"float\\\")\\n        return np.divide(z_mean, std, out=zeros, where=std != 0)\\n\\n    return transform\";\n",
       "                var nbb_formatted_code = \"def standardization(features):\\n    \\\"\\\"\\\"\\n    Function to implement Standardization or Z-score Normalization.\\n    \\\"\\\"\\\"\\n    # Step 1: Compute mean.\\n    mean = features.mean(axis=0)\\n\\n    # Step 2: Compute standard-deviation.\\n    std = features.std(axis=0)\\n\\n    def transform(sample=features):\\n        # Step 3: Remove mean from features.\\n        z_mean = sample - mean\\n\\n        # Step 4: Scale features to unit-variance.\\n        zeros = np.zeros_like(sample, dtype=\\\"float\\\")\\n        return np.divide(z_mean, std, out=zeros, where=std != 0)\\n\\n    return transform\";\n",
       "                var nbb_cells = Jupyter.notebook.get_cells();\n",
       "                for (var i = 0; i < nbb_cells.length; ++i) {\n",
       "                    if (nbb_cells[i].input_prompt_number == nbb_cell_id) {\n",
       "                        if (nbb_cells[i].get_text() == nbb_unformatted_code) {\n",
       "                             nbb_cells[i].set_text(nbb_formatted_code);\n",
       "                        }\n",
       "                        break;\n",
       "                    }\n",
       "                }\n",
       "            }, 500);\n",
       "            "
      ],
      "text/plain": [
       "<IPython.core.display.Javascript object>"
      ]
     },
     "metadata": {},
     "output_type": "display_data"
    }
   ],
   "source": [
    "def standardization(features):\n",
    "    \"\"\"\n",
    "    Function to implement Standardization or Z-score Normalization.\n",
    "    \"\"\"\n",
    "    # Step 1: Compute mean.\n",
    "    mean = features.mean(axis=0)\n",
    "\n",
    "    # Step 2: Compute standard-deviation.\n",
    "    std = features.std(axis=0)\n",
    "\n",
    "    def transform(sample=features):\n",
    "        # Step 3: Remove mean from features.\n",
    "        z_mean = sample - mean\n",
    "\n",
    "        # Step 4: Scale features to unit-variance.\n",
    "        zeros = np.zeros_like(sample, dtype=\"float\")\n",
    "        return np.divide(z_mean, std, out=zeros, where=std != 0)\n",
    "\n",
    "    return transform"
   ]
  },
  {
   "cell_type": "markdown",
   "id": "e6e49db3",
   "metadata": {},
   "source": [
    "#### Plot $J(\\theta)$ vs No. of Iterations"
   ]
  },
  {
   "cell_type": "code",
   "execution_count": 12,
   "id": "c1298564",
   "metadata": {},
   "outputs": [
    {
     "data": {
      "application/javascript": [
       "\n",
       "            setTimeout(function() {\n",
       "                var nbb_cell_id = 12;\n",
       "                var nbb_unformatted_code = \"def plot_cost_vs_itr(points):\\n    \\\"\\\"\\\"\\n    Function to plot J(\\u03b8) vs No. of Iterations to\\n    check if cost is reducing in each iteration.\\n    \\\"\\\"\\\"\\n    count, _ = get_shape(points)\\n    text(f\\\"Plotting {count} points:\\\")\\n\\n    x = points[:, 0]\\n    y = points[:, 1]\\n\\n    plt.figure(figsize=(10, 6))\\n\\n    sns.lineplot(x=x, y=y)\\n    plt.title(\\\"Cost vs Iterations\\\")\\n    plt.xlabel(\\\"Number of iterations\\\")\\n    plt.ylabel(\\\"Cost: J(\\u03b8)\\\")\\n\\n    plt.show()\";\n",
       "                var nbb_formatted_code = \"def plot_cost_vs_itr(points):\\n    \\\"\\\"\\\"\\n    Function to plot J(\\u03b8) vs No. of Iterations to\\n    check if cost is reducing in each iteration.\\n    \\\"\\\"\\\"\\n    count, _ = get_shape(points)\\n    text(f\\\"Plotting {count} points:\\\")\\n\\n    x = points[:, 0]\\n    y = points[:, 1]\\n\\n    plt.figure(figsize=(10, 6))\\n\\n    sns.lineplot(x=x, y=y)\\n    plt.title(\\\"Cost vs Iterations\\\")\\n    plt.xlabel(\\\"Number of iterations\\\")\\n    plt.ylabel(\\\"Cost: J(\\u03b8)\\\")\\n\\n    plt.show()\";\n",
       "                var nbb_cells = Jupyter.notebook.get_cells();\n",
       "                for (var i = 0; i < nbb_cells.length; ++i) {\n",
       "                    if (nbb_cells[i].input_prompt_number == nbb_cell_id) {\n",
       "                        if (nbb_cells[i].get_text() == nbb_unformatted_code) {\n",
       "                             nbb_cells[i].set_text(nbb_formatted_code);\n",
       "                        }\n",
       "                        break;\n",
       "                    }\n",
       "                }\n",
       "            }, 500);\n",
       "            "
      ],
      "text/plain": [
       "<IPython.core.display.Javascript object>"
      ]
     },
     "metadata": {},
     "output_type": "display_data"
    }
   ],
   "source": [
    "def plot_cost_vs_itr(points):\n",
    "    \"\"\"\n",
    "    Function to plot J(θ) vs No. of Iterations to\n",
    "    check if cost is reducing in each iteration.\n",
    "    \"\"\"\n",
    "    count, _ = get_shape(points)\n",
    "    text(f\"Plotting {count} points:\")\n",
    "\n",
    "    x = points[:, 0]\n",
    "    y = points[:, 1]\n",
    "\n",
    "    plt.figure(figsize=(10, 6))\n",
    "\n",
    "    sns.lineplot(x=x, y=y)\n",
    "    plt.title(\"Cost vs Iterations\")\n",
    "    plt.xlabel(\"Number of iterations\")\n",
    "    plt.ylabel(\"Cost: J(θ)\")\n",
    "\n",
    "    plt.show()"
   ]
  },
  {
   "cell_type": "markdown",
   "id": "fb66ade4",
   "metadata": {},
   "source": [
    "#### Logistic Regression"
   ]
  },
  {
   "cell_type": "code",
   "execution_count": 13,
   "id": "d8d4ad53",
   "metadata": {},
   "outputs": [
    {
     "data": {
      "application/javascript": [
       "\n",
       "            setTimeout(function() {\n",
       "                var nbb_cell_id = 13;\n",
       "                var nbb_unformatted_code = \"def logistic_regression(X, Y, theta=None, scaling=True):\\n    \\\"\\\"\\\"\\n    Function to implement multinomial Logistic Regression\\n    using Batch Gradient Descent minimization technique.\\n    \\\"\\\"\\\"\\n    LEARNING_RATE = 1\\n    MAX_ITR = 1000\\n    PRECISION = 6\\n    ITR = 100\\n\\n    # Class-labels\\n    POSITIVE_CLASS_LABEL = 1\\n    NEGATIVE_CLASS_LABEL = -1\\n\\n    m, n = get_shape(X)\\n    # m: Total number of records or data-points\\n    # n: Total number of input-variables or features.\\n\\n    if not n:\\n        # Reshape NumPy array to vector.\\n        text(\\\"Reshaping NumPy array, univariate feature, to vector.\\\")\\n        X = X.reshape((m, 1))\\n\\n    transform = standardization(X)\\n\\n    def preprocess(features):\\n        \\\"\\\"\\\"\\n        Closure to preprocess input variables:\\n            1. Feature scaling.\\n            2. Adding dummy feature theta-zero.\\n        \\\"\\\"\\\"\\n        rows, cols = get_shape(features)\\n\\n        if scaling:\\n            # Scaling feature b/w the range -1 std-dev and +1 std-dev.\\n            features = transform(features)  # Standardized features.\\n\\n        # Add dummy feature X0 for y-intercept into features\\n        X_0 = np.ones((rows, 1), features.dtype)\\n        return np.hstack((X_0, features))  # Concatenate horizontally.\\n\\n    # Preprocessing features.\\n    X = preprocess(X)\\n\\n    # Get final shape after preprocessing.\\n    m, n = get_shape(X)\\n\\n    # Initialize empty model parameters if not present.\\n    if not theta:\\n        theta = np.zeros(n)\\n\\n    def fit(alpha=LEARNING_RATE, max_itr=MAX_ITR, nth=ITR, plot_cost=False):\\n        \\\"\\\"\\\"\\n        Fit model parameters(\\u03b8) to the dataset i.e., train model using Logistic Regression.\\n        \\\"\\\"\\\"\\n        nonlocal theta\\n\\n        title(\\\"Logistic Regression\\\")\\n        text(\\\"Model Attributes:\\\")\\n        text(\\\"\\\\tX shape:\\\", get_shape(X))\\n        text(\\\"\\\\tY shape:\\\", get_shape(Y))\\n        text(\\\"\\\\t\\u03b8 shape:\\\", get_shape(theta))\\n\\n        distance = lambda X: np.matmul(theta, X.transpose())\\n\\n        def h(X):\\n            \\\"\\\"\\\"\\n            Closure to compute hypothesis using matrix multiplication technique.\\n            This hypothesis is a Sigmoid function.\\n            \\\"\\\"\\\"\\n            print(get_shape(distance(X).reshape((1, m))), get_shape(Y))\\n            Z = np.matmul(distance(X).reshape((1, m)), Y)\\n            return 1 / (1 + np.exp(-Z))\\n\\n        def cost():\\n            \\\"\\\"\\\"\\n            Closure to compute cost of the prediction using hypothesis.\\n            \\\"\\\"\\\"\\n            print(h(X))\\n            p_y = h(X).reshape((1, m))  # Predicted Y values.\\n            p_cls = np.matmul(np.log(p_y), Y)  # Cost w.r.t Positive class.\\n            n_cls = np.matmul(np.log(1 - p_y), (1 - Y))  # Cost w.r.t Negative class.\\n            cost = (-1 / m) * (p_cls + n_cls)\\n\\n            return np.round(cost, PRECISION).item()\\n\\n        def gradient_descent(alpha=LEARNING_RATE):\\n            \\\"\\\"\\\"\\n            Closure to compute derivative of Squared Error cost function for\\n            Gradient Descent algorithm using matrix multiplication technique.\\n            \\\"\\\"\\\"\\n            error = h(X) - Y\\n            slope = (alpha / m) * np.matmul(X.transpose(), error)\\n\\n            # Round off and return updated Theta.\\n            return np.around(theta - slope, PRECISION)\\n\\n        text(\\\"\\\\nModel training started.\\\")\\n        table = PrettyTable([\\\"Itr\\\", \\\"Cost\\\", \\\"Model parameters\\\"])\\n        stack = texts(nth, table)\\n\\n        costs = []\\n        for itr in range(0, max_itr):\\n            j_theta = cost()\\n            theta = gradient_descent(alpha)\\n            stack(j_theta, theta.tolist())\\n\\n            # Accumulate iteration count and cost for plotting.\\n            costs.append([itr, j_theta])\\n\\n        text(table)\\n        text(\\\"Model training complete!\\\\n\\\")\\n\\n        if plot_cost:\\n            plot_cost_vs_itr(np.array(costs))\\n\\n        def predict(features):\\n            \\\"\\\"\\\"\\n            Closure to predict target value for the given features.\\n            \\\"\\\"\\\"\\n            # Preprocessing features before predicting target.\\n            pp_f = preprocess(np.array(features, ndmin=2))\\n\\n            # Predict and return target value.\\n            y = POSITIVE_CLASS_LABEL if distance.item() > 0 else NEGATIVE_CLASS_LABEL\\n            return (y, theta.tolist())\\n\\n        return predict\\n\\n    return fit\";\n",
       "                var nbb_formatted_code = \"def logistic_regression(X, Y, theta=None, scaling=True):\\n    \\\"\\\"\\\"\\n    Function to implement multinomial Logistic Regression\\n    using Batch Gradient Descent minimization technique.\\n    \\\"\\\"\\\"\\n    LEARNING_RATE = 1\\n    MAX_ITR = 1000\\n    PRECISION = 6\\n    ITR = 100\\n\\n    # Class-labels\\n    POSITIVE_CLASS_LABEL = 1\\n    NEGATIVE_CLASS_LABEL = -1\\n\\n    m, n = get_shape(X)\\n    # m: Total number of records or data-points\\n    # n: Total number of input-variables or features.\\n\\n    if not n:\\n        # Reshape NumPy array to vector.\\n        text(\\\"Reshaping NumPy array, univariate feature, to vector.\\\")\\n        X = X.reshape((m, 1))\\n\\n    transform = standardization(X)\\n\\n    def preprocess(features):\\n        \\\"\\\"\\\"\\n        Closure to preprocess input variables:\\n            1. Feature scaling.\\n            2. Adding dummy feature theta-zero.\\n        \\\"\\\"\\\"\\n        rows, cols = get_shape(features)\\n\\n        if scaling:\\n            # Scaling feature b/w the range -1 std-dev and +1 std-dev.\\n            features = transform(features)  # Standardized features.\\n\\n        # Add dummy feature X0 for y-intercept into features\\n        X_0 = np.ones((rows, 1), features.dtype)\\n        return np.hstack((X_0, features))  # Concatenate horizontally.\\n\\n    # Preprocessing features.\\n    X = preprocess(X)\\n\\n    # Get final shape after preprocessing.\\n    m, n = get_shape(X)\\n\\n    # Initialize empty model parameters if not present.\\n    if not theta:\\n        theta = np.zeros(n)\\n\\n    def fit(alpha=LEARNING_RATE, max_itr=MAX_ITR, nth=ITR, plot_cost=False):\\n        \\\"\\\"\\\"\\n        Fit model parameters(\\u03b8) to the dataset i.e., train model using Logistic Regression.\\n        \\\"\\\"\\\"\\n        nonlocal theta\\n\\n        title(\\\"Logistic Regression\\\")\\n        text(\\\"Model Attributes:\\\")\\n        text(\\\"\\\\tX shape:\\\", get_shape(X))\\n        text(\\\"\\\\tY shape:\\\", get_shape(Y))\\n        text(\\\"\\\\t\\u03b8 shape:\\\", get_shape(theta))\\n\\n        distance = lambda X: np.matmul(theta, X.transpose())\\n\\n        def h(X):\\n            \\\"\\\"\\\"\\n            Closure to compute hypothesis using matrix multiplication technique.\\n            This hypothesis is a Sigmoid function.\\n            \\\"\\\"\\\"\\n            print(get_shape(distance(X).reshape((1, m))), get_shape(Y))\\n            Z = np.matmul(distance(X).reshape((1, m)), Y)\\n            return 1 / (1 + np.exp(-Z))\\n\\n        def cost():\\n            \\\"\\\"\\\"\\n            Closure to compute cost of the prediction using hypothesis.\\n            \\\"\\\"\\\"\\n            print(h(X))\\n            p_y = h(X).reshape((1, m))  # Predicted Y values.\\n            p_cls = np.matmul(np.log(p_y), Y)  # Cost w.r.t Positive class.\\n            n_cls = np.matmul(np.log(1 - p_y), (1 - Y))  # Cost w.r.t Negative class.\\n            cost = (-1 / m) * (p_cls + n_cls)\\n\\n            return np.round(cost, PRECISION).item()\\n\\n        def gradient_descent(alpha=LEARNING_RATE):\\n            \\\"\\\"\\\"\\n            Closure to compute derivative of Squared Error cost function for\\n            Gradient Descent algorithm using matrix multiplication technique.\\n            \\\"\\\"\\\"\\n            error = h(X) - Y\\n            slope = (alpha / m) * np.matmul(X.transpose(), error)\\n\\n            # Round off and return updated Theta.\\n            return np.around(theta - slope, PRECISION)\\n\\n        text(\\\"\\\\nModel training started.\\\")\\n        table = PrettyTable([\\\"Itr\\\", \\\"Cost\\\", \\\"Model parameters\\\"])\\n        stack = texts(nth, table)\\n\\n        costs = []\\n        for itr in range(0, max_itr):\\n            j_theta = cost()\\n            theta = gradient_descent(alpha)\\n            stack(j_theta, theta.tolist())\\n\\n            # Accumulate iteration count and cost for plotting.\\n            costs.append([itr, j_theta])\\n\\n        text(table)\\n        text(\\\"Model training complete!\\\\n\\\")\\n\\n        if plot_cost:\\n            plot_cost_vs_itr(np.array(costs))\\n\\n        def predict(features):\\n            \\\"\\\"\\\"\\n            Closure to predict target value for the given features.\\n            \\\"\\\"\\\"\\n            # Preprocessing features before predicting target.\\n            pp_f = preprocess(np.array(features, ndmin=2))\\n\\n            # Predict and return target value.\\n            y = POSITIVE_CLASS_LABEL if distance.item() > 0 else NEGATIVE_CLASS_LABEL\\n            return (y, theta.tolist())\\n\\n        return predict\\n\\n    return fit\";\n",
       "                var nbb_cells = Jupyter.notebook.get_cells();\n",
       "                for (var i = 0; i < nbb_cells.length; ++i) {\n",
       "                    if (nbb_cells[i].input_prompt_number == nbb_cell_id) {\n",
       "                        if (nbb_cells[i].get_text() == nbb_unformatted_code) {\n",
       "                             nbb_cells[i].set_text(nbb_formatted_code);\n",
       "                        }\n",
       "                        break;\n",
       "                    }\n",
       "                }\n",
       "            }, 500);\n",
       "            "
      ],
      "text/plain": [
       "<IPython.core.display.Javascript object>"
      ]
     },
     "metadata": {},
     "output_type": "display_data"
    }
   ],
   "source": [
    "def logistic_regression(X, Y, theta=None, scaling=True):\n",
    "    \"\"\"\n",
    "    Function to implement multinomial Logistic Regression\n",
    "    using Batch Gradient Descent minimization technique.\n",
    "    \"\"\"\n",
    "    LEARNING_RATE = 1\n",
    "    MAX_ITR = 1000\n",
    "    PRECISION = 6\n",
    "    ITR = 100\n",
    "\n",
    "    # Class-labels\n",
    "    POSITIVE_CLASS_LABEL = 1\n",
    "    NEGATIVE_CLASS_LABEL = -1\n",
    "\n",
    "    m, n = get_shape(X)\n",
    "    # m: Total number of records or data-points\n",
    "    # n: Total number of input-variables or features.\n",
    "\n",
    "    if not n:\n",
    "        # Reshape NumPy array to vector.\n",
    "        text(\"Reshaping NumPy array, univariate feature, to vector.\")\n",
    "        X = X.reshape((m, 1))\n",
    "\n",
    "    transform = standardization(X)\n",
    "\n",
    "    def preprocess(features):\n",
    "        \"\"\"\n",
    "        Closure to preprocess input variables:\n",
    "            1. Feature scaling.\n",
    "            2. Adding dummy feature theta-zero.\n",
    "        \"\"\"\n",
    "        rows, cols = get_shape(features)\n",
    "\n",
    "        if scaling:\n",
    "            # Scaling feature b/w the range -1 std-dev and +1 std-dev.\n",
    "            features = transform(features)  # Standardized features.\n",
    "\n",
    "        # Add dummy feature X0 for y-intercept into features\n",
    "        X_0 = np.ones((rows, 1), features.dtype)\n",
    "        return np.hstack((X_0, features))  # Concatenate horizontally.\n",
    "\n",
    "    # Preprocessing features.\n",
    "    X = preprocess(X)\n",
    "\n",
    "    # Get final shape after preprocessing.\n",
    "    m, n = get_shape(X)\n",
    "\n",
    "    # Initialize empty model parameters if not present.\n",
    "    if not theta:\n",
    "        theta = np.zeros(n)\n",
    "\n",
    "    def fit(alpha=LEARNING_RATE, max_itr=MAX_ITR, nth=ITR, plot_cost=False):\n",
    "        \"\"\"\n",
    "        Fit model parameters(θ) to the dataset i.e., train model using Logistic Regression.\n",
    "        \"\"\"\n",
    "        nonlocal theta\n",
    "\n",
    "        title(\"Logistic Regression\")\n",
    "        text(\"Model Attributes:\")\n",
    "        text(\"\\tX shape:\", get_shape(X))\n",
    "        text(\"\\tY shape:\", get_shape(Y))\n",
    "        text(\"\\tθ shape:\", get_shape(theta))\n",
    "\n",
    "        distance = lambda X: np.matmul(theta, X.transpose())\n",
    "\n",
    "        def h(X):\n",
    "            \"\"\"\n",
    "            Closure to compute hypothesis using matrix multiplication technique.\n",
    "            This hypothesis is a Sigmoid function.\n",
    "            \"\"\"\n",
    "            print(get_shape(distance(X).reshape((1, m))), get_shape(Y))\n",
    "            Z = np.matmul(distance(X).reshape((1, m)), Y)\n",
    "            return 1 / (1 + np.exp(-Z))\n",
    "\n",
    "        def cost():\n",
    "            \"\"\"\n",
    "            Closure to compute cost of the prediction using hypothesis.\n",
    "            \"\"\"\n",
    "            print(h(X))\n",
    "            p_y = h(X).reshape((1, m))  # Predicted Y values.\n",
    "            p_cls = np.matmul(np.log(p_y), Y)  # Cost w.r.t Positive class.\n",
    "            n_cls = np.matmul(np.log(1 - p_y), (1 - Y))  # Cost w.r.t Negative class.\n",
    "            cost = (-1 / m) * (p_cls + n_cls)\n",
    "\n",
    "            return np.round(cost, PRECISION).item()\n",
    "\n",
    "        def gradient_descent(alpha=LEARNING_RATE):\n",
    "            \"\"\"\n",
    "            Closure to compute derivative of Squared Error cost function for\n",
    "            Gradient Descent algorithm using matrix multiplication technique.\n",
    "            \"\"\"\n",
    "            error = h(X) - Y\n",
    "            slope = (alpha / m) * np.matmul(X.transpose(), error)\n",
    "\n",
    "            # Round off and return updated Theta.\n",
    "            return np.around(theta - slope, PRECISION)\n",
    "\n",
    "        text(\"\\nModel training started.\")\n",
    "        table = PrettyTable([\"Itr\", \"Cost\", \"Model parameters\"])\n",
    "        stack = texts(nth, table)\n",
    "\n",
    "        costs = []\n",
    "        for itr in range(0, max_itr):\n",
    "            j_theta = cost()\n",
    "            theta = gradient_descent(alpha)\n",
    "            stack(j_theta, theta.tolist())\n",
    "\n",
    "            # Accumulate iteration count and cost for plotting.\n",
    "            costs.append([itr, j_theta])\n",
    "\n",
    "        text(table)\n",
    "        text(\"Model training complete!\\n\")\n",
    "\n",
    "        if plot_cost:\n",
    "            plot_cost_vs_itr(np.array(costs))\n",
    "\n",
    "        def predict(features):\n",
    "            \"\"\"\n",
    "            Closure to predict target value for the given features.\n",
    "            \"\"\"\n",
    "            # Preprocessing features before predicting target.\n",
    "            pp_f = preprocess(np.array(features, ndmin=2))\n",
    "\n",
    "            # Predict and return target value.\n",
    "            y = POSITIVE_CLASS_LABEL if distance.item() > 0 else NEGATIVE_CLASS_LABEL\n",
    "            return (y, theta.tolist())\n",
    "\n",
    "        return predict\n",
    "\n",
    "    return fit"
   ]
  },
  {
   "cell_type": "markdown",
   "id": "567ad4fa",
   "metadata": {},
   "source": [
    "<a id=\"#[4]-Training-Model\"></a>\n",
    "# [4] Training Model\n",
    "\n",
    "#### Initialize classifier"
   ]
  },
  {
   "cell_type": "code",
   "execution_count": 14,
   "id": "62a39311",
   "metadata": {},
   "outputs": [
    {
     "data": {
      "application/javascript": [
       "\n",
       "            setTimeout(function() {\n",
       "                var nbb_cell_id = 14;\n",
       "                var nbb_unformatted_code = \"X = biv_df[[\\\"X1\\\", \\\"X2\\\"]].values\\nY = biv_df[\\\"CL\\\"].values\\n\\nfit = logistic_regression(X, Y)\";\n",
       "                var nbb_formatted_code = \"X = biv_df[[\\\"X1\\\", \\\"X2\\\"]].values\\nY = biv_df[\\\"CL\\\"].values\\n\\nfit = logistic_regression(X, Y)\";\n",
       "                var nbb_cells = Jupyter.notebook.get_cells();\n",
       "                for (var i = 0; i < nbb_cells.length; ++i) {\n",
       "                    if (nbb_cells[i].input_prompt_number == nbb_cell_id) {\n",
       "                        if (nbb_cells[i].get_text() == nbb_unformatted_code) {\n",
       "                             nbb_cells[i].set_text(nbb_formatted_code);\n",
       "                        }\n",
       "                        break;\n",
       "                    }\n",
       "                }\n",
       "            }, 500);\n",
       "            "
      ],
      "text/plain": [
       "<IPython.core.display.Javascript object>"
      ]
     },
     "metadata": {},
     "output_type": "display_data"
    }
   ],
   "source": [
    "X = biv_df[[\"X1\", \"X2\"]].values\n",
    "Y = biv_df[\"CL\"].values\n",
    "\n",
    "fit = logistic_regression(X, Y)"
   ]
  },
  {
   "cell_type": "markdown",
   "id": "bbee5443",
   "metadata": {},
   "source": [
    "Train model using training dataset.\n",
    "\n",
    "> Note: Set `ENABLE_LOG` to `False` to train model silently (without logs)."
   ]
  },
  {
   "cell_type": "code",
   "execution_count": 15,
   "id": "179800e0",
   "metadata": {
    "scrolled": false
   },
   "outputs": [
    {
     "name": "stdout",
     "output_type": "stream",
     "text": [
      "\n",
      "Logistic Regression\n",
      "===================\n",
      "\n",
      "Model Attributes:\n",
      "\tX shape: (500, 3)\n",
      "\tY shape: (500, None)\n",
      "\tθ shape: (3, None)\n",
      "\n",
      "Model training started.\n",
      "(1, 500) (500, None)\n",
      "[0.5]\n",
      "(1, 500) (500, None)\n"
     ]
    },
    {
     "ename": "ValueError",
     "evalue": "cannot reshape array of size 1 into shape (1,500)",
     "output_type": "error",
     "traceback": [
      "\u001b[1;31m---------------------------------------------------------------------------\u001b[0m",
      "\u001b[1;31mValueError\u001b[0m                                Traceback (most recent call last)",
      "\u001b[1;32m~\\AppData\\Local\\Temp/ipykernel_7508/2272878166.py\u001b[0m in \u001b[0;36m<module>\u001b[1;34m\u001b[0m\n\u001b[0;32m      2\u001b[0m \u001b[1;33m\u001b[0m\u001b[0m\n\u001b[0;32m      3\u001b[0m \u001b[1;31m# Fit Logistic Regression model.\u001b[0m\u001b[1;33m\u001b[0m\u001b[1;33m\u001b[0m\u001b[0m\n\u001b[1;32m----> 4\u001b[1;33m \u001b[0mpredict\u001b[0m \u001b[1;33m=\u001b[0m \u001b[0mfit\u001b[0m\u001b[1;33m(\u001b[0m\u001b[0malpha\u001b[0m\u001b[1;33m=\u001b[0m\u001b[1;36m22\u001b[0m\u001b[1;33m,\u001b[0m \u001b[0mmax_itr\u001b[0m\u001b[1;33m=\u001b[0m\u001b[1;36m300\u001b[0m\u001b[1;33m,\u001b[0m \u001b[0mnth\u001b[0m\u001b[1;33m=\u001b[0m\u001b[1;36m30\u001b[0m\u001b[1;33m,\u001b[0m \u001b[0mplot_cost\u001b[0m\u001b[1;33m=\u001b[0m\u001b[1;32mTrue\u001b[0m\u001b[1;33m)\u001b[0m\u001b[1;33m\u001b[0m\u001b[1;33m\u001b[0m\u001b[0m\n\u001b[0m",
      "\u001b[1;32m~\\AppData\\Local\\Temp/ipykernel_7508/885449548.py\u001b[0m in \u001b[0;36mfit\u001b[1;34m(alpha, max_itr, nth, plot_cost)\u001b[0m\n\u001b[0;32m    102\u001b[0m         \u001b[0mcosts\u001b[0m \u001b[1;33m=\u001b[0m \u001b[1;33m[\u001b[0m\u001b[1;33m]\u001b[0m\u001b[1;33m\u001b[0m\u001b[1;33m\u001b[0m\u001b[0m\n\u001b[0;32m    103\u001b[0m         \u001b[1;32mfor\u001b[0m \u001b[0mitr\u001b[0m \u001b[1;32min\u001b[0m \u001b[0mrange\u001b[0m\u001b[1;33m(\u001b[0m\u001b[1;36m0\u001b[0m\u001b[1;33m,\u001b[0m \u001b[0mmax_itr\u001b[0m\u001b[1;33m)\u001b[0m\u001b[1;33m:\u001b[0m\u001b[1;33m\u001b[0m\u001b[1;33m\u001b[0m\u001b[0m\n\u001b[1;32m--> 104\u001b[1;33m             \u001b[0mj_theta\u001b[0m \u001b[1;33m=\u001b[0m \u001b[0mcost\u001b[0m\u001b[1;33m(\u001b[0m\u001b[1;33m)\u001b[0m\u001b[1;33m\u001b[0m\u001b[1;33m\u001b[0m\u001b[0m\n\u001b[0m\u001b[0;32m    105\u001b[0m             \u001b[0mtheta\u001b[0m \u001b[1;33m=\u001b[0m \u001b[0mgradient_descent\u001b[0m\u001b[1;33m(\u001b[0m\u001b[0malpha\u001b[0m\u001b[1;33m)\u001b[0m\u001b[1;33m\u001b[0m\u001b[1;33m\u001b[0m\u001b[0m\n\u001b[0;32m    106\u001b[0m             \u001b[0mstack\u001b[0m\u001b[1;33m(\u001b[0m\u001b[0mj_theta\u001b[0m\u001b[1;33m,\u001b[0m \u001b[0mtheta\u001b[0m\u001b[1;33m.\u001b[0m\u001b[0mtolist\u001b[0m\u001b[1;33m(\u001b[0m\u001b[1;33m)\u001b[0m\u001b[1;33m)\u001b[0m\u001b[1;33m\u001b[0m\u001b[1;33m\u001b[0m\u001b[0m\n",
      "\u001b[1;32m~\\AppData\\Local\\Temp/ipykernel_7508/885449548.py\u001b[0m in \u001b[0;36mcost\u001b[1;34m()\u001b[0m\n\u001b[0;32m     78\u001b[0m             \"\"\"\n\u001b[0;32m     79\u001b[0m             \u001b[0mprint\u001b[0m\u001b[1;33m(\u001b[0m\u001b[0mh\u001b[0m\u001b[1;33m(\u001b[0m\u001b[0mX\u001b[0m\u001b[1;33m)\u001b[0m\u001b[1;33m)\u001b[0m\u001b[1;33m\u001b[0m\u001b[1;33m\u001b[0m\u001b[0m\n\u001b[1;32m---> 80\u001b[1;33m             \u001b[0mp_y\u001b[0m \u001b[1;33m=\u001b[0m \u001b[0mh\u001b[0m\u001b[1;33m(\u001b[0m\u001b[0mX\u001b[0m\u001b[1;33m)\u001b[0m\u001b[1;33m.\u001b[0m\u001b[0mreshape\u001b[0m\u001b[1;33m(\u001b[0m\u001b[1;33m(\u001b[0m\u001b[1;36m1\u001b[0m\u001b[1;33m,\u001b[0m \u001b[0mm\u001b[0m\u001b[1;33m)\u001b[0m\u001b[1;33m)\u001b[0m  \u001b[1;31m# Predicted Y values.\u001b[0m\u001b[1;33m\u001b[0m\u001b[1;33m\u001b[0m\u001b[0m\n\u001b[0m\u001b[0;32m     81\u001b[0m             \u001b[0mp_cls\u001b[0m \u001b[1;33m=\u001b[0m \u001b[0mnp\u001b[0m\u001b[1;33m.\u001b[0m\u001b[0mmatmul\u001b[0m\u001b[1;33m(\u001b[0m\u001b[0mnp\u001b[0m\u001b[1;33m.\u001b[0m\u001b[0mlog\u001b[0m\u001b[1;33m(\u001b[0m\u001b[0mp_y\u001b[0m\u001b[1;33m)\u001b[0m\u001b[1;33m,\u001b[0m \u001b[0mY\u001b[0m\u001b[1;33m)\u001b[0m  \u001b[1;31m# Cost w.r.t Positive class.\u001b[0m\u001b[1;33m\u001b[0m\u001b[1;33m\u001b[0m\u001b[0m\n\u001b[0;32m     82\u001b[0m             \u001b[0mn_cls\u001b[0m \u001b[1;33m=\u001b[0m \u001b[0mnp\u001b[0m\u001b[1;33m.\u001b[0m\u001b[0mmatmul\u001b[0m\u001b[1;33m(\u001b[0m\u001b[0mnp\u001b[0m\u001b[1;33m.\u001b[0m\u001b[0mlog\u001b[0m\u001b[1;33m(\u001b[0m\u001b[1;36m1\u001b[0m \u001b[1;33m-\u001b[0m \u001b[0mp_y\u001b[0m\u001b[1;33m)\u001b[0m\u001b[1;33m,\u001b[0m \u001b[1;33m(\u001b[0m\u001b[1;36m1\u001b[0m \u001b[1;33m-\u001b[0m \u001b[0mY\u001b[0m\u001b[1;33m)\u001b[0m\u001b[1;33m)\u001b[0m  \u001b[1;31m# Cost w.r.t Negative class.\u001b[0m\u001b[1;33m\u001b[0m\u001b[1;33m\u001b[0m\u001b[0m\n",
      "\u001b[1;31mValueError\u001b[0m: cannot reshape array of size 1 into shape (1,500)"
     ]
    },
    {
     "data": {
      "application/javascript": [
       "\n",
       "            setTimeout(function() {\n",
       "                var nbb_cell_id = 15;\n",
       "                var nbb_unformatted_code = \"ENABLE_LOG = True\\n\\n# Fit Logistic Regression model.\\npredict = fit(alpha=22, max_itr=300, nth=30, plot_cost=True)\";\n",
       "                var nbb_formatted_code = \"ENABLE_LOG = True\\n\\n# Fit Logistic Regression model.\\npredict = fit(alpha=22, max_itr=300, nth=30, plot_cost=True)\";\n",
       "                var nbb_cells = Jupyter.notebook.get_cells();\n",
       "                for (var i = 0; i < nbb_cells.length; ++i) {\n",
       "                    if (nbb_cells[i].input_prompt_number == nbb_cell_id) {\n",
       "                        if (nbb_cells[i].get_text() == nbb_unformatted_code) {\n",
       "                             nbb_cells[i].set_text(nbb_formatted_code);\n",
       "                        }\n",
       "                        break;\n",
       "                    }\n",
       "                }\n",
       "            }, 500);\n",
       "            "
      ],
      "text/plain": [
       "<IPython.core.display.Javascript object>"
      ]
     },
     "metadata": {},
     "output_type": "display_data"
    }
   ],
   "source": [
    "ENABLE_LOG = True\n",
    "\n",
    "# Fit Logistic Regression model.\n",
    "predict = fit(alpha=22, max_itr=300, nth=30, plot_cost=True)"
   ]
  },
  {
   "cell_type": "markdown",
   "id": "b1850442",
   "metadata": {},
   "source": [
    "# [5] Testing: Binary Classification"
   ]
  },
  {
   "cell_type": "code",
   "execution_count": null,
   "id": "5087eeaa",
   "metadata": {},
   "outputs": [],
   "source": [
    "x = [250, 150]\n",
    "y, model_params = predict(x)\n",
    "\n",
    "print(\"Output:\")\n",
    "print(\"Input features:\", x),\n",
    "print(\"Predicted class-label:\", y)\n",
    "print(f\"Model parameters fit to the dataset:\", model_params)"
   ]
  },
  {
   "cell_type": "markdown",
   "id": "ace73d75",
   "metadata": {},
   "source": [
    "#### Plotting Model\n",
    "\n",
    "Model parameters fit to the dataset:\n",
    "\n",
    "$ \\theta = (0.15381, -12.008975, 17.888603) $"
   ]
  },
  {
   "cell_type": "code",
   "execution_count": null,
   "id": "faae9751",
   "metadata": {
    "scrolled": false
   },
   "outputs": [],
   "source": [
    "plt.figure(figsize=(9, 6))\n",
    "\n",
    "nums = range(0, 300)\n",
    "X1 = []\n",
    "X2 = []\n",
    "t0, t1, t2 = model_params\n",
    "for num in nums:\n",
    "    if t0 >= ((t1 * num) - (t2 * num)):\n",
    "        X1.append(num)\n",
    "        X2.append(num)\n",
    "# Model\n",
    "sns.lineplot(x=X1, y=X2, color=\"red\")\n",
    "\n",
    "# Data-points.\n",
    "sns.scatterplot(data=biv_df, x=\"X1\", y=\"X2\", hue=\"CL\", palette=\"bright\")\n",
    "plt.xticks(ticks=range(0, 350, 50))\n",
    "plt.yticks(ticks=range(0, 350, 50))\n",
    "\n",
    "plt.show()"
   ]
  }
 ],
 "metadata": {
  "kernelspec": {
   "display_name": "Python 3 (ipykernel)",
   "language": "python",
   "name": "python3"
  },
  "language_info": {
   "codemirror_mode": {
    "name": "ipython",
    "version": 3
   },
   "file_extension": ".py",
   "mimetype": "text/x-python",
   "name": "python",
   "nbconvert_exporter": "python",
   "pygments_lexer": "ipython3",
   "version": "3.9.12"
  }
 },
 "nbformat": 4,
 "nbformat_minor": 5
}
