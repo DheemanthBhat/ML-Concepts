{
 "cells": [
  {
   "cell_type": "code",
   "execution_count": 1,
   "id": "5dbaedc0",
   "metadata": {},
   "outputs": [
    {
     "data": {
      "application/javascript": [
       "\n",
       "            setTimeout(function() {\n",
       "                var nbb_cell_id = 1;\n",
       "                var nbb_unformatted_code = \"# Enable code formatting using external plugin: nb_black.\\n%reload_ext nb_black\";\n",
       "                var nbb_formatted_code = \"# Enable code formatting using external plugin: nb_black.\\n%reload_ext nb_black\";\n",
       "                var nbb_cells = Jupyter.notebook.get_cells();\n",
       "                for (var i = 0; i < nbb_cells.length; ++i) {\n",
       "                    if (nbb_cells[i].input_prompt_number == nbb_cell_id) {\n",
       "                        if (nbb_cells[i].get_text() == nbb_unformatted_code) {\n",
       "                             nbb_cells[i].set_text(nbb_formatted_code);\n",
       "                        }\n",
       "                        break;\n",
       "                    }\n",
       "                }\n",
       "            }, 500);\n",
       "            "
      ],
      "text/plain": [
       "<IPython.core.display.Javascript object>"
      ]
     },
     "metadata": {},
     "output_type": "display_data"
    }
   ],
   "source": [
    "# Enable code formatting using external plugin: nb_black.\n",
    "%reload_ext nb_black"
   ]
  },
  {
   "cell_type": "markdown",
   "id": "f89a8821",
   "metadata": {},
   "source": [
    "<h1>\n",
    "<font color=\"red\">Incomplete Code !!!</font>\n",
    "</h1>\n",
    "\n",
    "# Squared Error Cost Function\n",
    "\n",
    "### Objective\n",
    "\n",
    "Implement cost function for _Multinomial Logistic Regression_ based on **Squared Error** technique."
   ]
  },
  {
   "cell_type": "markdown",
   "id": "2e54d60f",
   "metadata": {},
   "source": [
    "<a id=\"#[1]-Setup\"></a>\n",
    "# [1] Setup\n",
    "\n",
    "### Import and configure required libraries"
   ]
  },
  {
   "cell_type": "code",
   "execution_count": 2,
   "id": "83f588f7",
   "metadata": {},
   "outputs": [
    {
     "name": "stdout",
     "output_type": "stream",
     "text": [
      "NumPy version: 1.21.5\n",
      "Pandas version: 1.4.2\n",
      "Matplotlib version: 3.5.1\n",
      "Seaborn version: 0.11.2\n",
      "Plotly version: 5.8.0\n"
     ]
    },
    {
     "data": {
      "application/javascript": [
       "\n",
       "            setTimeout(function() {\n",
       "                var nbb_cell_id = 2;\n",
       "                var nbb_unformatted_code = \"# Data manipulation libraries\\nimport numpy as np\\nimport pandas as pd\\n\\n# Data visualization libraries\\nimport matplotlib\\nimport matplotlib.pyplot as plt\\nimport seaborn as sns\\nimport plotly\\nimport plotly.express as px\\nfrom prettytable import PrettyTable\\n\\n\\n# Library versions used in below EDA.\\nprint(\\\"NumPy version:\\\", np.__version__)\\nprint(\\\"Pandas version:\\\", pd.__version__)\\nprint(\\\"Matplotlib version:\\\", matplotlib.__version__)\\nprint(\\\"Seaborn version:\\\", sns.__version__)\\nprint(\\\"Plotly version:\\\", plotly.__version__)\\n\\n# Configure NumPy.\\n# Set `Line width` to Maximum 130 characters in the output, post which it will continue in next line.\\nnp.set_printoptions(linewidth=130)\\n\\n# Configure Pandas.\\n# Set display width to maximum 130 characters in the output, post which it will continue in next line.\\npd.options.display.width = 130\\n\\n# Configure Seaborn.\\nsns.set_style(\\\"whitegrid\\\")  # Set white background with grid.\\nsns.set_palette(\\\"deep\\\")  # Set color palette.\\nsns.set_context(\\\"paper\\\", font_scale=1.5)  # Set font to scale 1.5 more than normal.\";\n",
       "                var nbb_formatted_code = \"# Data manipulation libraries\\nimport numpy as np\\nimport pandas as pd\\n\\n# Data visualization libraries\\nimport matplotlib\\nimport matplotlib.pyplot as plt\\nimport seaborn as sns\\nimport plotly\\nimport plotly.express as px\\nfrom prettytable import PrettyTable\\n\\n\\n# Library versions used in below EDA.\\nprint(\\\"NumPy version:\\\", np.__version__)\\nprint(\\\"Pandas version:\\\", pd.__version__)\\nprint(\\\"Matplotlib version:\\\", matplotlib.__version__)\\nprint(\\\"Seaborn version:\\\", sns.__version__)\\nprint(\\\"Plotly version:\\\", plotly.__version__)\\n\\n# Configure NumPy.\\n# Set `Line width` to Maximum 130 characters in the output, post which it will continue in next line.\\nnp.set_printoptions(linewidth=130)\\n\\n# Configure Pandas.\\n# Set display width to maximum 130 characters in the output, post which it will continue in next line.\\npd.options.display.width = 130\\n\\n# Configure Seaborn.\\nsns.set_style(\\\"whitegrid\\\")  # Set white background with grid.\\nsns.set_palette(\\\"deep\\\")  # Set color palette.\\nsns.set_context(\\\"paper\\\", font_scale=1.5)  # Set font to scale 1.5 more than normal.\";\n",
       "                var nbb_cells = Jupyter.notebook.get_cells();\n",
       "                for (var i = 0; i < nbb_cells.length; ++i) {\n",
       "                    if (nbb_cells[i].input_prompt_number == nbb_cell_id) {\n",
       "                        if (nbb_cells[i].get_text() == nbb_unformatted_code) {\n",
       "                             nbb_cells[i].set_text(nbb_formatted_code);\n",
       "                        }\n",
       "                        break;\n",
       "                    }\n",
       "                }\n",
       "            }, 500);\n",
       "            "
      ],
      "text/plain": [
       "<IPython.core.display.Javascript object>"
      ]
     },
     "metadata": {},
     "output_type": "display_data"
    }
   ],
   "source": [
    "# Data manipulation libraries\n",
    "import numpy as np\n",
    "import pandas as pd\n",
    "\n",
    "# Data visualization libraries\n",
    "import matplotlib\n",
    "import matplotlib.pyplot as plt\n",
    "import seaborn as sns\n",
    "import plotly\n",
    "import plotly.express as px\n",
    "from prettytable import PrettyTable\n",
    "\n",
    "\n",
    "# Library versions used in below EDA.\n",
    "print(\"NumPy version:\", np.__version__)\n",
    "print(\"Pandas version:\", pd.__version__)\n",
    "print(\"Matplotlib version:\", matplotlib.__version__)\n",
    "print(\"Seaborn version:\", sns.__version__)\n",
    "print(\"Plotly version:\", plotly.__version__)\n",
    "\n",
    "# Configure NumPy.\n",
    "# Set `Line width` to Maximum 130 characters in the output, post which it will continue in next line.\n",
    "np.set_printoptions(linewidth=130)\n",
    "\n",
    "# Configure Pandas.\n",
    "# Set display width to maximum 130 characters in the output, post which it will continue in next line.\n",
    "pd.options.display.width = 130\n",
    "\n",
    "# Configure Seaborn.\n",
    "sns.set_style(\"whitegrid\")  # Set white background with grid.\n",
    "sns.set_palette(\"deep\")  # Set color palette.\n",
    "sns.set_context(\"paper\", font_scale=1.5)  # Set font to scale 1.5 more than normal."
   ]
  },
  {
   "cell_type": "markdown",
   "id": "f3e0c1b2",
   "metadata": {},
   "source": [
    "#### Common functions"
   ]
  },
  {
   "cell_type": "code",
   "execution_count": 3,
   "id": "f247f4c1",
   "metadata": {},
   "outputs": [
    {
     "data": {
      "application/javascript": [
       "\n",
       "            setTimeout(function() {\n",
       "                var nbb_cell_id = 3;\n",
       "                var nbb_unformatted_code = \"def get_shape(np_array):\\n    if not isinstance(np_array, np.ndarray):\\n        raise ValueError(f\\\"Received {type(np_array)} instead of numpy array.\\\")\\n\\n    if np_array.size == 0:\\n        raise ValueError(f\\\"Received empty numpy array.\\\")\\n\\n    shape = list(np_array.shape)\\n    return (shape.pop(), None) if len(shape) == 1 else (shape[0], shape[1])\\n\\n\\nENABLE_LOG = False\\n\\n\\ndef text(*args):\\n    \\\"\\\"\\\"\\n    Function to print() input string when logging is enabled.\\n    \\\"\\\"\\\"\\n    if ENABLE_LOG is True:\\n        print(*args)\\n\\n\\ndef title(title_str, padding=[1, 1], line_style=\\\"=\\\"):\\n    \\\"\\\"\\\"\\n    Function to print() input string with some styles, when logging is enabled.\\n    \\\"\\\"\\\"\\n    if ENABLE_LOG is True:\\n        pad_top, pad_bot = padding\\n        pt = \\\"\\\\n\\\" * pad_top\\n        pb = \\\"\\\\n\\\" * pad_bot\\n        print(pt + title_str + \\\"\\\\n\\\" + line_style * len(title_str) + pb)\";\n",
       "                var nbb_formatted_code = \"def get_shape(np_array):\\n    if not isinstance(np_array, np.ndarray):\\n        raise ValueError(f\\\"Received {type(np_array)} instead of numpy array.\\\")\\n\\n    if np_array.size == 0:\\n        raise ValueError(f\\\"Received empty numpy array.\\\")\\n\\n    shape = list(np_array.shape)\\n    return (shape.pop(), None) if len(shape) == 1 else (shape[0], shape[1])\\n\\n\\nENABLE_LOG = False\\n\\n\\ndef text(*args):\\n    \\\"\\\"\\\"\\n    Function to print() input string when logging is enabled.\\n    \\\"\\\"\\\"\\n    if ENABLE_LOG is True:\\n        print(*args)\\n\\n\\ndef title(title_str, padding=[1, 1], line_style=\\\"=\\\"):\\n    \\\"\\\"\\\"\\n    Function to print() input string with some styles, when logging is enabled.\\n    \\\"\\\"\\\"\\n    if ENABLE_LOG is True:\\n        pad_top, pad_bot = padding\\n        pt = \\\"\\\\n\\\" * pad_top\\n        pb = \\\"\\\\n\\\" * pad_bot\\n        print(pt + title_str + \\\"\\\\n\\\" + line_style * len(title_str) + pb)\";\n",
       "                var nbb_cells = Jupyter.notebook.get_cells();\n",
       "                for (var i = 0; i < nbb_cells.length; ++i) {\n",
       "                    if (nbb_cells[i].input_prompt_number == nbb_cell_id) {\n",
       "                        if (nbb_cells[i].get_text() == nbb_unformatted_code) {\n",
       "                             nbb_cells[i].set_text(nbb_formatted_code);\n",
       "                        }\n",
       "                        break;\n",
       "                    }\n",
       "                }\n",
       "            }, 500);\n",
       "            "
      ],
      "text/plain": [
       "<IPython.core.display.Javascript object>"
      ]
     },
     "metadata": {},
     "output_type": "display_data"
    }
   ],
   "source": [
    "def get_shape(np_array):\n",
    "    if not isinstance(np_array, np.ndarray):\n",
    "        raise ValueError(f\"Received {type(np_array)} instead of numpy array.\")\n",
    "\n",
    "    if np_array.size == 0:\n",
    "        raise ValueError(f\"Received empty numpy array.\")\n",
    "\n",
    "    shape = list(np_array.shape)\n",
    "    return (shape.pop(), None) if len(shape) == 1 else (shape[0], shape[1])\n",
    "\n",
    "\n",
    "ENABLE_LOG = False\n",
    "\n",
    "\n",
    "def text(*args):\n",
    "    \"\"\"\n",
    "    Function to print() input string when logging is enabled.\n",
    "    \"\"\"\n",
    "    if ENABLE_LOG is True:\n",
    "        print(*args)\n",
    "\n",
    "\n",
    "def title(title_str, padding=[1, 1], line_style=\"=\"):\n",
    "    \"\"\"\n",
    "    Function to print() input string with some styles, when logging is enabled.\n",
    "    \"\"\"\n",
    "    if ENABLE_LOG is True:\n",
    "        pad_top, pad_bot = padding\n",
    "        pt = \"\\n\" * pad_top\n",
    "        pb = \"\\n\" * pad_bot\n",
    "        print(pt + title_str + \"\\n\" + line_style * len(title_str) + pb)"
   ]
  },
  {
   "cell_type": "markdown",
   "id": "586e47ad",
   "metadata": {},
   "source": [
    "#### Load data-points from the `.csv` file"
   ]
  },
  {
   "cell_type": "code",
   "execution_count": 4,
   "id": "3fd49b3a",
   "metadata": {},
   "outputs": [
    {
     "data": {
      "text/html": [
       "<div>\n",
       "<style scoped>\n",
       "    .dataframe tbody tr th:only-of-type {\n",
       "        vertical-align: middle;\n",
       "    }\n",
       "\n",
       "    .dataframe tbody tr th {\n",
       "        vertical-align: top;\n",
       "    }\n",
       "\n",
       "    .dataframe thead th {\n",
       "        text-align: right;\n",
       "    }\n",
       "</style>\n",
       "<table border=\"1\" class=\"dataframe\">\n",
       "  <thead>\n",
       "    <tr style=\"text-align: right;\">\n",
       "      <th></th>\n",
       "      <th>X1</th>\n",
       "      <th>X2</th>\n",
       "      <th>CL</th>\n",
       "    </tr>\n",
       "  </thead>\n",
       "  <tbody>\n",
       "    <tr>\n",
       "      <th>0</th>\n",
       "      <td>144</td>\n",
       "      <td>75</td>\n",
       "      <td>0</td>\n",
       "    </tr>\n",
       "    <tr>\n",
       "      <th>1</th>\n",
       "      <td>169</td>\n",
       "      <td>185</td>\n",
       "      <td>1</td>\n",
       "    </tr>\n",
       "    <tr>\n",
       "      <th>2</th>\n",
       "      <td>227</td>\n",
       "      <td>224</td>\n",
       "      <td>1</td>\n",
       "    </tr>\n",
       "    <tr>\n",
       "      <th>3</th>\n",
       "      <td>103</td>\n",
       "      <td>25</td>\n",
       "      <td>0</td>\n",
       "    </tr>\n",
       "    <tr>\n",
       "      <th>4</th>\n",
       "      <td>241</td>\n",
       "      <td>295</td>\n",
       "      <td>1</td>\n",
       "    </tr>\n",
       "  </tbody>\n",
       "</table>\n",
       "</div>"
      ],
      "text/plain": [
       "    X1   X2  CL\n",
       "0  144   75   0\n",
       "1  169  185   1\n",
       "2  227  224   1\n",
       "3  103   25   0\n",
       "4  241  295   1"
      ]
     },
     "execution_count": 4,
     "metadata": {},
     "output_type": "execute_result"
    },
    {
     "data": {
      "application/javascript": [
       "\n",
       "            setTimeout(function() {\n",
       "                var nbb_cell_id = 4;\n",
       "                var nbb_unformatted_code = \"biv_df = pd.read_csv(\\\"./bivariate_data_points.csv\\\")\\nbiv_df.head()\";\n",
       "                var nbb_formatted_code = \"biv_df = pd.read_csv(\\\"./bivariate_data_points.csv\\\")\\nbiv_df.head()\";\n",
       "                var nbb_cells = Jupyter.notebook.get_cells();\n",
       "                for (var i = 0; i < nbb_cells.length; ++i) {\n",
       "                    if (nbb_cells[i].input_prompt_number == nbb_cell_id) {\n",
       "                        if (nbb_cells[i].get_text() == nbb_unformatted_code) {\n",
       "                             nbb_cells[i].set_text(nbb_formatted_code);\n",
       "                        }\n",
       "                        break;\n",
       "                    }\n",
       "                }\n",
       "            }, 500);\n",
       "            "
      ],
      "text/plain": [
       "<IPython.core.display.Javascript object>"
      ]
     },
     "metadata": {},
     "output_type": "display_data"
    }
   ],
   "source": [
    "biv_df = pd.read_csv(\"../input/synthetic-datasets/bivariate_data_points.csv\")\n",
    "biv_df.head()"
   ]
  },
  {
   "cell_type": "markdown",
   "id": "bcfc207d",
   "metadata": {},
   "source": [
    "# [2] Data Analysis"
   ]
  },
  {
   "cell_type": "code",
   "execution_count": 5,
   "id": "43b52e9d",
   "metadata": {},
   "outputs": [
    {
     "name": "stdout",
     "output_type": "stream",
     "text": [
      "Rows: 500\n",
      "Columns: 3\n"
     ]
    },
    {
     "data": {
      "application/javascript": [
       "\n",
       "            setTimeout(function() {\n",
       "                var nbb_cell_id = 5;\n",
       "                var nbb_unformatted_code = \"rows, cols = biv_df.shape\\n\\nprint(\\\"Rows:\\\", rows)\\nprint(\\\"Columns:\\\", cols)\";\n",
       "                var nbb_formatted_code = \"rows, cols = biv_df.shape\\n\\nprint(\\\"Rows:\\\", rows)\\nprint(\\\"Columns:\\\", cols)\";\n",
       "                var nbb_cells = Jupyter.notebook.get_cells();\n",
       "                for (var i = 0; i < nbb_cells.length; ++i) {\n",
       "                    if (nbb_cells[i].input_prompt_number == nbb_cell_id) {\n",
       "                        if (nbb_cells[i].get_text() == nbb_unformatted_code) {\n",
       "                             nbb_cells[i].set_text(nbb_formatted_code);\n",
       "                        }\n",
       "                        break;\n",
       "                    }\n",
       "                }\n",
       "            }, 500);\n",
       "            "
      ],
      "text/plain": [
       "<IPython.core.display.Javascript object>"
      ]
     },
     "metadata": {},
     "output_type": "display_data"
    }
   ],
   "source": [
    "rows, cols = biv_df.shape\n",
    "\n",
    "print(\"Rows:\", rows)\n",
    "print(\"Columns:\", cols)"
   ]
  },
  {
   "cell_type": "code",
   "execution_count": 6,
   "id": "86d6a1e9",
   "metadata": {
    "scrolled": true
   },
   "outputs": [
    {
     "name": "stdout",
     "output_type": "stream",
     "text": [
      "<class 'pandas.core.frame.DataFrame'>\n",
      "RangeIndex: 500 entries, 0 to 499\n",
      "Data columns (total 3 columns):\n",
      " #   Column  Non-Null Count  Dtype\n",
      "---  ------  --------------  -----\n",
      " 0   X1      500 non-null    int64\n",
      " 1   X2      500 non-null    int64\n",
      " 2   CL      500 non-null    int64\n",
      "dtypes: int64(3)\n",
      "memory usage: 11.8 KB\n"
     ]
    },
    {
     "data": {
      "application/javascript": [
       "\n",
       "            setTimeout(function() {\n",
       "                var nbb_cell_id = 6;\n",
       "                var nbb_unformatted_code = \"biv_df.info()\";\n",
       "                var nbb_formatted_code = \"biv_df.info()\";\n",
       "                var nbb_cells = Jupyter.notebook.get_cells();\n",
       "                for (var i = 0; i < nbb_cells.length; ++i) {\n",
       "                    if (nbb_cells[i].input_prompt_number == nbb_cell_id) {\n",
       "                        if (nbb_cells[i].get_text() == nbb_unformatted_code) {\n",
       "                             nbb_cells[i].set_text(nbb_formatted_code);\n",
       "                        }\n",
       "                        break;\n",
       "                    }\n",
       "                }\n",
       "            }, 500);\n",
       "            "
      ],
      "text/plain": [
       "<IPython.core.display.Javascript object>"
      ]
     },
     "metadata": {},
     "output_type": "display_data"
    }
   ],
   "source": [
    "biv_df.info()"
   ]
  },
  {
   "cell_type": "code",
   "execution_count": 7,
   "id": "250662a5",
   "metadata": {},
   "outputs": [
    {
     "data": {
      "text/plain": [
       "X1    291\n",
       "X2    322\n",
       "CL      1\n",
       "dtype: int64"
      ]
     },
     "execution_count": 7,
     "metadata": {},
     "output_type": "execute_result"
    },
    {
     "data": {
      "application/javascript": [
       "\n",
       "            setTimeout(function() {\n",
       "                var nbb_cell_id = 7;\n",
       "                var nbb_unformatted_code = \"biv_df.apply(max)\";\n",
       "                var nbb_formatted_code = \"biv_df.apply(max)\";\n",
       "                var nbb_cells = Jupyter.notebook.get_cells();\n",
       "                for (var i = 0; i < nbb_cells.length; ++i) {\n",
       "                    if (nbb_cells[i].input_prompt_number == nbb_cell_id) {\n",
       "                        if (nbb_cells[i].get_text() == nbb_unformatted_code) {\n",
       "                             nbb_cells[i].set_text(nbb_formatted_code);\n",
       "                        }\n",
       "                        break;\n",
       "                    }\n",
       "                }\n",
       "            }, 500);\n",
       "            "
      ],
      "text/plain": [
       "<IPython.core.display.Javascript object>"
      ]
     },
     "metadata": {},
     "output_type": "display_data"
    }
   ],
   "source": [
    "biv_df.apply(max)"
   ]
  },
  {
   "cell_type": "markdown",
   "id": "1eeb248d",
   "metadata": {},
   "source": [
    "#### Plot attributes"
   ]
  },
  {
   "cell_type": "code",
   "execution_count": 8,
   "id": "6279b160",
   "metadata": {},
   "outputs": [
    {
     "data": {
      "image/png": "[encoded data removed]",
      "text/plain": [
       "<Figure size 432x288 with 1 Axes>"
      ]
     },
     "metadata": {},
     "output_type": "display_data"
    },
    {
     "data": {
      "application/javascript": [
       "\n",
       "            setTimeout(function() {\n",
       "                var nbb_cell_id = 8;\n",
       "                var nbb_unformatted_code = \"sns.scatterplot(\\n    data=biv_df,\\n    x=\\\"X1\\\",\\n    y=\\\"X2\\\",\\n    hue=\\\"CL\\\",\\n    palette=\\\"bright\\\",\\n    style=\\\"CL\\\",\\n    size=\\\"CL\\\",\\n    markers=[\\\"o\\\", \\\"X\\\"],\\n    sizes=(60, 30),\\n)\\nplt.show()\";\n",
       "                var nbb_formatted_code = \"sns.scatterplot(\\n    data=biv_df,\\n    x=\\\"X1\\\",\\n    y=\\\"X2\\\",\\n    hue=\\\"CL\\\",\\n    palette=\\\"bright\\\",\\n    style=\\\"CL\\\",\\n    size=\\\"CL\\\",\\n    markers=[\\\"o\\\", \\\"X\\\"],\\n    sizes=(60, 30),\\n)\\nplt.show()\";\n",
       "                var nbb_cells = Jupyter.notebook.get_cells();\n",
       "                for (var i = 0; i < nbb_cells.length; ++i) {\n",
       "                    if (nbb_cells[i].input_prompt_number == nbb_cell_id) {\n",
       "                        if (nbb_cells[i].get_text() == nbb_unformatted_code) {\n",
       "                             nbb_cells[i].set_text(nbb_formatted_code);\n",
       "                        }\n",
       "                        break;\n",
       "                    }\n",
       "                }\n",
       "            }, 500);\n",
       "            "
      ],
      "text/plain": [
       "<IPython.core.display.Javascript object>"
      ]
     },
     "metadata": {},
     "output_type": "display_data"
    }
   ],
   "source": [
    "sns.scatterplot(\n",
    "    data=biv_df,\n",
    "    x=\"X1\",\n",
    "    y=\"X2\",\n",
    "    hue=\"CL\",\n",
    "    palette=\"bright\",\n",
    "    style=\"CL\",\n",
    "    size=\"CL\",\n",
    "    markers=[\"o\", \"X\"],\n",
    "    sizes=(60, 30),\n",
    ")\n",
    "plt.show()"
   ]
  },
  {
   "cell_type": "markdown",
   "id": "a3edd6a7",
   "metadata": {},
   "source": [
    "# [3] Implementation\n",
    "\n",
    "### Sample logic\n",
    "\n",
    "Compute Cost function on a multivariate dataset using **matrix multiplication technique**."
   ]
  },
  {
   "cell_type": "code",
   "execution_count": 9,
   "id": "92ca7b1d",
   "metadata": {},
   "outputs": [
    {
     "name": "stdout",
     "output_type": "stream",
     "text": [
      "Rows: 10 Columns: 2\n",
      "X shape: (10, 3)\n",
      "Y shape: (10, None)\n",
      "θ shape: (3, None)\n"
     ]
    },
    {
     "data": {
      "application/javascript": [
       "\n",
       "            setTimeout(function() {\n",
       "                var nbb_cell_id = 9;\n",
       "                var nbb_unformatted_code = \"# Theta\\ntheta = np.array([-10, 1, 1])\\nX = np.array(\\n    [\\n        [5, 2],\\n        [4, 1],\\n        [3, 4],\\n        [2, 3],\\n        [1, 5],\\n        [6, 9],\\n        [7, 10],\\n        [8, 6],\\n        [9, 8],\\n        [10, 7],\\n    ]\\n)\\nY = np.array([0, 0, 0, 0, 0, 1, 1, 1, 1, 1])\\n\\nm, n = get_shape(X)\\nX_0 = np.ones((m, 1), X.dtype)\\nX = np.hstack((X_0, X))\\n\\nprint(\\\"Rows:\\\", m, \\\"Columns:\\\", n)\\nprint(\\\"X shape:\\\", get_shape(X))\\nprint(\\\"Y shape:\\\", get_shape(Y))\\nprint(\\\"\\u03b8 shape:\\\", get_shape(theta))\";\n",
       "                var nbb_formatted_code = \"# Theta\\ntheta = np.array([-10, 1, 1])\\nX = np.array(\\n    [\\n        [5, 2],\\n        [4, 1],\\n        [3, 4],\\n        [2, 3],\\n        [1, 5],\\n        [6, 9],\\n        [7, 10],\\n        [8, 6],\\n        [9, 8],\\n        [10, 7],\\n    ]\\n)\\nY = np.array([0, 0, 0, 0, 0, 1, 1, 1, 1, 1])\\n\\nm, n = get_shape(X)\\nX_0 = np.ones((m, 1), X.dtype)\\nX = np.hstack((X_0, X))\\n\\nprint(\\\"Rows:\\\", m, \\\"Columns:\\\", n)\\nprint(\\\"X shape:\\\", get_shape(X))\\nprint(\\\"Y shape:\\\", get_shape(Y))\\nprint(\\\"\\u03b8 shape:\\\", get_shape(theta))\";\n",
       "                var nbb_cells = Jupyter.notebook.get_cells();\n",
       "                for (var i = 0; i < nbb_cells.length; ++i) {\n",
       "                    if (nbb_cells[i].input_prompt_number == nbb_cell_id) {\n",
       "                        if (nbb_cells[i].get_text() == nbb_unformatted_code) {\n",
       "                             nbb_cells[i].set_text(nbb_formatted_code);\n",
       "                        }\n",
       "                        break;\n",
       "                    }\n",
       "                }\n",
       "            }, 500);\n",
       "            "
      ],
      "text/plain": [
       "<IPython.core.display.Javascript object>"
      ]
     },
     "metadata": {},
     "output_type": "display_data"
    }
   ],
   "source": [
    "# Theta\n",
    "theta = np.array([-10, 1, 1])\n",
    "X = np.array(\n",
    "    [\n",
    "        [5, 2],\n",
    "        [4, 1],\n",
    "        [3, 4],\n",
    "        [2, 3],\n",
    "        [1, 5],\n",
    "        [6, 9],\n",
    "        [7, 10],\n",
    "        [8, 6],\n",
    "        [9, 8],\n",
    "        [10, 7],\n",
    "    ]\n",
    ")\n",
    "Y = np.array([0, 0, 0, 0, 0, 1, 1, 1, 1, 1])\n",
    "\n",
    "m, n = get_shape(X)\n",
    "X_0 = np.ones((m, 1), X.dtype)\n",
    "X = np.hstack((X_0, X))\n",
    "\n",
    "print(\"Rows:\", m, \"Columns:\", n)\n",
    "print(\"X shape:\", get_shape(X))\n",
    "print(\"Y shape:\", get_shape(Y))\n",
    "print(\"θ shape:\", get_shape(theta))"
   ]
  },
  {
   "cell_type": "code",
   "execution_count": 10,
   "id": "249ece58",
   "metadata": {},
   "outputs": [
    {
     "name": "stdout",
     "output_type": "stream",
     "text": [
      "Hypothesis values: [[0.0474, 0.0067, 0.0474, 0.0067, 0.018, 0.9933, 0.9991, 0.982, 0.9991, 0.9991]]\n",
      "Hypothesis Shape: (1, 10)\n"
     ]
    },
    {
     "data": {
      "application/javascript": [
       "\n",
       "            setTimeout(function() {\n",
       "                var nbb_cell_id = 10;\n",
       "                var nbb_unformatted_code = \"# Model\\nZ = np.matmul(theta, X.transpose())\\nh = 1 / (1 + np.exp(-Z))\\n\\n# h = (h >= 0.5).astype(int)  # Predicted Y\\nh = np.round(h, 4)\\nh = h.reshape((1, m))\\n\\nprint(\\\"Hypothesis values:\\\", h.tolist())\\nprint(\\\"Hypothesis Shape:\\\", get_shape(h))\";\n",
       "                var nbb_formatted_code = \"# Model\\nZ = np.matmul(theta, X.transpose())\\nh = 1 / (1 + np.exp(-Z))\\n\\n# h = (h >= 0.5).astype(int)  # Predicted Y\\nh = np.round(h, 4)\\nh = h.reshape((1, m))\\n\\nprint(\\\"Hypothesis values:\\\", h.tolist())\\nprint(\\\"Hypothesis Shape:\\\", get_shape(h))\";\n",
       "                var nbb_cells = Jupyter.notebook.get_cells();\n",
       "                for (var i = 0; i < nbb_cells.length; ++i) {\n",
       "                    if (nbb_cells[i].input_prompt_number == nbb_cell_id) {\n",
       "                        if (nbb_cells[i].get_text() == nbb_unformatted_code) {\n",
       "                             nbb_cells[i].set_text(nbb_formatted_code);\n",
       "                        }\n",
       "                        break;\n",
       "                    }\n",
       "                }\n",
       "            }, 500);\n",
       "            "
      ],
      "text/plain": [
       "<IPython.core.display.Javascript object>"
      ]
     },
     "metadata": {},
     "output_type": "display_data"
    }
   ],
   "source": [
    "# Model\n",
    "Z = np.matmul(theta, X.transpose())\n",
    "h = 1 / (1 + np.exp(-Z))\n",
    "\n",
    "# h = (h >= 0.5).astype(int)  # Predicted Y\n",
    "h = np.round(h, 4)\n",
    "h = h.reshape((1, m))\n",
    "\n",
    "print(\"Hypothesis values:\", h.tolist())\n",
    "print(\"Hypothesis Shape:\", get_shape(h))"
   ]
  },
  {
   "cell_type": "code",
   "execution_count": 11,
   "id": "10895c8a",
   "metadata": {},
   "outputs": [
    {
     "name": "stdout",
     "output_type": "stream",
     "text": [
      "P class: [-0.02758773]\n",
      "P class shape: (1, None)\n",
      "N class: [-0.12872944]\n",
      "N class shape: (1, None)\n",
      "Cost: 0.015631717549806932\n"
     ]
    },
    {
     "data": {
      "application/javascript": [
       "\n",
       "            setTimeout(function() {\n",
       "                var nbb_cell_id = 11;\n",
       "                var nbb_unformatted_code = \"# p_cls = -1 * np.matmul(np.log(h), Y)\\n# n_cls = -1 * np.matmul(np.log(1 - h), (1 - Y))\\n\\np_cls = np.matmul(np.log(h), Y)\\nprint(\\\"P class:\\\", p_cls)\\nprint(\\\"P class shape:\\\", get_shape(p_cls))\\n\\nn_cls = np.matmul(np.log(1 - h), (1 - Y))\\nprint(\\\"N class:\\\", n_cls)\\nprint(\\\"N class shape:\\\", get_shape(n_cls))\\n\\ncost = (-1 / m) * (p_cls + n_cls)\\nprint(\\\"Cost:\\\", cost.item())\";\n",
       "                var nbb_formatted_code = \"# p_cls = -1 * np.matmul(np.log(h), Y)\\n# n_cls = -1 * np.matmul(np.log(1 - h), (1 - Y))\\n\\np_cls = np.matmul(np.log(h), Y)\\nprint(\\\"P class:\\\", p_cls)\\nprint(\\\"P class shape:\\\", get_shape(p_cls))\\n\\nn_cls = np.matmul(np.log(1 - h), (1 - Y))\\nprint(\\\"N class:\\\", n_cls)\\nprint(\\\"N class shape:\\\", get_shape(n_cls))\\n\\ncost = (-1 / m) * (p_cls + n_cls)\\nprint(\\\"Cost:\\\", cost.item())\";\n",
       "                var nbb_cells = Jupyter.notebook.get_cells();\n",
       "                for (var i = 0; i < nbb_cells.length; ++i) {\n",
       "                    if (nbb_cells[i].input_prompt_number == nbb_cell_id) {\n",
       "                        if (nbb_cells[i].get_text() == nbb_unformatted_code) {\n",
       "                             nbb_cells[i].set_text(nbb_formatted_code);\n",
       "                        }\n",
       "                        break;\n",
       "                    }\n",
       "                }\n",
       "            }, 500);\n",
       "            "
      ],
      "text/plain": [
       "<IPython.core.display.Javascript object>"
      ]
     },
     "metadata": {},
     "output_type": "display_data"
    }
   ],
   "source": [
    "# p_cls = -1 * np.matmul(np.log(h), Y)\n",
    "# n_cls = -1 * np.matmul(np.log(1 - h), (1 - Y))\n",
    "\n",
    "p_cls = np.matmul(np.log(h), Y)\n",
    "print(\"P class:\", p_cls)\n",
    "print(\"P class shape:\", get_shape(p_cls))\n",
    "\n",
    "n_cls = np.matmul(np.log(1 - h), (1 - Y))\n",
    "print(\"N class:\", n_cls)\n",
    "print(\"N class shape:\", get_shape(n_cls))\n",
    "\n",
    "cost = (-1 / m) * (p_cls + n_cls)\n",
    "print(\"Cost:\", cost.item())"
   ]
  },
  {
   "cell_type": "markdown",
   "id": "71121e24",
   "metadata": {},
   "source": [
    "### Final implementation"
   ]
  },
  {
   "cell_type": "code",
   "execution_count": 12,
   "id": "1956114b",
   "metadata": {},
   "outputs": [
    {
     "data": {
      "application/javascript": [
       "\n",
       "            setTimeout(function() {\n",
       "                var nbb_cell_id = 12;\n",
       "                var nbb_unformatted_code = \"def cost_function(X, Y, theta):\\n    \\\"\\\"\\\"\\n    Function to compute Squared Error cost function.\\n    \\\"\\\"\\\"\\n    m, n = get_shape(X)\\n    # m: Total number for records or data-points\\n    # n: Total number for input-variables or features.\\n\\n    if not n:\\n        # Reshape NumPy array to vector.\\n        text(\\\"Reshaping NumPy array, univariate feature X, to vector.\\\")\\n        X = X.reshape((m, 1))\\n\\n    # Dummy feature x0 for y-intercept or theta-zero.\\n    X_0 = np.ones((m, 1), X.dtype)\\n\\n    # Horizontally append x0 to input feature.\\n    X = np.hstack((X_0, X))\\n\\n    text(\\\"X shape:\\\", get_shape(X))\\n    text(\\\"Y shape:\\\", get_shape(Y))\\n    text(\\\"\\u03b8 shape:\\\", get_shape(theta))\\n\\n    # Calculate hypothesis or Model.\\n    # y = t0*x0 + t1*x1 + t2*x2 + ... + tn*xn\\n    Z = np.matmul(theta, X.transpose())\\n    hypothesis = 1 / (1 + np.exp(-Z))\\n\\n    h = hypothesis.reshape((1, m))\\n    p_cls = np.matmul(np.log(h), Y)\\n    n_cls = np.matmul(np.log(1 - h), (1 - Y))\\n    cost = (-1 / m) * (p_cls + n_cls)\\n\\n    return np.round(cost, 6).item()\";\n",
       "                var nbb_formatted_code = \"def cost_function(X, Y, theta):\\n    \\\"\\\"\\\"\\n    Function to compute Squared Error cost function.\\n    \\\"\\\"\\\"\\n    m, n = get_shape(X)\\n    # m: Total number for records or data-points\\n    # n: Total number for input-variables or features.\\n\\n    if not n:\\n        # Reshape NumPy array to vector.\\n        text(\\\"Reshaping NumPy array, univariate feature X, to vector.\\\")\\n        X = X.reshape((m, 1))\\n\\n    # Dummy feature x0 for y-intercept or theta-zero.\\n    X_0 = np.ones((m, 1), X.dtype)\\n\\n    # Horizontally append x0 to input feature.\\n    X = np.hstack((X_0, X))\\n\\n    text(\\\"X shape:\\\", get_shape(X))\\n    text(\\\"Y shape:\\\", get_shape(Y))\\n    text(\\\"\\u03b8 shape:\\\", get_shape(theta))\\n\\n    # Calculate hypothesis or Model.\\n    # y = t0*x0 + t1*x1 + t2*x2 + ... + tn*xn\\n    Z = np.matmul(theta, X.transpose())\\n    hypothesis = 1 / (1 + np.exp(-Z))\\n\\n    h = hypothesis.reshape((1, m))\\n    p_cls = np.matmul(np.log(h), Y)\\n    n_cls = np.matmul(np.log(1 - h), (1 - Y))\\n    cost = (-1 / m) * (p_cls + n_cls)\\n\\n    return np.round(cost, 6).item()\";\n",
       "                var nbb_cells = Jupyter.notebook.get_cells();\n",
       "                for (var i = 0; i < nbb_cells.length; ++i) {\n",
       "                    if (nbb_cells[i].input_prompt_number == nbb_cell_id) {\n",
       "                        if (nbb_cells[i].get_text() == nbb_unformatted_code) {\n",
       "                             nbb_cells[i].set_text(nbb_formatted_code);\n",
       "                        }\n",
       "                        break;\n",
       "                    }\n",
       "                }\n",
       "            }, 500);\n",
       "            "
      ],
      "text/plain": [
       "<IPython.core.display.Javascript object>"
      ]
     },
     "metadata": {},
     "output_type": "display_data"
    }
   ],
   "source": [
    "def cost_function(X, Y, theta):\n",
    "    \"\"\"\n",
    "    Function to compute Squared Error cost function.\n",
    "    \"\"\"\n",
    "    m, n = get_shape(X)\n",
    "    # m: Total number for records or data-points\n",
    "    # n: Total number for input-variables or features.\n",
    "\n",
    "    if not n:\n",
    "        # Reshape NumPy array to vector.\n",
    "        text(\"Reshaping NumPy array, univariate feature X, to vector.\")\n",
    "        X = X.reshape((m, 1))\n",
    "\n",
    "    # Dummy feature x0 for y-intercept or theta-zero.\n",
    "    X_0 = np.ones((m, 1), X.dtype)\n",
    "\n",
    "    # Horizontally append x0 to input feature.\n",
    "    X = np.hstack((X_0, X))\n",
    "\n",
    "    text(\"X shape:\", get_shape(X))\n",
    "    text(\"Y shape:\", get_shape(Y))\n",
    "    text(\"θ shape:\", get_shape(theta))\n",
    "\n",
    "    # Calculate hypothesis or Model.\n",
    "    # y = t0*x0 + t1*x1 + t2*x2 + ... + tn*xn\n",
    "    Z = np.matmul(theta, X.transpose())\n",
    "    hypothesis = 1 / (1 + np.exp(-Z))\n",
    "\n",
    "    h = hypothesis.reshape((1, m))\n",
    "    p_cls = np.matmul(np.log(h), Y)\n",
    "    n_cls = np.matmul(np.log(1 - h), (1 - Y))\n",
    "    cost = (-1 / m) * (p_cls + n_cls)\n",
    "\n",
    "    return np.round(cost, 6).item()"
   ]
  },
  {
   "cell_type": "markdown",
   "id": "9dd73267",
   "metadata": {},
   "source": [
    "# [4] Testing\n",
    "\n",
    "Testing Squared Error cost function using univariate dataset."
   ]
  },
  {
   "cell_type": "code",
   "execution_count": 13,
   "id": "2316fe8e",
   "metadata": {
    "scrolled": false
   },
   "outputs": [
    {
     "name": "stdout",
     "output_type": "stream",
     "text": [
      "X shape: (500, 3)\n",
      "Y shape: (500, None)\n",
      "θ shape: (3, None)\n",
      "\n",
      "Cost: 5.945279\n"
     ]
    },
    {
     "data": {
      "application/javascript": [
       "\n",
       "            setTimeout(function() {\n",
       "                var nbb_cell_id = 13;\n",
       "                var nbb_unformatted_code = \"ENABLE_LOG = True\\n\\nx_vals = biv_df[[\\\"X1\\\", \\\"X2\\\"]].values\\ny_vals = biv_df[\\\"CL\\\"].values\\ntheta = np.array([0.05, 0.05, 0.05])\\n\\ncost = cost_function(x_vals, y_vals, theta)\\nprint(\\\"\\\\nCost:\\\", cost)\";\n",
       "                var nbb_formatted_code = \"ENABLE_LOG = True\\n\\nx_vals = biv_df[[\\\"X1\\\", \\\"X2\\\"]].values\\ny_vals = biv_df[\\\"CL\\\"].values\\ntheta = np.array([0.05, 0.05, 0.05])\\n\\ncost = cost_function(x_vals, y_vals, theta)\\nprint(\\\"\\\\nCost:\\\", cost)\";\n",
       "                var nbb_cells = Jupyter.notebook.get_cells();\n",
       "                for (var i = 0; i < nbb_cells.length; ++i) {\n",
       "                    if (nbb_cells[i].input_prompt_number == nbb_cell_id) {\n",
       "                        if (nbb_cells[i].get_text() == nbb_unformatted_code) {\n",
       "                             nbb_cells[i].set_text(nbb_formatted_code);\n",
       "                        }\n",
       "                        break;\n",
       "                    }\n",
       "                }\n",
       "            }, 500);\n",
       "            "
      ],
      "text/plain": [
       "<IPython.core.display.Javascript object>"
      ]
     },
     "metadata": {},
     "output_type": "display_data"
    }
   ],
   "source": [
    "ENABLE_LOG = True\n",
    "\n",
    "x_vals = biv_df[[\"X1\", \"X2\"]].values\n",
    "y_vals = biv_df[\"CL\"].values\n",
    "theta = np.array([0.05, 0.05, 0.05])\n",
    "\n",
    "cost = cost_function(x_vals, y_vals, theta)\n",
    "print(\"\\nCost:\", cost)"
   ]
  },
  {
   "cell_type": "markdown",
   "id": "5e330703",
   "metadata": {},
   "source": [
    "## θ<sub>1</sub> vs J(θ<sub>0</sub>, θ<sub>1</sub>)\n",
    "\n",
    "Plot Cost value for various θ<sub>1</sub> values."
   ]
  },
  {
   "cell_type": "code",
   "execution_count": 14,
   "id": "90b6d039",
   "metadata": {},
   "outputs": [
    {
     "data": {
      "text/plain": [
       "array([0.01 , 0.015, 0.02 , 0.025, 0.03 , 0.035, 0.04 , 0.045, 0.05 , 0.055, 0.06 , 0.065, 0.07 , 0.075, 0.08 , 0.085, 0.09 ,\n",
       "       0.095, 0.1  , 0.105, 0.11 , 0.115, 0.12 , 0.125, 0.13 , 0.135, 0.14 , 0.145, 0.15 , 0.155, 0.16 , 0.165, 0.17 , 0.175,\n",
       "       0.18 , 0.185, 0.19 , 0.195])"
      ]
     },
     "execution_count": 14,
     "metadata": {},
     "output_type": "execute_result"
    },
    {
     "data": {
      "application/javascript": [
       "\n",
       "            setTimeout(function() {\n",
       "                var nbb_cell_id = 14;\n",
       "                var nbb_unformatted_code = \"np.arange(0.01, 0.2, 0.005)\";\n",
       "                var nbb_formatted_code = \"np.arange(0.01, 0.2, 0.005)\";\n",
       "                var nbb_cells = Jupyter.notebook.get_cells();\n",
       "                for (var i = 0; i < nbb_cells.length; ++i) {\n",
       "                    if (nbb_cells[i].input_prompt_number == nbb_cell_id) {\n",
       "                        if (nbb_cells[i].get_text() == nbb_unformatted_code) {\n",
       "                             nbb_cells[i].set_text(nbb_formatted_code);\n",
       "                        }\n",
       "                        break;\n",
       "                    }\n",
       "                }\n",
       "            }, 500);\n",
       "            "
      ],
      "text/plain": [
       "<IPython.core.display.Javascript object>"
      ]
     },
     "metadata": {},
     "output_type": "display_data"
    }
   ],
   "source": [
    "np.arange(0.01, 0.2, 0.005)"
   ]
  },
  {
   "cell_type": "code",
   "execution_count": 15,
   "id": "ba897576",
   "metadata": {},
   "outputs": [
    {
     "name": "stderr",
     "output_type": "stream",
     "text": [
      "C:\\Users\\dheem\\AppData\\Local\\Temp/ipykernel_21656/2544472669.py:31: RuntimeWarning: divide by zero encountered in log\n",
      "  n_cls = np.matmul(np.log(1 - h), (1 - Y))\n",
      "C:\\Users\\dheem\\AppData\\Local\\Temp/ipykernel_21656/2544472669.py:31: RuntimeWarning: invalid value encountered in matmul\n",
      "  n_cls = np.matmul(np.log(1 - h), (1 - Y))\n"
     ]
    },
    {
     "data": {
      "image/png": "[encoded data removed]",
      "text/plain": [
       "<Figure size 576x360 with 1 Axes>"
      ]
     },
     "metadata": {},
     "output_type": "display_data"
    },
    {
     "data": {
      "application/javascript": [
       "\n",
       "            setTimeout(function() {\n",
       "                var nbb_cell_id = 15;\n",
       "                var nbb_unformatted_code = \"ENABLE_LOG = False\\n\\nx_vals = biv_df[[\\\"X1\\\", \\\"X2\\\"]].values\\ny_vals = biv_df[\\\"CL\\\"].values\\ntheta_1 = -5\\ntheta_2 = 8\\ntheta_0s = np.arange(0.01, 0.2, 0.005)\\n\\nJ = []\\nfor theta_0 in theta_0s:\\n    theta = np.array([theta_0, theta_1, theta_2])\\n    cost = cost_function(x_vals, y_vals, theta)\\n    J.append(cost)\\n\\nplt.figure(figsize=(8, 5))\\n\\nsns.scatterplot(x=theta_0s, y=J)\\nplt.xlabel(\\\"\\u03b81\\\")\\nplt.ylabel(\\\"J(\\u03b80, \\u03b81)\\\")\\n\\nplt.show()\";\n",
       "                var nbb_formatted_code = \"ENABLE_LOG = False\\n\\nx_vals = biv_df[[\\\"X1\\\", \\\"X2\\\"]].values\\ny_vals = biv_df[\\\"CL\\\"].values\\ntheta_1 = -5\\ntheta_2 = 8\\ntheta_0s = np.arange(0.01, 0.2, 0.005)\\n\\nJ = []\\nfor theta_0 in theta_0s:\\n    theta = np.array([theta_0, theta_1, theta_2])\\n    cost = cost_function(x_vals, y_vals, theta)\\n    J.append(cost)\\n\\nplt.figure(figsize=(8, 5))\\n\\nsns.scatterplot(x=theta_0s, y=J)\\nplt.xlabel(\\\"\\u03b81\\\")\\nplt.ylabel(\\\"J(\\u03b80, \\u03b81)\\\")\\n\\nplt.show()\";\n",
       "                var nbb_cells = Jupyter.notebook.get_cells();\n",
       "                for (var i = 0; i < nbb_cells.length; ++i) {\n",
       "                    if (nbb_cells[i].input_prompt_number == nbb_cell_id) {\n",
       "                        if (nbb_cells[i].get_text() == nbb_unformatted_code) {\n",
       "                             nbb_cells[i].set_text(nbb_formatted_code);\n",
       "                        }\n",
       "                        break;\n",
       "                    }\n",
       "                }\n",
       "            }, 500);\n",
       "            "
      ],
      "text/plain": [
       "<IPython.core.display.Javascript object>"
      ]
     },
     "metadata": {},
     "output_type": "display_data"
    }
   ],
   "source": [
    "ENABLE_LOG = False\n",
    "\n",
    "x_vals = biv_df[[\"X1\", \"X2\"]].values\n",
    "y_vals = biv_df[\"CL\"].values\n",
    "theta_1 = -5\n",
    "theta_2 = 8\n",
    "theta_0s = np.arange(0.01, 0.2, 0.005)\n",
    "\n",
    "J = []\n",
    "for theta_0 in theta_0s:\n",
    "    theta = np.array([theta_0, theta_1, theta_2])\n",
    "    cost = cost_function(x_vals, y_vals, theta)\n",
    "    J.append(cost)\n",
    "\n",
    "plt.figure(figsize=(8, 5))\n",
    "\n",
    "sns.scatterplot(x=theta_0s, y=J)\n",
    "plt.xlabel(\"θ1\")\n",
    "plt.ylabel(\"J(θ0, θ1)\")\n",
    "\n",
    "plt.show()"
   ]
  }
 ],
 "metadata": {
  "kernelspec": {
   "display_name": "Python 3 (ipykernel)",
   "language": "python",
   "name": "python3"
  },
  "language_info": {
   "codemirror_mode": {
    "name": "ipython",
    "version": 3
   },
   "file_extension": ".py",
   "mimetype": "text/x-python",
   "name": "python",
   "nbconvert_exporter": "python",
   "pygments_lexer": "ipython3",
   "version": "3.9.12"
  }
 },
 "nbformat": 4,
 "nbformat_minor": 5
}
