{
 "cells": [
  {
   "cell_type": "code",
   "execution_count": 1,
   "id": "6387c319",
   "metadata": {},
   "outputs": [
    {
     "data": {
      "application/javascript": [
       "\n",
       "            setTimeout(function() {\n",
       "                var nbb_cell_id = 1;\n",
       "                var nbb_unformatted_code = \"# Enable code formatting using external plugin: nb_black.\\n%reload_ext nb_black\";\n",
       "                var nbb_formatted_code = \"# Enable code formatting using external plugin: nb_black.\\n%reload_ext nb_black\";\n",
       "                var nbb_cells = Jupyter.notebook.get_cells();\n",
       "                for (var i = 0; i < nbb_cells.length; ++i) {\n",
       "                    if (nbb_cells[i].input_prompt_number == nbb_cell_id) {\n",
       "                        if (nbb_cells[i].get_text() == nbb_unformatted_code) {\n",
       "                             nbb_cells[i].set_text(nbb_formatted_code);\n",
       "                        }\n",
       "                        break;\n",
       "                    }\n",
       "                }\n",
       "            }, 500);\n",
       "            "
      ],
      "text/plain": [
       "<IPython.core.display.Javascript object>"
      ]
     },
     "metadata": {},
     "output_type": "display_data"
    }
   ],
   "source": [
    "# Enable code formatting using external plugin: nb_black.\n",
    "%reload_ext nb_black"
   ]
  },
  {
   "cell_type": "markdown",
   "id": "4806c83f",
   "metadata": {},
   "source": [
    "# K-Nearest Neighbor (KNN)\n",
    "\n",
    "Implement KNN algorithm.\n",
    "\n",
    "### Objective\n",
    "\n",
    "1. Understanding KNN algorithm.\n",
    "2. Given a query point <code>x<sub>q</sub></code>, predict its class using KNN.\n",
    "3. Implement KNN algorithm.\n",
    "4. Overfitting and Underfitting.\n",
    "5. K-fold Cross validation."
   ]
  },
  {
   "cell_type": "markdown",
   "id": "a1503e26",
   "metadata": {},
   "source": [
    "# [1] Setup\n",
    "\n",
    "### Import and configure required libraries"
   ]
  },
  {
   "cell_type": "code",
   "execution_count": 2,
   "id": "70829a79",
   "metadata": {},
   "outputs": [
    {
     "name": "stdout",
     "output_type": "stream",
     "text": [
      "NumPy version: 1.21.5\n",
      "Pandas version: 1.4.2\n",
      "Matplotlib version: 3.5.1\n",
      "Seaborn version: 0.11.2\n"
     ]
    },
    {
     "data": {
      "application/javascript": [
       "\n",
       "            setTimeout(function() {\n",
       "                var nbb_cell_id = 2;\n",
       "                var nbb_unformatted_code = \"# Data manipulation libraries\\nimport numpy as np\\nimport pandas as pd\\n\\n# Data visualization libraries\\nimport matplotlib\\nimport matplotlib.pyplot as plt\\nimport seaborn as sns\\nfrom prettytable import PrettyTable\\n\\n# General imports\\nimport math\\n\\n# Library versions used in below EDA.\\nprint(\\\"NumPy version:\\\", np.__version__)\\nprint(\\\"Pandas version:\\\", pd.__version__)\\nprint(\\\"Matplotlib version:\\\", matplotlib.__version__)\\nprint(\\\"Seaborn version:\\\", sns.__version__)\\n\\n# Configure NumPy.\\n# Set `Line width` to Maximum 130 characters in the output, post which it will continue in next line.\\nnp.set_printoptions(linewidth=130)\\n\\n# Configure Pandas.\\n# Set display width to maximum 130 characters in the output, post which it will continue in next line.\\npd.options.display.width = 130\\n\\n# Configure Seaborn.\\nsns.set_style(\\\"whitegrid\\\")  # Set white background with grid.\\nsns.set_palette(\\\"deep\\\")  # Set color palette.\\nsns.set_context(\\\"paper\\\", font_scale=1.5)  # Set font to scale 1.5 more than normal.\";\n",
       "                var nbb_formatted_code = \"# Data manipulation libraries\\nimport numpy as np\\nimport pandas as pd\\n\\n# Data visualization libraries\\nimport matplotlib\\nimport matplotlib.pyplot as plt\\nimport seaborn as sns\\nfrom prettytable import PrettyTable\\n\\n# General imports\\nimport math\\n\\n# Library versions used in below EDA.\\nprint(\\\"NumPy version:\\\", np.__version__)\\nprint(\\\"Pandas version:\\\", pd.__version__)\\nprint(\\\"Matplotlib version:\\\", matplotlib.__version__)\\nprint(\\\"Seaborn version:\\\", sns.__version__)\\n\\n# Configure NumPy.\\n# Set `Line width` to Maximum 130 characters in the output, post which it will continue in next line.\\nnp.set_printoptions(linewidth=130)\\n\\n# Configure Pandas.\\n# Set display width to maximum 130 characters in the output, post which it will continue in next line.\\npd.options.display.width = 130\\n\\n# Configure Seaborn.\\nsns.set_style(\\\"whitegrid\\\")  # Set white background with grid.\\nsns.set_palette(\\\"deep\\\")  # Set color palette.\\nsns.set_context(\\\"paper\\\", font_scale=1.5)  # Set font to scale 1.5 more than normal.\";\n",
       "                var nbb_cells = Jupyter.notebook.get_cells();\n",
       "                for (var i = 0; i < nbb_cells.length; ++i) {\n",
       "                    if (nbb_cells[i].input_prompt_number == nbb_cell_id) {\n",
       "                        if (nbb_cells[i].get_text() == nbb_unformatted_code) {\n",
       "                             nbb_cells[i].set_text(nbb_formatted_code);\n",
       "                        }\n",
       "                        break;\n",
       "                    }\n",
       "                }\n",
       "            }, 500);\n",
       "            "
      ],
      "text/plain": [
       "<IPython.core.display.Javascript object>"
      ]
     },
     "metadata": {},
     "output_type": "display_data"
    }
   ],
   "source": [
    "# Data manipulation libraries\n",
    "import numpy as np\n",
    "import pandas as pd\n",
    "\n",
    "# Data visualization libraries\n",
    "import matplotlib\n",
    "import matplotlib.pyplot as plt\n",
    "import seaborn as sns\n",
    "from prettytable import PrettyTable\n",
    "\n",
    "# General imports\n",
    "import math\n",
    "\n",
    "# Library versions used in below EDA.\n",
    "print(\"NumPy version:\", np.__version__)\n",
    "print(\"Pandas version:\", pd.__version__)\n",
    "print(\"Matplotlib version:\", matplotlib.__version__)\n",
    "print(\"Seaborn version:\", sns.__version__)\n",
    "\n",
    "# Configure NumPy.\n",
    "# Set `Line width` to Maximum 130 characters in the output, post which it will continue in next line.\n",
    "np.set_printoptions(linewidth=130)\n",
    "\n",
    "# Configure Pandas.\n",
    "# Set display width to maximum 130 characters in the output, post which it will continue in next line.\n",
    "pd.options.display.width = 130\n",
    "\n",
    "# Configure Seaborn.\n",
    "sns.set_style(\"whitegrid\")  # Set white background with grid.\n",
    "sns.set_palette(\"deep\")  # Set color palette.\n",
    "sns.set_context(\"paper\", font_scale=1.5)  # Set font to scale 1.5 more than normal."
   ]
  },
  {
   "cell_type": "markdown",
   "id": "75c2d8ea",
   "metadata": {},
   "source": [
    "#### Common functions"
   ]
  },
  {
   "cell_type": "code",
   "execution_count": 3,
   "id": "e6cb2bbe",
   "metadata": {},
   "outputs": [
    {
     "data": {
      "application/javascript": [
       "\n",
       "            setTimeout(function() {\n",
       "                var nbb_cell_id = 3;\n",
       "                var nbb_unformatted_code = \"def is_empty(element) -> bool:\\n    \\\"\\\"\\\"\\n    Function to check if input `element` is empty.\\n\\n    Other than some special exclusions and inclusions,\\n    this function returns boolean result of Falsy check.\\n    \\\"\\\"\\\"\\n    if (isinstance(element, int) or isinstance(element, float)) and element == 0:\\n        # Exclude 0 and 0.0 from the Falsy set.\\n        return False\\n    elif isinstance(element, str) and len(element.strip()) == 0:\\n        # Include string with only one or more empty space(s) into Falsy set.\\n        return True\\n    elif isinstance(element, bool):\\n        # Exclude False from the Falsy set.\\n        return False\\n    else:\\n        # Falsy check.\\n        return False if element else True\\n\\n\\ndef all_zeros(numbers):\\n    \\\"\\\"\\\"\\n    Function to check if all elements in the list are zero.\\n    \\\"\\\"\\\"\\n    return all(n == 0 for n in numbers)\\n\\n\\ndef groupby_count(items, key):\\n    \\\"\\\"\\\"\\n    Function to count `key` in a list of items.\\n    \\\"\\\"\\\"\\n    count = {}\\n    for index, item in enumerate(items):\\n        if is_empty(key(item)):\\n            raise ValueError(f\\\"Specified key not found in the item at index: {index} in the list.\\\")\\n\\n        count[key(item)] = count.get(key(item), 0) + 1\\n\\n    return count\\n\\n\\nENABLE_LOG = False\\n\\n\\ndef log(*args):\\n    \\\"\\\"\\\"\\n    Function print when logging is enabled.\\n    \\\"\\\"\\\"\\n    if ENABLE_LOG is True:\\n        print(*args)\";\n",
       "                var nbb_formatted_code = \"def is_empty(element) -> bool:\\n    \\\"\\\"\\\"\\n    Function to check if input `element` is empty.\\n\\n    Other than some special exclusions and inclusions,\\n    this function returns boolean result of Falsy check.\\n    \\\"\\\"\\\"\\n    if (isinstance(element, int) or isinstance(element, float)) and element == 0:\\n        # Exclude 0 and 0.0 from the Falsy set.\\n        return False\\n    elif isinstance(element, str) and len(element.strip()) == 0:\\n        # Include string with only one or more empty space(s) into Falsy set.\\n        return True\\n    elif isinstance(element, bool):\\n        # Exclude False from the Falsy set.\\n        return False\\n    else:\\n        # Falsy check.\\n        return False if element else True\\n\\n\\ndef all_zeros(numbers):\\n    \\\"\\\"\\\"\\n    Function to check if all elements in the list are zero.\\n    \\\"\\\"\\\"\\n    return all(n == 0 for n in numbers)\\n\\n\\ndef groupby_count(items, key):\\n    \\\"\\\"\\\"\\n    Function to count `key` in a list of items.\\n    \\\"\\\"\\\"\\n    count = {}\\n    for index, item in enumerate(items):\\n        if is_empty(key(item)):\\n            raise ValueError(f\\\"Specified key not found in the item at index: {index} in the list.\\\")\\n\\n        count[key(item)] = count.get(key(item), 0) + 1\\n\\n    return count\\n\\n\\nENABLE_LOG = False\\n\\n\\ndef log(*args):\\n    \\\"\\\"\\\"\\n    Function print when logging is enabled.\\n    \\\"\\\"\\\"\\n    if ENABLE_LOG is True:\\n        print(*args)\";\n",
       "                var nbb_cells = Jupyter.notebook.get_cells();\n",
       "                for (var i = 0; i < nbb_cells.length; ++i) {\n",
       "                    if (nbb_cells[i].input_prompt_number == nbb_cell_id) {\n",
       "                        if (nbb_cells[i].get_text() == nbb_unformatted_code) {\n",
       "                             nbb_cells[i].set_text(nbb_formatted_code);\n",
       "                        }\n",
       "                        break;\n",
       "                    }\n",
       "                }\n",
       "            }, 500);\n",
       "            "
      ],
      "text/plain": [
       "<IPython.core.display.Javascript object>"
      ]
     },
     "metadata": {},
     "output_type": "display_data"
    }
   ],
   "source": [
    "def is_empty(element) -> bool:\n",
    "    \"\"\"\n",
    "    Function to check if input `element` is empty.\n",
    "\n",
    "    Other than some special exclusions and inclusions,\n",
    "    this function returns boolean result of Falsy check.\n",
    "    \"\"\"\n",
    "    if (isinstance(element, int) or isinstance(element, float)) and element == 0:\n",
    "        # Exclude 0 and 0.0 from the Falsy set.\n",
    "        return False\n",
    "    elif isinstance(element, str) and len(element.strip()) == 0:\n",
    "        # Include string with only one or more empty space(s) into Falsy set.\n",
    "        return True\n",
    "    elif isinstance(element, bool):\n",
    "        # Exclude False from the Falsy set.\n",
    "        return False\n",
    "    else:\n",
    "        # Falsy check.\n",
    "        return False if element else True\n",
    "\n",
    "\n",
    "def all_zeros(numbers):\n",
    "    \"\"\"\n",
    "    Function to check if all elements in the list are zero.\n",
    "    \"\"\"\n",
    "    return all(n == 0 for n in numbers)\n",
    "\n",
    "\n",
    "def groupby_count(items, key):\n",
    "    \"\"\"\n",
    "    Function to count `key` in a list of items.\n",
    "    \"\"\"\n",
    "    count = {}\n",
    "    for index, item in enumerate(items):\n",
    "        if is_empty(key(item)):\n",
    "            raise ValueError(f\"Specified key not found in the item at index: {index} in the list.\")\n",
    "\n",
    "        count[key(item)] = count.get(key(item), 0) + 1\n",
    "\n",
    "    return count\n",
    "\n",
    "\n",
    "ENABLE_LOG = False\n",
    "\n",
    "\n",
    "def log(*args):\n",
    "    \"\"\"\n",
    "    Function print when logging is enabled.\n",
    "    \"\"\"\n",
    "    if ENABLE_LOG is True:\n",
    "        print(*args)"
   ]
  },
  {
   "cell_type": "markdown",
   "id": "eaa94e3c",
   "metadata": {},
   "source": [
    "### Load data-points from a `.csv` file"
   ]
  },
  {
   "cell_type": "code",
   "execution_count": 4,
   "id": "a1a2e12b",
   "metadata": {},
   "outputs": [
    {
     "data": {
      "text/html": [
       "<div>\n",
       "<style scoped>\n",
       "    .dataframe tbody tr th:only-of-type {\n",
       "        vertical-align: middle;\n",
       "    }\n",
       "\n",
       "    .dataframe tbody tr th {\n",
       "        vertical-align: top;\n",
       "    }\n",
       "\n",
       "    .dataframe thead th {\n",
       "        text-align: right;\n",
       "    }\n",
       "</style>\n",
       "<table border=\"1\" class=\"dataframe\">\n",
       "  <thead>\n",
       "    <tr style=\"text-align: right;\">\n",
       "      <th></th>\n",
       "      <th>f1</th>\n",
       "      <th>f2</th>\n",
       "      <th>cl</th>\n",
       "    </tr>\n",
       "  </thead>\n",
       "  <tbody>\n",
       "    <tr>\n",
       "      <th>0</th>\n",
       "      <td>5.0</td>\n",
       "      <td>11</td>\n",
       "      <td>1</td>\n",
       "    </tr>\n",
       "    <tr>\n",
       "      <th>1</th>\n",
       "      <td>10.0</td>\n",
       "      <td>10</td>\n",
       "      <td>2</td>\n",
       "    </tr>\n",
       "    <tr>\n",
       "      <th>2</th>\n",
       "      <td>1.0</td>\n",
       "      <td>8</td>\n",
       "      <td>1</td>\n",
       "    </tr>\n",
       "    <tr>\n",
       "      <th>3</th>\n",
       "      <td>2.0</td>\n",
       "      <td>10</td>\n",
       "      <td>2</td>\n",
       "    </tr>\n",
       "    <tr>\n",
       "      <th>4</th>\n",
       "      <td>6.0</td>\n",
       "      <td>10</td>\n",
       "      <td>1</td>\n",
       "    </tr>\n",
       "  </tbody>\n",
       "</table>\n",
       "</div>"
      ],
      "text/plain": [
       "     f1  f2  cl\n",
       "0   5.0  11   1\n",
       "1  10.0  10   2\n",
       "2   1.0   8   1\n",
       "3   2.0  10   2\n",
       "4   6.0  10   1"
      ]
     },
     "execution_count": 4,
     "metadata": {},
     "output_type": "execute_result"
    },
    {
     "data": {
      "application/javascript": [
       "\n",
       "            setTimeout(function() {\n",
       "                var nbb_cell_id = 4;\n",
       "                var nbb_unformatted_code = \"train_df = pd.read_csv(\\\"./Input/train.csv\\\")\\ntrain_df.head()\";\n",
       "                var nbb_formatted_code = \"train_df = pd.read_csv(\\\"./Input/train.csv\\\")\\ntrain_df.head()\";\n",
       "                var nbb_cells = Jupyter.notebook.get_cells();\n",
       "                for (var i = 0; i < nbb_cells.length; ++i) {\n",
       "                    if (nbb_cells[i].input_prompt_number == nbb_cell_id) {\n",
       "                        if (nbb_cells[i].get_text() == nbb_unformatted_code) {\n",
       "                             nbb_cells[i].set_text(nbb_formatted_code);\n",
       "                        }\n",
       "                        break;\n",
       "                    }\n",
       "                }\n",
       "            }, 500);\n",
       "            "
      ],
      "text/plain": [
       "<IPython.core.display.Javascript object>"
      ]
     },
     "metadata": {},
     "output_type": "display_data"
    }
   ],
   "source": [
    "train_df = pd.read_csv(\"./Input/train.csv\")\n",
    "train_df.head()"
   ]
  },
  {
   "cell_type": "code",
   "execution_count": 5,
   "id": "6a8db0a0",
   "metadata": {},
   "outputs": [
    {
     "data": {
      "text/plain": [
       "(82, 3)"
      ]
     },
     "execution_count": 5,
     "metadata": {},
     "output_type": "execute_result"
    },
    {
     "data": {
      "application/javascript": [
       "\n",
       "            setTimeout(function() {\n",
       "                var nbb_cell_id = 5;\n",
       "                var nbb_unformatted_code = \"train_df.shape\";\n",
       "                var nbb_formatted_code = \"train_df.shape\";\n",
       "                var nbb_cells = Jupyter.notebook.get_cells();\n",
       "                for (var i = 0; i < nbb_cells.length; ++i) {\n",
       "                    if (nbb_cells[i].input_prompt_number == nbb_cell_id) {\n",
       "                        if (nbb_cells[i].get_text() == nbb_unformatted_code) {\n",
       "                             nbb_cells[i].set_text(nbb_formatted_code);\n",
       "                        }\n",
       "                        break;\n",
       "                    }\n",
       "                }\n",
       "            }, 500);\n",
       "            "
      ],
      "text/plain": [
       "<IPython.core.display.Javascript object>"
      ]
     },
     "metadata": {},
     "output_type": "display_data"
    }
   ],
   "source": [
    "train_df.shape"
   ]
  },
  {
   "cell_type": "markdown",
   "id": "a2fd3ee6",
   "metadata": {},
   "source": [
    "Convert class-label column `cl` into `category` data type."
   ]
  },
  {
   "cell_type": "code",
   "execution_count": 6,
   "id": "1e809f30",
   "metadata": {},
   "outputs": [
    {
     "data": {
      "text/plain": [
       "CategoricalDtype(categories=[1, 2], ordered=False)"
      ]
     },
     "execution_count": 6,
     "metadata": {},
     "output_type": "execute_result"
    },
    {
     "data": {
      "application/javascript": [
       "\n",
       "            setTimeout(function() {\n",
       "                var nbb_cell_id = 6;\n",
       "                var nbb_unformatted_code = \"train_df[\\\"cl\\\"] = train_df[\\\"cl\\\"].astype(\\\"category\\\")\\ntrain_df[\\\"cl\\\"].dtype\";\n",
       "                var nbb_formatted_code = \"train_df[\\\"cl\\\"] = train_df[\\\"cl\\\"].astype(\\\"category\\\")\\ntrain_df[\\\"cl\\\"].dtype\";\n",
       "                var nbb_cells = Jupyter.notebook.get_cells();\n",
       "                for (var i = 0; i < nbb_cells.length; ++i) {\n",
       "                    if (nbb_cells[i].input_prompt_number == nbb_cell_id) {\n",
       "                        if (nbb_cells[i].get_text() == nbb_unformatted_code) {\n",
       "                             nbb_cells[i].set_text(nbb_formatted_code);\n",
       "                        }\n",
       "                        break;\n",
       "                    }\n",
       "                }\n",
       "            }, 500);\n",
       "            "
      ],
      "text/plain": [
       "<IPython.core.display.Javascript object>"
      ]
     },
     "metadata": {},
     "output_type": "display_data"
    }
   ],
   "source": [
    "train_df[\"cl\"] = train_df[\"cl\"].astype(\"category\")\n",
    "train_df[\"cl\"].dtype"
   ]
  },
  {
   "cell_type": "markdown",
   "id": "c0c35ab5",
   "metadata": {},
   "source": [
    "### Plot data-points"
   ]
  },
  {
   "cell_type": "code",
   "execution_count": 7,
   "id": "018a723a",
   "metadata": {},
   "outputs": [
    {
     "data": {
      "image/png": "[encoded data removed]",
      "text/plain": [
       "<Figure size 576x360 with 1 Axes>"
      ]
     },
     "metadata": {},
     "output_type": "display_data"
    },
    {
     "data": {
      "application/javascript": [
       "\n",
       "            setTimeout(function() {\n",
       "                var nbb_cell_id = 7;\n",
       "                var nbb_unformatted_code = \"plt.figure(figsize=(8, 5))\\n\\nsns.scatterplot(\\n    x=\\\"f1\\\",\\n    y=\\\"f2\\\",\\n    hue=\\\"cl\\\",\\n    data=train_df,\\n    palette=\\\"bright\\\",\\n    style=\\\"cl\\\",\\n    markers=[\\\"o\\\", \\\"X\\\"],\\n    size=\\\"cl\\\",\\n    sizes=(60, 20),\\n)\\nplt.title(\\\"Feature 1 vs Feature 2\\\")\\nplt.xlabel(\\\"Feature 1\\\")\\nplt.ylabel(\\\"Feature 2\\\")\\nplt.xticks(ticks=range(0, 15, 1))\\nplt.yticks(ticks=range(0, 16, 1))\\n\\nplt.savefig(\\\"./Output/train-data-points.png\\\")\\nplt.show()\";\n",
       "                var nbb_formatted_code = \"plt.figure(figsize=(8, 5))\\n\\nsns.scatterplot(\\n    x=\\\"f1\\\",\\n    y=\\\"f2\\\",\\n    hue=\\\"cl\\\",\\n    data=train_df,\\n    palette=\\\"bright\\\",\\n    style=\\\"cl\\\",\\n    markers=[\\\"o\\\", \\\"X\\\"],\\n    size=\\\"cl\\\",\\n    sizes=(60, 20),\\n)\\nplt.title(\\\"Feature 1 vs Feature 2\\\")\\nplt.xlabel(\\\"Feature 1\\\")\\nplt.ylabel(\\\"Feature 2\\\")\\nplt.xticks(ticks=range(0, 15, 1))\\nplt.yticks(ticks=range(0, 16, 1))\\n\\nplt.savefig(\\\"./Output/train-data-points.png\\\")\\nplt.show()\";\n",
       "                var nbb_cells = Jupyter.notebook.get_cells();\n",
       "                for (var i = 0; i < nbb_cells.length; ++i) {\n",
       "                    if (nbb_cells[i].input_prompt_number == nbb_cell_id) {\n",
       "                        if (nbb_cells[i].get_text() == nbb_unformatted_code) {\n",
       "                             nbb_cells[i].set_text(nbb_formatted_code);\n",
       "                        }\n",
       "                        break;\n",
       "                    }\n",
       "                }\n",
       "            }, 500);\n",
       "            "
      ],
      "text/plain": [
       "<IPython.core.display.Javascript object>"
      ]
     },
     "metadata": {},
     "output_type": "display_data"
    }
   ],
   "source": [
    "plt.figure(figsize=(8, 5))\n",
    "\n",
    "sns.scatterplot(\n",
    "    x=\"f1\",\n",
    "    y=\"f2\",\n",
    "    hue=\"cl\",\n",
    "    data=train_df,\n",
    "    palette=\"bright\",\n",
    "    style=\"cl\",\n",
    "    markers=[\"o\", \"X\"],\n",
    "    size=\"cl\",\n",
    "    sizes=(60, 20),\n",
    ")\n",
    "plt.title(\"Feature 1 vs Feature 2\")\n",
    "plt.xlabel(\"Feature 1\")\n",
    "plt.ylabel(\"Feature 2\")\n",
    "plt.xticks(ticks=range(0, 15, 1))\n",
    "plt.yticks(ticks=range(0, 16, 1))\n",
    "\n",
    "plt.savefig(\"./Output/train-data-points.png\")\n",
    "plt.show()"
   ]
  },
  {
   "cell_type": "markdown",
   "id": "e67a6df4",
   "metadata": {},
   "source": [
    "# [2] Understanding KNN Algorithm\n",
    "\n",
    "1. `D` := Represents entire dataset \n",
    "2. `n` := Total number of data-points.\n",
    "3. `d` := Total number of features.\n",
    "4. `x_q` := Query Point.\n",
    "\n",
    "* **STEP 1:** Find `K` nearest points to <code>x<sub>q</sub></code> in `D`.\n",
    "    * For each data-point <code>x<sub>i</sub></code> in `D` calculate the distance between <code>x<sub>q</sub></code> and <code>x<sub>i</sub></code>.\n",
    "    * Sort the data-points in increasing order of their distance from <code>x<sub>q</sub></code>.\n",
    "    * Say `k = 3` and take first three nearest points and store it in `knn`, for example `knn = {x5, x2, x7}`.\n",
    "* **STEP 2:** Take majority vote of class-labels.\n",
    "    * Get class-labels of all data-points in `knn` from _STEP 1_ and store it in `y_p`, for example `y_p = {y5, y2, y7}`.\n",
    "    * Take class-label with highest occurrence in `y_p` and store it in `y_q`.\n",
    "    * Declare <code>x<sub>q</sub></code> belongs to class `y_q`.\n",
    "\n",
    "> **Note:**\n",
    "> 1. If there are equal number of points from all the classes in `y`, it can create confusion while voting.\n",
    "> 2. To avoid confusion in voting, `K` should preferably be **odd number**.\n",
    "> 3. Its considered good practice to take `K` value as $\\sqrt{N)}$."
   ]
  },
  {
   "cell_type": "markdown",
   "id": "dde7d2e5",
   "metadata": {},
   "source": [
    "## STEP 1: Get `K` nearest points to <code>x<sub>q</sub></code> in <code>D<sub>n</sub></code>\n",
    "\n",
    "There are different logics available to calculate distance between two points:\n",
    "\n",
    "1. Euclidean Distance: : The L2 Norm\n",
    "2. Manhattan Distance: The L1 Norm\n",
    "2. Minkowski Distance: Lp Norm, where p > 0\n",
    "3. Hamming Distance\n",
    "4. Cosine Distance"
   ]
  },
  {
   "cell_type": "code",
   "execution_count": 8,
   "id": "57b42318",
   "metadata": {},
   "outputs": [
    {
     "data": {
      "application/javascript": [
       "\n",
       "            setTimeout(function() {\n",
       "                var nbb_cell_id = 8;\n",
       "                var nbb_unformatted_code = \"def cosine_similarity(p1, p2):\\n    \\\"\\\"\\\"\\n    Function to compute Cosine Distance between two points.\\n    \\\"\\\"\\\"\\n    if all_zeros(p1) or all_zeros(p2):\\n        return 0\\n\\n    dot_prod = (p1[0] * p2[0]) + (p1[1] * p2[1])\\n    p1_mag = math.sqrt(p1[0] ** 2 + p1[1] ** 2)\\n    p2_mag = math.sqrt(p2[0] ** 2 + p2[1] ** 2)\\n\\n    return dot_prod / (p1_mag * p2_mag)\\n\\n\\n# Function to compute Cosine Distance between two points.\\ncosine_distance = lambda p1, p2: 1 - cosine_similarity(p1, p2)\\n\\n# Function to compute Manhattan Distance between tow points.\\nmanhattan_distance = lambda p1, p2: abs(p1[0] - p2[0]) + abs(p1[1] - p2[1])\\n\\n\\ndef minkowski_distance(p1, p2, p=3):\\n    \\\"\\\"\\\"\\n    Function to compute Euclidean Distance between two points.\\n    \\\"\\\"\\\"\\n    diff = abs(p1[0] - p2[0]) ** p + abs(p1[1] - p2[1]) ** p\\n    return math.pow(diff, 1 / p)\\n\\n\\n# Function to compute Euclidean Distance between two points.\\neuclidean_distance = lambda p1, p2: minkowski_distance(p1, p2, p=2)\";\n",
       "                var nbb_formatted_code = \"def cosine_similarity(p1, p2):\\n    \\\"\\\"\\\"\\n    Function to compute Cosine Distance between two points.\\n    \\\"\\\"\\\"\\n    if all_zeros(p1) or all_zeros(p2):\\n        return 0\\n\\n    dot_prod = (p1[0] * p2[0]) + (p1[1] * p2[1])\\n    p1_mag = math.sqrt(p1[0] ** 2 + p1[1] ** 2)\\n    p2_mag = math.sqrt(p2[0] ** 2 + p2[1] ** 2)\\n\\n    return dot_prod / (p1_mag * p2_mag)\\n\\n\\n# Function to compute Cosine Distance between two points.\\ncosine_distance = lambda p1, p2: 1 - cosine_similarity(p1, p2)\\n\\n# Function to compute Manhattan Distance between tow points.\\nmanhattan_distance = lambda p1, p2: abs(p1[0] - p2[0]) + abs(p1[1] - p2[1])\\n\\n\\ndef minkowski_distance(p1, p2, p=3):\\n    \\\"\\\"\\\"\\n    Function to compute Euclidean Distance between two points.\\n    \\\"\\\"\\\"\\n    diff = abs(p1[0] - p2[0]) ** p + abs(p1[1] - p2[1]) ** p\\n    return math.pow(diff, 1 / p)\\n\\n\\n# Function to compute Euclidean Distance between two points.\\neuclidean_distance = lambda p1, p2: minkowski_distance(p1, p2, p=2)\";\n",
       "                var nbb_cells = Jupyter.notebook.get_cells();\n",
       "                for (var i = 0; i < nbb_cells.length; ++i) {\n",
       "                    if (nbb_cells[i].input_prompt_number == nbb_cell_id) {\n",
       "                        if (nbb_cells[i].get_text() == nbb_unformatted_code) {\n",
       "                             nbb_cells[i].set_text(nbb_formatted_code);\n",
       "                        }\n",
       "                        break;\n",
       "                    }\n",
       "                }\n",
       "            }, 500);\n",
       "            "
      ],
      "text/plain": [
       "<IPython.core.display.Javascript object>"
      ]
     },
     "metadata": {},
     "output_type": "display_data"
    }
   ],
   "source": [
    "def cosine_similarity(p1, p2):\n",
    "    \"\"\"\n",
    "    Function to compute Cosine Distance between two points.\n",
    "    \"\"\"\n",
    "    if all_zeros(p1) or all_zeros(p2):\n",
    "        return 0\n",
    "\n",
    "    dot_prod = (p1[0] * p2[0]) + (p1[1] * p2[1])\n",
    "    p1_mag = math.sqrt(p1[0] ** 2 + p1[1] ** 2)\n",
    "    p2_mag = math.sqrt(p2[0] ** 2 + p2[1] ** 2)\n",
    "\n",
    "    return dot_prod / (p1_mag * p2_mag)\n",
    "\n",
    "\n",
    "# Function to compute Cosine Distance between two points.\n",
    "cosine_distance = lambda p1, p2: 1 - cosine_similarity(p1, p2)\n",
    "\n",
    "# Function to compute Manhattan Distance between tow points.\n",
    "manhattan_distance = lambda p1, p2: abs(p1[0] - p2[0]) + abs(p1[1] - p2[1])\n",
    "\n",
    "\n",
    "def minkowski_distance(p1, p2, p=3):\n",
    "    \"\"\"\n",
    "    Function to compute Euclidean Distance between two points.\n",
    "    \"\"\"\n",
    "    diff = abs(p1[0] - p2[0]) ** p + abs(p1[1] - p2[1]) ** p\n",
    "    return math.pow(diff, 1 / p)\n",
    "\n",
    "\n",
    "# Function to compute Euclidean Distance between two points.\n",
    "euclidean_distance = lambda p1, p2: minkowski_distance(p1, p2, p=2)"
   ]
  },
  {
   "cell_type": "markdown",
   "id": "6a391a73",
   "metadata": {},
   "source": [
    "Sort the data-points in increasing order of their distance from <code>x<sub>q</sub></code> and return top `K` points."
   ]
  },
  {
   "cell_type": "code",
   "execution_count": 9,
   "id": "7409352f",
   "metadata": {},
   "outputs": [
    {
     "data": {
      "application/javascript": [
       "\n",
       "            setTimeout(function() {\n",
       "                var nbb_cell_id = 9;\n",
       "                var nbb_unformatted_code = \"def get_k_nearest_points(S, P, K=5, algo_type=1):\\n    \\\"\\\"\\\"\\n    Function to return list of points in the orders closest to `P`.\\n    \\\"\\\"\\\"\\n    distances = []\\n\\n    if algo_type == 1:\\n        log(\\\"Computing Euclidean Distance.\\\")\\n        algo = euclidean_distance\\n    elif algo_type == 2:\\n        log(\\\"Computing Manhattan Distance.\\\")\\n        algo = manhattan_distance\\n    elif algo_type == 3:\\n        log(\\\"Computing Minkowski Distance.\\\")\\n        algo = minkowski_distance\\n    elif algo_type == 4:\\n        log(\\\"Computing Cosine Distance.\\\")\\n        algo = cosine_distance\\n    else:\\n        raise ValueError(f\\\"Invalid `algo_type` {algo_type}. Value should be in {1, 2, 3, 4}.\\\")\\n\\n    for s in S:\\n        distances.append(\\n            {\\n                \\\"data-point\\\": s[0],\\n                \\\"label\\\": s[1],\\n                \\\"distance\\\": round(algo(s[0], P), 6),\\n            }\\n        )\\n\\n    return sorted(distances, key=lambda x: x[\\\"distance\\\"])[:K]\";\n",
       "                var nbb_formatted_code = \"def get_k_nearest_points(S, P, K=5, algo_type=1):\\n    \\\"\\\"\\\"\\n    Function to return list of points in the orders closest to `P`.\\n    \\\"\\\"\\\"\\n    distances = []\\n\\n    if algo_type == 1:\\n        log(\\\"Computing Euclidean Distance.\\\")\\n        algo = euclidean_distance\\n    elif algo_type == 2:\\n        log(\\\"Computing Manhattan Distance.\\\")\\n        algo = manhattan_distance\\n    elif algo_type == 3:\\n        log(\\\"Computing Minkowski Distance.\\\")\\n        algo = minkowski_distance\\n    elif algo_type == 4:\\n        log(\\\"Computing Cosine Distance.\\\")\\n        algo = cosine_distance\\n    else:\\n        raise ValueError(f\\\"Invalid `algo_type` {algo_type}. Value should be in {1, 2, 3, 4}.\\\")\\n\\n    for s in S:\\n        distances.append(\\n            {\\n                \\\"data-point\\\": s[0],\\n                \\\"label\\\": s[1],\\n                \\\"distance\\\": round(algo(s[0], P), 6),\\n            }\\n        )\\n\\n    return sorted(distances, key=lambda x: x[\\\"distance\\\"])[:K]\";\n",
       "                var nbb_cells = Jupyter.notebook.get_cells();\n",
       "                for (var i = 0; i < nbb_cells.length; ++i) {\n",
       "                    if (nbb_cells[i].input_prompt_number == nbb_cell_id) {\n",
       "                        if (nbb_cells[i].get_text() == nbb_unformatted_code) {\n",
       "                             nbb_cells[i].set_text(nbb_formatted_code);\n",
       "                        }\n",
       "                        break;\n",
       "                    }\n",
       "                }\n",
       "            }, 500);\n",
       "            "
      ],
      "text/plain": [
       "<IPython.core.display.Javascript object>"
      ]
     },
     "metadata": {},
     "output_type": "display_data"
    }
   ],
   "source": [
    "def get_k_nearest_points(S, P, K=5, algo_type=1):\n",
    "    \"\"\"\n",
    "    Function to return list of points in the orders closest to `P`.\n",
    "    \"\"\"\n",
    "    distances = []\n",
    "\n",
    "    if algo_type == 1:\n",
    "        log(\"Computing Euclidean Distance.\")\n",
    "        algo = euclidean_distance\n",
    "    elif algo_type == 2:\n",
    "        log(\"Computing Manhattan Distance.\")\n",
    "        algo = manhattan_distance\n",
    "    elif algo_type == 3:\n",
    "        log(\"Computing Minkowski Distance.\")\n",
    "        algo = minkowski_distance\n",
    "    elif algo_type == 4:\n",
    "        log(\"Computing Cosine Distance.\")\n",
    "        algo = cosine_distance\n",
    "    else:\n",
    "        raise ValueError(f\"Invalid `algo_type` {algo_type}. Value should be in {1, 2, 3, 4}.\")\n",
    "\n",
    "    for s in S:\n",
    "        distances.append(\n",
    "            {\n",
    "                \"data-point\": s[0],\n",
    "                \"label\": s[1],\n",
    "                \"distance\": round(algo(s[0], P), 6),\n",
    "            }\n",
    "        )\n",
    "\n",
    "    return sorted(distances, key=lambda x: x[\"distance\"])[:K]"
   ]
  },
  {
   "cell_type": "markdown",
   "id": "76d48c07",
   "metadata": {},
   "source": [
    "Prepare train data to be fed to the KNN algorithm."
   ]
  },
  {
   "cell_type": "code",
   "execution_count": 10,
   "id": "62aeb166",
   "metadata": {},
   "outputs": [
    {
     "data": {
      "application/javascript": [
       "\n",
       "            setTimeout(function() {\n",
       "                var nbb_cell_id = 10;\n",
       "                var nbb_unformatted_code = \"xq = train_df[[\\\"f1\\\", \\\"f2\\\"]].values\\nyq = train_df[\\\"cl\\\"].values\\nS = list(zip(xq, yq))\\n\\nP = (10, 9)\\n\\nENABLE_LOG = True\";\n",
       "                var nbb_formatted_code = \"xq = train_df[[\\\"f1\\\", \\\"f2\\\"]].values\\nyq = train_df[\\\"cl\\\"].values\\nS = list(zip(xq, yq))\\n\\nP = (10, 9)\\n\\nENABLE_LOG = True\";\n",
       "                var nbb_cells = Jupyter.notebook.get_cells();\n",
       "                for (var i = 0; i < nbb_cells.length; ++i) {\n",
       "                    if (nbb_cells[i].input_prompt_number == nbb_cell_id) {\n",
       "                        if (nbb_cells[i].get_text() == nbb_unformatted_code) {\n",
       "                             nbb_cells[i].set_text(nbb_formatted_code);\n",
       "                        }\n",
       "                        break;\n",
       "                    }\n",
       "                }\n",
       "            }, 500);\n",
       "            "
      ],
      "text/plain": [
       "<IPython.core.display.Javascript object>"
      ]
     },
     "metadata": {},
     "output_type": "display_data"
    }
   ],
   "source": [
    "xq = train_df[[\"f1\", \"f2\"]].values\n",
    "yq = train_df[\"cl\"].values\n",
    "S = list(zip(xq, yq))\n",
    "\n",
    "P = (10, 9)\n",
    "\n",
    "ENABLE_LOG = True"
   ]
  },
  {
   "cell_type": "markdown",
   "id": "cdc83acc",
   "metadata": {},
   "source": [
    "#### Euclidean Distance"
   ]
  },
  {
   "cell_type": "code",
   "execution_count": 11,
   "id": "a45a3313",
   "metadata": {},
   "outputs": [
    {
     "name": "stdout",
     "output_type": "stream",
     "text": [
      "Computing Euclidean Distance.\n"
     ]
    },
    {
     "data": {
      "text/plain": [
       "[{'data-point': array([10., 10.]), 'label': 2, 'distance': 1.0},\n",
       " {'data-point': array([9., 9.]), 'label': 1, 'distance': 1.0},\n",
       " {'data-point': array([10.,  8.]), 'label': 2, 'distance': 1.0},\n",
       " {'data-point': array([9., 8.]), 'label': 2, 'distance': 1.414214}]"
      ]
     },
     "execution_count": 11,
     "metadata": {},
     "output_type": "execute_result"
    },
    {
     "data": {
      "application/javascript": [
       "\n",
       "            setTimeout(function() {\n",
       "                var nbb_cell_id = 11;\n",
       "                var nbb_unformatted_code = \"knn = get_k_nearest_points(S, P, K=4)\\nknn\";\n",
       "                var nbb_formatted_code = \"knn = get_k_nearest_points(S, P, K=4)\\nknn\";\n",
       "                var nbb_cells = Jupyter.notebook.get_cells();\n",
       "                for (var i = 0; i < nbb_cells.length; ++i) {\n",
       "                    if (nbb_cells[i].input_prompt_number == nbb_cell_id) {\n",
       "                        if (nbb_cells[i].get_text() == nbb_unformatted_code) {\n",
       "                             nbb_cells[i].set_text(nbb_formatted_code);\n",
       "                        }\n",
       "                        break;\n",
       "                    }\n",
       "                }\n",
       "            }, 500);\n",
       "            "
      ],
      "text/plain": [
       "<IPython.core.display.Javascript object>"
      ]
     },
     "metadata": {},
     "output_type": "display_data"
    }
   ],
   "source": [
    "knn = get_k_nearest_points(S, P, K=4)\n",
    "knn"
   ]
  },
  {
   "cell_type": "markdown",
   "id": "10f914ce",
   "metadata": {},
   "source": [
    "#### Manhattan Distance"
   ]
  },
  {
   "cell_type": "code",
   "execution_count": 12,
   "id": "8440d743",
   "metadata": {},
   "outputs": [
    {
     "name": "stdout",
     "output_type": "stream",
     "text": [
      "Computing Manhattan Distance.\n"
     ]
    },
    {
     "data": {
      "text/plain": [
       "[{'data-point': array([10., 10.]), 'label': 2, 'distance': 1.0},\n",
       " {'data-point': array([9., 9.]), 'label': 1, 'distance': 1.0},\n",
       " {'data-point': array([10.,  8.]), 'label': 2, 'distance': 1.0},\n",
       " {'data-point': array([9., 8.]), 'label': 2, 'distance': 2.0},\n",
       " {'data-point': array([10.,  7.]), 'label': 2, 'distance': 2.0}]"
      ]
     },
     "execution_count": 12,
     "metadata": {},
     "output_type": "execute_result"
    },
    {
     "data": {
      "application/javascript": [
       "\n",
       "            setTimeout(function() {\n",
       "                var nbb_cell_id = 12;\n",
       "                var nbb_unformatted_code = \"get_k_nearest_points(S, P, algo_type=2)\";\n",
       "                var nbb_formatted_code = \"get_k_nearest_points(S, P, algo_type=2)\";\n",
       "                var nbb_cells = Jupyter.notebook.get_cells();\n",
       "                for (var i = 0; i < nbb_cells.length; ++i) {\n",
       "                    if (nbb_cells[i].input_prompt_number == nbb_cell_id) {\n",
       "                        if (nbb_cells[i].get_text() == nbb_unformatted_code) {\n",
       "                             nbb_cells[i].set_text(nbb_formatted_code);\n",
       "                        }\n",
       "                        break;\n",
       "                    }\n",
       "                }\n",
       "            }, 500);\n",
       "            "
      ],
      "text/plain": [
       "<IPython.core.display.Javascript object>"
      ]
     },
     "metadata": {},
     "output_type": "display_data"
    }
   ],
   "source": [
    "get_k_nearest_points(S, P, algo_type=2)"
   ]
  },
  {
   "cell_type": "markdown",
   "id": "37b72077",
   "metadata": {},
   "source": [
    "#### Minkowski Distance"
   ]
  },
  {
   "cell_type": "code",
   "execution_count": 13,
   "id": "ad00e043",
   "metadata": {},
   "outputs": [
    {
     "name": "stdout",
     "output_type": "stream",
     "text": [
      "Computing Minkowski Distance.\n"
     ]
    },
    {
     "data": {
      "text/plain": [
       "[{'data-point': array([10., 10.]), 'label': 2, 'distance': 1.0},\n",
       " {'data-point': array([9., 9.]), 'label': 1, 'distance': 1.0},\n",
       " {'data-point': array([10.,  8.]), 'label': 2, 'distance': 1.0},\n",
       " {'data-point': array([9., 8.]), 'label': 2, 'distance': 1.259921},\n",
       " {'data-point': array([ 9., 10.]), 'label': 2, 'distance': 1.259921},\n",
       " {'data-point': array([10.,  7.]), 'label': 2, 'distance': 2.0}]"
      ]
     },
     "execution_count": 13,
     "metadata": {},
     "output_type": "execute_result"
    },
    {
     "data": {
      "application/javascript": [
       "\n",
       "            setTimeout(function() {\n",
       "                var nbb_cell_id = 13;\n",
       "                var nbb_unformatted_code = \"get_k_nearest_points(S, P, K=6, algo_type=3)\";\n",
       "                var nbb_formatted_code = \"get_k_nearest_points(S, P, K=6, algo_type=3)\";\n",
       "                var nbb_cells = Jupyter.notebook.get_cells();\n",
       "                for (var i = 0; i < nbb_cells.length; ++i) {\n",
       "                    if (nbb_cells[i].input_prompt_number == nbb_cell_id) {\n",
       "                        if (nbb_cells[i].get_text() == nbb_unformatted_code) {\n",
       "                             nbb_cells[i].set_text(nbb_formatted_code);\n",
       "                        }\n",
       "                        break;\n",
       "                    }\n",
       "                }\n",
       "            }, 500);\n",
       "            "
      ],
      "text/plain": [
       "<IPython.core.display.Javascript object>"
      ]
     },
     "metadata": {},
     "output_type": "display_data"
    }
   ],
   "source": [
    "get_k_nearest_points(S, P, K=6, algo_type=3)"
   ]
  },
  {
   "cell_type": "markdown",
   "id": "e985a459",
   "metadata": {},
   "source": [
    "#### Cosine Distance"
   ]
  },
  {
   "cell_type": "code",
   "execution_count": 14,
   "id": "73d358f6",
   "metadata": {},
   "outputs": [
    {
     "name": "stdout",
     "output_type": "stream",
     "text": [
      "Computing Cosine Distance.\n"
     ]
    },
    {
     "data": {
      "text/plain": [
       "[{'data-point': array([9., 8.]), 'label': 2, 'distance': 1.9e-05},\n",
       " {'data-point': array([7., 6.]), 'label': 1, 'distance': 0.000293},\n",
       " {'data-point': array([10., 10.]), 'label': 2, 'distance': 0.001382},\n",
       " {'data-point': array([5., 5.]), 'label': 1, 'distance': 0.001382},\n",
       " {'data-point': array([9., 9.]), 'label': 1, 'distance': 0.001382}]"
      ]
     },
     "execution_count": 14,
     "metadata": {},
     "output_type": "execute_result"
    },
    {
     "data": {
      "application/javascript": [
       "\n",
       "            setTimeout(function() {\n",
       "                var nbb_cell_id = 14;\n",
       "                var nbb_unformatted_code = \"get_k_nearest_points(S, P, algo_type=4)\";\n",
       "                var nbb_formatted_code = \"get_k_nearest_points(S, P, algo_type=4)\";\n",
       "                var nbb_cells = Jupyter.notebook.get_cells();\n",
       "                for (var i = 0; i < nbb_cells.length; ++i) {\n",
       "                    if (nbb_cells[i].input_prompt_number == nbb_cell_id) {\n",
       "                        if (nbb_cells[i].get_text() == nbb_unformatted_code) {\n",
       "                             nbb_cells[i].set_text(nbb_formatted_code);\n",
       "                        }\n",
       "                        break;\n",
       "                    }\n",
       "                }\n",
       "            }, 500);\n",
       "            "
      ],
      "text/plain": [
       "<IPython.core.display.Javascript object>"
      ]
     },
     "metadata": {},
     "output_type": "display_data"
    }
   ],
   "source": [
    "get_k_nearest_points(S, P, algo_type=4)"
   ]
  },
  {
   "cell_type": "markdown",
   "id": "7f85fe00",
   "metadata": {},
   "source": [
    "#### Relation b/w Euclidean Distance & Cosine Distance for unit vectors\n",
    "\n",
    "```\n",
    "euclidean_distance = (2 * cosine_distance) ^ (1/2)\n",
    "```"
   ]
  },
  {
   "cell_type": "code",
   "execution_count": 15,
   "id": "abd3da17",
   "metadata": {},
   "outputs": [
    {
     "name": "stdout",
     "output_type": "stream",
     "text": [
      "Euclidean distance: 1.414214\n",
      "Cosine distance: 1.0\n",
      "Ed from Cd for unit vectors: 1.414214\n"
     ]
    },
    {
     "data": {
      "application/javascript": [
       "\n",
       "            setTimeout(function() {\n",
       "                var nbb_cell_id = 15;\n",
       "                var nbb_unformatted_code = \"ed = euclidean_distance([1, 0], [0, 1])\\ncd = cosine_distance([1, 0], [0, 1])\\n\\nprint(\\\"Euclidean distance:\\\", round(ed, 6))\\nprint(\\\"Cosine distance:\\\", round(cd, 6))\\nprint(\\\"Ed from Cd for unit vectors:\\\", round(math.sqrt(2 * cd), 6))  # or (2 * cd) ** (1/2)\";\n",
       "                var nbb_formatted_code = \"ed = euclidean_distance([1, 0], [0, 1])\\ncd = cosine_distance([1, 0], [0, 1])\\n\\nprint(\\\"Euclidean distance:\\\", round(ed, 6))\\nprint(\\\"Cosine distance:\\\", round(cd, 6))\\nprint(\\\"Ed from Cd for unit vectors:\\\", round(math.sqrt(2 * cd), 6))  # or (2 * cd) ** (1/2)\";\n",
       "                var nbb_cells = Jupyter.notebook.get_cells();\n",
       "                for (var i = 0; i < nbb_cells.length; ++i) {\n",
       "                    if (nbb_cells[i].input_prompt_number == nbb_cell_id) {\n",
       "                        if (nbb_cells[i].get_text() == nbb_unformatted_code) {\n",
       "                             nbb_cells[i].set_text(nbb_formatted_code);\n",
       "                        }\n",
       "                        break;\n",
       "                    }\n",
       "                }\n",
       "            }, 500);\n",
       "            "
      ],
      "text/plain": [
       "<IPython.core.display.Javascript object>"
      ]
     },
     "metadata": {},
     "output_type": "display_data"
    }
   ],
   "source": [
    "ed = euclidean_distance([1, 0], [0, 1])\n",
    "cd = cosine_distance([1, 0], [0, 1])\n",
    "\n",
    "print(\"Euclidean distance:\", round(ed, 6))\n",
    "print(\"Cosine distance:\", round(cd, 6))\n",
    "print(\"Ed from Cd for unit vectors:\", round(math.sqrt(2 * cd), 6))  # or (2 * cd) ** (1/2)"
   ]
  },
  {
   "cell_type": "markdown",
   "id": "a8e0d5fe",
   "metadata": {},
   "source": [
    "## STEP 2: Take majority vote of class-labels\n",
    "\n",
    "`knn` contains K-nearest neighbors obtained using Euclidean distance."
   ]
  },
  {
   "cell_type": "code",
   "execution_count": 16,
   "id": "78d2805b",
   "metadata": {},
   "outputs": [
    {
     "data": {
      "text/plain": [
       "[{'data-point': array([10., 10.]), 'label': 2, 'distance': 1.0},\n",
       " {'data-point': array([9., 9.]), 'label': 1, 'distance': 1.0},\n",
       " {'data-point': array([10.,  8.]), 'label': 2, 'distance': 1.0},\n",
       " {'data-point': array([9., 8.]), 'label': 2, 'distance': 1.414214}]"
      ]
     },
     "execution_count": 16,
     "metadata": {},
     "output_type": "execute_result"
    },
    {
     "data": {
      "application/javascript": [
       "\n",
       "            setTimeout(function() {\n",
       "                var nbb_cell_id = 16;\n",
       "                var nbb_unformatted_code = \"knn\";\n",
       "                var nbb_formatted_code = \"knn\";\n",
       "                var nbb_cells = Jupyter.notebook.get_cells();\n",
       "                for (var i = 0; i < nbb_cells.length; ++i) {\n",
       "                    if (nbb_cells[i].input_prompt_number == nbb_cell_id) {\n",
       "                        if (nbb_cells[i].get_text() == nbb_unformatted_code) {\n",
       "                             nbb_cells[i].set_text(nbb_formatted_code);\n",
       "                        }\n",
       "                        break;\n",
       "                    }\n",
       "                }\n",
       "            }, 500);\n",
       "            "
      ],
      "text/plain": [
       "<IPython.core.display.Javascript object>"
      ]
     },
     "metadata": {},
     "output_type": "display_data"
    }
   ],
   "source": [
    "knn"
   ]
  },
  {
   "cell_type": "markdown",
   "id": "855732b1",
   "metadata": {},
   "source": [
    "Logic to compute majority vote."
   ]
  },
  {
   "cell_type": "code",
   "execution_count": 17,
   "id": "204a9d66",
   "metadata": {},
   "outputs": [
    {
     "data": {
      "application/javascript": [
       "\n",
       "            setTimeout(function() {\n",
       "                var nbb_cell_id = 17;\n",
       "                var nbb_unformatted_code = \"def majority_vote(knn):\\n    if is_empty(knn):\\n        raise ValueError(\\\"Class list is empty.\\\")\\n\\n    # Get class-labels of all data-points and take majority vote/count.\\n    cl_count = groupby_count(knn, lambda n: n.get(\\\"label\\\", None))\\n    log(\\\"Class count:\\\", cl_count)\\n\\n    # Sort class-labels by count.\\n    cl_sorted = sorted(cl_count.items(), key=lambda x: x[1], reverse=True)\\n    log(\\\"Class sorted:\\\", cl_sorted)\\n\\n    # Return class-label with highest count as `y_q`.\\n    return cl_sorted[0]\";\n",
       "                var nbb_formatted_code = \"def majority_vote(knn):\\n    if is_empty(knn):\\n        raise ValueError(\\\"Class list is empty.\\\")\\n\\n    # Get class-labels of all data-points and take majority vote/count.\\n    cl_count = groupby_count(knn, lambda n: n.get(\\\"label\\\", None))\\n    log(\\\"Class count:\\\", cl_count)\\n\\n    # Sort class-labels by count.\\n    cl_sorted = sorted(cl_count.items(), key=lambda x: x[1], reverse=True)\\n    log(\\\"Class sorted:\\\", cl_sorted)\\n\\n    # Return class-label with highest count as `y_q`.\\n    return cl_sorted[0]\";\n",
       "                var nbb_cells = Jupyter.notebook.get_cells();\n",
       "                for (var i = 0; i < nbb_cells.length; ++i) {\n",
       "                    if (nbb_cells[i].input_prompt_number == nbb_cell_id) {\n",
       "                        if (nbb_cells[i].get_text() == nbb_unformatted_code) {\n",
       "                             nbb_cells[i].set_text(nbb_formatted_code);\n",
       "                        }\n",
       "                        break;\n",
       "                    }\n",
       "                }\n",
       "            }, 500);\n",
       "            "
      ],
      "text/plain": [
       "<IPython.core.display.Javascript object>"
      ]
     },
     "metadata": {},
     "output_type": "display_data"
    }
   ],
   "source": [
    "def majority_vote(knn):\n",
    "    if is_empty(knn):\n",
    "        raise ValueError(\"Class list is empty.\")\n",
    "\n",
    "    # Get class-labels of all data-points and take majority vote/count.\n",
    "    cl_count = groupby_count(knn, lambda n: n.get(\"label\", None))\n",
    "    log(\"Class count:\", cl_count)\n",
    "\n",
    "    # Sort class-labels by count.\n",
    "    cl_sorted = sorted(cl_count.items(), key=lambda x: x[1], reverse=True)\n",
    "    log(\"Class sorted:\", cl_sorted)\n",
    "\n",
    "    # Return class-label with highest count as `y_q`.\n",
    "    return cl_sorted[0]"
   ]
  },
  {
   "cell_type": "markdown",
   "id": "342b8060",
   "metadata": {},
   "source": [
    "Get class name appearing most number of times in `knn`."
   ]
  },
  {
   "cell_type": "code",
   "execution_count": 18,
   "id": "794b92cc",
   "metadata": {},
   "outputs": [
    {
     "name": "stdout",
     "output_type": "stream",
     "text": [
      "Class count: {2: 3, 1: 1}\n",
      "Class sorted: [(2, 3), (1, 1)]\n",
      "Class label: 2 Count: 3\n"
     ]
    },
    {
     "data": {
      "application/javascript": [
       "\n",
       "            setTimeout(function() {\n",
       "                var nbb_cell_id = 18;\n",
       "                var nbb_unformatted_code = \"ENABLE_LOG = True\\n\\ntry:\\n    class_label, count = majority_vote(knn)\\n    print(\\\"Class label:\\\", class_label, \\\"Count:\\\", count)\\n\\nexcept ValueError as ve:\\n    print(\\\"Error:\\\", ve)\";\n",
       "                var nbb_formatted_code = \"ENABLE_LOG = True\\n\\ntry:\\n    class_label, count = majority_vote(knn)\\n    print(\\\"Class label:\\\", class_label, \\\"Count:\\\", count)\\n\\nexcept ValueError as ve:\\n    print(\\\"Error:\\\", ve)\";\n",
       "                var nbb_cells = Jupyter.notebook.get_cells();\n",
       "                for (var i = 0; i < nbb_cells.length; ++i) {\n",
       "                    if (nbb_cells[i].input_prompt_number == nbb_cell_id) {\n",
       "                        if (nbb_cells[i].get_text() == nbb_unformatted_code) {\n",
       "                             nbb_cells[i].set_text(nbb_formatted_code);\n",
       "                        }\n",
       "                        break;\n",
       "                    }\n",
       "                }\n",
       "            }, 500);\n",
       "            "
      ],
      "text/plain": [
       "<IPython.core.display.Javascript object>"
      ]
     },
     "metadata": {},
     "output_type": "display_data"
    }
   ],
   "source": [
    "ENABLE_LOG = True\n",
    "\n",
    "try:\n",
    "    class_label, count = majority_vote(knn)\n",
    "    print(\"Class label:\", class_label, \"Count:\", count)\n",
    "\n",
    "except ValueError as ve:\n",
    "    print(\"Error:\", ve)"
   ]
  },
  {
   "cell_type": "markdown",
   "id": "ddc3d912",
   "metadata": {},
   "source": [
    "## Testing\n",
    "\n",
    "Test above steps using `test` dataset. Load `test` dataset from `.csv` file."
   ]
  },
  {
   "cell_type": "code",
   "execution_count": 19,
   "id": "35c6f37c",
   "metadata": {},
   "outputs": [
    {
     "data": {
      "text/html": [
       "<div>\n",
       "<style scoped>\n",
       "    .dataframe tbody tr th:only-of-type {\n",
       "        vertical-align: middle;\n",
       "    }\n",
       "\n",
       "    .dataframe tbody tr th {\n",
       "        vertical-align: top;\n",
       "    }\n",
       "\n",
       "    .dataframe thead th {\n",
       "        text-align: right;\n",
       "    }\n",
       "</style>\n",
       "<table border=\"1\" class=\"dataframe\">\n",
       "  <thead>\n",
       "    <tr style=\"text-align: right;\">\n",
       "      <th></th>\n",
       "      <th>f1</th>\n",
       "      <th>f2</th>\n",
       "      <th>cl</th>\n",
       "    </tr>\n",
       "  </thead>\n",
       "  <tbody>\n",
       "    <tr>\n",
       "      <th>0</th>\n",
       "      <td>5.0</td>\n",
       "      <td>6.0</td>\n",
       "      <td>1</td>\n",
       "    </tr>\n",
       "    <tr>\n",
       "      <th>1</th>\n",
       "      <td>4.5</td>\n",
       "      <td>5.3</td>\n",
       "      <td>1</td>\n",
       "    </tr>\n",
       "    <tr>\n",
       "      <th>2</th>\n",
       "      <td>5.0</td>\n",
       "      <td>9.0</td>\n",
       "      <td>1</td>\n",
       "    </tr>\n",
       "    <tr>\n",
       "      <th>3</th>\n",
       "      <td>3.3</td>\n",
       "      <td>11.2</td>\n",
       "      <td>1</td>\n",
       "    </tr>\n",
       "    <tr>\n",
       "      <th>4</th>\n",
       "      <td>2.5</td>\n",
       "      <td>9.0</td>\n",
       "      <td>1</td>\n",
       "    </tr>\n",
       "  </tbody>\n",
       "</table>\n",
       "</div>"
      ],
      "text/plain": [
       "    f1    f2  cl\n",
       "0  5.0   6.0   1\n",
       "1  4.5   5.3   1\n",
       "2  5.0   9.0   1\n",
       "3  3.3  11.2   1\n",
       "4  2.5   9.0   1"
      ]
     },
     "execution_count": 19,
     "metadata": {},
     "output_type": "execute_result"
    },
    {
     "data": {
      "application/javascript": [
       "\n",
       "            setTimeout(function() {\n",
       "                var nbb_cell_id = 19;\n",
       "                var nbb_unformatted_code = \"test_df = pd.read_csv(\\\"./Input/test.csv\\\")\\ntest_df.head()\";\n",
       "                var nbb_formatted_code = \"test_df = pd.read_csv(\\\"./Input/test.csv\\\")\\ntest_df.head()\";\n",
       "                var nbb_cells = Jupyter.notebook.get_cells();\n",
       "                for (var i = 0; i < nbb_cells.length; ++i) {\n",
       "                    if (nbb_cells[i].input_prompt_number == nbb_cell_id) {\n",
       "                        if (nbb_cells[i].get_text() == nbb_unformatted_code) {\n",
       "                             nbb_cells[i].set_text(nbb_formatted_code);\n",
       "                        }\n",
       "                        break;\n",
       "                    }\n",
       "                }\n",
       "            }, 500);\n",
       "            "
      ],
      "text/plain": [
       "<IPython.core.display.Javascript object>"
      ]
     },
     "metadata": {},
     "output_type": "display_data"
    }
   ],
   "source": [
    "test_df = pd.read_csv(\"./Input/test.csv\")\n",
    "test_df.head()"
   ]
  },
  {
   "cell_type": "markdown",
   "id": "22c18218",
   "metadata": {},
   "source": [
    "#### Plot Train and Test data-points"
   ]
  },
  {
   "cell_type": "code",
   "execution_count": 20,
   "id": "3b036a93",
   "metadata": {},
   "outputs": [
    {
     "data": {
      "image/png": "[encoded data removed]",
      "text/plain": [
       "<Figure size 576x360 with 1 Axes>"
      ]
     },
     "metadata": {},
     "output_type": "display_data"
    },
    {
     "data": {
      "application/javascript": [
       "\n",
       "            setTimeout(function() {\n",
       "                var nbb_cell_id = 20;\n",
       "                var nbb_unformatted_code = \"test_df_temp = test_df.copy()\\ntest_df_temp[\\\"cl\\\"] = 0\\n\\nplt.figure(figsize=(8, 5))\\n\\nsns.scatterplot(\\n    x=\\\"f1\\\",\\n    y=\\\"f2\\\",\\n    hue=\\\"cl\\\",\\n    data=pd.concat([train_df, test_df_temp]),\\n    palette=\\\"bright\\\",\\n    hue_order=[1, 2, 0],\\n    style=\\\"cl\\\",\\n    markers=[\\\"D\\\", \\\"o\\\", \\\"X\\\"],\\n    size=\\\"cl\\\",\\n    sizes=(20, 60),\\n)\\nplt.title(\\\"Feature 1 vs Feature 2\\\")\\nplt.xlabel(\\\"Feature 1\\\")\\nplt.ylabel(\\\"Feature 2\\\")\\nplt.xticks(ticks=range(0, 15, 1))\\nplt.yticks(ticks=range(0, 16, 1))\\nplt.axvline(5.2, linestyle=\\\"--\\\", color=\\\"r\\\")\\n\\nplt.savefig(\\\"./Output/train-n-test-data-points.png\\\")\\nplt.show()\";\n",
       "                var nbb_formatted_code = \"test_df_temp = test_df.copy()\\ntest_df_temp[\\\"cl\\\"] = 0\\n\\nplt.figure(figsize=(8, 5))\\n\\nsns.scatterplot(\\n    x=\\\"f1\\\",\\n    y=\\\"f2\\\",\\n    hue=\\\"cl\\\",\\n    data=pd.concat([train_df, test_df_temp]),\\n    palette=\\\"bright\\\",\\n    hue_order=[1, 2, 0],\\n    style=\\\"cl\\\",\\n    markers=[\\\"D\\\", \\\"o\\\", \\\"X\\\"],\\n    size=\\\"cl\\\",\\n    sizes=(20, 60),\\n)\\nplt.title(\\\"Feature 1 vs Feature 2\\\")\\nplt.xlabel(\\\"Feature 1\\\")\\nplt.ylabel(\\\"Feature 2\\\")\\nplt.xticks(ticks=range(0, 15, 1))\\nplt.yticks(ticks=range(0, 16, 1))\\nplt.axvline(5.2, linestyle=\\\"--\\\", color=\\\"r\\\")\\n\\nplt.savefig(\\\"./Output/train-n-test-data-points.png\\\")\\nplt.show()\";\n",
       "                var nbb_cells = Jupyter.notebook.get_cells();\n",
       "                for (var i = 0; i < nbb_cells.length; ++i) {\n",
       "                    if (nbb_cells[i].input_prompt_number == nbb_cell_id) {\n",
       "                        if (nbb_cells[i].get_text() == nbb_unformatted_code) {\n",
       "                             nbb_cells[i].set_text(nbb_formatted_code);\n",
       "                        }\n",
       "                        break;\n",
       "                    }\n",
       "                }\n",
       "            }, 500);\n",
       "            "
      ],
      "text/plain": [
       "<IPython.core.display.Javascript object>"
      ]
     },
     "metadata": {},
     "output_type": "display_data"
    }
   ],
   "source": [
    "test_df_temp = test_df.copy()\n",
    "test_df_temp[\"cl\"] = 0\n",
    "\n",
    "plt.figure(figsize=(8, 5))\n",
    "\n",
    "sns.scatterplot(\n",
    "    x=\"f1\",\n",
    "    y=\"f2\",\n",
    "    hue=\"cl\",\n",
    "    data=pd.concat([train_df, test_df_temp]),\n",
    "    palette=\"bright\",\n",
    "    hue_order=[1, 2, 0],\n",
    "    style=\"cl\",\n",
    "    markers=[\"D\", \"o\", \"X\"],\n",
    "    size=\"cl\",\n",
    "    sizes=(20, 60),\n",
    ")\n",
    "plt.title(\"Feature 1 vs Feature 2\")\n",
    "plt.xlabel(\"Feature 1\")\n",
    "plt.ylabel(\"Feature 2\")\n",
    "plt.xticks(ticks=range(0, 15, 1))\n",
    "plt.yticks(ticks=range(0, 16, 1))\n",
    "plt.axvline(5.2, linestyle=\"--\", color=\"r\")\n",
    "\n",
    "plt.savefig(\"./Output/train-n-test-data-points.png\")\n",
    "plt.show()"
   ]
  },
  {
   "cell_type": "markdown",
   "id": "6470170a",
   "metadata": {},
   "source": [
    "1. Every green point on **left side** of the red line belongs to class **`1` - Blue**.\n",
    "2. Every green point (except `(5.7, 8)`) on **right side** of the red line belongs to class **`2` - Orange**.\n",
    "3. Green data-point **`(5.7, 8)`** on right of the red line belongs to class **`1` - Blue**."
   ]
  },
  {
   "cell_type": "markdown",
   "id": "b6e9d031",
   "metadata": {},
   "source": [
    "### Training model with default `K` value `5`"
   ]
  },
  {
   "cell_type": "code",
   "execution_count": 21,
   "id": "1b96d4bc",
   "metadata": {},
   "outputs": [
    {
     "name": "stdout",
     "output_type": "stream",
     "text": [
      "Testing model using `test` dataset:\n",
      "+-------------+--------------+-----------------+--------+\n",
      "|  Data-Point | Actual Class | Predicted Class | Failed |\n",
      "+-------------+--------------+-----------------+--------+\n",
      "|  [5.0, 6.0] |      1       |        1        |        |\n",
      "|  [4.5, 5.3] |      1       |        1        |        |\n",
      "|  [5.0, 9.0] |      1       |        1        |        |\n",
      "| [3.3, 11.2] |      1       |        1        |        |\n",
      "|  [2.5, 9.0] |      1       |        1        |        |\n",
      "| [2.5, 10.0] |      1       |        1        |        |\n",
      "|  [5.7, 8.0] |      1       |        2        |   X    |\n",
      "|  [4.5, 3.5] |      1       |        1        |        |\n",
      "|  [3.9, 9.4] |      1       |        1        |        |\n",
      "|  [0.8, 0.7] |      1       |        1        |        |\n",
      "| [7.5, 11.0] |      2       |        2        |        |\n",
      "| [10.0, 9.0] |      2       |        2        |        |\n",
      "|  [9.5, 9.0] |      2       |        2        |        |\n",
      "|  [8.5, 8.1] |      2       |        2        |        |\n",
      "|  [5.5, 5.0] |      2       |        1        |   X    |\n",
      "| [5.3, 11.0] |      2       |        1        |   X    |\n",
      "| [5.6, 12.0] |      2       |        1        |   X    |\n",
      "|  [7.5, 7.0] |      2       |        2        |        |\n",
      "|  [7.0, 5.5] |      2       |        2        |        |\n",
      "| [6.5, 12.5] |      2       |        2        |        |\n",
      "+-------------+--------------+-----------------+--------+\n"
     ]
    },
    {
     "data": {
      "application/javascript": [
       "\n",
       "            setTimeout(function() {\n",
       "                var nbb_cell_id = 21;\n",
       "                var nbb_unformatted_code = \"ENABLE_LOG = False\\ntable = PrettyTable([\\\"Data-Point\\\", \\\"Actual Class\\\", \\\"Predicted Class\\\", \\\"Failed\\\"])\\n\\ntry:\\n    acc = 0\\n    for index, row in test_df.iterrows():\\n        x_q = list(row[:2])  # Query point\\n        acl = int(row[-1])  # Actual class label\\n\\n        # STEP 1: Get K-nearest neighbors.\\n        knn = get_k_nearest_points(S, x_q)\\n\\n        # STEP 2: Get class with majority vote.\\n        pcl, count = majority_vote(knn)  # Predicted class label and its votes\\n\\n        # STEP 3: Calculate accuracy.\\n        sym = \\\"X\\\"\\n        if acl == pcl:\\n            acc += 1\\n            sym = \\\"\\\"\\n\\n        table.add_row([x_q, acl, pcl, sym])\\n\\n    print(\\\"Testing model using `test` dataset:\\\")\\n    print(table)\\n\\nexcept ValueError as ve:\\n    print(\\\"Error:\\\", ve)\";\n",
       "                var nbb_formatted_code = \"ENABLE_LOG = False\\ntable = PrettyTable([\\\"Data-Point\\\", \\\"Actual Class\\\", \\\"Predicted Class\\\", \\\"Failed\\\"])\\n\\ntry:\\n    acc = 0\\n    for index, row in test_df.iterrows():\\n        x_q = list(row[:2])  # Query point\\n        acl = int(row[-1])  # Actual class label\\n\\n        # STEP 1: Get K-nearest neighbors.\\n        knn = get_k_nearest_points(S, x_q)\\n\\n        # STEP 2: Get class with majority vote.\\n        pcl, count = majority_vote(knn)  # Predicted class label and its votes\\n\\n        # STEP 3: Calculate accuracy.\\n        sym = \\\"X\\\"\\n        if acl == pcl:\\n            acc += 1\\n            sym = \\\"\\\"\\n\\n        table.add_row([x_q, acl, pcl, sym])\\n\\n    print(\\\"Testing model using `test` dataset:\\\")\\n    print(table)\\n\\nexcept ValueError as ve:\\n    print(\\\"Error:\\\", ve)\";\n",
       "                var nbb_cells = Jupyter.notebook.get_cells();\n",
       "                for (var i = 0; i < nbb_cells.length; ++i) {\n",
       "                    if (nbb_cells[i].input_prompt_number == nbb_cell_id) {\n",
       "                        if (nbb_cells[i].get_text() == nbb_unformatted_code) {\n",
       "                             nbb_cells[i].set_text(nbb_formatted_code);\n",
       "                        }\n",
       "                        break;\n",
       "                    }\n",
       "                }\n",
       "            }, 500);\n",
       "            "
      ],
      "text/plain": [
       "<IPython.core.display.Javascript object>"
      ]
     },
     "metadata": {},
     "output_type": "display_data"
    }
   ],
   "source": [
    "ENABLE_LOG = False\n",
    "table = PrettyTable([\"Data-Point\", \"Actual Class\", \"Predicted Class\", \"Failed\"])\n",
    "\n",
    "try:\n",
    "    acc = 0\n",
    "    for index, row in test_df.iterrows():\n",
    "        x_q = list(row[:2])  # Query point\n",
    "        acl = int(row[-1])  # Actual class label\n",
    "\n",
    "        # STEP 1: Get K-nearest neighbors.\n",
    "        knn = get_k_nearest_points(S, x_q)\n",
    "\n",
    "        # STEP 2: Get class with majority vote.\n",
    "        pcl, count = majority_vote(knn)  # Predicted class label and its votes\n",
    "\n",
    "        # STEP 3: Calculate accuracy.\n",
    "        sym = \"X\"\n",
    "        if acl == pcl:\n",
    "            acc += 1\n",
    "            sym = \"\"\n",
    "\n",
    "        table.add_row([x_q, acl, pcl, sym])\n",
    "\n",
    "    print(\"Testing model using `test` dataset:\")\n",
    "    print(table)\n",
    "\n",
    "except ValueError as ve:\n",
    "    print(\"Error:\", ve)"
   ]
  },
  {
   "cell_type": "markdown",
   "id": "352bb93d",
   "metadata": {},
   "source": [
    "All Failures are near the border where data-points from both the classes meet.\n",
    "\n",
    "### Accuracy for default `K` value `5`\n",
    "\n",
    "Calculate accuracy of KNN algorithm for given `test` dataset when `K` value is `5`."
   ]
  },
  {
   "cell_type": "code",
   "execution_count": 22,
   "id": "c135d400",
   "metadata": {},
   "outputs": [
    {
     "name": "stdout",
     "output_type": "stream",
     "text": [
      "Accuracy of model on test dataset.\n",
      "Total number of correct predictions: 16\n",
      "Accuracy: 80.0%\n"
     ]
    },
    {
     "data": {
      "application/javascript": [
       "\n",
       "            setTimeout(function() {\n",
       "                var nbb_cell_id = 22;\n",
       "                var nbb_unformatted_code = \"print(\\\"Accuracy of model on test dataset.\\\")\\nprint(\\\"Total number of correct predictions:\\\", acc)\\nprint(f\\\"Accuracy: {round(acc / len(test_df) * 100, 1)}%\\\")\";\n",
       "                var nbb_formatted_code = \"print(\\\"Accuracy of model on test dataset.\\\")\\nprint(\\\"Total number of correct predictions:\\\", acc)\\nprint(f\\\"Accuracy: {round(acc / len(test_df) * 100, 1)}%\\\")\";\n",
       "                var nbb_cells = Jupyter.notebook.get_cells();\n",
       "                for (var i = 0; i < nbb_cells.length; ++i) {\n",
       "                    if (nbb_cells[i].input_prompt_number == nbb_cell_id) {\n",
       "                        if (nbb_cells[i].get_text() == nbb_unformatted_code) {\n",
       "                             nbb_cells[i].set_text(nbb_formatted_code);\n",
       "                        }\n",
       "                        break;\n",
       "                    }\n",
       "                }\n",
       "            }, 500);\n",
       "            "
      ],
      "text/plain": [
       "<IPython.core.display.Javascript object>"
      ]
     },
     "metadata": {},
     "output_type": "display_data"
    }
   ],
   "source": [
    "print(\"Accuracy of model on test dataset.\")\n",
    "print(\"Total number of correct predictions:\", acc)\n",
    "print(f\"Accuracy: {round(acc / len(test_df) * 100, 1)}%\")"
   ]
  },
  {
   "cell_type": "markdown",
   "id": "3685c331",
   "metadata": {},
   "source": [
    "<font color=\"red\">\n",
    "This approach for calculating accuracy of the model <b>is wrong</b> because the trained model is <b>not generalized</b>.\n",
    "</font>"
   ]
  },
  {
   "cell_type": "markdown",
   "id": "0833e64c",
   "metadata": {},
   "source": [
    "# [3] How to pick right hyper parameter `K`?\n",
    "\n",
    "Find training error for various `K` values raging between `1` and `50` (size of train dataset)."
   ]
  },
  {
   "cell_type": "code",
   "execution_count": 23,
   "id": "92d81baf",
   "metadata": {},
   "outputs": [
    {
     "data": {
      "application/javascript": [
       "\n",
       "            setTimeout(function() {\n",
       "                var nbb_cell_id = 23;\n",
       "                var nbb_unformatted_code = \"def fit(S, T, K=5):\\n    try:\\n        pcl_count = 0  # Correctly predicted class count.\\n        for dp in T:\\n            x_q = dp[0]  # Query point\\n            acl = dp[1]  # Actual class label\\n\\n            # STEP 1: Get K-nearest neighbors.\\n            knn = get_k_nearest_points(S, x_q, K)\\n\\n            # STEP 2: Get class with majority vote.\\n            pcl, count = majority_vote(knn)  # Predicted class label and its votes\\n\\n            # STEP 3: Compare prediction with actual class-label.\\n            if acl == pcl:\\n                # Predicted class-label is same as actual class-label.\\n                pcl_count += 1\\n\\n        return round(1 - pcl_count / len(T), 4)  # Training error\\n\\n    except ValueError as ve:\\n        print(\\\"Error:\\\", ve)\";\n",
       "                var nbb_formatted_code = \"def fit(S, T, K=5):\\n    try:\\n        pcl_count = 0  # Correctly predicted class count.\\n        for dp in T:\\n            x_q = dp[0]  # Query point\\n            acl = dp[1]  # Actual class label\\n\\n            # STEP 1: Get K-nearest neighbors.\\n            knn = get_k_nearest_points(S, x_q, K)\\n\\n            # STEP 2: Get class with majority vote.\\n            pcl, count = majority_vote(knn)  # Predicted class label and its votes\\n\\n            # STEP 3: Compare prediction with actual class-label.\\n            if acl == pcl:\\n                # Predicted class-label is same as actual class-label.\\n                pcl_count += 1\\n\\n        return round(1 - pcl_count / len(T), 4)  # Training error\\n\\n    except ValueError as ve:\\n        print(\\\"Error:\\\", ve)\";\n",
       "                var nbb_cells = Jupyter.notebook.get_cells();\n",
       "                for (var i = 0; i < nbb_cells.length; ++i) {\n",
       "                    if (nbb_cells[i].input_prompt_number == nbb_cell_id) {\n",
       "                        if (nbb_cells[i].get_text() == nbb_unformatted_code) {\n",
       "                             nbb_cells[i].set_text(nbb_formatted_code);\n",
       "                        }\n",
       "                        break;\n",
       "                    }\n",
       "                }\n",
       "            }, 500);\n",
       "            "
      ],
      "text/plain": [
       "<IPython.core.display.Javascript object>"
      ]
     },
     "metadata": {},
     "output_type": "display_data"
    }
   ],
   "source": [
    "def fit(S, T, K=5):\n",
    "    try:\n",
    "        pcl_count = 0  # Correctly predicted class count.\n",
    "        for dp in T:\n",
    "            x_q = dp[0]  # Query point\n",
    "            acl = dp[1]  # Actual class label\n",
    "\n",
    "            # STEP 1: Get K-nearest neighbors.\n",
    "            knn = get_k_nearest_points(S, x_q, K)\n",
    "\n",
    "            # STEP 2: Get class with majority vote.\n",
    "            pcl, count = majority_vote(knn)  # Predicted class label and its votes\n",
    "\n",
    "            # STEP 3: Compare prediction with actual class-label.\n",
    "            if acl == pcl:\n",
    "                # Predicted class-label is same as actual class-label.\n",
    "                pcl_count += 1\n",
    "\n",
    "        return round(1 - pcl_count / len(T), 4)  # Training error\n",
    "\n",
    "    except ValueError as ve:\n",
    "        print(\"Error:\", ve)"
   ]
  },
  {
   "cell_type": "code",
   "execution_count": 24,
   "id": "3fdcbfdc",
   "metadata": {
    "scrolled": false
   },
   "outputs": [
    {
     "data": {
      "application/javascript": [
       "\n",
       "            setTimeout(function() {\n",
       "                var nbb_cell_id = 24;\n",
       "                var nbb_unformatted_code = \"ENABLE_LOG = False\\n\\n# Prepare training data.\\nS = [([row[0], row[1]], row[2]) for _, row in train_df.iterrows()]\\n\\ntrain_errors = []\\nfor k in range(1, len(S) + 1):\\n    trn_err = fit(S, S, k)\\n    train_errors.append(trn_err)\";\n",
       "                var nbb_formatted_code = \"ENABLE_LOG = False\\n\\n# Prepare training data.\\nS = [([row[0], row[1]], row[2]) for _, row in train_df.iterrows()]\\n\\ntrain_errors = []\\nfor k in range(1, len(S) + 1):\\n    trn_err = fit(S, S, k)\\n    train_errors.append(trn_err)\";\n",
       "                var nbb_cells = Jupyter.notebook.get_cells();\n",
       "                for (var i = 0; i < nbb_cells.length; ++i) {\n",
       "                    if (nbb_cells[i].input_prompt_number == nbb_cell_id) {\n",
       "                        if (nbb_cells[i].get_text() == nbb_unformatted_code) {\n",
       "                             nbb_cells[i].set_text(nbb_formatted_code);\n",
       "                        }\n",
       "                        break;\n",
       "                    }\n",
       "                }\n",
       "            }, 500);\n",
       "            "
      ],
      "text/plain": [
       "<IPython.core.display.Javascript object>"
      ]
     },
     "metadata": {},
     "output_type": "display_data"
    }
   ],
   "source": [
    "ENABLE_LOG = False\n",
    "\n",
    "# Prepare training data.\n",
    "S = [([row[0], row[1]], row[2]) for _, row in train_df.iterrows()]\n",
    "\n",
    "train_errors = []\n",
    "for k in range(1, len(S) + 1):\n",
    "    trn_err = fit(S, S, k)\n",
    "    train_errors.append(trn_err)"
   ]
  },
  {
   "cell_type": "markdown",
   "id": "2d3817c3",
   "metadata": {},
   "source": [
    "Plot training-error vs `K` graph, to get `K` value with lowest error."
   ]
  },
  {
   "cell_type": "code",
   "execution_count": 25,
   "id": "954cb9c9",
   "metadata": {},
   "outputs": [
    {
     "data": {
      "image/png": "[encoded data removed]",
      "text/plain": [
       "<Figure size 432x288 with 1 Axes>"
      ]
     },
     "metadata": {},
     "output_type": "display_data"
    },
    {
     "data": {
      "application/javascript": [
       "\n",
       "            setTimeout(function() {\n",
       "                var nbb_cell_id = 25;\n",
       "                var nbb_unformatted_code = \"sns.lineplot(data=train_errors)\\nplt.title(\\\"Train Error\\\")\\nplt.xlabel(\\\"K\\\")\\nplt.ylabel(\\\"Error\\\")\\nplt.xticks(ticks=range(1, 85, 5))\\n\\nplt.show()\";\n",
       "                var nbb_formatted_code = \"sns.lineplot(data=train_errors)\\nplt.title(\\\"Train Error\\\")\\nplt.xlabel(\\\"K\\\")\\nplt.ylabel(\\\"Error\\\")\\nplt.xticks(ticks=range(1, 85, 5))\\n\\nplt.show()\";\n",
       "                var nbb_cells = Jupyter.notebook.get_cells();\n",
       "                for (var i = 0; i < nbb_cells.length; ++i) {\n",
       "                    if (nbb_cells[i].input_prompt_number == nbb_cell_id) {\n",
       "                        if (nbb_cells[i].get_text() == nbb_unformatted_code) {\n",
       "                             nbb_cells[i].set_text(nbb_formatted_code);\n",
       "                        }\n",
       "                        break;\n",
       "                    }\n",
       "                }\n",
       "            }, 500);\n",
       "            "
      ],
      "text/plain": [
       "<IPython.core.display.Javascript object>"
      ]
     },
     "metadata": {},
     "output_type": "display_data"
    }
   ],
   "source": [
    "sns.lineplot(data=train_errors)\n",
    "plt.title(\"Train Error\")\n",
    "plt.xlabel(\"K\")\n",
    "plt.ylabel(\"Error\")\n",
    "plt.xticks(ticks=range(1, 85, 5))\n",
    "\n",
    "plt.show()"
   ]
  },
  {
   "cell_type": "markdown",
   "id": "68b01108",
   "metadata": {},
   "source": [
    "Train error increases as `K` increases."
   ]
  },
  {
   "cell_type": "markdown",
   "id": "4d94cbbe",
   "metadata": {},
   "source": [
    "# [4] K-Fold Cross Validation"
   ]
  },
  {
   "cell_type": "code",
   "execution_count": 26,
   "id": "6ff90d74",
   "metadata": {
    "scrolled": false
   },
   "outputs": [
    {
     "data": {
      "application/javascript": [
       "\n",
       "            setTimeout(function() {\n",
       "                var nbb_cell_id = 26;\n",
       "                var nbb_unformatted_code = \"ENABLE_LOG = False\\nS = np.array([([row[0], row[1]], row[2]) for _, row in train_df.iterrows()], dtype=object)\\nk_fold = 9\\n\\n# Split train dataset into k-folds.\\nsplits = np.array_split(S, k_fold)\\nsplits = np.array(splits, dtype=object)  # Typecast to NumPy array\\n\\navg_errs = []\\nfor k in range(1, len(S) + 1):\\n    cval_errs = []\\n    for index, split in enumerate(splits):\\n        cross_v = split\\n        split_c = np.delete(splits, index, axis=0)\\n        train = np.concatenate(split_c, axis=0, dtype=object)\\n\\n        cval_err = fit(train, cross_v, k)  # Accuracy percentage\\n        cval_errs.append(cval_err)\\n    avg_errs.append(np.mean(cval_errs))\";\n",
       "                var nbb_formatted_code = \"ENABLE_LOG = False\\nS = np.array([([row[0], row[1]], row[2]) for _, row in train_df.iterrows()], dtype=object)\\nk_fold = 9\\n\\n# Split train dataset into k-folds.\\nsplits = np.array_split(S, k_fold)\\nsplits = np.array(splits, dtype=object)  # Typecast to NumPy array\\n\\navg_errs = []\\nfor k in range(1, len(S) + 1):\\n    cval_errs = []\\n    for index, split in enumerate(splits):\\n        cross_v = split\\n        split_c = np.delete(splits, index, axis=0)\\n        train = np.concatenate(split_c, axis=0, dtype=object)\\n\\n        cval_err = fit(train, cross_v, k)  # Accuracy percentage\\n        cval_errs.append(cval_err)\\n    avg_errs.append(np.mean(cval_errs))\";\n",
       "                var nbb_cells = Jupyter.notebook.get_cells();\n",
       "                for (var i = 0; i < nbb_cells.length; ++i) {\n",
       "                    if (nbb_cells[i].input_prompt_number == nbb_cell_id) {\n",
       "                        if (nbb_cells[i].get_text() == nbb_unformatted_code) {\n",
       "                             nbb_cells[i].set_text(nbb_formatted_code);\n",
       "                        }\n",
       "                        break;\n",
       "                    }\n",
       "                }\n",
       "            }, 500);\n",
       "            "
      ],
      "text/plain": [
       "<IPython.core.display.Javascript object>"
      ]
     },
     "metadata": {},
     "output_type": "display_data"
    }
   ],
   "source": [
    "ENABLE_LOG = False\n",
    "S = np.array([([row[0], row[1]], row[2]) for _, row in train_df.iterrows()], dtype=object)\n",
    "k_fold = 9\n",
    "\n",
    "# Split train dataset into k-folds.\n",
    "splits = np.array_split(S, k_fold)\n",
    "splits = np.array(splits, dtype=object)  # Typecast to NumPy array\n",
    "\n",
    "avg_errs = []\n",
    "for k in range(1, len(S) + 1):\n",
    "    cval_errs = []\n",
    "    for index, split in enumerate(splits):\n",
    "        cross_v = split\n",
    "        split_c = np.delete(splits, index, axis=0)\n",
    "        train = np.concatenate(split_c, axis=0, dtype=object)\n",
    "\n",
    "        cval_err = fit(train, cross_v, k)  # Accuracy percentage\n",
    "        cval_errs.append(cval_err)\n",
    "    avg_errs.append(np.mean(cval_errs))"
   ]
  },
  {
   "cell_type": "code",
   "execution_count": 27,
   "id": "390e0164",
   "metadata": {},
   "outputs": [
    {
     "data": {
      "image/png": "[encoded data removed]",
      "text/plain": [
       "<Figure size 864x504 with 1 Axes>"
      ]
     },
     "metadata": {},
     "output_type": "display_data"
    },
    {
     "data": {
      "application/javascript": [
       "\n",
       "            setTimeout(function() {\n",
       "                var nbb_cell_id = 27;\n",
       "                var nbb_unformatted_code = \"plt.figure(figsize=(12, 7))\\n\\nsns.lineplot(data=train_errors, label=\\\"Train Error\\\")\\nsns.lineplot(data=avg_errs, label=\\\"Test Error\\\")\\nplt.title(\\\"K vs Errors\\\")\\nplt.xlabel(\\\"K\\\")\\nplt.ylabel(\\\"Error\\\")\\nplt.xticks(ticks=range(1, 85, 5))\\nplt.axhline(min(avg_errs), linestyle=\\\"--\\\", color=\\\"g\\\")\\nplt.legend()\\n\\nplt.show()\";\n",
       "                var nbb_formatted_code = \"plt.figure(figsize=(12, 7))\\n\\nsns.lineplot(data=train_errors, label=\\\"Train Error\\\")\\nsns.lineplot(data=avg_errs, label=\\\"Test Error\\\")\\nplt.title(\\\"K vs Errors\\\")\\nplt.xlabel(\\\"K\\\")\\nplt.ylabel(\\\"Error\\\")\\nplt.xticks(ticks=range(1, 85, 5))\\nplt.axhline(min(avg_errs), linestyle=\\\"--\\\", color=\\\"g\\\")\\nplt.legend()\\n\\nplt.show()\";\n",
       "                var nbb_cells = Jupyter.notebook.get_cells();\n",
       "                for (var i = 0; i < nbb_cells.length; ++i) {\n",
       "                    if (nbb_cells[i].input_prompt_number == nbb_cell_id) {\n",
       "                        if (nbb_cells[i].get_text() == nbb_unformatted_code) {\n",
       "                             nbb_cells[i].set_text(nbb_formatted_code);\n",
       "                        }\n",
       "                        break;\n",
       "                    }\n",
       "                }\n",
       "            }, 500);\n",
       "            "
      ],
      "text/plain": [
       "<IPython.core.display.Javascript object>"
      ]
     },
     "metadata": {},
     "output_type": "display_data"
    }
   ],
   "source": [
    "plt.figure(figsize=(12, 7))\n",
    "\n",
    "sns.lineplot(data=train_errors, label=\"Train Error\")\n",
    "sns.lineplot(data=avg_errs, label=\"Test Error\")\n",
    "plt.title(\"K vs Errors\")\n",
    "plt.xlabel(\"K\")\n",
    "plt.ylabel(\"Error\")\n",
    "plt.xticks(ticks=range(1, 85, 5))\n",
    "plt.axhline(min(avg_errs), linestyle=\"--\", color=\"g\")\n",
    "plt.legend()\n",
    "\n",
    "plt.show()"
   ]
  },
  {
   "cell_type": "markdown",
   "id": "6b3015c5",
   "metadata": {},
   "source": [
    "# [5] Overfitting and Underfitting\n",
    "\n",
    "Graphical representation of **Overfitting** and **Underfitting**."
   ]
  },
  {
   "cell_type": "markdown",
   "id": "cfefdfbe",
   "metadata": {},
   "source": [
    "# [6] Final Implementation\n",
    "\n",
    "Final implementation of KNN algorithm by combining all the above steps in single closure."
   ]
  },
  {
   "cell_type": "code",
   "execution_count": 28,
   "id": "87aed3f4",
   "metadata": {},
   "outputs": [
    {
     "data": {
      "application/javascript": [
       "\n",
       "            setTimeout(function() {\n",
       "                var nbb_cell_id = 28;\n",
       "                var nbb_unformatted_code = \"def KNN(data_pnts):\\n    \\\"\\\"\\\"\\n    Function to prepare training and testing data before applying KNN algorithm.\\n    \\\"\\\"\\\"\\n\\n    # Default values\\n    dflt_k = 5\\n    dflt_algo_typ = 1\\n\\n    # Prepare training data.\\n    # data_pnts = data_pnts\\n\\n    def get_k_nearest_points(data_pnts, query_pnt, K=dflt_k, algo_type=dflt_algo_typ):\\n        \\\"\\\"\\\"\\n        Function to return `K` nearest data-points to query-point `query_pnt`.\\n        \\\"\\\"\\\"\\n        if algo_type == 1:\\n            log(\\\"Computing Euclidean Distance.\\\")\\n            algo = euclidean_distance\\n        elif algo_type == 2:\\n            log(\\\"Computing Manhattan Distance.\\\")\\n            algo = manhattan_distance\\n        elif algo_type == 3:\\n            log(\\\"Computing Minkowski Distance.\\\")\\n            algo = minkowski_distance\\n        elif algo_type == 4:\\n            log(\\\"Computing Cosine Distance.\\\")\\n            algo = cosine_distance\\n        else:\\n            raise ValueError(f\\\"Invalid `algo_type` {algo_type}. Value should be in {1, 2, 3, 4}.\\\")\\n\\n        distances = []\\n        for data_pnt in data_pnts:\\n            distances.append(\\n                {\\n                    \\\"data-point\\\": data_pnt[0],\\n                    \\\"label\\\": data_pnt[1],\\n                    \\\"distance\\\": round(algo(data_pnt[0], query_pnt), 6),\\n                }\\n            )\\n\\n        log(f\\\"Returning {K} nearest neighbors.\\\")\\n        return sorted(distances, key=lambda x: x[\\\"distance\\\"])[:K]\\n\\n    def majority_vote(knn):\\n        if is_empty(knn):\\n            raise ValueError(\\\"Class list is empty.\\\")\\n\\n        # Get class-labels of all data-points and take majority vote/count.\\n        cl_count = groupby_count(knn, lambda n: n.get(\\\"label\\\", None))\\n        log(\\\"Class count:\\\", cl_count)\\n\\n        # Sort class-labels by count.\\n        cl_sorted = sorted(cl_count.items(), key=lambda x: x[1], reverse=True)\\n        log(\\\"Class sorted:\\\", cl_sorted)\\n\\n        # Return class-label with highest count as `y_q`.\\n        return cl_sorted[0]\\n\\n    def fit(query_pnt, K=dflt_k, algo_type=dflt_algo_typ):\\n        \\\"\\\"\\\"\\n        Function to apply KNN algorithm on query point `query_pnt` for given `K` value.\\n        \\\"\\\"\\\"\\n        try:\\n            # STEP 1: Get K-nearest neighbors.\\n            knn = get_k_nearest_points(data_pnts, query_pnt, K, algo_type)\\n\\n            # STEP 2: Get class with majority votes.\\n            return majority_vote(knn)  # Predicted class label and its votes\\n\\n        except ValueError as err:\\n            print(\\\"Error:\\\", err)\\n\\n    return fit\";\n",
       "                var nbb_formatted_code = \"def KNN(data_pnts):\\n    \\\"\\\"\\\"\\n    Function to prepare training and testing data before applying KNN algorithm.\\n    \\\"\\\"\\\"\\n\\n    # Default values\\n    dflt_k = 5\\n    dflt_algo_typ = 1\\n\\n    # Prepare training data.\\n    # data_pnts = data_pnts\\n\\n    def get_k_nearest_points(data_pnts, query_pnt, K=dflt_k, algo_type=dflt_algo_typ):\\n        \\\"\\\"\\\"\\n        Function to return `K` nearest data-points to query-point `query_pnt`.\\n        \\\"\\\"\\\"\\n        if algo_type == 1:\\n            log(\\\"Computing Euclidean Distance.\\\")\\n            algo = euclidean_distance\\n        elif algo_type == 2:\\n            log(\\\"Computing Manhattan Distance.\\\")\\n            algo = manhattan_distance\\n        elif algo_type == 3:\\n            log(\\\"Computing Minkowski Distance.\\\")\\n            algo = minkowski_distance\\n        elif algo_type == 4:\\n            log(\\\"Computing Cosine Distance.\\\")\\n            algo = cosine_distance\\n        else:\\n            raise ValueError(f\\\"Invalid `algo_type` {algo_type}. Value should be in {1, 2, 3, 4}.\\\")\\n\\n        distances = []\\n        for data_pnt in data_pnts:\\n            distances.append(\\n                {\\n                    \\\"data-point\\\": data_pnt[0],\\n                    \\\"label\\\": data_pnt[1],\\n                    \\\"distance\\\": round(algo(data_pnt[0], query_pnt), 6),\\n                }\\n            )\\n\\n        log(f\\\"Returning {K} nearest neighbors.\\\")\\n        return sorted(distances, key=lambda x: x[\\\"distance\\\"])[:K]\\n\\n    def majority_vote(knn):\\n        if is_empty(knn):\\n            raise ValueError(\\\"Class list is empty.\\\")\\n\\n        # Get class-labels of all data-points and take majority vote/count.\\n        cl_count = groupby_count(knn, lambda n: n.get(\\\"label\\\", None))\\n        log(\\\"Class count:\\\", cl_count)\\n\\n        # Sort class-labels by count.\\n        cl_sorted = sorted(cl_count.items(), key=lambda x: x[1], reverse=True)\\n        log(\\\"Class sorted:\\\", cl_sorted)\\n\\n        # Return class-label with highest count as `y_q`.\\n        return cl_sorted[0]\\n\\n    def fit(query_pnt, K=dflt_k, algo_type=dflt_algo_typ):\\n        \\\"\\\"\\\"\\n        Function to apply KNN algorithm on query point `query_pnt` for given `K` value.\\n        \\\"\\\"\\\"\\n        try:\\n            # STEP 1: Get K-nearest neighbors.\\n            knn = get_k_nearest_points(data_pnts, query_pnt, K, algo_type)\\n\\n            # STEP 2: Get class with majority votes.\\n            return majority_vote(knn)  # Predicted class label and its votes\\n\\n        except ValueError as err:\\n            print(\\\"Error:\\\", err)\\n\\n    return fit\";\n",
       "                var nbb_cells = Jupyter.notebook.get_cells();\n",
       "                for (var i = 0; i < nbb_cells.length; ++i) {\n",
       "                    if (nbb_cells[i].input_prompt_number == nbb_cell_id) {\n",
       "                        if (nbb_cells[i].get_text() == nbb_unformatted_code) {\n",
       "                             nbb_cells[i].set_text(nbb_formatted_code);\n",
       "                        }\n",
       "                        break;\n",
       "                    }\n",
       "                }\n",
       "            }, 500);\n",
       "            "
      ],
      "text/plain": [
       "<IPython.core.display.Javascript object>"
      ]
     },
     "metadata": {},
     "output_type": "display_data"
    }
   ],
   "source": [
    "def KNN(data_pnts):\n",
    "    \"\"\"\n",
    "    Function to prepare training and testing data before applying KNN algorithm.\n",
    "    \"\"\"\n",
    "\n",
    "    # Default values\n",
    "    dflt_k = 5\n",
    "    dflt_algo_typ = 1\n",
    "\n",
    "    # Prepare training data.\n",
    "    # data_pnts = data_pnts\n",
    "\n",
    "    def get_k_nearest_points(data_pnts, query_pnt, K=dflt_k, algo_type=dflt_algo_typ):\n",
    "        \"\"\"\n",
    "        Function to return `K` nearest data-points to query-point `query_pnt`.\n",
    "        \"\"\"\n",
    "        if algo_type == 1:\n",
    "            log(\"Computing Euclidean Distance.\")\n",
    "            algo = euclidean_distance\n",
    "        elif algo_type == 2:\n",
    "            log(\"Computing Manhattan Distance.\")\n",
    "            algo = manhattan_distance\n",
    "        elif algo_type == 3:\n",
    "            log(\"Computing Minkowski Distance.\")\n",
    "            algo = minkowski_distance\n",
    "        elif algo_type == 4:\n",
    "            log(\"Computing Cosine Distance.\")\n",
    "            algo = cosine_distance\n",
    "        else:\n",
    "            raise ValueError(f\"Invalid `algo_type` {algo_type}. Value should be in {1, 2, 3, 4}.\")\n",
    "\n",
    "        distances = []\n",
    "        for data_pnt in data_pnts:\n",
    "            distances.append(\n",
    "                {\n",
    "                    \"data-point\": data_pnt[0],\n",
    "                    \"label\": data_pnt[1],\n",
    "                    \"distance\": round(algo(data_pnt[0], query_pnt), 6),\n",
    "                }\n",
    "            )\n",
    "\n",
    "        log(f\"Returning {K} nearest neighbors.\")\n",
    "        return sorted(distances, key=lambda x: x[\"distance\"])[:K]\n",
    "\n",
    "    def majority_vote(knn):\n",
    "        if is_empty(knn):\n",
    "            raise ValueError(\"Class list is empty.\")\n",
    "\n",
    "        # Get class-labels of all data-points and take majority vote/count.\n",
    "        cl_count = groupby_count(knn, lambda n: n.get(\"label\", None))\n",
    "        log(\"Class count:\", cl_count)\n",
    "\n",
    "        # Sort class-labels by count.\n",
    "        cl_sorted = sorted(cl_count.items(), key=lambda x: x[1], reverse=True)\n",
    "        log(\"Class sorted:\", cl_sorted)\n",
    "\n",
    "        # Return class-label with highest count as `y_q`.\n",
    "        return cl_sorted[0]\n",
    "\n",
    "    def fit(query_pnt, K=dflt_k, algo_type=dflt_algo_typ):\n",
    "        \"\"\"\n",
    "        Function to apply KNN algorithm on query point `query_pnt` for given `K` value.\n",
    "        \"\"\"\n",
    "        try:\n",
    "            # STEP 1: Get K-nearest neighbors.\n",
    "            knn = get_k_nearest_points(data_pnts, query_pnt, K, algo_type)\n",
    "\n",
    "            # STEP 2: Get class with majority votes.\n",
    "            return majority_vote(knn)  # Predicted class label and its votes\n",
    "\n",
    "        except ValueError as err:\n",
    "            print(\"Error:\", err)\n",
    "\n",
    "    return fit"
   ]
  },
  {
   "cell_type": "markdown",
   "id": "ceedcc95",
   "metadata": {},
   "source": [
    "#### Usage example:"
   ]
  },
  {
   "cell_type": "code",
   "execution_count": 29,
   "id": "a3633f6c",
   "metadata": {},
   "outputs": [
    {
     "data": {
      "application/javascript": [
       "\n",
       "            setTimeout(function() {\n",
       "                var nbb_cell_id = 29;\n",
       "                var nbb_unformatted_code = \"def fit(S, T, K=5):\\n    try:\\n        pcl_count = 0  # Correctly predicted class count.\\n        for dp in T:\\n            x_q = dp[0]  # Query point\\n            acl = dp[1]  # Actual class label\\n\\n            # STEP 1: Get K-nearest neighbors.\\n            knn = get_k_nearest_points(S, x_q, K)\\n\\n            # STEP 2: Get class with majority vote.\\n            pcl, count = majority_vote(knn)  # Predicted class label and its votes\\n\\n            # STEP 3: Calculate accuracy.\\n            if acl == pcl:\\n                # Predicted class-label is same as actual class-label.\\n                pcl_count += 1\\n\\n        return round(pcl_count / len(T) * 100, 0)  # Accuracy percentage\\n\\n    except ValueError as ve:\\n        print(\\\"Error:\\\", ve)\";\n",
       "                var nbb_formatted_code = \"def fit(S, T, K=5):\\n    try:\\n        pcl_count = 0  # Correctly predicted class count.\\n        for dp in T:\\n            x_q = dp[0]  # Query point\\n            acl = dp[1]  # Actual class label\\n\\n            # STEP 1: Get K-nearest neighbors.\\n            knn = get_k_nearest_points(S, x_q, K)\\n\\n            # STEP 2: Get class with majority vote.\\n            pcl, count = majority_vote(knn)  # Predicted class label and its votes\\n\\n            # STEP 3: Calculate accuracy.\\n            if acl == pcl:\\n                # Predicted class-label is same as actual class-label.\\n                pcl_count += 1\\n\\n        return round(pcl_count / len(T) * 100, 0)  # Accuracy percentage\\n\\n    except ValueError as ve:\\n        print(\\\"Error:\\\", ve)\";\n",
       "                var nbb_cells = Jupyter.notebook.get_cells();\n",
       "                for (var i = 0; i < nbb_cells.length; ++i) {\n",
       "                    if (nbb_cells[i].input_prompt_number == nbb_cell_id) {\n",
       "                        if (nbb_cells[i].get_text() == nbb_unformatted_code) {\n",
       "                             nbb_cells[i].set_text(nbb_formatted_code);\n",
       "                        }\n",
       "                        break;\n",
       "                    }\n",
       "                }\n",
       "            }, 500);\n",
       "            "
      ],
      "text/plain": [
       "<IPython.core.display.Javascript object>"
      ]
     },
     "metadata": {},
     "output_type": "display_data"
    }
   ],
   "source": [
    "def fit(S, T, K=5):\n",
    "    try:\n",
    "        pcl_count = 0  # Correctly predicted class count.\n",
    "        for dp in T:\n",
    "            x_q = dp[0]  # Query point\n",
    "            acl = dp[1]  # Actual class label\n",
    "\n",
    "            # STEP 1: Get K-nearest neighbors.\n",
    "            knn = get_k_nearest_points(S, x_q, K)\n",
    "\n",
    "            # STEP 2: Get class with majority vote.\n",
    "            pcl, count = majority_vote(knn)  # Predicted class label and its votes\n",
    "\n",
    "            # STEP 3: Calculate accuracy.\n",
    "            if acl == pcl:\n",
    "                # Predicted class-label is same as actual class-label.\n",
    "                pcl_count += 1\n",
    "\n",
    "        return round(pcl_count / len(T) * 100, 0)  # Accuracy percentage\n",
    "\n",
    "    except ValueError as ve:\n",
    "        print(\"Error:\", ve)"
   ]
  },
  {
   "cell_type": "code",
   "execution_count": 30,
   "id": "7339ca77",
   "metadata": {},
   "outputs": [
    {
     "name": "stdout",
     "output_type": "stream",
     "text": [
      "Computing Euclidean Distance.\n",
      "Returning 3 nearest neighbors.\n",
      "Class count: {2.0: 2, 1.0: 1}\n",
      "Class sorted: [(2.0, 2), (1.0, 1)]\n",
      "Predicted class label: 2.0 Count: 2\n"
     ]
    },
    {
     "data": {
      "application/javascript": [
       "\n",
       "            setTimeout(function() {\n",
       "                var nbb_cell_id = 30;\n",
       "                var nbb_unformatted_code = \"ENABLE_LOG = True\\n\\nS = [([row[0], row[1]], row[2]) for _, row in train_df.iterrows()]\\n\\nfit = KNN(S)\\npcl, vote = fit((10, 9), 3)\\n\\nprint(\\\"Predicted class label:\\\", pcl, \\\"Count:\\\", vote)\";\n",
       "                var nbb_formatted_code = \"ENABLE_LOG = True\\n\\nS = [([row[0], row[1]], row[2]) for _, row in train_df.iterrows()]\\n\\nfit = KNN(S)\\npcl, vote = fit((10, 9), 3)\\n\\nprint(\\\"Predicted class label:\\\", pcl, \\\"Count:\\\", vote)\";\n",
       "                var nbb_cells = Jupyter.notebook.get_cells();\n",
       "                for (var i = 0; i < nbb_cells.length; ++i) {\n",
       "                    if (nbb_cells[i].input_prompt_number == nbb_cell_id) {\n",
       "                        if (nbb_cells[i].get_text() == nbb_unformatted_code) {\n",
       "                             nbb_cells[i].set_text(nbb_formatted_code);\n",
       "                        }\n",
       "                        break;\n",
       "                    }\n",
       "                }\n",
       "            }, 500);\n",
       "            "
      ],
      "text/plain": [
       "<IPython.core.display.Javascript object>"
      ]
     },
     "metadata": {},
     "output_type": "display_data"
    }
   ],
   "source": [
    "ENABLE_LOG = True\n",
    "\n",
    "S = [([row[0], row[1]], row[2]) for _, row in train_df.iterrows()]\n",
    "\n",
    "fit = KNN(S)\n",
    "pcl, vote = fit((10, 9), 3)\n",
    "\n",
    "print(\"Predicted class label:\", pcl, \"Count:\", vote)"
   ]
  }
 ],
 "metadata": {
  "kernelspec": {
   "display_name": "Python 3 (ipykernel)",
   "language": "python",
   "name": "python3"
  },
  "language_info": {
   "codemirror_mode": {
    "name": "ipython",
    "version": 3
   },
   "file_extension": ".py",
   "mimetype": "text/x-python",
   "name": "python",
   "nbconvert_exporter": "python",
   "pygments_lexer": "ipython3",
   "version": "3.9.12"
  }
 },
 "nbformat": 4,
 "nbformat_minor": 5
}
