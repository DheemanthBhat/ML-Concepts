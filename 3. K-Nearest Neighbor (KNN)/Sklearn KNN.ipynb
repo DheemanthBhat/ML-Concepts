{
 "cells": [
  {
   "cell_type": "code",
   "execution_count": 1,
   "id": "6387c319",
   "metadata": {},
   "outputs": [
    {
     "data": {
      "application/javascript": [
       "\n",
       "            setTimeout(function() {\n",
       "                var nbb_cell_id = 1;\n",
       "                var nbb_unformatted_code = \"# Enable code formatting using external plugin: nb_black.\\n%reload_ext nb_black\";\n",
       "                var nbb_formatted_code = \"# Enable code formatting using external plugin: nb_black.\\n%reload_ext nb_black\";\n",
       "                var nbb_cells = Jupyter.notebook.get_cells();\n",
       "                for (var i = 0; i < nbb_cells.length; ++i) {\n",
       "                    if (nbb_cells[i].input_prompt_number == nbb_cell_id) {\n",
       "                        if (nbb_cells[i].get_text() == nbb_unformatted_code) {\n",
       "                             nbb_cells[i].set_text(nbb_formatted_code);\n",
       "                        }\n",
       "                        break;\n",
       "                    }\n",
       "                }\n",
       "            }, 500);\n",
       "            "
      ],
      "text/plain": [
       "<IPython.core.display.Javascript object>"
      ]
     },
     "metadata": {},
     "output_type": "display_data"
    }
   ],
   "source": [
    "# Enable code formatting using external plugin: nb_black.\n",
    "%reload_ext nb_black"
   ]
  },
  {
   "cell_type": "markdown",
   "id": "4806c83f",
   "metadata": {},
   "source": [
    "# Sklearn: K-Nearest Neighbor (KNN)"
   ]
  },
  {
   "cell_type": "markdown",
   "id": "a1503e26",
   "metadata": {},
   "source": [
    "# [1] Setup\n",
    "\n",
    "#### Import and configure required libraries"
   ]
  },
  {
   "cell_type": "code",
   "execution_count": 2,
   "id": "70829a79",
   "metadata": {},
   "outputs": [
    {
     "name": "stdout",
     "output_type": "stream",
     "text": [
      "NumPy version: 1.21.5\n",
      "Pandas version: 1.4.2\n",
      "Matplotlib version: 3.5.1\n",
      "Seaborn version: 0.11.2\n",
      "Sklearn version: 1.0.2\n"
     ]
    },
    {
     "data": {
      "application/javascript": [
       "\n",
       "            setTimeout(function() {\n",
       "                var nbb_cell_id = 2;\n",
       "                var nbb_unformatted_code = \"# Data manipulation libraries\\nimport numpy as np\\nimport pandas as pd\\n\\n# Data visualization libraries\\nimport matplotlib\\nimport matplotlib.pyplot as plt\\nimport seaborn as sns\\nfrom prettytable import PrettyTable\\n\\n# Data modeling libraries\\nimport sklearn\\nfrom sklearn.neighbors import KNeighborsClassifier, LocalOutlierFactor\\nfrom sklearn.model_selection import KFold\\nfrom sklearn.neighbors import LocalOutlierFactor\\n\\n# General imports\\nimport math\\n\\n# Library versions used in below EDA.\\nprint(\\\"NumPy version:\\\", np.__version__)\\nprint(\\\"Pandas version:\\\", pd.__version__)\\nprint(\\\"Matplotlib version:\\\", matplotlib.__version__)\\nprint(\\\"Seaborn version:\\\", sns.__version__)\\nprint(\\\"Sklearn version:\\\", sklearn.__version__)\\n\\n# Configure NumPy.\\n# Set `Line width` to Maximum 130 characters in the output, post which it will continue in next line.\\nnp.set_printoptions(linewidth=130)\\n\\n# Configure Pandas.\\n# Set display width to maximum 130 characters in the output, post which it will continue in next line.\\npd.options.display.width = 130\\n\\n# Configure Seaborn.\\nsns.set_style(\\\"whitegrid\\\")  # Set white background with grid.\\nsns.set_palette(\\\"deep\\\")  # Set color palette.\\nsns.set_context(\\\"paper\\\", font_scale=1.5)  # Set font to scale 1.5 more than normal.\";\n",
       "                var nbb_formatted_code = \"# Data manipulation libraries\\nimport numpy as np\\nimport pandas as pd\\n\\n# Data visualization libraries\\nimport matplotlib\\nimport matplotlib.pyplot as plt\\nimport seaborn as sns\\nfrom prettytable import PrettyTable\\n\\n# Data modeling libraries\\nimport sklearn\\nfrom sklearn.neighbors import KNeighborsClassifier, LocalOutlierFactor\\nfrom sklearn.model_selection import KFold\\nfrom sklearn.neighbors import LocalOutlierFactor\\n\\n# General imports\\nimport math\\n\\n# Library versions used in below EDA.\\nprint(\\\"NumPy version:\\\", np.__version__)\\nprint(\\\"Pandas version:\\\", pd.__version__)\\nprint(\\\"Matplotlib version:\\\", matplotlib.__version__)\\nprint(\\\"Seaborn version:\\\", sns.__version__)\\nprint(\\\"Sklearn version:\\\", sklearn.__version__)\\n\\n# Configure NumPy.\\n# Set `Line width` to Maximum 130 characters in the output, post which it will continue in next line.\\nnp.set_printoptions(linewidth=130)\\n\\n# Configure Pandas.\\n# Set display width to maximum 130 characters in the output, post which it will continue in next line.\\npd.options.display.width = 130\\n\\n# Configure Seaborn.\\nsns.set_style(\\\"whitegrid\\\")  # Set white background with grid.\\nsns.set_palette(\\\"deep\\\")  # Set color palette.\\nsns.set_context(\\\"paper\\\", font_scale=1.5)  # Set font to scale 1.5 more than normal.\";\n",
       "                var nbb_cells = Jupyter.notebook.get_cells();\n",
       "                for (var i = 0; i < nbb_cells.length; ++i) {\n",
       "                    if (nbb_cells[i].input_prompt_number == nbb_cell_id) {\n",
       "                        if (nbb_cells[i].get_text() == nbb_unformatted_code) {\n",
       "                             nbb_cells[i].set_text(nbb_formatted_code);\n",
       "                        }\n",
       "                        break;\n",
       "                    }\n",
       "                }\n",
       "            }, 500);\n",
       "            "
      ],
      "text/plain": [
       "<IPython.core.display.Javascript object>"
      ]
     },
     "metadata": {},
     "output_type": "display_data"
    }
   ],
   "source": [
    "# Data manipulation libraries\n",
    "import numpy as np\n",
    "import pandas as pd\n",
    "\n",
    "# Data visualization libraries\n",
    "import matplotlib\n",
    "import matplotlib.pyplot as plt\n",
    "import seaborn as sns\n",
    "from prettytable import PrettyTable\n",
    "\n",
    "# Data modeling libraries\n",
    "import sklearn\n",
    "from sklearn.neighbors import KNeighborsClassifier, LocalOutlierFactor\n",
    "from sklearn.model_selection import KFold\n",
    "from sklearn.neighbors import LocalOutlierFactor\n",
    "\n",
    "# General imports\n",
    "import math\n",
    "\n",
    "# Library versions used in below EDA.\n",
    "print(\"NumPy version:\", np.__version__)\n",
    "print(\"Pandas version:\", pd.__version__)\n",
    "print(\"Matplotlib version:\", matplotlib.__version__)\n",
    "print(\"Seaborn version:\", sns.__version__)\n",
    "print(\"Sklearn version:\", sklearn.__version__)\n",
    "\n",
    "# Configure NumPy.\n",
    "# Set `Line width` to Maximum 130 characters in the output, post which it will continue in next line.\n",
    "np.set_printoptions(linewidth=130)\n",
    "\n",
    "# Configure Pandas.\n",
    "# Set display width to maximum 130 characters in the output, post which it will continue in next line.\n",
    "pd.options.display.width = 130\n",
    "\n",
    "# Configure Seaborn.\n",
    "sns.set_style(\"whitegrid\")  # Set white background with grid.\n",
    "sns.set_palette(\"deep\")  # Set color palette.\n",
    "sns.set_context(\"paper\", font_scale=1.5)  # Set font to scale 1.5 more than normal."
   ]
  },
  {
   "cell_type": "markdown",
   "id": "eaa94e3c",
   "metadata": {},
   "source": [
    "### Load data-points from a `.csv` file"
   ]
  },
  {
   "cell_type": "code",
   "execution_count": 3,
   "id": "a1a2e12b",
   "metadata": {},
   "outputs": [
    {
     "data": {
      "text/html": [
       "<div>\n",
       "<style scoped>\n",
       "    .dataframe tbody tr th:only-of-type {\n",
       "        vertical-align: middle;\n",
       "    }\n",
       "\n",
       "    .dataframe tbody tr th {\n",
       "        vertical-align: top;\n",
       "    }\n",
       "\n",
       "    .dataframe thead th {\n",
       "        text-align: right;\n",
       "    }\n",
       "</style>\n",
       "<table border=\"1\" class=\"dataframe\">\n",
       "  <thead>\n",
       "    <tr style=\"text-align: right;\">\n",
       "      <th></th>\n",
       "      <th>f1</th>\n",
       "      <th>f2</th>\n",
       "      <th>cl</th>\n",
       "    </tr>\n",
       "  </thead>\n",
       "  <tbody>\n",
       "    <tr>\n",
       "      <th>0</th>\n",
       "      <td>5.0</td>\n",
       "      <td>11</td>\n",
       "      <td>1</td>\n",
       "    </tr>\n",
       "    <tr>\n",
       "      <th>1</th>\n",
       "      <td>10.0</td>\n",
       "      <td>10</td>\n",
       "      <td>2</td>\n",
       "    </tr>\n",
       "    <tr>\n",
       "      <th>2</th>\n",
       "      <td>1.0</td>\n",
       "      <td>8</td>\n",
       "      <td>1</td>\n",
       "    </tr>\n",
       "    <tr>\n",
       "      <th>3</th>\n",
       "      <td>2.0</td>\n",
       "      <td>10</td>\n",
       "      <td>2</td>\n",
       "    </tr>\n",
       "    <tr>\n",
       "      <th>4</th>\n",
       "      <td>6.0</td>\n",
       "      <td>10</td>\n",
       "      <td>1</td>\n",
       "    </tr>\n",
       "  </tbody>\n",
       "</table>\n",
       "</div>"
      ],
      "text/plain": [
       "     f1  f2  cl\n",
       "0   5.0  11   1\n",
       "1  10.0  10   2\n",
       "2   1.0   8   1\n",
       "3   2.0  10   2\n",
       "4   6.0  10   1"
      ]
     },
     "execution_count": 3,
     "metadata": {},
     "output_type": "execute_result"
    },
    {
     "data": {
      "application/javascript": [
       "\n",
       "            setTimeout(function() {\n",
       "                var nbb_cell_id = 3;\n",
       "                var nbb_unformatted_code = \"train_df = pd.read_csv(\\\"./Input/train.csv\\\")\\ntrain_df.head()\";\n",
       "                var nbb_formatted_code = \"train_df = pd.read_csv(\\\"./Input/train.csv\\\")\\ntrain_df.head()\";\n",
       "                var nbb_cells = Jupyter.notebook.get_cells();\n",
       "                for (var i = 0; i < nbb_cells.length; ++i) {\n",
       "                    if (nbb_cells[i].input_prompt_number == nbb_cell_id) {\n",
       "                        if (nbb_cells[i].get_text() == nbb_unformatted_code) {\n",
       "                             nbb_cells[i].set_text(nbb_formatted_code);\n",
       "                        }\n",
       "                        break;\n",
       "                    }\n",
       "                }\n",
       "            }, 500);\n",
       "            "
      ],
      "text/plain": [
       "<IPython.core.display.Javascript object>"
      ]
     },
     "metadata": {},
     "output_type": "display_data"
    }
   ],
   "source": [
    "train_df = pd.read_csv(\"./Input/train.csv\")\n",
    "train_df.head()"
   ]
  },
  {
   "cell_type": "code",
   "execution_count": 4,
   "id": "6a8db0a0",
   "metadata": {},
   "outputs": [
    {
     "data": {
      "text/plain": [
       "(82, 3)"
      ]
     },
     "execution_count": 4,
     "metadata": {},
     "output_type": "execute_result"
    },
    {
     "data": {
      "application/javascript": [
       "\n",
       "            setTimeout(function() {\n",
       "                var nbb_cell_id = 4;\n",
       "                var nbb_unformatted_code = \"train_df.shape\";\n",
       "                var nbb_formatted_code = \"train_df.shape\";\n",
       "                var nbb_cells = Jupyter.notebook.get_cells();\n",
       "                for (var i = 0; i < nbb_cells.length; ++i) {\n",
       "                    if (nbb_cells[i].input_prompt_number == nbb_cell_id) {\n",
       "                        if (nbb_cells[i].get_text() == nbb_unformatted_code) {\n",
       "                             nbb_cells[i].set_text(nbb_formatted_code);\n",
       "                        }\n",
       "                        break;\n",
       "                    }\n",
       "                }\n",
       "            }, 500);\n",
       "            "
      ],
      "text/plain": [
       "<IPython.core.display.Javascript object>"
      ]
     },
     "metadata": {},
     "output_type": "display_data"
    }
   ],
   "source": [
    "train_df.shape"
   ]
  },
  {
   "cell_type": "markdown",
   "id": "a2fd3ee6",
   "metadata": {},
   "source": [
    "Convert class-label column `cl` into `category` data type."
   ]
  },
  {
   "cell_type": "code",
   "execution_count": 5,
   "id": "1e809f30",
   "metadata": {},
   "outputs": [
    {
     "data": {
      "text/plain": [
       "CategoricalDtype(categories=[1, 2], ordered=False)"
      ]
     },
     "execution_count": 5,
     "metadata": {},
     "output_type": "execute_result"
    },
    {
     "data": {
      "application/javascript": [
       "\n",
       "            setTimeout(function() {\n",
       "                var nbb_cell_id = 5;\n",
       "                var nbb_unformatted_code = \"train_df[\\\"cl\\\"] = train_df[\\\"cl\\\"].astype(\\\"category\\\")\\ntrain_df[\\\"cl\\\"].dtype\";\n",
       "                var nbb_formatted_code = \"train_df[\\\"cl\\\"] = train_df[\\\"cl\\\"].astype(\\\"category\\\")\\ntrain_df[\\\"cl\\\"].dtype\";\n",
       "                var nbb_cells = Jupyter.notebook.get_cells();\n",
       "                for (var i = 0; i < nbb_cells.length; ++i) {\n",
       "                    if (nbb_cells[i].input_prompt_number == nbb_cell_id) {\n",
       "                        if (nbb_cells[i].get_text() == nbb_unformatted_code) {\n",
       "                             nbb_cells[i].set_text(nbb_formatted_code);\n",
       "                        }\n",
       "                        break;\n",
       "                    }\n",
       "                }\n",
       "            }, 500);\n",
       "            "
      ],
      "text/plain": [
       "<IPython.core.display.Javascript object>"
      ]
     },
     "metadata": {},
     "output_type": "display_data"
    }
   ],
   "source": [
    "train_df[\"cl\"] = train_df[\"cl\"].astype(\"category\")\n",
    "train_df[\"cl\"].dtype"
   ]
  },
  {
   "cell_type": "markdown",
   "id": "c0c35ab5",
   "metadata": {},
   "source": [
    "### Plot data-points"
   ]
  },
  {
   "cell_type": "code",
   "execution_count": 6,
   "id": "018a723a",
   "metadata": {},
   "outputs": [
    {
     "data": {
      "image/png": "[encoded data removed]",
      "text/plain": [
       "<Figure size 576x360 with 1 Axes>"
      ]
     },
     "metadata": {},
     "output_type": "display_data"
    },
    {
     "data": {
      "application/javascript": [
       "\n",
       "            setTimeout(function() {\n",
       "                var nbb_cell_id = 6;\n",
       "                var nbb_unformatted_code = \"plt.figure(figsize=(8, 5))\\n\\nsns.scatterplot(\\n    x=\\\"f1\\\",\\n    y=\\\"f2\\\",\\n    hue=\\\"cl\\\",\\n    data=train_df,\\n    palette=\\\"bright\\\",\\n    style=\\\"cl\\\",\\n    markers=[\\\"o\\\", \\\"X\\\"],\\n    size=\\\"cl\\\",\\n    sizes=(60, 20),\\n)\\nplt.title(\\\"Feature 1 vs Feature 2\\\")\\nplt.xlabel(\\\"Feature 1\\\")\\nplt.ylabel(\\\"Feature 2\\\")\\nplt.xticks(ticks=range(0, 15, 1))\\nplt.yticks(ticks=range(0, 16, 1))\\n\\nplt.savefig(\\\"./Output/train-data-points.png\\\")\\nplt.show()\";\n",
       "                var nbb_formatted_code = \"plt.figure(figsize=(8, 5))\\n\\nsns.scatterplot(\\n    x=\\\"f1\\\",\\n    y=\\\"f2\\\",\\n    hue=\\\"cl\\\",\\n    data=train_df,\\n    palette=\\\"bright\\\",\\n    style=\\\"cl\\\",\\n    markers=[\\\"o\\\", \\\"X\\\"],\\n    size=\\\"cl\\\",\\n    sizes=(60, 20),\\n)\\nplt.title(\\\"Feature 1 vs Feature 2\\\")\\nplt.xlabel(\\\"Feature 1\\\")\\nplt.ylabel(\\\"Feature 2\\\")\\nplt.xticks(ticks=range(0, 15, 1))\\nplt.yticks(ticks=range(0, 16, 1))\\n\\nplt.savefig(\\\"./Output/train-data-points.png\\\")\\nplt.show()\";\n",
       "                var nbb_cells = Jupyter.notebook.get_cells();\n",
       "                for (var i = 0; i < nbb_cells.length; ++i) {\n",
       "                    if (nbb_cells[i].input_prompt_number == nbb_cell_id) {\n",
       "                        if (nbb_cells[i].get_text() == nbb_unformatted_code) {\n",
       "                             nbb_cells[i].set_text(nbb_formatted_code);\n",
       "                        }\n",
       "                        break;\n",
       "                    }\n",
       "                }\n",
       "            }, 500);\n",
       "            "
      ],
      "text/plain": [
       "<IPython.core.display.Javascript object>"
      ]
     },
     "metadata": {},
     "output_type": "display_data"
    }
   ],
   "source": [
    "plt.figure(figsize=(8, 5))\n",
    "\n",
    "sns.scatterplot(\n",
    "    x=\"f1\",\n",
    "    y=\"f2\",\n",
    "    hue=\"cl\",\n",
    "    data=train_df,\n",
    "    palette=\"bright\",\n",
    "    style=\"cl\",\n",
    "    markers=[\"o\", \"X\"],\n",
    "    size=\"cl\",\n",
    "    sizes=(60, 20),\n",
    ")\n",
    "plt.title(\"Feature 1 vs Feature 2\")\n",
    "plt.xlabel(\"Feature 1\")\n",
    "plt.ylabel(\"Feature 2\")\n",
    "plt.xticks(ticks=range(0, 15, 1))\n",
    "plt.yticks(ticks=range(0, 16, 1))\n",
    "\n",
    "plt.savefig(\"./Output/train-data-points.png\")\n",
    "plt.show()"
   ]
  },
  {
   "cell_type": "code",
   "execution_count": 7,
   "id": "6acef70a",
   "metadata": {},
   "outputs": [
    {
     "data": {
      "text/html": [
       "<div>\n",
       "<style scoped>\n",
       "    .dataframe tbody tr th:only-of-type {\n",
       "        vertical-align: middle;\n",
       "    }\n",
       "\n",
       "    .dataframe tbody tr th {\n",
       "        vertical-align: top;\n",
       "    }\n",
       "\n",
       "    .dataframe thead th {\n",
       "        text-align: right;\n",
       "    }\n",
       "</style>\n",
       "<table border=\"1\" class=\"dataframe\">\n",
       "  <thead>\n",
       "    <tr style=\"text-align: right;\">\n",
       "      <th></th>\n",
       "      <th>f1</th>\n",
       "      <th>f2</th>\n",
       "      <th>cl</th>\n",
       "    </tr>\n",
       "  </thead>\n",
       "  <tbody>\n",
       "    <tr>\n",
       "      <th>0</th>\n",
       "      <td>5.0</td>\n",
       "      <td>6.0</td>\n",
       "      <td>1</td>\n",
       "    </tr>\n",
       "    <tr>\n",
       "      <th>1</th>\n",
       "      <td>4.5</td>\n",
       "      <td>5.3</td>\n",
       "      <td>1</td>\n",
       "    </tr>\n",
       "    <tr>\n",
       "      <th>2</th>\n",
       "      <td>5.0</td>\n",
       "      <td>9.0</td>\n",
       "      <td>1</td>\n",
       "    </tr>\n",
       "    <tr>\n",
       "      <th>3</th>\n",
       "      <td>3.3</td>\n",
       "      <td>11.2</td>\n",
       "      <td>1</td>\n",
       "    </tr>\n",
       "    <tr>\n",
       "      <th>4</th>\n",
       "      <td>2.5</td>\n",
       "      <td>9.0</td>\n",
       "      <td>1</td>\n",
       "    </tr>\n",
       "  </tbody>\n",
       "</table>\n",
       "</div>"
      ],
      "text/plain": [
       "    f1    f2  cl\n",
       "0  5.0   6.0   1\n",
       "1  4.5   5.3   1\n",
       "2  5.0   9.0   1\n",
       "3  3.3  11.2   1\n",
       "4  2.5   9.0   1"
      ]
     },
     "execution_count": 7,
     "metadata": {},
     "output_type": "execute_result"
    },
    {
     "data": {
      "application/javascript": [
       "\n",
       "            setTimeout(function() {\n",
       "                var nbb_cell_id = 7;\n",
       "                var nbb_unformatted_code = \"test_df = pd.read_csv(\\\"./Input/test.csv\\\")\\ntest_df.head()\";\n",
       "                var nbb_formatted_code = \"test_df = pd.read_csv(\\\"./Input/test.csv\\\")\\ntest_df.head()\";\n",
       "                var nbb_cells = Jupyter.notebook.get_cells();\n",
       "                for (var i = 0; i < nbb_cells.length; ++i) {\n",
       "                    if (nbb_cells[i].input_prompt_number == nbb_cell_id) {\n",
       "                        if (nbb_cells[i].get_text() == nbb_unformatted_code) {\n",
       "                             nbb_cells[i].set_text(nbb_formatted_code);\n",
       "                        }\n",
       "                        break;\n",
       "                    }\n",
       "                }\n",
       "            }, 500);\n",
       "            "
      ],
      "text/plain": [
       "<IPython.core.display.Javascript object>"
      ]
     },
     "metadata": {},
     "output_type": "display_data"
    }
   ],
   "source": [
    "test_df = pd.read_csv(\"./Input/test.csv\")\n",
    "test_df.head()"
   ]
  },
  {
   "cell_type": "markdown",
   "id": "bba18b98",
   "metadata": {},
   "source": [
    "#### Plot Train and Test data-points"
   ]
  },
  {
   "cell_type": "code",
   "execution_count": 8,
   "id": "72d82a16",
   "metadata": {},
   "outputs": [
    {
     "data": {
      "image/png": "[encoded data removed]",
      "text/plain": [
       "<Figure size 576x360 with 1 Axes>"
      ]
     },
     "metadata": {},
     "output_type": "display_data"
    },
    {
     "data": {
      "application/javascript": [
       "\n",
       "            setTimeout(function() {\n",
       "                var nbb_cell_id = 8;\n",
       "                var nbb_unformatted_code = \"test_df_temp = test_df.copy()\\ntest_df_temp[\\\"cl\\\"] = 0\\n\\nplt.figure(figsize=(8, 5))\\n\\nsns.scatterplot(\\n    x=\\\"f1\\\",\\n    y=\\\"f2\\\",\\n    hue=\\\"cl\\\",\\n    data=pd.concat([train_df, test_df_temp]),\\n    palette=\\\"bright\\\",\\n    hue_order=[1, 2, 0],\\n    style=\\\"cl\\\",\\n    markers=[\\\"D\\\", \\\"o\\\", \\\"X\\\"],\\n    size=\\\"cl\\\",\\n    sizes=(20, 60),\\n)\\nplt.title(\\\"Feature 1 vs Feature 2\\\")\\nplt.xlabel(\\\"Feature 1\\\")\\nplt.ylabel(\\\"Feature 2\\\")\\nplt.xticks(ticks=range(0, 15, 1))\\nplt.yticks(ticks=range(0, 16, 1))\\nplt.axvline(5.2, linestyle=\\\"--\\\", color=\\\"r\\\")\\n\\nplt.savefig(\\\"./Output/train-n-test-data-points.png\\\")\\nplt.show()\";\n",
       "                var nbb_formatted_code = \"test_df_temp = test_df.copy()\\ntest_df_temp[\\\"cl\\\"] = 0\\n\\nplt.figure(figsize=(8, 5))\\n\\nsns.scatterplot(\\n    x=\\\"f1\\\",\\n    y=\\\"f2\\\",\\n    hue=\\\"cl\\\",\\n    data=pd.concat([train_df, test_df_temp]),\\n    palette=\\\"bright\\\",\\n    hue_order=[1, 2, 0],\\n    style=\\\"cl\\\",\\n    markers=[\\\"D\\\", \\\"o\\\", \\\"X\\\"],\\n    size=\\\"cl\\\",\\n    sizes=(20, 60),\\n)\\nplt.title(\\\"Feature 1 vs Feature 2\\\")\\nplt.xlabel(\\\"Feature 1\\\")\\nplt.ylabel(\\\"Feature 2\\\")\\nplt.xticks(ticks=range(0, 15, 1))\\nplt.yticks(ticks=range(0, 16, 1))\\nplt.axvline(5.2, linestyle=\\\"--\\\", color=\\\"r\\\")\\n\\nplt.savefig(\\\"./Output/train-n-test-data-points.png\\\")\\nplt.show()\";\n",
       "                var nbb_cells = Jupyter.notebook.get_cells();\n",
       "                for (var i = 0; i < nbb_cells.length; ++i) {\n",
       "                    if (nbb_cells[i].input_prompt_number == nbb_cell_id) {\n",
       "                        if (nbb_cells[i].get_text() == nbb_unformatted_code) {\n",
       "                             nbb_cells[i].set_text(nbb_formatted_code);\n",
       "                        }\n",
       "                        break;\n",
       "                    }\n",
       "                }\n",
       "            }, 500);\n",
       "            "
      ],
      "text/plain": [
       "<IPython.core.display.Javascript object>"
      ]
     },
     "metadata": {},
     "output_type": "display_data"
    }
   ],
   "source": [
    "test_df_temp = test_df.copy()\n",
    "test_df_temp[\"cl\"] = 0\n",
    "\n",
    "plt.figure(figsize=(8, 5))\n",
    "\n",
    "sns.scatterplot(\n",
    "    x=\"f1\",\n",
    "    y=\"f2\",\n",
    "    hue=\"cl\",\n",
    "    data=pd.concat([train_df, test_df_temp]),\n",
    "    palette=\"bright\",\n",
    "    hue_order=[1, 2, 0],\n",
    "    style=\"cl\",\n",
    "    markers=[\"D\", \"o\", \"X\"],\n",
    "    size=\"cl\",\n",
    "    sizes=(20, 60),\n",
    ")\n",
    "plt.title(\"Feature 1 vs Feature 2\")\n",
    "plt.xlabel(\"Feature 1\")\n",
    "plt.ylabel(\"Feature 2\")\n",
    "plt.xticks(ticks=range(0, 15, 1))\n",
    "plt.yticks(ticks=range(0, 16, 1))\n",
    "plt.axvline(5.2, linestyle=\"--\", color=\"r\")\n",
    "\n",
    "plt.savefig(\"./Output/train-n-test-data-points.png\")\n",
    "plt.show()"
   ]
  },
  {
   "cell_type": "markdown",
   "id": "145b9d83",
   "metadata": {},
   "source": [
    "1. Every green point on **left side** of the red line belongs to class **`1` - Blue**.\n",
    "2. Every green point (except `(5.7, 8)`) on **right side** of the red line belongs to class **`2` - Orange**.\n",
    "3. Green data-point **`(5.7, 8)`** on right of the red line belongs to class **`1` - Blue**."
   ]
  },
  {
   "cell_type": "markdown",
   "id": "285ca768",
   "metadata": {},
   "source": [
    "# [2] Try default `K` value `5` "
   ]
  },
  {
   "cell_type": "code",
   "execution_count": 9,
   "id": "5b2bad81",
   "metadata": {},
   "outputs": [
    {
     "data": {
      "application/javascript": [
       "\n",
       "            setTimeout(function() {\n",
       "                var nbb_cell_id = 9;\n",
       "                var nbb_unformatted_code = \"# Define the model: Init K-NN\\nclassifier = KNeighborsClassifier(n_neighbors=5, p=2, metric=\\\"euclidean\\\")\\n\\nX_train = train_df[[\\\"f1\\\", \\\"f2\\\"]]\\ny_train = train_df[\\\"cl\\\"]\\n\\n# Fit Model\\nclassifier.fit(X_train, y_train)\\n\\nX_test = test_df[[\\\"f1\\\", \\\"f2\\\"]]\\ny_test = test_df[\\\"cl\\\"]\\n\\n# Predict the test set results\\ny_pred = classifier.predict(X_test)\";\n",
       "                var nbb_formatted_code = \"# Define the model: Init K-NN\\nclassifier = KNeighborsClassifier(n_neighbors=5, p=2, metric=\\\"euclidean\\\")\\n\\nX_train = train_df[[\\\"f1\\\", \\\"f2\\\"]]\\ny_train = train_df[\\\"cl\\\"]\\n\\n# Fit Model\\nclassifier.fit(X_train, y_train)\\n\\nX_test = test_df[[\\\"f1\\\", \\\"f2\\\"]]\\ny_test = test_df[\\\"cl\\\"]\\n\\n# Predict the test set results\\ny_pred = classifier.predict(X_test)\";\n",
       "                var nbb_cells = Jupyter.notebook.get_cells();\n",
       "                for (var i = 0; i < nbb_cells.length; ++i) {\n",
       "                    if (nbb_cells[i].input_prompt_number == nbb_cell_id) {\n",
       "                        if (nbb_cells[i].get_text() == nbb_unformatted_code) {\n",
       "                             nbb_cells[i].set_text(nbb_formatted_code);\n",
       "                        }\n",
       "                        break;\n",
       "                    }\n",
       "                }\n",
       "            }, 500);\n",
       "            "
      ],
      "text/plain": [
       "<IPython.core.display.Javascript object>"
      ]
     },
     "metadata": {},
     "output_type": "display_data"
    }
   ],
   "source": [
    "# Define the model: Init K-NN\n",
    "classifier = KNeighborsClassifier(n_neighbors=5, p=2, metric=\"euclidean\")\n",
    "\n",
    "X_train = train_df[[\"f1\", \"f2\"]]\n",
    "y_train = train_df[\"cl\"]\n",
    "\n",
    "# Fit Model\n",
    "classifier.fit(X_train, y_train)\n",
    "\n",
    "X_test = test_df[[\"f1\", \"f2\"]]\n",
    "y_test = test_df[\"cl\"]\n",
    "\n",
    "# Predict the test set results\n",
    "y_pred = classifier.predict(X_test)"
   ]
  },
  {
   "cell_type": "markdown",
   "id": "cb835951",
   "metadata": {},
   "source": [
    "#### Calculate accuracy"
   ]
  },
  {
   "cell_type": "code",
   "execution_count": 10,
   "id": "e2214826",
   "metadata": {},
   "outputs": [
    {
     "name": "stdout",
     "output_type": "stream",
     "text": [
      "+-------------+--------------+-----------------+--------+\n",
      "|  Data-Point | Actual Class | Predicted Class | Failed |\n",
      "+-------------+--------------+-----------------+--------+\n",
      "|   [5. 6.]   |      1       |        1        |        |\n",
      "|  [4.5 5.3]  |      1       |        1        |        |\n",
      "|   [5. 9.]   |      1       |        1        |        |\n",
      "| [ 3.3 11.2] |      1       |        1        |        |\n",
      "|  [2.5 9. ]  |      1       |        1        |        |\n",
      "| [ 2.5 10. ] |      1       |        1        |        |\n",
      "|  [5.7 8. ]  |      1       |        2        |   X    |\n",
      "|  [4.5 3.5]  |      1       |        1        |        |\n",
      "|  [3.9 9.4]  |      1       |        1        |        |\n",
      "|  [0.8 0.7]  |      1       |        1        |        |\n",
      "| [ 7.5 11. ] |      2       |        2        |        |\n",
      "|  [10.  9.]  |      2       |        2        |        |\n",
      "|  [9.5 9. ]  |      2       |        2        |        |\n",
      "|  [8.5 8.1]  |      2       |        2        |        |\n",
      "|  [5.5 5. ]  |      2       |        1        |   X    |\n",
      "| [ 5.3 11. ] |      2       |        1        |   X    |\n",
      "| [ 5.6 12. ] |      2       |        1        |   X    |\n",
      "|  [7.5 7. ]  |      2       |        2        |        |\n",
      "|  [7.  5.5]  |      2       |        2        |        |\n",
      "| [ 6.5 12.5] |      2       |        2        |        |\n",
      "+-------------+--------------+-----------------+--------+\n",
      "Accuracy: 80.0%\n"
     ]
    },
    {
     "data": {
      "application/javascript": [
       "\n",
       "            setTimeout(function() {\n",
       "                var nbb_cell_id = 10;\n",
       "                var nbb_unformatted_code = \"table = PrettyTable([\\\"Data-Point\\\", \\\"Actual Class\\\", \\\"Predicted Class\\\", \\\"Failed\\\"])\\n\\npcl_count = 0\\nfor index, yp in enumerate(y_pred):\\n    xq = X_test.iloc[index].values\\n    yq = y_test.iloc[index]\\n\\n    sym = \\\"X\\\"\\n    if yp == yq:\\n        pcl_count += 1\\n        sym = \\\"\\\"\\n\\n    table.add_row([xq, yq, yp, sym])\\n\\nprint(table)\\nprint(f\\\"Accuracy: {pcl_count / len(y_test) * 100}%\\\")\";\n",
       "                var nbb_formatted_code = \"table = PrettyTable([\\\"Data-Point\\\", \\\"Actual Class\\\", \\\"Predicted Class\\\", \\\"Failed\\\"])\\n\\npcl_count = 0\\nfor index, yp in enumerate(y_pred):\\n    xq = X_test.iloc[index].values\\n    yq = y_test.iloc[index]\\n\\n    sym = \\\"X\\\"\\n    if yp == yq:\\n        pcl_count += 1\\n        sym = \\\"\\\"\\n\\n    table.add_row([xq, yq, yp, sym])\\n\\nprint(table)\\nprint(f\\\"Accuracy: {pcl_count / len(y_test) * 100}%\\\")\";\n",
       "                var nbb_cells = Jupyter.notebook.get_cells();\n",
       "                for (var i = 0; i < nbb_cells.length; ++i) {\n",
       "                    if (nbb_cells[i].input_prompt_number == nbb_cell_id) {\n",
       "                        if (nbb_cells[i].get_text() == nbb_unformatted_code) {\n",
       "                             nbb_cells[i].set_text(nbb_formatted_code);\n",
       "                        }\n",
       "                        break;\n",
       "                    }\n",
       "                }\n",
       "            }, 500);\n",
       "            "
      ],
      "text/plain": [
       "<IPython.core.display.Javascript object>"
      ]
     },
     "metadata": {},
     "output_type": "display_data"
    }
   ],
   "source": [
    "table = PrettyTable([\"Data-Point\", \"Actual Class\", \"Predicted Class\", \"Failed\"])\n",
    "\n",
    "pcl_count = 0\n",
    "for index, yp in enumerate(y_pred):\n",
    "    xq = X_test.iloc[index].values\n",
    "    yq = y_test.iloc[index]\n",
    "\n",
    "    sym = \"X\"\n",
    "    if yp == yq:\n",
    "        pcl_count += 1\n",
    "        sym = \"\"\n",
    "\n",
    "    table.add_row([xq, yq, yp, sym])\n",
    "\n",
    "print(table)\n",
    "print(f\"Accuracy: {pcl_count / len(y_test) * 100}%\")"
   ]
  },
  {
   "cell_type": "markdown",
   "id": "df317a76",
   "metadata": {},
   "source": [
    "All Failures are near the border where data-points from both the classes meet."
   ]
  },
  {
   "cell_type": "markdown",
   "id": "f83c20dc",
   "metadata": {},
   "source": [
    "# [3] Train Error"
   ]
  },
  {
   "cell_type": "code",
   "execution_count": 11,
   "id": "83e1e29c",
   "metadata": {},
   "outputs": [
    {
     "data": {
      "application/javascript": [
       "\n",
       "            setTimeout(function() {\n",
       "                var nbb_cell_id = 11;\n",
       "                var nbb_unformatted_code = \"def KNN(k, X_train, y_train, X_test, y_test):\\n    # Define the model: Init K-NN.\\n    classifier = KNeighborsClassifier(n_neighbors=k, p=2, metric=\\\"euclidean\\\")\\n\\n    # Fit Model.\\n    classifier.fit(X_train, y_train)\\n\\n    # Predict the test set results.\\n    y_pred = classifier.predict(X_test)\\n\\n    n2 = len(X_test)\\n    # Correct prediction count.\\n    pcl_count = 0\\n    for index, yq in enumerate(y_pred):\\n        if yq == y_test[index]:\\n            pcl_count += 1\\n\\n    return pcl_count / n2\";\n",
       "                var nbb_formatted_code = \"def KNN(k, X_train, y_train, X_test, y_test):\\n    # Define the model: Init K-NN.\\n    classifier = KNeighborsClassifier(n_neighbors=k, p=2, metric=\\\"euclidean\\\")\\n\\n    # Fit Model.\\n    classifier.fit(X_train, y_train)\\n\\n    # Predict the test set results.\\n    y_pred = classifier.predict(X_test)\\n\\n    n2 = len(X_test)\\n    # Correct prediction count.\\n    pcl_count = 0\\n    for index, yq in enumerate(y_pred):\\n        if yq == y_test[index]:\\n            pcl_count += 1\\n\\n    return pcl_count / n2\";\n",
       "                var nbb_cells = Jupyter.notebook.get_cells();\n",
       "                for (var i = 0; i < nbb_cells.length; ++i) {\n",
       "                    if (nbb_cells[i].input_prompt_number == nbb_cell_id) {\n",
       "                        if (nbb_cells[i].get_text() == nbb_unformatted_code) {\n",
       "                             nbb_cells[i].set_text(nbb_formatted_code);\n",
       "                        }\n",
       "                        break;\n",
       "                    }\n",
       "                }\n",
       "            }, 500);\n",
       "            "
      ],
      "text/plain": [
       "<IPython.core.display.Javascript object>"
      ]
     },
     "metadata": {},
     "output_type": "display_data"
    }
   ],
   "source": [
    "def KNN(k, X_train, y_train, X_test, y_test):\n",
    "    # Define the model: Init K-NN.\n",
    "    classifier = KNeighborsClassifier(n_neighbors=k, p=2, metric=\"euclidean\")\n",
    "\n",
    "    # Fit Model.\n",
    "    classifier.fit(X_train, y_train)\n",
    "\n",
    "    # Predict the test set results.\n",
    "    y_pred = classifier.predict(X_test)\n",
    "\n",
    "    n2 = len(X_test)\n",
    "    # Correct prediction count.\n",
    "    pcl_count = 0\n",
    "    for index, yq in enumerate(y_pred):\n",
    "        if yq == y_test[index]:\n",
    "            pcl_count += 1\n",
    "\n",
    "    return pcl_count / n2"
   ]
  },
  {
   "cell_type": "code",
   "execution_count": 12,
   "id": "f39ea578",
   "metadata": {},
   "outputs": [
    {
     "data": {
      "application/javascript": [
       "\n",
       "            setTimeout(function() {\n",
       "                var nbb_cell_id = 12;\n",
       "                var nbb_unformatted_code = \"X_train = train_df[[\\\"f1\\\", \\\"f2\\\"]]\\ny_train = train_df[\\\"cl\\\"]\\n\\nn1 = len(X_train)\\ntrain_errs = []\\nfor k in range(1, n1 + 1):\\n    acc = KNN(k, X_train, y_train, X_train, y_train)\\n    train_errs.append(1 - acc)\";\n",
       "                var nbb_formatted_code = \"X_train = train_df[[\\\"f1\\\", \\\"f2\\\"]]\\ny_train = train_df[\\\"cl\\\"]\\n\\nn1 = len(X_train)\\ntrain_errs = []\\nfor k in range(1, n1 + 1):\\n    acc = KNN(k, X_train, y_train, X_train, y_train)\\n    train_errs.append(1 - acc)\";\n",
       "                var nbb_cells = Jupyter.notebook.get_cells();\n",
       "                for (var i = 0; i < nbb_cells.length; ++i) {\n",
       "                    if (nbb_cells[i].input_prompt_number == nbb_cell_id) {\n",
       "                        if (nbb_cells[i].get_text() == nbb_unformatted_code) {\n",
       "                             nbb_cells[i].set_text(nbb_formatted_code);\n",
       "                        }\n",
       "                        break;\n",
       "                    }\n",
       "                }\n",
       "            }, 500);\n",
       "            "
      ],
      "text/plain": [
       "<IPython.core.display.Javascript object>"
      ]
     },
     "metadata": {},
     "output_type": "display_data"
    }
   ],
   "source": [
    "X_train = train_df[[\"f1\", \"f2\"]]\n",
    "y_train = train_df[\"cl\"]\n",
    "\n",
    "n1 = len(X_train)\n",
    "train_errs = []\n",
    "for k in range(1, n1 + 1):\n",
    "    acc = KNN(k, X_train, y_train, X_train, y_train)\n",
    "    train_errs.append(1 - acc)"
   ]
  },
  {
   "cell_type": "markdown",
   "id": "4d9982a3",
   "metadata": {},
   "source": [
    "#### Plot Train error"
   ]
  },
  {
   "cell_type": "code",
   "execution_count": 13,
   "id": "cbbfd56d",
   "metadata": {},
   "outputs": [
    {
     "data": {
      "image/png": "[encoded data removed]",
      "text/plain": [
       "<Figure size 432x288 with 1 Axes>"
      ]
     },
     "metadata": {},
     "output_type": "display_data"
    },
    {
     "data": {
      "application/javascript": [
       "\n",
       "            setTimeout(function() {\n",
       "                var nbb_cell_id = 13;\n",
       "                var nbb_unformatted_code = \"sns.lineplot(data=train_errs)\\nplt.title(\\\"Train Error\\\")\\nplt.xlabel(\\\"K\\\")\\nplt.ylabel(\\\"Error\\\")\\nplt.xticks(ticks=range(0, 85, 5))\\n\\nplt.show()\";\n",
       "                var nbb_formatted_code = \"sns.lineplot(data=train_errs)\\nplt.title(\\\"Train Error\\\")\\nplt.xlabel(\\\"K\\\")\\nplt.ylabel(\\\"Error\\\")\\nplt.xticks(ticks=range(0, 85, 5))\\n\\nplt.show()\";\n",
       "                var nbb_cells = Jupyter.notebook.get_cells();\n",
       "                for (var i = 0; i < nbb_cells.length; ++i) {\n",
       "                    if (nbb_cells[i].input_prompt_number == nbb_cell_id) {\n",
       "                        if (nbb_cells[i].get_text() == nbb_unformatted_code) {\n",
       "                             nbb_cells[i].set_text(nbb_formatted_code);\n",
       "                        }\n",
       "                        break;\n",
       "                    }\n",
       "                }\n",
       "            }, 500);\n",
       "            "
      ],
      "text/plain": [
       "<IPython.core.display.Javascript object>"
      ]
     },
     "metadata": {},
     "output_type": "display_data"
    }
   ],
   "source": [
    "sns.lineplot(data=train_errs)\n",
    "plt.title(\"Train Error\")\n",
    "plt.xlabel(\"K\")\n",
    "plt.ylabel(\"Error\")\n",
    "plt.xticks(ticks=range(0, 85, 5))\n",
    "\n",
    "plt.show()"
   ]
  },
  {
   "cell_type": "markdown",
   "id": "7d7a4537",
   "metadata": {},
   "source": [
    "# [4] K-Fold Cross validation"
   ]
  },
  {
   "cell_type": "code",
   "execution_count": 14,
   "id": "2a8c7e6f",
   "metadata": {
    "scrolled": false
   },
   "outputs": [
    {
     "data": {
      "application/javascript": [
       "\n",
       "            setTimeout(function() {\n",
       "                var nbb_cell_id = 14;\n",
       "                var nbb_unformatted_code = \"X = train_df[[\\\"f1\\\", \\\"f2\\\"]].values\\ny = train_df[\\\"cl\\\"].values\\nsplits = 10\\n\\nkf = KFold(n_splits=splits)\\n\\nn = math.floor((1 - 1 / splits) * len(X))\\n\\ntest_errs = []\\nfor k in range(1, n + 1):\\n    accs = []\\n    for train_idx, cross_idx in kf.split(X):\\n        X_train, X_cross = X[train_idx], X[cross_idx]\\n        y_train, y_cross = y[train_idx], y[cross_idx]\\n\\n        acc = KNN(k, X_train, y_train, X_cross, y_cross)\\n        accs.append(acc)\\n    test_errs.append(1 - np.mean(accs))\";\n",
       "                var nbb_formatted_code = \"X = train_df[[\\\"f1\\\", \\\"f2\\\"]].values\\ny = train_df[\\\"cl\\\"].values\\nsplits = 10\\n\\nkf = KFold(n_splits=splits)\\n\\nn = math.floor((1 - 1 / splits) * len(X))\\n\\ntest_errs = []\\nfor k in range(1, n + 1):\\n    accs = []\\n    for train_idx, cross_idx in kf.split(X):\\n        X_train, X_cross = X[train_idx], X[cross_idx]\\n        y_train, y_cross = y[train_idx], y[cross_idx]\\n\\n        acc = KNN(k, X_train, y_train, X_cross, y_cross)\\n        accs.append(acc)\\n    test_errs.append(1 - np.mean(accs))\";\n",
       "                var nbb_cells = Jupyter.notebook.get_cells();\n",
       "                for (var i = 0; i < nbb_cells.length; ++i) {\n",
       "                    if (nbb_cells[i].input_prompt_number == nbb_cell_id) {\n",
       "                        if (nbb_cells[i].get_text() == nbb_unformatted_code) {\n",
       "                             nbb_cells[i].set_text(nbb_formatted_code);\n",
       "                        }\n",
       "                        break;\n",
       "                    }\n",
       "                }\n",
       "            }, 500);\n",
       "            "
      ],
      "text/plain": [
       "<IPython.core.display.Javascript object>"
      ]
     },
     "metadata": {},
     "output_type": "display_data"
    }
   ],
   "source": [
    "X = train_df[[\"f1\", \"f2\"]].values\n",
    "y = train_df[\"cl\"].values\n",
    "splits = 10\n",
    "\n",
    "kf = KFold(n_splits=splits)\n",
    "\n",
    "n = math.floor((1 - 1 / splits) * len(X))\n",
    "\n",
    "test_errs = []\n",
    "for k in range(1, n + 1):\n",
    "    accs = []\n",
    "    for train_idx, cross_idx in kf.split(X):\n",
    "        X_train, X_cross = X[train_idx], X[cross_idx]\n",
    "        y_train, y_cross = y[train_idx], y[cross_idx]\n",
    "\n",
    "        acc = KNN(k, X_train, y_train, X_cross, y_cross)\n",
    "        accs.append(acc)\n",
    "    test_errs.append(1 - np.mean(accs))"
   ]
  },
  {
   "cell_type": "code",
   "execution_count": 15,
   "id": "b75edf3c",
   "metadata": {},
   "outputs": [
    {
     "data": {
      "image/png": "[encoded data removed]",
      "text/plain": [
       "<Figure size 1008x504 with 1 Axes>"
      ]
     },
     "metadata": {},
     "output_type": "display_data"
    },
    {
     "data": {
      "application/javascript": [
       "\n",
       "            setTimeout(function() {\n",
       "                var nbb_cell_id = 15;\n",
       "                var nbb_unformatted_code = \"plt.figure(figsize=(14, 7))\\n\\nsns.lineplot(data=train_errs, label=\\\"Train error\\\")\\nsns.lineplot(data=test_errs, label=\\\"Test error\\\")\\nplt.title(\\\"K vs Errors\\\")\\nplt.xlabel(\\\"K\\\")\\nplt.ylabel(\\\"Error\\\")\\nplt.xticks(ticks=range(0, 85, 2))\\nplt.axhline(min(test_errs), linestyle=\\\"--\\\", color=\\\"g\\\")\\n\\nplt.show()\";\n",
       "                var nbb_formatted_code = \"plt.figure(figsize=(14, 7))\\n\\nsns.lineplot(data=train_errs, label=\\\"Train error\\\")\\nsns.lineplot(data=test_errs, label=\\\"Test error\\\")\\nplt.title(\\\"K vs Errors\\\")\\nplt.xlabel(\\\"K\\\")\\nplt.ylabel(\\\"Error\\\")\\nplt.xticks(ticks=range(0, 85, 2))\\nplt.axhline(min(test_errs), linestyle=\\\"--\\\", color=\\\"g\\\")\\n\\nplt.show()\";\n",
       "                var nbb_cells = Jupyter.notebook.get_cells();\n",
       "                for (var i = 0; i < nbb_cells.length; ++i) {\n",
       "                    if (nbb_cells[i].input_prompt_number == nbb_cell_id) {\n",
       "                        if (nbb_cells[i].get_text() == nbb_unformatted_code) {\n",
       "                             nbb_cells[i].set_text(nbb_formatted_code);\n",
       "                        }\n",
       "                        break;\n",
       "                    }\n",
       "                }\n",
       "            }, 500);\n",
       "            "
      ],
      "text/plain": [
       "<IPython.core.display.Javascript object>"
      ]
     },
     "metadata": {},
     "output_type": "display_data"
    }
   ],
   "source": [
    "plt.figure(figsize=(14, 7))\n",
    "\n",
    "sns.lineplot(data=train_errs, label=\"Train error\")\n",
    "sns.lineplot(data=test_errs, label=\"Test error\")\n",
    "plt.title(\"K vs Errors\")\n",
    "plt.xlabel(\"K\")\n",
    "plt.ylabel(\"Error\")\n",
    "plt.xticks(ticks=range(0, 85, 2))\n",
    "plt.axhline(min(test_errs), linestyle=\"--\", color=\"g\")\n",
    "\n",
    "plt.show()"
   ]
  },
  {
   "cell_type": "markdown",
   "id": "e42707a6",
   "metadata": {},
   "source": [
    "# [5] Local outlier factor (LOF)"
   ]
  },
  {
   "cell_type": "code",
   "execution_count": 16,
   "id": "438c31a5",
   "metadata": {},
   "outputs": [
    {
     "data": {
      "application/javascript": [
       "\n",
       "            setTimeout(function() {\n",
       "                var nbb_cell_id = 16;\n",
       "                var nbb_unformatted_code = \"def top_K_outliers(items, K=5):\\n    max_lof_val = 0\\n    max_lof_idx = 0\\n    lofs = [{\\\"idx\\\": idx, \\\"val\\\": round(item, 4)} for idx, item in enumerate(items)]\\n\\n    return sorted(lofs, key=lambda lof: lof[\\\"val\\\"])[:K]\";\n",
       "                var nbb_formatted_code = \"def top_K_outliers(items, K=5):\\n    max_lof_val = 0\\n    max_lof_idx = 0\\n    lofs = [{\\\"idx\\\": idx, \\\"val\\\": round(item, 4)} for idx, item in enumerate(items)]\\n\\n    return sorted(lofs, key=lambda lof: lof[\\\"val\\\"])[:K]\";\n",
       "                var nbb_cells = Jupyter.notebook.get_cells();\n",
       "                for (var i = 0; i < nbb_cells.length; ++i) {\n",
       "                    if (nbb_cells[i].input_prompt_number == nbb_cell_id) {\n",
       "                        if (nbb_cells[i].get_text() == nbb_unformatted_code) {\n",
       "                             nbb_cells[i].set_text(nbb_formatted_code);\n",
       "                        }\n",
       "                        break;\n",
       "                    }\n",
       "                }\n",
       "            }, 500);\n",
       "            "
      ],
      "text/plain": [
       "<IPython.core.display.Javascript object>"
      ]
     },
     "metadata": {},
     "output_type": "display_data"
    }
   ],
   "source": [
    "def top_K_outliers(items, K=5):\n",
    "    max_lof_val = 0\n",
    "    max_lof_idx = 0\n",
    "    lofs = [{\"idx\": idx, \"val\": round(item, 4)} for idx, item in enumerate(items)]\n",
    "\n",
    "    return sorted(lofs, key=lambda lof: lof[\"val\"])[:K]"
   ]
  },
  {
   "cell_type": "code",
   "execution_count": 17,
   "id": "63dbfbdb",
   "metadata": {},
   "outputs": [
    {
     "data": {
      "text/plain": [
       "[{'idx': 35, 'val': -3.5782},\n",
       " {'idx': 12, 'val': -2.0561},\n",
       " {'idx': 8, 'val': -1.2297},\n",
       " {'idx': 49, 'val': -1.2288},\n",
       " {'idx': 5, 'val': -1.2216}]"
      ]
     },
     "execution_count": 17,
     "metadata": {},
     "output_type": "execute_result"
    },
    {
     "data": {
      "application/javascript": [
       "\n",
       "            setTimeout(function() {\n",
       "                var nbb_cell_id = 17;\n",
       "                var nbb_unformatted_code = \"X = train_df[[\\\"f1\\\", \\\"f2\\\"]].values\\n\\nclf = LocalOutlierFactor(n_neighbors=5)\\nclf.fit_predict(X)\\n\\nnof = clf.negative_outlier_factor_\\noutliers = top_K_outliers(nof)\\noutliers\";\n",
       "                var nbb_formatted_code = \"X = train_df[[\\\"f1\\\", \\\"f2\\\"]].values\\n\\nclf = LocalOutlierFactor(n_neighbors=5)\\nclf.fit_predict(X)\\n\\nnof = clf.negative_outlier_factor_\\noutliers = top_K_outliers(nof)\\noutliers\";\n",
       "                var nbb_cells = Jupyter.notebook.get_cells();\n",
       "                for (var i = 0; i < nbb_cells.length; ++i) {\n",
       "                    if (nbb_cells[i].input_prompt_number == nbb_cell_id) {\n",
       "                        if (nbb_cells[i].get_text() == nbb_unformatted_code) {\n",
       "                             nbb_cells[i].set_text(nbb_formatted_code);\n",
       "                        }\n",
       "                        break;\n",
       "                    }\n",
       "                }\n",
       "            }, 500);\n",
       "            "
      ],
      "text/plain": [
       "<IPython.core.display.Javascript object>"
      ]
     },
     "metadata": {},
     "output_type": "display_data"
    }
   ],
   "source": [
    "X = train_df[[\"f1\", \"f2\"]].values\n",
    "\n",
    "clf = LocalOutlierFactor(n_neighbors=5)\n",
    "clf.fit_predict(X)\n",
    "\n",
    "nof = clf.negative_outlier_factor_\n",
    "outliers = top_K_outliers(nof)\n",
    "outliers"
   ]
  },
  {
   "cell_type": "markdown",
   "id": "e8231136",
   "metadata": {},
   "source": [
    "#### Top five Outliers"
   ]
  },
  {
   "cell_type": "code",
   "execution_count": 18,
   "id": "a72a39a6",
   "metadata": {},
   "outputs": [
    {
     "data": {
      "text/html": [
       "<div>\n",
       "<style scoped>\n",
       "    .dataframe tbody tr th:only-of-type {\n",
       "        vertical-align: middle;\n",
       "    }\n",
       "\n",
       "    .dataframe tbody tr th {\n",
       "        vertical-align: top;\n",
       "    }\n",
       "\n",
       "    .dataframe thead th {\n",
       "        text-align: right;\n",
       "    }\n",
       "</style>\n",
       "<table border=\"1\" class=\"dataframe\">\n",
       "  <thead>\n",
       "    <tr style=\"text-align: right;\">\n",
       "      <th></th>\n",
       "      <th>f1</th>\n",
       "      <th>f2</th>\n",
       "      <th>cl</th>\n",
       "    </tr>\n",
       "  </thead>\n",
       "  <tbody>\n",
       "    <tr>\n",
       "      <th>35</th>\n",
       "      <td>13.5</td>\n",
       "      <td>1</td>\n",
       "      <td>2</td>\n",
       "    </tr>\n",
       "    <tr>\n",
       "      <th>12</th>\n",
       "      <td>13.0</td>\n",
       "      <td>8</td>\n",
       "      <td>1</td>\n",
       "    </tr>\n",
       "    <tr>\n",
       "      <th>8</th>\n",
       "      <td>2.0</td>\n",
       "      <td>14</td>\n",
       "      <td>1</td>\n",
       "    </tr>\n",
       "    <tr>\n",
       "      <th>49</th>\n",
       "      <td>7.0</td>\n",
       "      <td>15</td>\n",
       "      <td>2</td>\n",
       "    </tr>\n",
       "    <tr>\n",
       "      <th>5</th>\n",
       "      <td>8.0</td>\n",
       "      <td>3</td>\n",
       "      <td>2</td>\n",
       "    </tr>\n",
       "  </tbody>\n",
       "</table>\n",
       "</div>"
      ],
      "text/plain": [
       "      f1  f2 cl\n",
       "35  13.5   1  2\n",
       "12  13.0   8  1\n",
       "8    2.0  14  1\n",
       "49   7.0  15  2\n",
       "5    8.0   3  2"
      ]
     },
     "execution_count": 18,
     "metadata": {},
     "output_type": "execute_result"
    },
    {
     "data": {
      "application/javascript": [
       "\n",
       "            setTimeout(function() {\n",
       "                var nbb_cell_id = 18;\n",
       "                var nbb_unformatted_code = \"fltr = [loa[\\\"idx\\\"] for loa in outliers]  # Filter\\ntrain_df.loc[fltr]  # Apply filter\";\n",
       "                var nbb_formatted_code = \"fltr = [loa[\\\"idx\\\"] for loa in outliers]  # Filter\\ntrain_df.loc[fltr]  # Apply filter\";\n",
       "                var nbb_cells = Jupyter.notebook.get_cells();\n",
       "                for (var i = 0; i < nbb_cells.length; ++i) {\n",
       "                    if (nbb_cells[i].input_prompt_number == nbb_cell_id) {\n",
       "                        if (nbb_cells[i].get_text() == nbb_unformatted_code) {\n",
       "                             nbb_cells[i].set_text(nbb_formatted_code);\n",
       "                        }\n",
       "                        break;\n",
       "                    }\n",
       "                }\n",
       "            }, 500);\n",
       "            "
      ],
      "text/plain": [
       "<IPython.core.display.Javascript object>"
      ]
     },
     "metadata": {},
     "output_type": "display_data"
    }
   ],
   "source": [
    "fltr = [loa[\"idx\"] for loa in outliers]  # Filter\n",
    "train_df.loc[fltr]  # Apply filter"
   ]
  },
  {
   "cell_type": "markdown",
   "id": "4958ca61",
   "metadata": {},
   "source": [
    "# [6] Performance Measurement\n",
    "\n",
    "## 1. Accuracy"
   ]
  },
  {
   "cell_type": "code",
   "execution_count": null,
   "id": "b9c5c3a8",
   "metadata": {},
   "outputs": [],
   "source": []
  },
  {
   "cell_type": "code",
   "execution_count": null,
   "id": "98ed7afe",
   "metadata": {},
   "outputs": [],
   "source": []
  },
  {
   "cell_type": "markdown",
   "id": "70988e3f",
   "metadata": {},
   "source": [
    "## 2. Confusion Matrix"
   ]
  },
  {
   "cell_type": "code",
   "execution_count": null,
   "id": "bf058adb",
   "metadata": {},
   "outputs": [],
   "source": []
  },
  {
   "cell_type": "code",
   "execution_count": null,
   "id": "20d92cd4",
   "metadata": {},
   "outputs": [],
   "source": []
  }
 ],
 "metadata": {
  "kernelspec": {
   "display_name": "Python 3 (ipykernel)",
   "language": "python",
   "name": "python3"
  },
  "language_info": {
   "codemirror_mode": {
    "name": "ipython",
    "version": 3
   },
   "file_extension": ".py",
   "mimetype": "text/x-python",
   "name": "python",
   "nbconvert_exporter": "python",
   "pygments_lexer": "ipython3",
   "version": "3.9.12"
  }
 },
 "nbformat": 4,
 "nbformat_minor": 5
}
