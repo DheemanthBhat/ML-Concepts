{
 "cells": [
  {
   "cell_type": "code",
   "execution_count": 1,
   "id": "bf8ddab0",
   "metadata": {},
   "outputs": [
    {
     "data": {
      "application/javascript": [
       "\n",
       "            setTimeout(function() {\n",
       "                var nbb_cell_id = 1;\n",
       "                var nbb_unformatted_code = \"# Enable code formatting using external plugin: nb_black.\\n%reload_ext nb_black\";\n",
       "                var nbb_formatted_code = \"# Enable code formatting using external plugin: nb_black.\\n%reload_ext nb_black\";\n",
       "                var nbb_cells = Jupyter.notebook.get_cells();\n",
       "                for (var i = 0; i < nbb_cells.length; ++i) {\n",
       "                    if (nbb_cells[i].input_prompt_number == nbb_cell_id) {\n",
       "                        if (nbb_cells[i].get_text() == nbb_unformatted_code) {\n",
       "                             nbb_cells[i].set_text(nbb_formatted_code);\n",
       "                        }\n",
       "                        break;\n",
       "                    }\n",
       "                }\n",
       "            }, 500);\n",
       "            "
      ],
      "text/plain": [
       "<IPython.core.display.Javascript object>"
      ]
     },
     "metadata": {},
     "output_type": "display_data"
    }
   ],
   "source": [
    "# Enable code formatting using external plugin: nb_black.\n",
    "%reload_ext nb_black"
   ]
  },
  {
   "cell_type": "markdown",
   "id": "0c673781",
   "metadata": {},
   "source": [
    "# Naive Bayes"
   ]
  },
  {
   "cell_type": "markdown",
   "id": "ca78cabe",
   "metadata": {},
   "source": [
    "# [1] Setup\n",
    "\n",
    "### Import and configure required libraries"
   ]
  },
  {
   "cell_type": "code",
   "execution_count": 2,
   "id": "4d11196f",
   "metadata": {},
   "outputs": [
    {
     "name": "stdout",
     "output_type": "stream",
     "text": [
      "NumPy version: 1.21.5\n",
      "Pandas version: 1.4.2\n"
     ]
    },
    {
     "data": {
      "application/javascript": [
       "\n",
       "            setTimeout(function() {\n",
       "                var nbb_cell_id = 2;\n",
       "                var nbb_unformatted_code = \"# Data manipulation libraries\\nimport numpy as np\\nimport pandas as pd\\n\\n# Library versions used in below EDA.\\nprint(\\\"NumPy version:\\\", np.__version__)\\nprint(\\\"Pandas version:\\\", pd.__version__)\\n\\n# Configure NumPy.\\n# Set `Line width` to Maximum 130 characters in the output, post which it will continue in next line.\\nnp.set_printoptions(linewidth=130)\\n\\n# Configure Pandas.\\n# Set display width to maximum 130 characters in the output, post which it will continue in next line.\\npd.options.display.width = 130\";\n",
       "                var nbb_formatted_code = \"# Data manipulation libraries\\nimport numpy as np\\nimport pandas as pd\\n\\n# Library versions used in below EDA.\\nprint(\\\"NumPy version:\\\", np.__version__)\\nprint(\\\"Pandas version:\\\", pd.__version__)\\n\\n# Configure NumPy.\\n# Set `Line width` to Maximum 130 characters in the output, post which it will continue in next line.\\nnp.set_printoptions(linewidth=130)\\n\\n# Configure Pandas.\\n# Set display width to maximum 130 characters in the output, post which it will continue in next line.\\npd.options.display.width = 130\";\n",
       "                var nbb_cells = Jupyter.notebook.get_cells();\n",
       "                for (var i = 0; i < nbb_cells.length; ++i) {\n",
       "                    if (nbb_cells[i].input_prompt_number == nbb_cell_id) {\n",
       "                        if (nbb_cells[i].get_text() == nbb_unformatted_code) {\n",
       "                             nbb_cells[i].set_text(nbb_formatted_code);\n",
       "                        }\n",
       "                        break;\n",
       "                    }\n",
       "                }\n",
       "            }, 500);\n",
       "            "
      ],
      "text/plain": [
       "<IPython.core.display.Javascript object>"
      ]
     },
     "metadata": {},
     "output_type": "display_data"
    }
   ],
   "source": [
    "# Data manipulation libraries\n",
    "import numpy as np\n",
    "import pandas as pd\n",
    "\n",
    "# Library versions used in below EDA.\n",
    "print(\"NumPy version:\", np.__version__)\n",
    "print(\"Pandas version:\", pd.__version__)\n",
    "\n",
    "# Configure NumPy.\n",
    "# Set `Line width` to Maximum 130 characters in the output, post which it will continue in next line.\n",
    "np.set_printoptions(linewidth=130)\n",
    "\n",
    "# Configure Pandas.\n",
    "# Set display width to maximum 130 characters in the output, post which it will continue in next line.\n",
    "pd.options.display.width = 130"
   ]
  },
  {
   "cell_type": "markdown",
   "id": "75c2d8ea",
   "metadata": {},
   "source": [
    "#### Common functions"
   ]
  },
  {
   "cell_type": "code",
   "execution_count": 3,
   "id": "e6cb2bbe",
   "metadata": {},
   "outputs": [
    {
     "data": {
      "application/javascript": [
       "\n",
       "            setTimeout(function() {\n",
       "                var nbb_cell_id = 3;\n",
       "                var nbb_unformatted_code = \"def is_empty(element) -> bool:\\n    \\\"\\\"\\\"\\n    Function to check if input `element` is empty.\\n\\n    Other than some special exclusions and inclusions,\\n    this function returns boolean result of Falsy check.\\n    \\\"\\\"\\\"\\n    if (isinstance(element, int) or isinstance(element, float)) and element == 0:\\n        # Exclude 0 and 0.0 from the Falsy set.\\n        return False\\n    elif isinstance(element, str) and len(element.strip()) == 0:\\n        # Include string with only one or more empty space(s) into Falsy set.\\n        return True\\n    elif isinstance(element, bool):\\n        # Exclude False from the Falsy set.\\n        return False\\n    else:\\n        # Falsy check.\\n        return False if element else True\\n\\n\\ndef get_count(items, get_key=lambda item: item):\\n    \\\"\\\"\\\"\\n    Function to count `key` in a list of items.\\n    \\\"\\\"\\\"\\n    count = {}\\n    for index, item in enumerate(items):\\n        if is_empty(get_key(item)):\\n            raise ValueError(f\\\"Specified key not found in the item at index: {index} in the list.\\\")\\n\\n        count[get_key(item)] = count.get(get_key(item), 0) + 1\\n\\n    return count.get(True, count)\\n\\n\\nENABLE_LOG = False\\n\\n\\ndef log(*args):\\n    \\\"\\\"\\\"\\n    Function print when logging is enabled.\\n    \\\"\\\"\\\"\\n    if ENABLE_LOG is True:\\n        print(*args)\\n\\n\\ndef title(title_str):\\n    if ENABLE_LOG is True:\\n        print(\\\"\\\\n\\\" + title_str + \\\"\\\\n\\\" + \\\"=\\\" * len(title_str) + \\\"\\\\n\\\")\";\n",
       "                var nbb_formatted_code = \"def is_empty(element) -> bool:\\n    \\\"\\\"\\\"\\n    Function to check if input `element` is empty.\\n\\n    Other than some special exclusions and inclusions,\\n    this function returns boolean result of Falsy check.\\n    \\\"\\\"\\\"\\n    if (isinstance(element, int) or isinstance(element, float)) and element == 0:\\n        # Exclude 0 and 0.0 from the Falsy set.\\n        return False\\n    elif isinstance(element, str) and len(element.strip()) == 0:\\n        # Include string with only one or more empty space(s) into Falsy set.\\n        return True\\n    elif isinstance(element, bool):\\n        # Exclude False from the Falsy set.\\n        return False\\n    else:\\n        # Falsy check.\\n        return False if element else True\\n\\n\\ndef get_count(items, get_key=lambda item: item):\\n    \\\"\\\"\\\"\\n    Function to count `key` in a list of items.\\n    \\\"\\\"\\\"\\n    count = {}\\n    for index, item in enumerate(items):\\n        if is_empty(get_key(item)):\\n            raise ValueError(f\\\"Specified key not found in the item at index: {index} in the list.\\\")\\n\\n        count[get_key(item)] = count.get(get_key(item), 0) + 1\\n\\n    return count.get(True, count)\\n\\n\\nENABLE_LOG = False\\n\\n\\ndef log(*args):\\n    \\\"\\\"\\\"\\n    Function print when logging is enabled.\\n    \\\"\\\"\\\"\\n    if ENABLE_LOG is True:\\n        print(*args)\\n\\n\\ndef title(title_str):\\n    if ENABLE_LOG is True:\\n        print(\\\"\\\\n\\\" + title_str + \\\"\\\\n\\\" + \\\"=\\\" * len(title_str) + \\\"\\\\n\\\")\";\n",
       "                var nbb_cells = Jupyter.notebook.get_cells();\n",
       "                for (var i = 0; i < nbb_cells.length; ++i) {\n",
       "                    if (nbb_cells[i].input_prompt_number == nbb_cell_id) {\n",
       "                        if (nbb_cells[i].get_text() == nbb_unformatted_code) {\n",
       "                             nbb_cells[i].set_text(nbb_formatted_code);\n",
       "                        }\n",
       "                        break;\n",
       "                    }\n",
       "                }\n",
       "            }, 500);\n",
       "            "
      ],
      "text/plain": [
       "<IPython.core.display.Javascript object>"
      ]
     },
     "metadata": {},
     "output_type": "display_data"
    }
   ],
   "source": [
    "def is_empty(element) -> bool:\n",
    "    \"\"\"\n",
    "    Function to check if input `element` is empty.\n",
    "\n",
    "    Other than some special exclusions and inclusions,\n",
    "    this function returns boolean result of Falsy check.\n",
    "    \"\"\"\n",
    "    if (isinstance(element, int) or isinstance(element, float)) and element == 0:\n",
    "        # Exclude 0 and 0.0 from the Falsy set.\n",
    "        return False\n",
    "    elif isinstance(element, str) and len(element.strip()) == 0:\n",
    "        # Include string with only one or more empty space(s) into Falsy set.\n",
    "        return True\n",
    "    elif isinstance(element, bool):\n",
    "        # Exclude False from the Falsy set.\n",
    "        return False\n",
    "    else:\n",
    "        # Falsy check.\n",
    "        return False if element else True\n",
    "\n",
    "\n",
    "def get_count(items, get_key=lambda item: item):\n",
    "    \"\"\"\n",
    "    Function to count `key` in a list of items.\n",
    "    \"\"\"\n",
    "    count = {}\n",
    "    for index, item in enumerate(items):\n",
    "        if is_empty(get_key(item)):\n",
    "            raise ValueError(f\"Specified key not found in the item at index: {index} in the list.\")\n",
    "\n",
    "        count[get_key(item)] = count.get(get_key(item), 0) + 1\n",
    "\n",
    "    return count.get(True, count)\n",
    "\n",
    "\n",
    "ENABLE_LOG = False\n",
    "\n",
    "\n",
    "def log(*args):\n",
    "    \"\"\"\n",
    "    Function print when logging is enabled.\n",
    "    \"\"\"\n",
    "    if ENABLE_LOG is True:\n",
    "        print(*args)\n",
    "\n",
    "\n",
    "def title(title_str):\n",
    "    if ENABLE_LOG is True:\n",
    "        print(\"\\n\" + title_str + \"\\n\" + \"=\" * len(title_str) + \"\\n\")"
   ]
  },
  {
   "cell_type": "markdown",
   "id": "71eddb82",
   "metadata": {},
   "source": [
    "### Load data-points from a `.csv` file"
   ]
  },
  {
   "cell_type": "code",
   "execution_count": 4,
   "id": "6cf2f56d",
   "metadata": {},
   "outputs": [
    {
     "data": {
      "text/html": [
       "<div>\n",
       "<style scoped>\n",
       "    .dataframe tbody tr th:only-of-type {\n",
       "        vertical-align: middle;\n",
       "    }\n",
       "\n",
       "    .dataframe tbody tr th {\n",
       "        vertical-align: top;\n",
       "    }\n",
       "\n",
       "    .dataframe thead th {\n",
       "        text-align: right;\n",
       "    }\n",
       "</style>\n",
       "<table border=\"1\" class=\"dataframe\">\n",
       "  <thead>\n",
       "    <tr style=\"text-align: right;\">\n",
       "      <th></th>\n",
       "      <th>Outlook</th>\n",
       "      <th>Temperature</th>\n",
       "      <th>Humidity</th>\n",
       "      <th>Windy</th>\n",
       "      <th>Play</th>\n",
       "    </tr>\n",
       "  </thead>\n",
       "  <tbody>\n",
       "    <tr>\n",
       "      <th>0</th>\n",
       "      <td>Sunny</td>\n",
       "      <td>Hot</td>\n",
       "      <td>High</td>\n",
       "      <td>Weak</td>\n",
       "      <td>No</td>\n",
       "    </tr>\n",
       "    <tr>\n",
       "      <th>1</th>\n",
       "      <td>Sunny</td>\n",
       "      <td>Hot</td>\n",
       "      <td>High</td>\n",
       "      <td>Strong</td>\n",
       "      <td>No</td>\n",
       "    </tr>\n",
       "    <tr>\n",
       "      <th>2</th>\n",
       "      <td>Overcast</td>\n",
       "      <td>Hot</td>\n",
       "      <td>High</td>\n",
       "      <td>Weak</td>\n",
       "      <td>Yes</td>\n",
       "    </tr>\n",
       "    <tr>\n",
       "      <th>3</th>\n",
       "      <td>Rain</td>\n",
       "      <td>Mild</td>\n",
       "      <td>High</td>\n",
       "      <td>Weak</td>\n",
       "      <td>Yes</td>\n",
       "    </tr>\n",
       "    <tr>\n",
       "      <th>4</th>\n",
       "      <td>Rain</td>\n",
       "      <td>Cool</td>\n",
       "      <td>Normal</td>\n",
       "      <td>Weak</td>\n",
       "      <td>Yes</td>\n",
       "    </tr>\n",
       "  </tbody>\n",
       "</table>\n",
       "</div>"
      ],
      "text/plain": [
       "    Outlook Temperature Humidity   Windy Play\n",
       "0     Sunny         Hot     High    Weak   No\n",
       "1     Sunny         Hot     High  Strong   No\n",
       "2  Overcast         Hot     High    Weak  Yes\n",
       "3      Rain        Mild     High    Weak  Yes\n",
       "4      Rain        Cool   Normal    Weak  Yes"
      ]
     },
     "execution_count": 4,
     "metadata": {},
     "output_type": "execute_result"
    },
    {
     "data": {
      "application/javascript": [
       "\n",
       "            setTimeout(function() {\n",
       "                var nbb_cell_id = 4;\n",
       "                var nbb_unformatted_code = \"wthr_df = pd.read_csv(\\\"./Input/weather_forecast.csv\\\")\\nwthr_df.head()\";\n",
       "                var nbb_formatted_code = \"wthr_df = pd.read_csv(\\\"./Input/weather_forecast.csv\\\")\\nwthr_df.head()\";\n",
       "                var nbb_cells = Jupyter.notebook.get_cells();\n",
       "                for (var i = 0; i < nbb_cells.length; ++i) {\n",
       "                    if (nbb_cells[i].input_prompt_number == nbb_cell_id) {\n",
       "                        if (nbb_cells[i].get_text() == nbb_unformatted_code) {\n",
       "                             nbb_cells[i].set_text(nbb_formatted_code);\n",
       "                        }\n",
       "                        break;\n",
       "                    }\n",
       "                }\n",
       "            }, 500);\n",
       "            "
      ],
      "text/plain": [
       "<IPython.core.display.Javascript object>"
      ]
     },
     "metadata": {},
     "output_type": "display_data"
    }
   ],
   "source": [
    "wthr_df = pd.read_csv(\"./Input/weather_forecast.csv\")\n",
    "wthr_df.head()"
   ]
  },
  {
   "cell_type": "markdown",
   "id": "2a740c21",
   "metadata": {},
   "source": [
    "`DataFrame` metadata:"
   ]
  },
  {
   "cell_type": "code",
   "execution_count": 5,
   "id": "74301316",
   "metadata": {},
   "outputs": [
    {
     "name": "stdout",
     "output_type": "stream",
     "text": [
      "<class 'pandas.core.frame.DataFrame'>\n",
      "RangeIndex: 14 entries, 0 to 13\n",
      "Data columns (total 5 columns):\n",
      " #   Column       Non-Null Count  Dtype \n",
      "---  ------       --------------  ----- \n",
      " 0   Outlook      14 non-null     object\n",
      " 1   Temperature  14 non-null     object\n",
      " 2   Humidity     14 non-null     object\n",
      " 3   Windy        14 non-null     object\n",
      " 4   Play         14 non-null     object\n",
      "dtypes: object(5)\n",
      "memory usage: 688.0+ bytes\n"
     ]
    },
    {
     "data": {
      "application/javascript": [
       "\n",
       "            setTimeout(function() {\n",
       "                var nbb_cell_id = 5;\n",
       "                var nbb_unformatted_code = \"wthr_df.info()\";\n",
       "                var nbb_formatted_code = \"wthr_df.info()\";\n",
       "                var nbb_cells = Jupyter.notebook.get_cells();\n",
       "                for (var i = 0; i < nbb_cells.length; ++i) {\n",
       "                    if (nbb_cells[i].input_prompt_number == nbb_cell_id) {\n",
       "                        if (nbb_cells[i].get_text() == nbb_unformatted_code) {\n",
       "                             nbb_cells[i].set_text(nbb_formatted_code);\n",
       "                        }\n",
       "                        break;\n",
       "                    }\n",
       "                }\n",
       "            }, 500);\n",
       "            "
      ],
      "text/plain": [
       "<IPython.core.display.Javascript object>"
      ]
     },
     "metadata": {},
     "output_type": "display_data"
    }
   ],
   "source": [
    "wthr_df.info()"
   ]
  },
  {
   "cell_type": "markdown",
   "id": "f2e3debd",
   "metadata": {},
   "source": [
    "**Observations**\n",
    "\n",
    "1. Dataset contains 14 rows and 5 columns.\n",
    "2. All five columns in 14 rows have `non-null` values. No missing data.\n",
    "3. All the column contain data in string data-type. \n",
    "4. All features are categorical."
   ]
  },
  {
   "cell_type": "markdown",
   "id": "aa050ce7",
   "metadata": {},
   "source": [
    "Class labels:"
   ]
  },
  {
   "cell_type": "code",
   "execution_count": 6,
   "id": "3bf2c271",
   "metadata": {},
   "outputs": [
    {
     "data": {
      "text/plain": [
       "Yes    9\n",
       "No     5\n",
       "Name: Play, dtype: int64"
      ]
     },
     "execution_count": 6,
     "metadata": {},
     "output_type": "execute_result"
    },
    {
     "data": {
      "application/javascript": [
       "\n",
       "            setTimeout(function() {\n",
       "                var nbb_cell_id = 6;\n",
       "                var nbb_unformatted_code = \"wthr_df[\\\"Play\\\"].value_counts()\";\n",
       "                var nbb_formatted_code = \"wthr_df[\\\"Play\\\"].value_counts()\";\n",
       "                var nbb_cells = Jupyter.notebook.get_cells();\n",
       "                for (var i = 0; i < nbb_cells.length; ++i) {\n",
       "                    if (nbb_cells[i].input_prompt_number == nbb_cell_id) {\n",
       "                        if (nbb_cells[i].get_text() == nbb_unformatted_code) {\n",
       "                             nbb_cells[i].set_text(nbb_formatted_code);\n",
       "                        }\n",
       "                        break;\n",
       "                    }\n",
       "                }\n",
       "            }, 500);\n",
       "            "
      ],
      "text/plain": [
       "<IPython.core.display.Javascript object>"
      ]
     },
     "metadata": {},
     "output_type": "display_data"
    }
   ],
   "source": [
    "wthr_df[\"Play\"].value_counts()"
   ]
  },
  {
   "cell_type": "markdown",
   "id": "a7b9dadc",
   "metadata": {},
   "source": [
    "# [2] Implement Naive Bayes"
   ]
  },
  {
   "cell_type": "code",
   "execution_count": 7,
   "id": "db21fcbd",
   "metadata": {},
   "outputs": [
    {
     "data": {
      "application/javascript": [
       "\n",
       "            setTimeout(function() {\n",
       "                var nbb_cell_id = 7;\n",
       "                var nbb_unformatted_code = \"def NaiveBayes(df):\\n    \\\"\\\"\\\"\\n    Closure to implement simple Naive Bayes Classifier.\\n    \\\"\\\"\\\"\\n    # Split features and class-label.\\n    f_names = df.columns[0:-1]\\n    l_name = df.columns[-1]\\n    labels = df[l_name].value_counts().to_dict()\\n\\n    # Calculate Prior.\\n    lp = {key: value / len(df[l_name]) for key, value in labels.items()}\\n\\n    # Build Likelihood table.\\n    likelihood = {}\\n    for f_name in f_names:\\n        # For each feature calculate conditional probability.\\n        vals = df[[f_name, l_name]].values\\n        feq = get_count(vals, lambda item: item[0] + item[1])\\n        likelihood[f_name] = feq\\n\\n    def fit():\\n        \\\"\\\"\\\"\\n        Train model based on Naive Bayes technique.\\n        \\\"\\\"\\\"\\n\\n        title(\\\"Prior:\\\")\\n        [log(f\\\"P({key}) = {value}/{len(df[l_name])}\\\") for key, value in labels.items()]\\n\\n        title(\\\"Likelihood:\\\")\\n\\n        model = {}\\n        for f_name in f_names:\\n            log(\\\"Feature:\\\", f_name)\\n\\n            features = df[f_name].value_counts().to_dict()\\n            for feature, _ in features.items():\\n                cols = []\\n                for key, value in labels.items():\\n                    aib = likelihood[f_name].get(feature + key, 0)\\n                    cols.append(f\\\"P({f_name} = {feature} | {l_name} == {key}) = {aib}/{value}\\\")\\n                    model[(feature, key)] = aib / value\\n                log(\\\", \\\".join(cols))\\n            log(\\\"-\\\" * 85)\\n\\n        def predict(x_qs):\\n            pi = {}\\n            for key, value in labels.items():\\n                prod = lp[key]\\n                for x_q in x_qs:\\n                    prod *= model[(x_q, key)]\\n                pi[key] = round(prod, 4)\\n\\n            return max(pi, key=lambda item: pi[item])\\n\\n        return predict\\n\\n    return fit\";\n",
       "                var nbb_formatted_code = \"def NaiveBayes(df):\\n    \\\"\\\"\\\"\\n    Closure to implement simple Naive Bayes Classifier.\\n    \\\"\\\"\\\"\\n    # Split features and class-label.\\n    f_names = df.columns[0:-1]\\n    l_name = df.columns[-1]\\n    labels = df[l_name].value_counts().to_dict()\\n\\n    # Calculate Prior.\\n    lp = {key: value / len(df[l_name]) for key, value in labels.items()}\\n\\n    # Build Likelihood table.\\n    likelihood = {}\\n    for f_name in f_names:\\n        # For each feature calculate conditional probability.\\n        vals = df[[f_name, l_name]].values\\n        feq = get_count(vals, lambda item: item[0] + item[1])\\n        likelihood[f_name] = feq\\n\\n    def fit():\\n        \\\"\\\"\\\"\\n        Train model based on Naive Bayes technique.\\n        \\\"\\\"\\\"\\n\\n        title(\\\"Prior:\\\")\\n        [log(f\\\"P({key}) = {value}/{len(df[l_name])}\\\") for key, value in labels.items()]\\n\\n        title(\\\"Likelihood:\\\")\\n\\n        model = {}\\n        for f_name in f_names:\\n            log(\\\"Feature:\\\", f_name)\\n\\n            features = df[f_name].value_counts().to_dict()\\n            for feature, _ in features.items():\\n                cols = []\\n                for key, value in labels.items():\\n                    aib = likelihood[f_name].get(feature + key, 0)\\n                    cols.append(f\\\"P({f_name} = {feature} | {l_name} == {key}) = {aib}/{value}\\\")\\n                    model[(feature, key)] = aib / value\\n                log(\\\", \\\".join(cols))\\n            log(\\\"-\\\" * 85)\\n\\n        def predict(x_qs):\\n            pi = {}\\n            for key, value in labels.items():\\n                prod = lp[key]\\n                for x_q in x_qs:\\n                    prod *= model[(x_q, key)]\\n                pi[key] = round(prod, 4)\\n\\n            return max(pi, key=lambda item: pi[item])\\n\\n        return predict\\n\\n    return fit\";\n",
       "                var nbb_cells = Jupyter.notebook.get_cells();\n",
       "                for (var i = 0; i < nbb_cells.length; ++i) {\n",
       "                    if (nbb_cells[i].input_prompt_number == nbb_cell_id) {\n",
       "                        if (nbb_cells[i].get_text() == nbb_unformatted_code) {\n",
       "                             nbb_cells[i].set_text(nbb_formatted_code);\n",
       "                        }\n",
       "                        break;\n",
       "                    }\n",
       "                }\n",
       "            }, 500);\n",
       "            "
      ],
      "text/plain": [
       "<IPython.core.display.Javascript object>"
      ]
     },
     "metadata": {},
     "output_type": "display_data"
    }
   ],
   "source": [
    "def NaiveBayes(df):\n",
    "    \"\"\"\n",
    "    Closure to implement simple Naive Bayes Classifier.\n",
    "    \"\"\"\n",
    "    # Split features and class-label.\n",
    "    f_names = df.columns[0:-1]\n",
    "    l_name = df.columns[-1]\n",
    "    labels = df[l_name].value_counts().to_dict()\n",
    "\n",
    "    # Calculate Prior.\n",
    "    lp = {key: value / len(df[l_name]) for key, value in labels.items()}\n",
    "\n",
    "    # Build Likelihood table.\n",
    "    likelihood = {}\n",
    "    for f_name in f_names:\n",
    "        # For each feature calculate conditional probability.\n",
    "        vals = df[[f_name, l_name]].values\n",
    "        feq = get_count(vals, lambda item: item[0] + item[1])\n",
    "        likelihood[f_name] = feq\n",
    "\n",
    "    def fit():\n",
    "        \"\"\"\n",
    "        Train model based on Naive Bayes technique.\n",
    "        \"\"\"\n",
    "\n",
    "        title(\"Prior:\")\n",
    "        [log(f\"P({key}) = {value}/{len(df[l_name])}\") for key, value in labels.items()]\n",
    "\n",
    "        title(\"Likelihood:\")\n",
    "        model = {}\n",
    "        for f_name in f_names:\n",
    "            log(\"Feature:\", f_name)\n",
    "\n",
    "            features = df[f_name].value_counts().to_dict()\n",
    "            for feature, _ in features.items():\n",
    "                cols = []\n",
    "                for key, value in labels.items():\n",
    "                    aib = likelihood[f_name].get(feature + key, 0)\n",
    "                    cols.append(f\"P({f_name} = {feature} | {l_name} == {key}) = {aib}/{value}\")\n",
    "                    model[(feature, key)] = aib / value\n",
    "                log(\", \".join(cols))\n",
    "            log(\"-\" * 85)\n",
    "\n",
    "        def predict(x_qs):\n",
    "            \"\"\"\n",
    "            Function to compute Posterior using Prior and Likelihood.\n",
    "            \"\"\"\n",
    "            pi = {}\n",
    "            for key, value in labels.items():\n",
    "                prod = lp[key]\n",
    "                for x_q in x_qs:\n",
    "                    prod *= model[(x_q, key)]\n",
    "                pi[key] = round(prod, 4)\n",
    "\n",
    "            return max(pi, key=lambda item: pi[item])\n",
    "\n",
    "        return predict\n",
    "\n",
    "    return fit"
   ]
  },
  {
   "cell_type": "markdown",
   "id": "8a5a4cec",
   "metadata": {},
   "source": [
    "#### Initialize classifier"
   ]
  },
  {
   "cell_type": "code",
   "execution_count": 8,
   "id": "99ffe643",
   "metadata": {},
   "outputs": [
    {
     "data": {
      "application/javascript": [
       "\n",
       "            setTimeout(function() {\n",
       "                var nbb_cell_id = 8;\n",
       "                var nbb_unformatted_code = \"fit = NaiveBayes(wthr_df)\";\n",
       "                var nbb_formatted_code = \"fit = NaiveBayes(wthr_df)\";\n",
       "                var nbb_cells = Jupyter.notebook.get_cells();\n",
       "                for (var i = 0; i < nbb_cells.length; ++i) {\n",
       "                    if (nbb_cells[i].input_prompt_number == nbb_cell_id) {\n",
       "                        if (nbb_cells[i].get_text() == nbb_unformatted_code) {\n",
       "                             nbb_cells[i].set_text(nbb_formatted_code);\n",
       "                        }\n",
       "                        break;\n",
       "                    }\n",
       "                }\n",
       "            }, 500);\n",
       "            "
      ],
      "text/plain": [
       "<IPython.core.display.Javascript object>"
      ]
     },
     "metadata": {},
     "output_type": "display_data"
    }
   ],
   "source": [
    "fit = NaiveBayes(wthr_df)"
   ]
  },
  {
   "cell_type": "markdown",
   "id": "427a4b4d",
   "metadata": {},
   "source": [
    "# [3] Training\n",
    "\n",
    "Train model using training dataset."
   ]
  },
  {
   "cell_type": "code",
   "execution_count": 9,
   "id": "699ff5e8",
   "metadata": {},
   "outputs": [
    {
     "name": "stdout",
     "output_type": "stream",
     "text": [
      "\n",
      "Prior:\n",
      "======\n",
      "\n",
      "P(Yes) = 9/14\n",
      "P(No) = 5/14\n",
      "\n",
      "Likelihood:\n",
      "===========\n",
      "\n",
      "Feature: Outlook\n",
      "P(Outlook = Sunny | Play == Yes) = 2/9, P(Outlook = Sunny | Play == No) = 3/5\n",
      "P(Outlook = Rain | Play == Yes) = 3/9, P(Outlook = Rain | Play == No) = 2/5\n",
      "P(Outlook = Overcast | Play == Yes) = 4/9, P(Outlook = Overcast | Play == No) = 0/5\n",
      "-------------------------------------------------------------------------------------\n",
      "Feature: Temperature\n",
      "P(Temperature = Mild | Play == Yes) = 4/9, P(Temperature = Mild | Play == No) = 2/5\n",
      "P(Temperature = Hot | Play == Yes) = 2/9, P(Temperature = Hot | Play == No) = 2/5\n",
      "P(Temperature = Cool | Play == Yes) = 3/9, P(Temperature = Cool | Play == No) = 1/5\n",
      "-------------------------------------------------------------------------------------\n",
      "Feature: Humidity\n",
      "P(Humidity = High | Play == Yes) = 3/9, P(Humidity = High | Play == No) = 4/5\n",
      "P(Humidity = Normal | Play == Yes) = 6/9, P(Humidity = Normal | Play == No) = 1/5\n",
      "-------------------------------------------------------------------------------------\n",
      "Feature: Windy\n",
      "P(Windy = Weak | Play == Yes) = 6/9, P(Windy = Weak | Play == No) = 2/5\n",
      "P(Windy = Strong | Play == Yes) = 3/9, P(Windy = Strong | Play == No) = 3/5\n",
      "-------------------------------------------------------------------------------------\n"
     ]
    },
    {
     "data": {
      "application/javascript": [
       "\n",
       "            setTimeout(function() {\n",
       "                var nbb_cell_id = 9;\n",
       "                var nbb_unformatted_code = \"ENABLE_LOG = True\\npredict = fit()\";\n",
       "                var nbb_formatted_code = \"ENABLE_LOG = True\\npredict = fit()\";\n",
       "                var nbb_cells = Jupyter.notebook.get_cells();\n",
       "                for (var i = 0; i < nbb_cells.length; ++i) {\n",
       "                    if (nbb_cells[i].input_prompt_number == nbb_cell_id) {\n",
       "                        if (nbb_cells[i].get_text() == nbb_unformatted_code) {\n",
       "                             nbb_cells[i].set_text(nbb_formatted_code);\n",
       "                        }\n",
       "                        break;\n",
       "                    }\n",
       "                }\n",
       "            }, 500);\n",
       "            "
      ],
      "text/plain": [
       "<IPython.core.display.Javascript object>"
      ]
     },
     "metadata": {},
     "output_type": "display_data"
    }
   ],
   "source": [
    "ENABLE_LOG = True\n",
    "predict = fit()"
   ]
  },
  {
   "cell_type": "markdown",
   "id": "e5525ee0",
   "metadata": {},
   "source": [
    "# [4] Testing"
   ]
  },
  {
   "cell_type": "code",
   "execution_count": 10,
   "id": "8cf4ccdf",
   "metadata": {},
   "outputs": [
    {
     "name": "stdout",
     "output_type": "stream",
     "text": [
      "Query point: ['Sunny', 'Cool', 'High', 'Strong']\n",
      "Output: No\n"
     ]
    },
    {
     "data": {
      "application/javascript": [
       "\n",
       "            setTimeout(function() {\n",
       "                var nbb_cell_id = 10;\n",
       "                var nbb_unformatted_code = \"x_q = [\\\"Sunny\\\", \\\"Cool\\\", \\\"High\\\", \\\"Strong\\\"]  # Query point\\ny_q = predict(x_q)\\n\\nprint(\\\"Query point:\\\", x_q)\\nprint(\\\"Output:\\\", y_q)\";\n",
       "                var nbb_formatted_code = \"x_q = [\\\"Sunny\\\", \\\"Cool\\\", \\\"High\\\", \\\"Strong\\\"]  # Query point\\ny_q = predict(x_q)\\n\\nprint(\\\"Query point:\\\", x_q)\\nprint(\\\"Output:\\\", y_q)\";\n",
       "                var nbb_cells = Jupyter.notebook.get_cells();\n",
       "                for (var i = 0; i < nbb_cells.length; ++i) {\n",
       "                    if (nbb_cells[i].input_prompt_number == nbb_cell_id) {\n",
       "                        if (nbb_cells[i].get_text() == nbb_unformatted_code) {\n",
       "                             nbb_cells[i].set_text(nbb_formatted_code);\n",
       "                        }\n",
       "                        break;\n",
       "                    }\n",
       "                }\n",
       "            }, 500);\n",
       "            "
      ],
      "text/plain": [
       "<IPython.core.display.Javascript object>"
      ]
     },
     "metadata": {},
     "output_type": "display_data"
    }
   ],
   "source": [
    "x_q = [\"Sunny\", \"Cool\", \"High\", \"Strong\"]  # Query point\n",
    "y_q = predict(x_q)\n",
    "\n",
    "print(\"Query point:\", x_q)\n",
    "print(\"Output:\", y_q)"
   ]
  },
  {
   "cell_type": "code",
   "execution_count": null,
   "id": "2c82dea5",
   "metadata": {},
   "outputs": [],
   "source": []
  }
 ],
 "metadata": {
  "kernelspec": {
   "display_name": "Python 3 (ipykernel)",
   "language": "python",
   "name": "python3"
  },
  "language_info": {
   "codemirror_mode": {
    "name": "ipython",
    "version": 3
   },
   "file_extension": ".py",
   "mimetype": "text/x-python",
   "name": "python",
   "nbconvert_exporter": "python",
   "pygments_lexer": "ipython3",
   "version": "3.9.12"
  }
 },
 "nbformat": 4,
 "nbformat_minor": 5
}
