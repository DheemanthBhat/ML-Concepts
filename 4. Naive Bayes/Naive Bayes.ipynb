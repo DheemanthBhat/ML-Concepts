{
 "cells": [
  {
   "cell_type": "code",
   "execution_count": 1,
   "id": "bf8ddab0",
   "metadata": {},
   "outputs": [
    {
     "data": {
      "application/javascript": [
       "\n",
       "            setTimeout(function() {\n",
       "                var nbb_cell_id = 1;\n",
       "                var nbb_unformatted_code = \"# Enable code formatting using external plugin: nb_black.\\n%reload_ext nb_black\";\n",
       "                var nbb_formatted_code = \"# Enable code formatting using external plugin: nb_black.\\n%reload_ext nb_black\";\n",
       "                var nbb_cells = Jupyter.notebook.get_cells();\n",
       "                for (var i = 0; i < nbb_cells.length; ++i) {\n",
       "                    if (nbb_cells[i].input_prompt_number == nbb_cell_id) {\n",
       "                        if (nbb_cells[i].get_text() == nbb_unformatted_code) {\n",
       "                             nbb_cells[i].set_text(nbb_formatted_code);\n",
       "                        }\n",
       "                        break;\n",
       "                    }\n",
       "                }\n",
       "            }, 500);\n",
       "            "
      ],
      "text/plain": [
       "<IPython.core.display.Javascript object>"
      ]
     },
     "metadata": {},
     "output_type": "display_data"
    }
   ],
   "source": [
    "# Enable code formatting using external plugin: nb_black.\n",
    "%reload_ext nb_black"
   ]
  },
  {
   "cell_type": "markdown",
   "id": "0c673781",
   "metadata": {},
   "source": [
    "# Naive Bayes classifier\n",
    "\n",
    "## Objective\n",
    "\n",
    "1. Implement simple Naive Bayes classifier for categorical features.\n",
    "2. Train and test model on sample weather forecast dataset using Naive Bayes."
   ]
  },
  {
   "cell_type": "markdown",
   "id": "ca78cabe",
   "metadata": {},
   "source": [
    "# [1] Setup\n",
    "\n",
    "### Import and configure required libraries"
   ]
  },
  {
   "cell_type": "code",
   "execution_count": 2,
   "id": "4d11196f",
   "metadata": {},
   "outputs": [
    {
     "name": "stdout",
     "output_type": "stream",
     "text": [
      "NumPy version: 1.21.5\n",
      "Pandas version: 1.4.2\n",
      "PrettyTable version: 3.3.0\n"
     ]
    },
    {
     "data": {
      "application/javascript": [
       "\n",
       "            setTimeout(function() {\n",
       "                var nbb_cell_id = 2;\n",
       "                var nbb_unformatted_code = \"# Data manipulation libraries\\nimport numpy as np\\nimport pandas as pd\\n\\n# Data visualization libraries\\nimport prettytable\\nfrom prettytable import PrettyTable\\n\\n# Library versions used in below EDA.\\nprint(\\\"NumPy version:\\\", np.__version__)\\nprint(\\\"Pandas version:\\\", pd.__version__)\\nprint(\\\"PrettyTable version:\\\", prettytable.__version__)\\n\\n# Configure NumPy.\\n# Set `Line width` to Maximum 130 characters in the output, post which it will continue in next line.\\nnp.set_printoptions(linewidth=130)\\n\\n# Configure Pandas.\\n# Set display width to maximum 130 characters in the output, post which it will continue in next line.\\npd.options.display.width = 130\";\n",
       "                var nbb_formatted_code = \"# Data manipulation libraries\\nimport numpy as np\\nimport pandas as pd\\n\\n# Data visualization libraries\\nimport prettytable\\nfrom prettytable import PrettyTable\\n\\n# Library versions used in below EDA.\\nprint(\\\"NumPy version:\\\", np.__version__)\\nprint(\\\"Pandas version:\\\", pd.__version__)\\nprint(\\\"PrettyTable version:\\\", prettytable.__version__)\\n\\n# Configure NumPy.\\n# Set `Line width` to Maximum 130 characters in the output, post which it will continue in next line.\\nnp.set_printoptions(linewidth=130)\\n\\n# Configure Pandas.\\n# Set display width to maximum 130 characters in the output, post which it will continue in next line.\\npd.options.display.width = 130\";\n",
       "                var nbb_cells = Jupyter.notebook.get_cells();\n",
       "                for (var i = 0; i < nbb_cells.length; ++i) {\n",
       "                    if (nbb_cells[i].input_prompt_number == nbb_cell_id) {\n",
       "                        if (nbb_cells[i].get_text() == nbb_unformatted_code) {\n",
       "                             nbb_cells[i].set_text(nbb_formatted_code);\n",
       "                        }\n",
       "                        break;\n",
       "                    }\n",
       "                }\n",
       "            }, 500);\n",
       "            "
      ],
      "text/plain": [
       "<IPython.core.display.Javascript object>"
      ]
     },
     "metadata": {},
     "output_type": "display_data"
    }
   ],
   "source": [
    "# Data manipulation libraries\n",
    "import numpy as np\n",
    "import pandas as pd\n",
    "\n",
    "# Data visualization libraries\n",
    "import prettytable\n",
    "from prettytable import PrettyTable\n",
    "\n",
    "# Library versions used in below EDA.\n",
    "print(\"NumPy version:\", np.__version__)\n",
    "print(\"Pandas version:\", pd.__version__)\n",
    "print(\"PrettyTable version:\", prettytable.__version__)\n",
    "\n",
    "# Configure NumPy.\n",
    "# Set `Line width` to Maximum 130 characters in the output, post which it will continue in next line.\n",
    "np.set_printoptions(linewidth=130)\n",
    "\n",
    "# Configure Pandas.\n",
    "# Set display width to maximum 130 characters in the output, post which it will continue in next line.\n",
    "pd.options.display.width = 130"
   ]
  },
  {
   "cell_type": "markdown",
   "id": "75c2d8ea",
   "metadata": {},
   "source": [
    "#### Common functions"
   ]
  },
  {
   "cell_type": "code",
   "execution_count": 3,
   "id": "e6cb2bbe",
   "metadata": {},
   "outputs": [
    {
     "data": {
      "application/javascript": [
       "\n",
       "            setTimeout(function() {\n",
       "                var nbb_cell_id = 3;\n",
       "                var nbb_unformatted_code = \"def is_empty(element) -> bool:\\n    \\\"\\\"\\\"\\n    Function to check if input `element` is empty.\\n\\n    Other than some special exclusions and inclusions,\\n    this function returns boolean result of Falsy check.\\n    \\\"\\\"\\\"\\n    if (isinstance(element, int) or isinstance(element, float)) and element == 0:\\n        # Exclude 0 and 0.0 from the Falsy set.\\n        return False\\n    elif isinstance(element, str) and len(element.strip()) == 0:\\n        # Include string with only one or more empty space(s) into Falsy set.\\n        return True\\n    elif isinstance(element, bool):\\n        # Exclude False from the Falsy set.\\n        return False\\n    else:\\n        # Falsy check.\\n        return False if element else True\\n\\n\\ndef get_count(items, get_key=lambda item: item):\\n    \\\"\\\"\\\"\\n    Function to count `key` in a list of items.\\n    \\\"\\\"\\\"\\n    count = {}\\n    for index, item in enumerate(items):\\n        if is_empty(get_key(item)):\\n            raise ValueError(f\\\"Specified key not found in the item at index: {index} in the list.\\\")\\n\\n        count[get_key(item)] = count.get(get_key(item), 0) + 1\\n\\n    return count.get(True, count)\\n\\n\\nENABLE_LOG = False\\n\\n\\ndef log(*args):\\n    \\\"\\\"\\\"\\n    Function print when logging is enabled.\\n    \\\"\\\"\\\"\\n    if ENABLE_LOG is True:\\n        print(*args)\\n\\n\\ndef title(title_str, padding=[1, 1], line_style=\\\"=\\\"):\\n    if ENABLE_LOG is True:\\n        pad_top, pad_bot = padding\\n        pt = \\\"\\\\n\\\" * pad_top\\n        pb = \\\"\\\\n\\\" * pad_bot\\n        print(pt + title_str + \\\"\\\\n\\\" + line_style * len(title_str) + pb)\";\n",
       "                var nbb_formatted_code = \"def is_empty(element) -> bool:\\n    \\\"\\\"\\\"\\n    Function to check if input `element` is empty.\\n\\n    Other than some special exclusions and inclusions,\\n    this function returns boolean result of Falsy check.\\n    \\\"\\\"\\\"\\n    if (isinstance(element, int) or isinstance(element, float)) and element == 0:\\n        # Exclude 0 and 0.0 from the Falsy set.\\n        return False\\n    elif isinstance(element, str) and len(element.strip()) == 0:\\n        # Include string with only one or more empty space(s) into Falsy set.\\n        return True\\n    elif isinstance(element, bool):\\n        # Exclude False from the Falsy set.\\n        return False\\n    else:\\n        # Falsy check.\\n        return False if element else True\\n\\n\\ndef get_count(items, get_key=lambda item: item):\\n    \\\"\\\"\\\"\\n    Function to count `key` in a list of items.\\n    \\\"\\\"\\\"\\n    count = {}\\n    for index, item in enumerate(items):\\n        if is_empty(get_key(item)):\\n            raise ValueError(f\\\"Specified key not found in the item at index: {index} in the list.\\\")\\n\\n        count[get_key(item)] = count.get(get_key(item), 0) + 1\\n\\n    return count.get(True, count)\\n\\n\\nENABLE_LOG = False\\n\\n\\ndef log(*args):\\n    \\\"\\\"\\\"\\n    Function print when logging is enabled.\\n    \\\"\\\"\\\"\\n    if ENABLE_LOG is True:\\n        print(*args)\\n\\n\\ndef title(title_str, padding=[1, 1], line_style=\\\"=\\\"):\\n    if ENABLE_LOG is True:\\n        pad_top, pad_bot = padding\\n        pt = \\\"\\\\n\\\" * pad_top\\n        pb = \\\"\\\\n\\\" * pad_bot\\n        print(pt + title_str + \\\"\\\\n\\\" + line_style * len(title_str) + pb)\";\n",
       "                var nbb_cells = Jupyter.notebook.get_cells();\n",
       "                for (var i = 0; i < nbb_cells.length; ++i) {\n",
       "                    if (nbb_cells[i].input_prompt_number == nbb_cell_id) {\n",
       "                        if (nbb_cells[i].get_text() == nbb_unformatted_code) {\n",
       "                             nbb_cells[i].set_text(nbb_formatted_code);\n",
       "                        }\n",
       "                        break;\n",
       "                    }\n",
       "                }\n",
       "            }, 500);\n",
       "            "
      ],
      "text/plain": [
       "<IPython.core.display.Javascript object>"
      ]
     },
     "metadata": {},
     "output_type": "display_data"
    }
   ],
   "source": [
    "def is_empty(element) -> bool:\n",
    "    \"\"\"\n",
    "    Function to check if input `element` is empty.\n",
    "\n",
    "    Other than some special exclusions and inclusions,\n",
    "    this function returns boolean result of Falsy check.\n",
    "    \"\"\"\n",
    "    if (isinstance(element, int) or isinstance(element, float)) and element == 0:\n",
    "        # Exclude 0 and 0.0 from the Falsy set.\n",
    "        return False\n",
    "    elif isinstance(element, str) and len(element.strip()) == 0:\n",
    "        # Include string with only one or more empty space(s) into Falsy set.\n",
    "        return True\n",
    "    elif isinstance(element, bool):\n",
    "        # Exclude False from the Falsy set.\n",
    "        return False\n",
    "    else:\n",
    "        # Falsy check.\n",
    "        return False if element else True\n",
    "\n",
    "\n",
    "def get_count(items, get_key=lambda item: item):\n",
    "    \"\"\"\n",
    "    Function to count `key` in a list of items.\n",
    "    \"\"\"\n",
    "    count = {}\n",
    "    for index, item in enumerate(items):\n",
    "        if is_empty(get_key(item)):\n",
    "            raise ValueError(f\"Specified key not found in the item at index: {index} in the list.\")\n",
    "\n",
    "        count[get_key(item)] = count.get(get_key(item), 0) + 1\n",
    "\n",
    "    return count.get(True, count)\n",
    "\n",
    "\n",
    "ENABLE_LOG = False\n",
    "\n",
    "\n",
    "def log(*args):\n",
    "    \"\"\"\n",
    "    Function print when logging is enabled.\n",
    "    \"\"\"\n",
    "    if ENABLE_LOG is True:\n",
    "        print(*args)\n",
    "\n",
    "\n",
    "def title(title_str, padding=[1, 1], line_style=\"=\"):\n",
    "    if ENABLE_LOG is True:\n",
    "        pad_top, pad_bot = padding\n",
    "        pt = \"\\n\" * pad_top\n",
    "        pb = \"\\n\" * pad_bot\n",
    "        print(pt + title_str + \"\\n\" + line_style * len(title_str) + pb)"
   ]
  },
  {
   "cell_type": "markdown",
   "id": "b5caa379",
   "metadata": {},
   "source": [
    "### Load data-points from a `.csv` file"
   ]
  },
  {
   "cell_type": "code",
   "execution_count": 4,
   "id": "6cf2f56d",
   "metadata": {},
   "outputs": [
    {
     "data": {
      "text/html": [
       "<div>\n",
       "<style scoped>\n",
       "    .dataframe tbody tr th:only-of-type {\n",
       "        vertical-align: middle;\n",
       "    }\n",
       "\n",
       "    .dataframe tbody tr th {\n",
       "        vertical-align: top;\n",
       "    }\n",
       "\n",
       "    .dataframe thead th {\n",
       "        text-align: right;\n",
       "    }\n",
       "</style>\n",
       "<table border=\"1\" class=\"dataframe\">\n",
       "  <thead>\n",
       "    <tr style=\"text-align: right;\">\n",
       "      <th></th>\n",
       "      <th>Outlook</th>\n",
       "      <th>Temperature</th>\n",
       "      <th>Humidity</th>\n",
       "      <th>Windy</th>\n",
       "      <th>Play</th>\n",
       "    </tr>\n",
       "  </thead>\n",
       "  <tbody>\n",
       "    <tr>\n",
       "      <th>0</th>\n",
       "      <td>Sunny</td>\n",
       "      <td>Hot</td>\n",
       "      <td>High</td>\n",
       "      <td>Weak</td>\n",
       "      <td>No</td>\n",
       "    </tr>\n",
       "    <tr>\n",
       "      <th>1</th>\n",
       "      <td>Sunny</td>\n",
       "      <td>Hot</td>\n",
       "      <td>High</td>\n",
       "      <td>Strong</td>\n",
       "      <td>No</td>\n",
       "    </tr>\n",
       "    <tr>\n",
       "      <th>2</th>\n",
       "      <td>Overcast</td>\n",
       "      <td>Hot</td>\n",
       "      <td>High</td>\n",
       "      <td>Weak</td>\n",
       "      <td>Yes</td>\n",
       "    </tr>\n",
       "    <tr>\n",
       "      <th>3</th>\n",
       "      <td>Rain</td>\n",
       "      <td>Mild</td>\n",
       "      <td>High</td>\n",
       "      <td>Weak</td>\n",
       "      <td>Yes</td>\n",
       "    </tr>\n",
       "    <tr>\n",
       "      <th>4</th>\n",
       "      <td>Rain</td>\n",
       "      <td>Cool</td>\n",
       "      <td>Normal</td>\n",
       "      <td>Weak</td>\n",
       "      <td>Yes</td>\n",
       "    </tr>\n",
       "  </tbody>\n",
       "</table>\n",
       "</div>"
      ],
      "text/plain": [
       "    Outlook Temperature Humidity   Windy Play\n",
       "0     Sunny         Hot     High    Weak   No\n",
       "1     Sunny         Hot     High  Strong   No\n",
       "2  Overcast         Hot     High    Weak  Yes\n",
       "3      Rain        Mild     High    Weak  Yes\n",
       "4      Rain        Cool   Normal    Weak  Yes"
      ]
     },
     "execution_count": 4,
     "metadata": {},
     "output_type": "execute_result"
    },
    {
     "data": {
      "application/javascript": [
       "\n",
       "            setTimeout(function() {\n",
       "                var nbb_cell_id = 4;\n",
       "                var nbb_unformatted_code = \"wthr_df = pd.read_csv(\\\"./Input/weather_forecast.csv\\\")\\nwthr_df.head()\";\n",
       "                var nbb_formatted_code = \"wthr_df = pd.read_csv(\\\"./Input/weather_forecast.csv\\\")\\nwthr_df.head()\";\n",
       "                var nbb_cells = Jupyter.notebook.get_cells();\n",
       "                for (var i = 0; i < nbb_cells.length; ++i) {\n",
       "                    if (nbb_cells[i].input_prompt_number == nbb_cell_id) {\n",
       "                        if (nbb_cells[i].get_text() == nbb_unformatted_code) {\n",
       "                             nbb_cells[i].set_text(nbb_formatted_code);\n",
       "                        }\n",
       "                        break;\n",
       "                    }\n",
       "                }\n",
       "            }, 500);\n",
       "            "
      ],
      "text/plain": [
       "<IPython.core.display.Javascript object>"
      ]
     },
     "metadata": {},
     "output_type": "display_data"
    }
   ],
   "source": [
    "wthr_df = pd.read_csv(\"./Input/weather_forecast.csv\")\n",
    "wthr_df.head()"
   ]
  },
  {
   "cell_type": "markdown",
   "id": "e1e0564c",
   "metadata": {},
   "source": [
    "`DataFrame` metadata:"
   ]
  },
  {
   "cell_type": "code",
   "execution_count": 5,
   "id": "74301316",
   "metadata": {},
   "outputs": [
    {
     "name": "stdout",
     "output_type": "stream",
     "text": [
      "<class 'pandas.core.frame.DataFrame'>\n",
      "RangeIndex: 14 entries, 0 to 13\n",
      "Data columns (total 5 columns):\n",
      " #   Column       Non-Null Count  Dtype \n",
      "---  ------       --------------  ----- \n",
      " 0   Outlook      14 non-null     object\n",
      " 1   Temperature  14 non-null     object\n",
      " 2   Humidity     14 non-null     object\n",
      " 3   Windy        14 non-null     object\n",
      " 4   Play         14 non-null     object\n",
      "dtypes: object(5)\n",
      "memory usage: 688.0+ bytes\n"
     ]
    },
    {
     "data": {
      "application/javascript": [
       "\n",
       "            setTimeout(function() {\n",
       "                var nbb_cell_id = 5;\n",
       "                var nbb_unformatted_code = \"wthr_df.info()\";\n",
       "                var nbb_formatted_code = \"wthr_df.info()\";\n",
       "                var nbb_cells = Jupyter.notebook.get_cells();\n",
       "                for (var i = 0; i < nbb_cells.length; ++i) {\n",
       "                    if (nbb_cells[i].input_prompt_number == nbb_cell_id) {\n",
       "                        if (nbb_cells[i].get_text() == nbb_unformatted_code) {\n",
       "                             nbb_cells[i].set_text(nbb_formatted_code);\n",
       "                        }\n",
       "                        break;\n",
       "                    }\n",
       "                }\n",
       "            }, 500);\n",
       "            "
      ],
      "text/plain": [
       "<IPython.core.display.Javascript object>"
      ]
     },
     "metadata": {},
     "output_type": "display_data"
    }
   ],
   "source": [
    "wthr_df.info()"
   ]
  },
  {
   "cell_type": "markdown",
   "id": "192bfea1",
   "metadata": {},
   "source": [
    "**Observations**\n",
    "\n",
    "1. Dataset contains 14 rows and 5 columns.\n",
    "2. All five columns in 14 rows have `non-null` values. No missing data.\n",
    "3. All the column contain data in string data-type. \n",
    "4. All features are categorical."
   ]
  },
  {
   "cell_type": "markdown",
   "id": "a8146267",
   "metadata": {},
   "source": [
    "#### Distinct values for each feature"
   ]
  },
  {
   "cell_type": "code",
   "execution_count": 6,
   "id": "f873b054",
   "metadata": {},
   "outputs": [
    {
     "name": "stdout",
     "output_type": "stream",
     "text": [
      "+-------------+-----------------------+-------+\n",
      "| Features    | Distinct Values       | Count |\n",
      "+-------------+-----------------------+-------+\n",
      "| Outlook     | Sunny, Overcast, Rain | 3     |\n",
      "| Temperature | Hot, Mild, Cool       | 3     |\n",
      "| Humidity    | High, Normal          | 2     |\n",
      "| Windy       | Weak, Strong          | 2     |\n",
      "+-------------+-----------------------+-------+\n"
     ]
    },
    {
     "data": {
      "application/javascript": [
       "\n",
       "            setTimeout(function() {\n",
       "                var nbb_cell_id = 6;\n",
       "                var nbb_unformatted_code = \"table = PrettyTable([\\\"Features\\\", \\\"Distinct Values\\\", \\\"Count\\\"], align=\\\"l\\\")\\n\\nfor feature in wthr_df.columns[0:-1]:\\n    unq_vals = wthr_df[feature].unique().tolist()\\n    table.add_row([feature, \\\", \\\".join(unq_vals), len(unq_vals)])\\n\\nprint(table)\";\n",
       "                var nbb_formatted_code = \"table = PrettyTable([\\\"Features\\\", \\\"Distinct Values\\\", \\\"Count\\\"], align=\\\"l\\\")\\n\\nfor feature in wthr_df.columns[0:-1]:\\n    unq_vals = wthr_df[feature].unique().tolist()\\n    table.add_row([feature, \\\", \\\".join(unq_vals), len(unq_vals)])\\n\\nprint(table)\";\n",
       "                var nbb_cells = Jupyter.notebook.get_cells();\n",
       "                for (var i = 0; i < nbb_cells.length; ++i) {\n",
       "                    if (nbb_cells[i].input_prompt_number == nbb_cell_id) {\n",
       "                        if (nbb_cells[i].get_text() == nbb_unformatted_code) {\n",
       "                             nbb_cells[i].set_text(nbb_formatted_code);\n",
       "                        }\n",
       "                        break;\n",
       "                    }\n",
       "                }\n",
       "            }, 500);\n",
       "            "
      ],
      "text/plain": [
       "<IPython.core.display.Javascript object>"
      ]
     },
     "metadata": {},
     "output_type": "display_data"
    }
   ],
   "source": [
    "table = PrettyTable([\"Features\", \"Distinct Values\", \"Count\"], align=\"l\")\n",
    "\n",
    "for feature in wthr_df.columns[0:-1]:\n",
    "    unq_vals = wthr_df[feature].unique().tolist()\n",
    "    table.add_row([feature, \", \".join(unq_vals), len(unq_vals)])\n",
    "\n",
    "print(table)"
   ]
  },
  {
   "cell_type": "markdown",
   "id": "6df6ccf4",
   "metadata": {},
   "source": [
    "#### Class label"
   ]
  },
  {
   "cell_type": "code",
   "execution_count": 7,
   "id": "3bf2c271",
   "metadata": {},
   "outputs": [
    {
     "data": {
      "text/plain": [
       "Yes    9\n",
       "No     5\n",
       "Name: Play, dtype: int64"
      ]
     },
     "execution_count": 7,
     "metadata": {},
     "output_type": "execute_result"
    },
    {
     "data": {
      "application/javascript": [
       "\n",
       "            setTimeout(function() {\n",
       "                var nbb_cell_id = 7;\n",
       "                var nbb_unformatted_code = \"wthr_df[\\\"Play\\\"].value_counts()\";\n",
       "                var nbb_formatted_code = \"wthr_df[\\\"Play\\\"].value_counts()\";\n",
       "                var nbb_cells = Jupyter.notebook.get_cells();\n",
       "                for (var i = 0; i < nbb_cells.length; ++i) {\n",
       "                    if (nbb_cells[i].input_prompt_number == nbb_cell_id) {\n",
       "                        if (nbb_cells[i].get_text() == nbb_unformatted_code) {\n",
       "                             nbb_cells[i].set_text(nbb_formatted_code);\n",
       "                        }\n",
       "                        break;\n",
       "                    }\n",
       "                }\n",
       "            }, 500);\n",
       "            "
      ],
      "text/plain": [
       "<IPython.core.display.Javascript object>"
      ]
     },
     "metadata": {},
     "output_type": "display_data"
    }
   ],
   "source": [
    "wthr_df[\"Play\"].value_counts()"
   ]
  },
  {
   "cell_type": "markdown",
   "id": "403ebb66",
   "metadata": {},
   "source": [
    "# [2] Implement Naive Bayes"
   ]
  },
  {
   "cell_type": "code",
   "execution_count": 8,
   "id": "db21fcbd",
   "metadata": {},
   "outputs": [
    {
     "data": {
      "application/javascript": [
       "\n",
       "            setTimeout(function() {\n",
       "                var nbb_cell_id = 8;\n",
       "                var nbb_unformatted_code = \"def NaiveBayes(df):\\n    \\\"\\\"\\\"\\n    Closure to implement simple Naive Bayes Classifier.\\n    \\\"\\\"\\\"\\n    N, cols = df.shape\\n    D = cols - 1  # -1 for class label.\\n    # N => Number of data-points.\\n    # D => Number of dimensions or features.\\n\\n    # Split features and class-label.\\n    f_names = df.columns[0:-1]\\n    l_name = df.columns[-1]\\n    labels = df[l_name].value_counts().to_dict()\\n\\n    # Calculate class-label Prior.\\n    cl_p = {label: count / N for label, count in labels.items()}\\n\\n    def fit(alpha=1):\\n        \\\"\\\"\\\"\\n        Train model using every data-point based on Naive Bayes technique.\\n        \\\"\\\"\\\"\\n\\n        def laplace_smoothing(a, b, k=D, sep=False):\\n            \\\"\\\"\\\"\\n            Function to compute Laplace Smoothing.\\n            \\\"\\\"\\\"\\n            return ((a + alpha), (b + (alpha * k))) if sep else ((a + alpha) / (b + (alpha * k)))\\n\\n        title(\\\"Prior:\\\")\\n        [log(f\\\"P({label}) = {count}/{N}\\\") for label, count in labels.items()]\\n\\n        # Build Likelihood table.\\n        title(\\\"Likelihood with Laplace Smoothing:\\\", [2, 1])\\n        model = {}\\n        for f_name in f_names:\\n            # For each feature calculate conditional probability.\\n            title(f'Feature: \\\"{f_name}\\\" & label: {list(labels.keys())}', [0, 0], \\\"-\\\")\\n\\n            vals = df[[f_name, l_name]].values\\n            f_count = get_count(vals, lambda item: item[0] + item[1])\\n\\n            # Calculate probability of feature = `feature` | class-label == `label`.\\n            for feature in df[f_name].unique().tolist():\\n                for label, count in labels.items():\\n                    aib = f_count.get(feature + label, 0)\\n                    nmtr, dnomtr = laplace_smoothing(aib, count, sep=True)\\n                    model[(feature, label)] = nmtr / dnomtr\\n                    log(f\\\"P({f_name} = {feature} | {l_name} == {label}) = {nmtr}/{dnomtr}\\\")\\n            log()\\n\\n        log(\\\"Model training complete!\\\")\\n\\n        def predict(x_qs):\\n            \\\"\\\"\\\"\\n            Function to compute Posterior using Prior and Likelihood.\\n            \\\"\\\"\\\"\\n            pis = {}  # Calculate pi per class-label.\\n            for label, count in labels.items():\\n                pi = cl_p[label]  # Initialize pi with Prior.\\n                for x_q in x_qs:\\n                    # If model doesnot know the probability for unseen feature value, use Laplace Smoothing.\\n                    pi *= model.get((x_q, label), laplace_smoothing(0, count))\\n                pis[label] = round(pi, 4)\\n\\n            log(\\\"Pi value of class-labels:\\\", pis)\\n            return max(pis, key=lambda item: pis[item])\\n\\n        return predict\\n\\n    return fit\";\n",
       "                var nbb_formatted_code = \"def NaiveBayes(df):\\n    \\\"\\\"\\\"\\n    Closure to implement simple Naive Bayes Classifier.\\n    \\\"\\\"\\\"\\n    N, cols = df.shape\\n    D = cols - 1  # -1 for class label.\\n    # N => Number of data-points.\\n    # D => Number of dimensions or features.\\n\\n    # Split features and class-label.\\n    f_names = df.columns[0:-1]\\n    l_name = df.columns[-1]\\n    labels = df[l_name].value_counts().to_dict()\\n\\n    # Calculate class-label Prior.\\n    cl_p = {label: count / N for label, count in labels.items()}\\n\\n    def fit(alpha=1):\\n        \\\"\\\"\\\"\\n        Train model using every data-point based on Naive Bayes technique.\\n        \\\"\\\"\\\"\\n\\n        def laplace_smoothing(a, b, k=D, sep=False):\\n            \\\"\\\"\\\"\\n            Function to compute Laplace Smoothing.\\n            \\\"\\\"\\\"\\n            return ((a + alpha), (b + (alpha * k))) if sep else ((a + alpha) / (b + (alpha * k)))\\n\\n        title(\\\"Prior:\\\")\\n        [log(f\\\"P({label}) = {count}/{N}\\\") for label, count in labels.items()]\\n\\n        # Build Likelihood table.\\n        title(\\\"Likelihood with Laplace Smoothing:\\\", [2, 1])\\n        model = {}\\n        for f_name in f_names:\\n            # For each feature calculate conditional probability.\\n            title(f'Feature: \\\"{f_name}\\\" & label: {list(labels.keys())}', [0, 0], \\\"-\\\")\\n\\n            vals = df[[f_name, l_name]].values\\n            f_count = get_count(vals, lambda item: item[0] + item[1])\\n\\n            # Calculate probability of feature = `feature` | class-label == `label`.\\n            for feature in df[f_name].unique().tolist():\\n                for label, count in labels.items():\\n                    aib = f_count.get(feature + label, 0)\\n                    nmtr, dnomtr = laplace_smoothing(aib, count, sep=True)\\n                    model[(feature, label)] = nmtr / dnomtr\\n                    log(f\\\"P({f_name} = {feature} | {l_name} == {label}) = {nmtr}/{dnomtr}\\\")\\n            log()\\n\\n        log(\\\"Model training complete!\\\")\\n\\n        def predict(x_qs):\\n            \\\"\\\"\\\"\\n            Function to compute Posterior using Prior and Likelihood.\\n            \\\"\\\"\\\"\\n            pis = {}  # Calculate pi per class-label.\\n            for label, count in labels.items():\\n                pi = cl_p[label]  # Initialize pi with Prior.\\n                for x_q in x_qs:\\n                    # If model doesnot know the probability for unseen feature value, use Laplace Smoothing.\\n                    pi *= model.get((x_q, label), laplace_smoothing(0, count))\\n                pis[label] = round(pi, 4)\\n\\n            log(\\\"Pi value of class-labels:\\\", pis)\\n            return max(pis, key=lambda item: pis[item])\\n\\n        return predict\\n\\n    return fit\";\n",
       "                var nbb_cells = Jupyter.notebook.get_cells();\n",
       "                for (var i = 0; i < nbb_cells.length; ++i) {\n",
       "                    if (nbb_cells[i].input_prompt_number == nbb_cell_id) {\n",
       "                        if (nbb_cells[i].get_text() == nbb_unformatted_code) {\n",
       "                             nbb_cells[i].set_text(nbb_formatted_code);\n",
       "                        }\n",
       "                        break;\n",
       "                    }\n",
       "                }\n",
       "            }, 500);\n",
       "            "
      ],
      "text/plain": [
       "<IPython.core.display.Javascript object>"
      ]
     },
     "metadata": {},
     "output_type": "display_data"
    }
   ],
   "source": [
    "def NaiveBayes(df):\n",
    "    \"\"\"\n",
    "    Closure to implement simple Naive Bayes Classifier.\n",
    "    \"\"\"\n",
    "    N, cols = df.shape\n",
    "    D = cols - 1  # -1 for class label.\n",
    "    # N => Number of data-points.\n",
    "    # D => Number of dimensions or features.\n",
    "\n",
    "    # Split features and class-label.\n",
    "    f_names = df.columns[0:-1]\n",
    "    l_name = df.columns[-1]\n",
    "    labels = df[l_name].value_counts().to_dict()\n",
    "\n",
    "    # Calculate class-label Prior.\n",
    "    cl_p = {label: count / N for label, count in labels.items()}\n",
    "\n",
    "    def fit(alpha=1):\n",
    "        \"\"\"\n",
    "        Train model using every data-point based on Naive Bayes technique.\n",
    "        \"\"\"\n",
    "\n",
    "        def laplace_smoothing(a, b, k=D, sep=False):\n",
    "            \"\"\"\n",
    "            Function to compute Laplace Smoothing.\n",
    "            \"\"\"\n",
    "            return ((a + alpha), (b + (alpha * k))) if sep else ((a + alpha) / (b + (alpha * k)))\n",
    "\n",
    "        title(\"Prior:\")\n",
    "        [log(f\"P({label}) = {count}/{N}\") for label, count in labels.items()]\n",
    "\n",
    "        # Build Likelihood table.\n",
    "        title(\"Likelihood with Laplace Smoothing:\", [2, 1])\n",
    "        model = {}\n",
    "        for f_name in f_names:\n",
    "            # For each feature calculate conditional probability.\n",
    "            title(f'Feature: \"{f_name}\" & label: {list(labels.keys())}', [0, 0], \"-\")\n",
    "\n",
    "            vals = df[[f_name, l_name]].values\n",
    "            f_count = get_count(vals, lambda item: item[0] + item[1])\n",
    "\n",
    "            # Calculate probability of feature = `feature` | class-label == `label`.\n",
    "            for feature in df[f_name].unique().tolist():\n",
    "                for label, count in labels.items():\n",
    "                    aib = f_count.get(feature + label, 0)\n",
    "                    nmtr, dnomtr = laplace_smoothing(aib, count, sep=True)\n",
    "                    model[(feature, label)] = nmtr / dnomtr\n",
    "                    log(f\"P({f_name} = {feature} | {l_name} == {label}) = {nmtr}/{dnomtr}\")\n",
    "            log()\n",
    "\n",
    "        log(\"Model training complete!\")\n",
    "\n",
    "        def predict(x_qs):\n",
    "            \"\"\"\n",
    "            Function to compute Posterior using Prior and Likelihood.\n",
    "            \"\"\"\n",
    "            pis = {}  # Calculate pi per class-label.\n",
    "            for label, count in labels.items():\n",
    "                pi = cl_p[label]  # Initialize pi with Prior.\n",
    "                for x_q in x_qs:\n",
    "                    # If model receives an unseen feature value, use Laplace Smoothing.\n",
    "                    pi *= model.get((x_q, label), laplace_smoothing(0, count))\n",
    "                pis[label] = round(pi, 4)\n",
    "\n",
    "            log(\"Pi value of class-labels:\", pis)\n",
    "            return max(pis, key=lambda item: pis[item])\n",
    "\n",
    "        return predict\n",
    "\n",
    "    return fit"
   ]
  },
  {
   "cell_type": "markdown",
   "id": "b83fbf87",
   "metadata": {},
   "source": [
    "# [3] Training\n",
    "\n",
    "#### Initialize classifier"
   ]
  },
  {
   "cell_type": "code",
   "execution_count": 9,
   "id": "46bca332",
   "metadata": {},
   "outputs": [
    {
     "data": {
      "application/javascript": [
       "\n",
       "            setTimeout(function() {\n",
       "                var nbb_cell_id = 9;\n",
       "                var nbb_unformatted_code = \"fit = NaiveBayes(wthr_df)\";\n",
       "                var nbb_formatted_code = \"fit = NaiveBayes(wthr_df)\";\n",
       "                var nbb_cells = Jupyter.notebook.get_cells();\n",
       "                for (var i = 0; i < nbb_cells.length; ++i) {\n",
       "                    if (nbb_cells[i].input_prompt_number == nbb_cell_id) {\n",
       "                        if (nbb_cells[i].get_text() == nbb_unformatted_code) {\n",
       "                             nbb_cells[i].set_text(nbb_formatted_code);\n",
       "                        }\n",
       "                        break;\n",
       "                    }\n",
       "                }\n",
       "            }, 500);\n",
       "            "
      ],
      "text/plain": [
       "<IPython.core.display.Javascript object>"
      ]
     },
     "metadata": {},
     "output_type": "display_data"
    }
   ],
   "source": [
    "fit = NaiveBayes(wthr_df)"
   ]
  },
  {
   "cell_type": "markdown",
   "id": "cff3ae58",
   "metadata": {},
   "source": [
    "Train model using training dataset."
   ]
  },
  {
   "cell_type": "code",
   "execution_count": 10,
   "id": "699ff5e8",
   "metadata": {},
   "outputs": [
    {
     "name": "stdout",
     "output_type": "stream",
     "text": [
      "\n",
      "Prior:\n",
      "======\n",
      "\n",
      "P(Yes) = 9/14\n",
      "P(No) = 5/14\n",
      "\n",
      "\n",
      "Likelihood with Laplace Smoothing:\n",
      "==================================\n",
      "\n",
      "Feature: \"Outlook\" & label: ['Yes', 'No']\n",
      "-----------------------------------------\n",
      "P(Outlook = Sunny | Play == Yes) = 3/13\n",
      "P(Outlook = Sunny | Play == No) = 4/9\n",
      "P(Outlook = Overcast | Play == Yes) = 5/13\n",
      "P(Outlook = Overcast | Play == No) = 1/9\n",
      "P(Outlook = Rain | Play == Yes) = 4/13\n",
      "P(Outlook = Rain | Play == No) = 3/9\n",
      "\n",
      "Feature: \"Temperature\" & label: ['Yes', 'No']\n",
      "---------------------------------------------\n",
      "P(Temperature = Hot | Play == Yes) = 3/13\n",
      "P(Temperature = Hot | Play == No) = 3/9\n",
      "P(Temperature = Mild | Play == Yes) = 5/13\n",
      "P(Temperature = Mild | Play == No) = 3/9\n",
      "P(Temperature = Cool | Play == Yes) = 4/13\n",
      "P(Temperature = Cool | Play == No) = 2/9\n",
      "\n",
      "Feature: \"Humidity\" & label: ['Yes', 'No']\n",
      "------------------------------------------\n",
      "P(Humidity = High | Play == Yes) = 4/13\n",
      "P(Humidity = High | Play == No) = 5/9\n",
      "P(Humidity = Normal | Play == Yes) = 7/13\n",
      "P(Humidity = Normal | Play == No) = 2/9\n",
      "\n",
      "Feature: \"Windy\" & label: ['Yes', 'No']\n",
      "---------------------------------------\n",
      "P(Windy = Weak | Play == Yes) = 7/13\n",
      "P(Windy = Weak | Play == No) = 3/9\n",
      "P(Windy = Strong | Play == Yes) = 4/13\n",
      "P(Windy = Strong | Play == No) = 4/9\n",
      "\n",
      "Model training complete!\n"
     ]
    },
    {
     "data": {
      "application/javascript": [
       "\n",
       "            setTimeout(function() {\n",
       "                var nbb_cell_id = 10;\n",
       "                var nbb_unformatted_code = \"ENABLE_LOG = True\\npredict = fit()\";\n",
       "                var nbb_formatted_code = \"ENABLE_LOG = True\\npredict = fit()\";\n",
       "                var nbb_cells = Jupyter.notebook.get_cells();\n",
       "                for (var i = 0; i < nbb_cells.length; ++i) {\n",
       "                    if (nbb_cells[i].input_prompt_number == nbb_cell_id) {\n",
       "                        if (nbb_cells[i].get_text() == nbb_unformatted_code) {\n",
       "                             nbb_cells[i].set_text(nbb_formatted_code);\n",
       "                        }\n",
       "                        break;\n",
       "                    }\n",
       "                }\n",
       "            }, 500);\n",
       "            "
      ],
      "text/plain": [
       "<IPython.core.display.Javascript object>"
      ]
     },
     "metadata": {},
     "output_type": "display_data"
    }
   ],
   "source": [
    "ENABLE_LOG = True\n",
    "predict = fit()"
   ]
  },
  {
   "cell_type": "markdown",
   "id": "f8ead705",
   "metadata": {},
   "source": [
    "# [4] Testing"
   ]
  },
  {
   "cell_type": "code",
   "execution_count": 11,
   "id": "14ad4979",
   "metadata": {},
   "outputs": [
    {
     "name": "stdout",
     "output_type": "stream",
     "text": [
      "Query point: ['Sunny', 'Cool', 'High', 'Strong']\n",
      "Output: No\n"
     ]
    },
    {
     "data": {
      "application/javascript": [
       "\n",
       "            setTimeout(function() {\n",
       "                var nbb_cell_id = 11;\n",
       "                var nbb_unformatted_code = \"ENABLE_LOG = False\\n\\n# Features: Outlook, Temperature, Humidity, Windy.\\nx_q = [\\\"Sunny\\\", \\\"Cool\\\", \\\"High\\\", \\\"Strong\\\"]  # Query point\\ny_q = predict(x_q)\\n\\nprint(\\\"Query point:\\\", x_q)\\nprint(\\\"Output:\\\", y_q)\";\n",
       "                var nbb_formatted_code = \"ENABLE_LOG = False\\n\\n# Features: Outlook, Temperature, Humidity, Windy.\\nx_q = [\\\"Sunny\\\", \\\"Cool\\\", \\\"High\\\", \\\"Strong\\\"]  # Query point\\ny_q = predict(x_q)\\n\\nprint(\\\"Query point:\\\", x_q)\\nprint(\\\"Output:\\\", y_q)\";\n",
       "                var nbb_cells = Jupyter.notebook.get_cells();\n",
       "                for (var i = 0; i < nbb_cells.length; ++i) {\n",
       "                    if (nbb_cells[i].input_prompt_number == nbb_cell_id) {\n",
       "                        if (nbb_cells[i].get_text() == nbb_unformatted_code) {\n",
       "                             nbb_cells[i].set_text(nbb_formatted_code);\n",
       "                        }\n",
       "                        break;\n",
       "                    }\n",
       "                }\n",
       "            }, 500);\n",
       "            "
      ],
      "text/plain": [
       "<IPython.core.display.Javascript object>"
      ]
     },
     "metadata": {},
     "output_type": "display_data"
    }
   ],
   "source": [
    "ENABLE_LOG = False\n",
    "\n",
    "# Features: Outlook, Temperature, Humidity, Windy.\n",
    "x_q = [\"Sunny\", \"Cool\", \"High\", \"Strong\"]  # Query point\n",
    "y_q = predict(x_q)\n",
    "\n",
    "print(\"Query point:\", x_q)\n",
    "print(\"Output:\", y_q)"
   ]
  },
  {
   "cell_type": "markdown",
   "id": "41648f03",
   "metadata": {},
   "source": [
    "# [5] Testing Laplace Smoothing (Additive smoothing)\n",
    "\n",
    "Feature `Humidity` contains only `[High, Normal]` values in training dataset. Pass a new value `Low`, not seen in training dataset to check Laplace Smoothing. "
   ]
  },
  {
   "cell_type": "code",
   "execution_count": 12,
   "id": "fa532ac1",
   "metadata": {},
   "outputs": [
    {
     "name": "stdout",
     "output_type": "stream",
     "text": [
      "Pi value of class-labels: {'Yes': 0.0011, 'No': 0.0017}\n",
      "Query point: ['Sunny', 'Cool', 'Low', 'Strong']\n",
      "Output: No\n"
     ]
    },
    {
     "data": {
      "application/javascript": [
       "\n",
       "            setTimeout(function() {\n",
       "                var nbb_cell_id = 12;\n",
       "                var nbb_unformatted_code = \"ENABLE_LOG = True\\n\\n# Features: Outlook, Temperature, Humidity, Windy.\\nx_q = [\\\"Sunny\\\", \\\"Cool\\\", \\\"Low\\\", \\\"Strong\\\"]  # Query point\\ny_q = predict(x_q)\\n\\nprint(\\\"Query point:\\\", x_q)\\nprint(\\\"Output:\\\", y_q)\";\n",
       "                var nbb_formatted_code = \"ENABLE_LOG = True\\n\\n# Features: Outlook, Temperature, Humidity, Windy.\\nx_q = [\\\"Sunny\\\", \\\"Cool\\\", \\\"Low\\\", \\\"Strong\\\"]  # Query point\\ny_q = predict(x_q)\\n\\nprint(\\\"Query point:\\\", x_q)\\nprint(\\\"Output:\\\", y_q)\";\n",
       "                var nbb_cells = Jupyter.notebook.get_cells();\n",
       "                for (var i = 0; i < nbb_cells.length; ++i) {\n",
       "                    if (nbb_cells[i].input_prompt_number == nbb_cell_id) {\n",
       "                        if (nbb_cells[i].get_text() == nbb_unformatted_code) {\n",
       "                             nbb_cells[i].set_text(nbb_formatted_code);\n",
       "                        }\n",
       "                        break;\n",
       "                    }\n",
       "                }\n",
       "            }, 500);\n",
       "            "
      ],
      "text/plain": [
       "<IPython.core.display.Javascript object>"
      ]
     },
     "metadata": {},
     "output_type": "display_data"
    }
   ],
   "source": [
    "ENABLE_LOG = True\n",
    "\n",
    "# Features: Outlook, Temperature, Humidity, Windy.\n",
    "x_q = [\"Sunny\", \"Cool\", \"Low\", \"Strong\"]  # Query point\n",
    "y_q = predict(x_q)\n",
    "\n",
    "print(\"Query point:\", x_q)\n",
    "print(\"Output:\", y_q)"
   ]
  },
  {
   "cell_type": "markdown",
   "id": "15b08f27",
   "metadata": {},
   "source": [
    "It is _sunny_, temperature is _cool_, humidity is _low_ but wind is _Strong_ hence we cannot play outside. Now if wind is _weak_ its an ideal situation to play outside, so lets check out model prediction when weather is (\"Sunny\", \"Cool\", \"Low\", \"Weak\"):"
   ]
  },
  {
   "cell_type": "code",
   "execution_count": 13,
   "id": "34356115",
   "metadata": {},
   "outputs": [
    {
     "name": "stdout",
     "output_type": "stream",
     "text": [
      "Pi value of class-labels: {'Yes': 0.0019, 'No': 0.0013}\n",
      "Query point: ['Sunny', 'Cool', 'Low', 'Weak']\n",
      "Output: Yes\n"
     ]
    },
    {
     "data": {
      "application/javascript": [
       "\n",
       "            setTimeout(function() {\n",
       "                var nbb_cell_id = 13;\n",
       "                var nbb_unformatted_code = \"# Features: Outlook, Temperature, Humidity, Windy.\\nx_q = [\\\"Sunny\\\", \\\"Cool\\\", \\\"Low\\\", \\\"Weak\\\"]  # Query point\\ny_q = predict(x_q)\\n\\nprint(\\\"Query point:\\\", x_q)\\nprint(\\\"Output:\\\", y_q)\";\n",
       "                var nbb_formatted_code = \"# Features: Outlook, Temperature, Humidity, Windy.\\nx_q = [\\\"Sunny\\\", \\\"Cool\\\", \\\"Low\\\", \\\"Weak\\\"]  # Query point\\ny_q = predict(x_q)\\n\\nprint(\\\"Query point:\\\", x_q)\\nprint(\\\"Output:\\\", y_q)\";\n",
       "                var nbb_cells = Jupyter.notebook.get_cells();\n",
       "                for (var i = 0; i < nbb_cells.length; ++i) {\n",
       "                    if (nbb_cells[i].input_prompt_number == nbb_cell_id) {\n",
       "                        if (nbb_cells[i].get_text() == nbb_unformatted_code) {\n",
       "                             nbb_cells[i].set_text(nbb_formatted_code);\n",
       "                        }\n",
       "                        break;\n",
       "                    }\n",
       "                }\n",
       "            }, 500);\n",
       "            "
      ],
      "text/plain": [
       "<IPython.core.display.Javascript object>"
      ]
     },
     "metadata": {},
     "output_type": "display_data"
    }
   ],
   "source": [
    "# Features: Outlook, Temperature, Humidity, Windy.\n",
    "x_q = [\"Sunny\", \"Cool\", \"Low\", \"Weak\"]  # Query point\n",
    "y_q = predict(x_q)\n",
    "\n",
    "print(\"Query point:\", x_q)\n",
    "print(\"Output:\", y_q)"
   ]
  },
  {
   "cell_type": "markdown",
   "id": "12ec06a5",
   "metadata": {},
   "source": [
    "Well indeed its an ideal weather to play outside!"
   ]
  }
 ],
 "metadata": {
  "kernelspec": {
   "display_name": "Python 3 (ipykernel)",
   "language": "python",
   "name": "python3"
  },
  "language_info": {
   "codemirror_mode": {
    "name": "ipython",
    "version": 3
   },
   "file_extension": ".py",
   "mimetype": "text/x-python",
   "name": "python",
   "nbconvert_exporter": "python",
   "pygments_lexer": "ipython3",
   "version": "3.9.12"
  }
 },
 "nbformat": 4,
 "nbformat_minor": 5
}
