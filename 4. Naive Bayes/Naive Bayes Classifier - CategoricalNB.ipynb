{
 "cells": [
  {
   "cell_type": "code",
   "execution_count": 1,
   "id": "bf8ddab0",
   "metadata": {},
   "outputs": [
    {
     "data": {
      "application/javascript": [
       "\n",
       "            setTimeout(function() {\n",
       "                var nbb_cell_id = 1;\n",
       "                var nbb_unformatted_code = \"# Enable code formatting using external plugin: nb_black.\\n%reload_ext nb_black\";\n",
       "                var nbb_formatted_code = \"# Enable code formatting using external plugin: nb_black.\\n%reload_ext nb_black\";\n",
       "                var nbb_cells = Jupyter.notebook.get_cells();\n",
       "                for (var i = 0; i < nbb_cells.length; ++i) {\n",
       "                    if (nbb_cells[i].input_prompt_number == nbb_cell_id) {\n",
       "                        if (nbb_cells[i].get_text() == nbb_unformatted_code) {\n",
       "                             nbb_cells[i].set_text(nbb_formatted_code);\n",
       "                        }\n",
       "                        break;\n",
       "                    }\n",
       "                }\n",
       "            }, 500);\n",
       "            "
      ],
      "text/plain": [
       "<IPython.core.display.Javascript object>"
      ]
     },
     "metadata": {},
     "output_type": "display_data"
    }
   ],
   "source": [
    "# Enable code formatting using external plugin: nb_black.\n",
    "%reload_ext nb_black"
   ]
  },
  {
   "cell_type": "markdown",
   "id": "0c673781",
   "metadata": {},
   "source": [
    "# Naive Bayes Classifier - CategoricalNB\n",
    "\n",
    "## Objective\n",
    "\n",
    "1. Train Naive Bayes classifier using `CategoricalNB` from `sklearn`.\n",
    "2. Train and test model on sample weather forecast dataset.\n",
    "3. Compare the result with the [custom implementation of Naive Bayes classifier][1].\n",
    "\n",
    "[1]: https://github.com/DheemanthBhat/ML-Concepts/blob/main/4.%20Naive%20Bayes/Naive%20Bayes%20Classifier.ipynb"
   ]
  },
  {
   "cell_type": "markdown",
   "id": "ca78cabe",
   "metadata": {},
   "source": [
    "# [1] Setup\n",
    "\n",
    "### Import and configure required libraries"
   ]
  },
  {
   "cell_type": "code",
   "execution_count": 2,
   "id": "4d11196f",
   "metadata": {},
   "outputs": [
    {
     "name": "stdout",
     "output_type": "stream",
     "text": [
      "Pandas version: 1.4.2\n",
      "PrettyTable version: 3.3.0\n",
      "Sklearn version: 1.0.2\n"
     ]
    },
    {
     "data": {
      "application/javascript": [
       "\n",
       "            setTimeout(function() {\n",
       "                var nbb_cell_id = 2;\n",
       "                var nbb_unformatted_code = \"# Data manipulation libraries\\nimport pandas as pd\\n\\n# Data visualization libraries\\nimport prettytable\\nfrom prettytable import PrettyTable\\n\\n# Data modeling libraries\\nimport sklearn\\nfrom sklearn.preprocessing import OrdinalEncoder\\nfrom sklearn.naive_bayes import CategoricalNB\\n\\n# Library versions used in below EDA.\\nprint(\\\"Pandas version:\\\", pd.__version__)\\nprint(\\\"PrettyTable version:\\\", prettytable.__version__)\\nprint(\\\"Sklearn version:\\\", sklearn.__version__)\\n\\n# Configure Pandas.\\n# Set display width to maximum 130 characters in the output, post which it will continue in next line.\\npd.options.display.width = 130\";\n",
       "                var nbb_formatted_code = \"# Data manipulation libraries\\nimport pandas as pd\\n\\n# Data visualization libraries\\nimport prettytable\\nfrom prettytable import PrettyTable\\n\\n# Data modeling libraries\\nimport sklearn\\nfrom sklearn.preprocessing import OrdinalEncoder\\nfrom sklearn.naive_bayes import CategoricalNB\\n\\n# Library versions used in below EDA.\\nprint(\\\"Pandas version:\\\", pd.__version__)\\nprint(\\\"PrettyTable version:\\\", prettytable.__version__)\\nprint(\\\"Sklearn version:\\\", sklearn.__version__)\\n\\n# Configure Pandas.\\n# Set display width to maximum 130 characters in the output, post which it will continue in next line.\\npd.options.display.width = 130\";\n",
       "                var nbb_cells = Jupyter.notebook.get_cells();\n",
       "                for (var i = 0; i < nbb_cells.length; ++i) {\n",
       "                    if (nbb_cells[i].input_prompt_number == nbb_cell_id) {\n",
       "                        if (nbb_cells[i].get_text() == nbb_unformatted_code) {\n",
       "                             nbb_cells[i].set_text(nbb_formatted_code);\n",
       "                        }\n",
       "                        break;\n",
       "                    }\n",
       "                }\n",
       "            }, 500);\n",
       "            "
      ],
      "text/plain": [
       "<IPython.core.display.Javascript object>"
      ]
     },
     "metadata": {},
     "output_type": "display_data"
    }
   ],
   "source": [
    "# Data manipulation libraries\n",
    "import pandas as pd\n",
    "\n",
    "# Data visualization libraries\n",
    "import prettytable\n",
    "from prettytable import PrettyTable\n",
    "\n",
    "# Data modeling libraries\n",
    "import sklearn\n",
    "from sklearn.preprocessing import OrdinalEncoder\n",
    "from sklearn.naive_bayes import CategoricalNB\n",
    "\n",
    "# Library versions used in below EDA.\n",
    "print(\"Pandas version:\", pd.__version__)\n",
    "print(\"PrettyTable version:\", prettytable.__version__)\n",
    "print(\"Sklearn version:\", sklearn.__version__)\n",
    "\n",
    "# Configure Pandas.\n",
    "# Set display width to maximum 130 characters in the output, post which it will continue in next line.\n",
    "pd.options.display.width = 130"
   ]
  },
  {
   "cell_type": "markdown",
   "id": "12c85b0f",
   "metadata": {},
   "source": [
    "# [2] Load Dataset"
   ]
  },
  {
   "cell_type": "code",
   "execution_count": 3,
   "id": "6cf2f56d",
   "metadata": {},
   "outputs": [
    {
     "data": {
      "text/html": [
       "<div>\n",
       "<style scoped>\n",
       "    .dataframe tbody tr th:only-of-type {\n",
       "        vertical-align: middle;\n",
       "    }\n",
       "\n",
       "    .dataframe tbody tr th {\n",
       "        vertical-align: top;\n",
       "    }\n",
       "\n",
       "    .dataframe thead th {\n",
       "        text-align: right;\n",
       "    }\n",
       "</style>\n",
       "<table border=\"1\" class=\"dataframe\">\n",
       "  <thead>\n",
       "    <tr style=\"text-align: right;\">\n",
       "      <th></th>\n",
       "      <th>Outlook</th>\n",
       "      <th>Temperature</th>\n",
       "      <th>Humidity</th>\n",
       "      <th>Windy</th>\n",
       "      <th>Play</th>\n",
       "    </tr>\n",
       "  </thead>\n",
       "  <tbody>\n",
       "    <tr>\n",
       "      <th>0</th>\n",
       "      <td>Sunny</td>\n",
       "      <td>Hot</td>\n",
       "      <td>High</td>\n",
       "      <td>Weak</td>\n",
       "      <td>No</td>\n",
       "    </tr>\n",
       "    <tr>\n",
       "      <th>1</th>\n",
       "      <td>Sunny</td>\n",
       "      <td>Hot</td>\n",
       "      <td>High</td>\n",
       "      <td>Strong</td>\n",
       "      <td>No</td>\n",
       "    </tr>\n",
       "    <tr>\n",
       "      <th>2</th>\n",
       "      <td>Overcast</td>\n",
       "      <td>Hot</td>\n",
       "      <td>High</td>\n",
       "      <td>Weak</td>\n",
       "      <td>Yes</td>\n",
       "    </tr>\n",
       "    <tr>\n",
       "      <th>3</th>\n",
       "      <td>Rain</td>\n",
       "      <td>Mild</td>\n",
       "      <td>High</td>\n",
       "      <td>Weak</td>\n",
       "      <td>Yes</td>\n",
       "    </tr>\n",
       "    <tr>\n",
       "      <th>4</th>\n",
       "      <td>Rain</td>\n",
       "      <td>Cool</td>\n",
       "      <td>Normal</td>\n",
       "      <td>Weak</td>\n",
       "      <td>Yes</td>\n",
       "    </tr>\n",
       "    <tr>\n",
       "      <th>5</th>\n",
       "      <td>Rain</td>\n",
       "      <td>Cool</td>\n",
       "      <td>Normal</td>\n",
       "      <td>Strong</td>\n",
       "      <td>No</td>\n",
       "    </tr>\n",
       "    <tr>\n",
       "      <th>6</th>\n",
       "      <td>Overcast</td>\n",
       "      <td>Cool</td>\n",
       "      <td>Normal</td>\n",
       "      <td>Strong</td>\n",
       "      <td>Yes</td>\n",
       "    </tr>\n",
       "    <tr>\n",
       "      <th>7</th>\n",
       "      <td>Sunny</td>\n",
       "      <td>Mild</td>\n",
       "      <td>High</td>\n",
       "      <td>Weak</td>\n",
       "      <td>No</td>\n",
       "    </tr>\n",
       "    <tr>\n",
       "      <th>8</th>\n",
       "      <td>Sunny</td>\n",
       "      <td>Cool</td>\n",
       "      <td>Normal</td>\n",
       "      <td>Weak</td>\n",
       "      <td>Yes</td>\n",
       "    </tr>\n",
       "    <tr>\n",
       "      <th>9</th>\n",
       "      <td>Rain</td>\n",
       "      <td>Mild</td>\n",
       "      <td>Normal</td>\n",
       "      <td>Weak</td>\n",
       "      <td>Yes</td>\n",
       "    </tr>\n",
       "    <tr>\n",
       "      <th>10</th>\n",
       "      <td>Sunny</td>\n",
       "      <td>Mild</td>\n",
       "      <td>Normal</td>\n",
       "      <td>Strong</td>\n",
       "      <td>Yes</td>\n",
       "    </tr>\n",
       "    <tr>\n",
       "      <th>11</th>\n",
       "      <td>Overcast</td>\n",
       "      <td>Mild</td>\n",
       "      <td>High</td>\n",
       "      <td>Strong</td>\n",
       "      <td>Yes</td>\n",
       "    </tr>\n",
       "    <tr>\n",
       "      <th>12</th>\n",
       "      <td>Overcast</td>\n",
       "      <td>Hot</td>\n",
       "      <td>Normal</td>\n",
       "      <td>Weak</td>\n",
       "      <td>Yes</td>\n",
       "    </tr>\n",
       "    <tr>\n",
       "      <th>13</th>\n",
       "      <td>Rain</td>\n",
       "      <td>Mild</td>\n",
       "      <td>High</td>\n",
       "      <td>Strong</td>\n",
       "      <td>No</td>\n",
       "    </tr>\n",
       "  </tbody>\n",
       "</table>\n",
       "</div>"
      ],
      "text/plain": [
       "     Outlook Temperature Humidity   Windy Play\n",
       "0      Sunny         Hot     High    Weak   No\n",
       "1      Sunny         Hot     High  Strong   No\n",
       "2   Overcast         Hot     High    Weak  Yes\n",
       "3       Rain        Mild     High    Weak  Yes\n",
       "4       Rain        Cool   Normal    Weak  Yes\n",
       "5       Rain        Cool   Normal  Strong   No\n",
       "6   Overcast        Cool   Normal  Strong  Yes\n",
       "7      Sunny        Mild     High    Weak   No\n",
       "8      Sunny        Cool   Normal    Weak  Yes\n",
       "9       Rain        Mild   Normal    Weak  Yes\n",
       "10     Sunny        Mild   Normal  Strong  Yes\n",
       "11  Overcast        Mild     High  Strong  Yes\n",
       "12  Overcast         Hot   Normal    Weak  Yes\n",
       "13      Rain        Mild     High  Strong   No"
      ]
     },
     "execution_count": 3,
     "metadata": {},
     "output_type": "execute_result"
    },
    {
     "data": {
      "application/javascript": [
       "\n",
       "            setTimeout(function() {\n",
       "                var nbb_cell_id = 3;\n",
       "                var nbb_unformatted_code = \"wthr_df = pd.read_csv(\\\"./Input/weather_forecast.csv\\\")\\nwthr_df.head(14)\";\n",
       "                var nbb_formatted_code = \"wthr_df = pd.read_csv(\\\"./Input/weather_forecast.csv\\\")\\nwthr_df.head(14)\";\n",
       "                var nbb_cells = Jupyter.notebook.get_cells();\n",
       "                for (var i = 0; i < nbb_cells.length; ++i) {\n",
       "                    if (nbb_cells[i].input_prompt_number == nbb_cell_id) {\n",
       "                        if (nbb_cells[i].get_text() == nbb_unformatted_code) {\n",
       "                             nbb_cells[i].set_text(nbb_formatted_code);\n",
       "                        }\n",
       "                        break;\n",
       "                    }\n",
       "                }\n",
       "            }, 500);\n",
       "            "
      ],
      "text/plain": [
       "<IPython.core.display.Javascript object>"
      ]
     },
     "metadata": {},
     "output_type": "display_data"
    }
   ],
   "source": [
    "wthr_df = pd.read_csv(\"./Input/weather_forecast.csv\")\n",
    "wthr_df.head(14)"
   ]
  },
  {
   "cell_type": "code",
   "execution_count": 4,
   "id": "6a358383",
   "metadata": {},
   "outputs": [
    {
     "data": {
      "text/plain": [
       "Yes    9\n",
       "No     5\n",
       "Name: Play, dtype: int64"
      ]
     },
     "execution_count": 4,
     "metadata": {},
     "output_type": "execute_result"
    },
    {
     "data": {
      "application/javascript": [
       "\n",
       "            setTimeout(function() {\n",
       "                var nbb_cell_id = 4;\n",
       "                var nbb_unformatted_code = \"wthr_df[\\\"Play\\\"].value_counts()\";\n",
       "                var nbb_formatted_code = \"wthr_df[\\\"Play\\\"].value_counts()\";\n",
       "                var nbb_cells = Jupyter.notebook.get_cells();\n",
       "                for (var i = 0; i < nbb_cells.length; ++i) {\n",
       "                    if (nbb_cells[i].input_prompt_number == nbb_cell_id) {\n",
       "                        if (nbb_cells[i].get_text() == nbb_unformatted_code) {\n",
       "                             nbb_cells[i].set_text(nbb_formatted_code);\n",
       "                        }\n",
       "                        break;\n",
       "                    }\n",
       "                }\n",
       "            }, 500);\n",
       "            "
      ],
      "text/plain": [
       "<IPython.core.display.Javascript object>"
      ]
     },
     "metadata": {},
     "output_type": "display_data"
    }
   ],
   "source": [
    "wthr_df[\"Play\"].value_counts()"
   ]
  },
  {
   "cell_type": "markdown",
   "id": "8cba072d",
   "metadata": {},
   "source": [
    "Imbalance dataset."
   ]
  },
  {
   "cell_type": "markdown",
   "id": "e7350991",
   "metadata": {},
   "source": [
    "# [3] Transform Data\n",
    "\n",
    "#### Up-sampling for balanced dataset"
   ]
  },
  {
   "cell_type": "code",
   "execution_count": 5,
   "id": "f5a202cd",
   "metadata": {},
   "outputs": [
    {
     "data": {
      "text/html": [
       "<div>\n",
       "<style scoped>\n",
       "    .dataframe tbody tr th:only-of-type {\n",
       "        vertical-align: middle;\n",
       "    }\n",
       "\n",
       "    .dataframe tbody tr th {\n",
       "        vertical-align: top;\n",
       "    }\n",
       "\n",
       "    .dataframe thead th {\n",
       "        text-align: right;\n",
       "    }\n",
       "</style>\n",
       "<table border=\"1\" class=\"dataframe\">\n",
       "  <thead>\n",
       "    <tr style=\"text-align: right;\">\n",
       "      <th></th>\n",
       "      <th>Outlook</th>\n",
       "      <th>Temperature</th>\n",
       "      <th>Humidity</th>\n",
       "      <th>Windy</th>\n",
       "      <th>Play</th>\n",
       "    </tr>\n",
       "  </thead>\n",
       "  <tbody>\n",
       "    <tr>\n",
       "      <th>9</th>\n",
       "      <td>Rain</td>\n",
       "      <td>Mild</td>\n",
       "      <td>Normal</td>\n",
       "      <td>Weak</td>\n",
       "      <td>Yes</td>\n",
       "    </tr>\n",
       "    <tr>\n",
       "      <th>2</th>\n",
       "      <td>Overcast</td>\n",
       "      <td>Hot</td>\n",
       "      <td>High</td>\n",
       "      <td>Weak</td>\n",
       "      <td>Yes</td>\n",
       "    </tr>\n",
       "    <tr>\n",
       "      <th>3</th>\n",
       "      <td>Rain</td>\n",
       "      <td>Mild</td>\n",
       "      <td>High</td>\n",
       "      <td>Weak</td>\n",
       "      <td>Yes</td>\n",
       "    </tr>\n",
       "    <tr>\n",
       "      <th>4</th>\n",
       "      <td>Rain</td>\n",
       "      <td>Cool</td>\n",
       "      <td>Normal</td>\n",
       "      <td>Weak</td>\n",
       "      <td>Yes</td>\n",
       "    </tr>\n",
       "    <tr>\n",
       "      <th>6</th>\n",
       "      <td>Overcast</td>\n",
       "      <td>Cool</td>\n",
       "      <td>Normal</td>\n",
       "      <td>Strong</td>\n",
       "      <td>Yes</td>\n",
       "    </tr>\n",
       "    <tr>\n",
       "      <th>8</th>\n",
       "      <td>Sunny</td>\n",
       "      <td>Cool</td>\n",
       "      <td>Normal</td>\n",
       "      <td>Weak</td>\n",
       "      <td>Yes</td>\n",
       "    </tr>\n",
       "    <tr>\n",
       "      <th>10</th>\n",
       "      <td>Sunny</td>\n",
       "      <td>Mild</td>\n",
       "      <td>Normal</td>\n",
       "      <td>Strong</td>\n",
       "      <td>Yes</td>\n",
       "    </tr>\n",
       "    <tr>\n",
       "      <th>11</th>\n",
       "      <td>Overcast</td>\n",
       "      <td>Mild</td>\n",
       "      <td>High</td>\n",
       "      <td>Strong</td>\n",
       "      <td>Yes</td>\n",
       "    </tr>\n",
       "    <tr>\n",
       "      <th>12</th>\n",
       "      <td>Overcast</td>\n",
       "      <td>Hot</td>\n",
       "      <td>Normal</td>\n",
       "      <td>Weak</td>\n",
       "      <td>Yes</td>\n",
       "    </tr>\n",
       "    <tr>\n",
       "      <th>13</th>\n",
       "      <td>Rain</td>\n",
       "      <td>Mild</td>\n",
       "      <td>High</td>\n",
       "      <td>Strong</td>\n",
       "      <td>No</td>\n",
       "    </tr>\n",
       "    <tr>\n",
       "      <th>16</th>\n",
       "      <td>Sunny</td>\n",
       "      <td>Mild</td>\n",
       "      <td>High</td>\n",
       "      <td>Weak</td>\n",
       "      <td>No</td>\n",
       "    </tr>\n",
       "    <tr>\n",
       "      <th>15</th>\n",
       "      <td>Rain</td>\n",
       "      <td>Cool</td>\n",
       "      <td>Normal</td>\n",
       "      <td>Strong</td>\n",
       "      <td>No</td>\n",
       "    </tr>\n",
       "    <tr>\n",
       "      <th>14</th>\n",
       "      <td>Sunny</td>\n",
       "      <td>Hot</td>\n",
       "      <td>High</td>\n",
       "      <td>Strong</td>\n",
       "      <td>No</td>\n",
       "    </tr>\n",
       "    <tr>\n",
       "      <th>0</th>\n",
       "      <td>Sunny</td>\n",
       "      <td>Hot</td>\n",
       "      <td>High</td>\n",
       "      <td>Weak</td>\n",
       "      <td>No</td>\n",
       "    </tr>\n",
       "    <tr>\n",
       "      <th>1</th>\n",
       "      <td>Sunny</td>\n",
       "      <td>Hot</td>\n",
       "      <td>High</td>\n",
       "      <td>Strong</td>\n",
       "      <td>No</td>\n",
       "    </tr>\n",
       "    <tr>\n",
       "      <th>7</th>\n",
       "      <td>Sunny</td>\n",
       "      <td>Mild</td>\n",
       "      <td>High</td>\n",
       "      <td>Weak</td>\n",
       "      <td>No</td>\n",
       "    </tr>\n",
       "    <tr>\n",
       "      <th>5</th>\n",
       "      <td>Rain</td>\n",
       "      <td>Cool</td>\n",
       "      <td>Normal</td>\n",
       "      <td>Strong</td>\n",
       "      <td>No</td>\n",
       "    </tr>\n",
       "    <tr>\n",
       "      <th>17</th>\n",
       "      <td>Rain</td>\n",
       "      <td>Mild</td>\n",
       "      <td>High</td>\n",
       "      <td>Strong</td>\n",
       "      <td>No</td>\n",
       "    </tr>\n",
       "  </tbody>\n",
       "</table>\n",
       "</div>"
      ],
      "text/plain": [
       "     Outlook Temperature Humidity   Windy Play\n",
       "9       Rain        Mild   Normal    Weak  Yes\n",
       "2   Overcast         Hot     High    Weak  Yes\n",
       "3       Rain        Mild     High    Weak  Yes\n",
       "4       Rain        Cool   Normal    Weak  Yes\n",
       "6   Overcast        Cool   Normal  Strong  Yes\n",
       "8      Sunny        Cool   Normal    Weak  Yes\n",
       "10     Sunny        Mild   Normal  Strong  Yes\n",
       "11  Overcast        Mild     High  Strong  Yes\n",
       "12  Overcast         Hot   Normal    Weak  Yes\n",
       "13      Rain        Mild     High  Strong   No\n",
       "16     Sunny        Mild     High    Weak   No\n",
       "15      Rain        Cool   Normal  Strong   No\n",
       "14     Sunny         Hot     High  Strong   No\n",
       "0      Sunny         Hot     High    Weak   No\n",
       "1      Sunny         Hot     High  Strong   No\n",
       "7      Sunny        Mild     High    Weak   No\n",
       "5       Rain        Cool   Normal  Strong   No\n",
       "17      Rain        Mild     High  Strong   No"
      ]
     },
     "execution_count": 5,
     "metadata": {},
     "output_type": "execute_result"
    },
    {
     "data": {
      "application/javascript": [
       "\n",
       "            setTimeout(function() {\n",
       "                var nbb_cell_id = 5;\n",
       "                var nbb_unformatted_code = \"# Filter to fetch all minority class values.\\nfltr = wthr_df[\\\"Play\\\"] == \\\"No\\\"\\n\\n# Apply filter and slice out last four rows.\\nlast_four_rows = wthr_df.loc[fltr][-4:]\\n\\n# Append last four rows of original DataFrame into a new DataFrame.\\nwthr_dfb = pd.concat([wthr_df, last_four_rows], ignore_index=True)\\n\\n# Sort by `Play` column to check the concatenation.\\nwthr_dfb.sort_values(by=[\\\"Play\\\"], ascending=False)\";\n",
       "                var nbb_formatted_code = \"# Filter to fetch all minority class values.\\nfltr = wthr_df[\\\"Play\\\"] == \\\"No\\\"\\n\\n# Apply filter and slice out last four rows.\\nlast_four_rows = wthr_df.loc[fltr][-4:]\\n\\n# Append last four rows of original DataFrame into a new DataFrame.\\nwthr_dfb = pd.concat([wthr_df, last_four_rows], ignore_index=True)\\n\\n# Sort by `Play` column to check the concatenation.\\nwthr_dfb.sort_values(by=[\\\"Play\\\"], ascending=False)\";\n",
       "                var nbb_cells = Jupyter.notebook.get_cells();\n",
       "                for (var i = 0; i < nbb_cells.length; ++i) {\n",
       "                    if (nbb_cells[i].input_prompt_number == nbb_cell_id) {\n",
       "                        if (nbb_cells[i].get_text() == nbb_unformatted_code) {\n",
       "                             nbb_cells[i].set_text(nbb_formatted_code);\n",
       "                        }\n",
       "                        break;\n",
       "                    }\n",
       "                }\n",
       "            }, 500);\n",
       "            "
      ],
      "text/plain": [
       "<IPython.core.display.Javascript object>"
      ]
     },
     "metadata": {},
     "output_type": "display_data"
    }
   ],
   "source": [
    "# Filter to fetch all minority class values.\n",
    "fltr = wthr_df[\"Play\"] == \"No\"\n",
    "\n",
    "# Apply filter and slice out last four rows.\n",
    "last_four_rows = wthr_df.loc[fltr][-4:]\n",
    "\n",
    "# Append last four rows of original DataFrame into a new DataFrame.\n",
    "wthr_dfb = pd.concat([wthr_df, last_four_rows], ignore_index=True)\n",
    "\n",
    "# Sort by `Play` column to check the concatenation.\n",
    "wthr_dfb.sort_values(by=[\"Play\"], ascending=False)"
   ]
  },
  {
   "cell_type": "code",
   "execution_count": 6,
   "id": "f7a233db",
   "metadata": {},
   "outputs": [
    {
     "data": {
      "text/plain": [
       "No     9\n",
       "Yes    9\n",
       "Name: Play, dtype: int64"
      ]
     },
     "execution_count": 6,
     "metadata": {},
     "output_type": "execute_result"
    },
    {
     "data": {
      "application/javascript": [
       "\n",
       "            setTimeout(function() {\n",
       "                var nbb_cell_id = 6;\n",
       "                var nbb_unformatted_code = \"wthr_dfb[\\\"Play\\\"].value_counts()\";\n",
       "                var nbb_formatted_code = \"wthr_dfb[\\\"Play\\\"].value_counts()\";\n",
       "                var nbb_cells = Jupyter.notebook.get_cells();\n",
       "                for (var i = 0; i < nbb_cells.length; ++i) {\n",
       "                    if (nbb_cells[i].input_prompt_number == nbb_cell_id) {\n",
       "                        if (nbb_cells[i].get_text() == nbb_unformatted_code) {\n",
       "                             nbb_cells[i].set_text(nbb_formatted_code);\n",
       "                        }\n",
       "                        break;\n",
       "                    }\n",
       "                }\n",
       "            }, 500);\n",
       "            "
      ],
      "text/plain": [
       "<IPython.core.display.Javascript object>"
      ]
     },
     "metadata": {},
     "output_type": "display_data"
    }
   ],
   "source": [
    "wthr_dfb[\"Play\"].value_counts()"
   ]
  },
  {
   "cell_type": "markdown",
   "id": "e7041500",
   "metadata": {},
   "source": [
    "Now the dataset is balanced!"
   ]
  },
  {
   "cell_type": "markdown",
   "id": "7cabc75e",
   "metadata": {},
   "source": [
    "#### Encoding Categorical features\n",
    "\n",
    "Since the data in all the features are in sting format, encode it to integers using `OrdinalEncoder`."
   ]
  },
  {
   "cell_type": "code",
   "execution_count": 7,
   "id": "ee34cc66",
   "metadata": {},
   "outputs": [
    {
     "name": "stdout",
     "output_type": "stream",
     "text": [
      "Encoded features:\n",
      "+---------+-------------+----------+-------+\n",
      "| Outlook | Temperature | Humidity | Windy |\n",
      "+---------+-------------+----------+-------+\n",
      "|   2.0   |     1.0     |   0.0    |  1.0  |\n",
      "|   2.0   |     1.0     |   0.0    |  0.0  |\n",
      "|   0.0   |     1.0     |   0.0    |  1.0  |\n",
      "|   1.0   |     2.0     |   0.0    |  1.0  |\n",
      "|   1.0   |     0.0     |   1.0    |  1.0  |\n",
      "|   1.0   |     0.0     |   1.0    |  0.0  |\n",
      "|   0.0   |     0.0     |   1.0    |  0.0  |\n",
      "|   2.0   |     2.0     |   0.0    |  1.0  |\n",
      "|   2.0   |     0.0     |   1.0    |  1.0  |\n",
      "|   1.0   |     2.0     |   1.0    |  1.0  |\n",
      "|   2.0   |     2.0     |   1.0    |  0.0  |\n",
      "|   0.0   |     2.0     |   0.0    |  0.0  |\n",
      "|   0.0   |     1.0     |   1.0    |  1.0  |\n",
      "|   1.0   |     2.0     |   0.0    |  0.0  |\n",
      "|   2.0   |     1.0     |   0.0    |  0.0  |\n",
      "|   1.0   |     0.0     |   1.0    |  0.0  |\n",
      "|   2.0   |     2.0     |   0.0    |  1.0  |\n",
      "|   1.0   |     2.0     |   0.0    |  0.0  |\n",
      "+---------+-------------+----------+-------+\n"
     ]
    },
    {
     "data": {
      "application/javascript": [
       "\n",
       "            setTimeout(function() {\n",
       "                var nbb_cell_id = 7;\n",
       "                var nbb_unformatted_code = \"X_train = wthr_dfb[[\\\"Outlook\\\", \\\"Temperature\\\", \\\"Humidity\\\", \\\"Windy\\\"]]\\ny_train = wthr_dfb[\\\"Play\\\"]\\n\\nenc = OrdinalEncoder()\\nX_train = enc.fit_transform(X_train, y_train)\\n\\nprint(\\\"Encoded features:\\\")\\ntable = PrettyTable(enc.feature_names_in_.tolist())\\n[table.add_row([*row]) for idx, row in enumerate(X_train)]\\n\\nprint(table)\";\n",
       "                var nbb_formatted_code = \"X_train = wthr_dfb[[\\\"Outlook\\\", \\\"Temperature\\\", \\\"Humidity\\\", \\\"Windy\\\"]]\\ny_train = wthr_dfb[\\\"Play\\\"]\\n\\nenc = OrdinalEncoder()\\nX_train = enc.fit_transform(X_train, y_train)\\n\\nprint(\\\"Encoded features:\\\")\\ntable = PrettyTable(enc.feature_names_in_.tolist())\\n[table.add_row([*row]) for idx, row in enumerate(X_train)]\\n\\nprint(table)\";\n",
       "                var nbb_cells = Jupyter.notebook.get_cells();\n",
       "                for (var i = 0; i < nbb_cells.length; ++i) {\n",
       "                    if (nbb_cells[i].input_prompt_number == nbb_cell_id) {\n",
       "                        if (nbb_cells[i].get_text() == nbb_unformatted_code) {\n",
       "                             nbb_cells[i].set_text(nbb_formatted_code);\n",
       "                        }\n",
       "                        break;\n",
       "                    }\n",
       "                }\n",
       "            }, 500);\n",
       "            "
      ],
      "text/plain": [
       "<IPython.core.display.Javascript object>"
      ]
     },
     "metadata": {},
     "output_type": "display_data"
    }
   ],
   "source": [
    "X_train = wthr_dfb[[\"Outlook\", \"Temperature\", \"Humidity\", \"Windy\"]]\n",
    "y_train = wthr_dfb[\"Play\"]\n",
    "\n",
    "enc = OrdinalEncoder()\n",
    "X_train = enc.fit_transform(X_train, y_train)\n",
    "\n",
    "print(\"Encoded features:\")\n",
    "table = PrettyTable(enc.feature_names_in_.tolist())\n",
    "[table.add_row([*row]) for idx, row in enumerate(X_train)]\n",
    "\n",
    "print(table)"
   ]
  },
  {
   "cell_type": "markdown",
   "id": "19c77b35",
   "metadata": {},
   "source": [
    "# [4] Train `CategoricalNB` Model\n",
    "\n",
    "Train a Naive Bayes Classifier model using `CategoricalNB` class from `scikit-learn` on encoded training data."
   ]
  },
  {
   "cell_type": "code",
   "execution_count": 8,
   "id": "b3d017b0",
   "metadata": {},
   "outputs": [
    {
     "data": {
      "application/javascript": [
       "\n",
       "            setTimeout(function() {\n",
       "                var nbb_cell_id = 8;\n",
       "                var nbb_unformatted_code = \"nb_clfr = CategoricalNB(min_categories=[3, 3, 3, 2])\\nmodel = nb_clfr.fit(X_train, y_train)\";\n",
       "                var nbb_formatted_code = \"nb_clfr = CategoricalNB(min_categories=[3, 3, 3, 2])\\nmodel = nb_clfr.fit(X_train, y_train)\";\n",
       "                var nbb_cells = Jupyter.notebook.get_cells();\n",
       "                for (var i = 0; i < nbb_cells.length; ++i) {\n",
       "                    if (nbb_cells[i].input_prompt_number == nbb_cell_id) {\n",
       "                        if (nbb_cells[i].get_text() == nbb_unformatted_code) {\n",
       "                             nbb_cells[i].set_text(nbb_formatted_code);\n",
       "                        }\n",
       "                        break;\n",
       "                    }\n",
       "                }\n",
       "            }, 500);\n",
       "            "
      ],
      "text/plain": [
       "<IPython.core.display.Javascript object>"
      ]
     },
     "metadata": {},
     "output_type": "display_data"
    }
   ],
   "source": [
    "nb_clfr = CategoricalNB(min_categories=[3, 3, 3, 2])\n",
    "model = nb_clfr.fit(X_train, y_train)"
   ]
  },
  {
   "cell_type": "markdown",
   "id": "235ef46c",
   "metadata": {},
   "source": [
    "#### Display Prior"
   ]
  },
  {
   "cell_type": "code",
   "execution_count": 9,
   "id": "ff5d12ff",
   "metadata": {},
   "outputs": [
    {
     "name": "stdout",
     "output_type": "stream",
     "text": [
      "Prior:\n",
      "No = -0.693147180559945\n",
      "Yes = -0.693147180559945\n"
     ]
    },
    {
     "data": {
      "application/javascript": [
       "\n",
       "            setTimeout(function() {\n",
       "                var nbb_cell_id = 9;\n",
       "                var nbb_unformatted_code = \"cl1, cl2 = nb_clfr.classes_\\ncl1_prior, cl2_prior = nb_clfr.class_log_prior_\\n\\nprint(\\\"Prior:\\\")\\nprint(cl1, \\\"=\\\", cl1_prior)\\nprint(cl2, \\\"=\\\", cl2_prior)\";\n",
       "                var nbb_formatted_code = \"cl1, cl2 = nb_clfr.classes_\\ncl1_prior, cl2_prior = nb_clfr.class_log_prior_\\n\\nprint(\\\"Prior:\\\")\\nprint(cl1, \\\"=\\\", cl1_prior)\\nprint(cl2, \\\"=\\\", cl2_prior)\";\n",
       "                var nbb_cells = Jupyter.notebook.get_cells();\n",
       "                for (var i = 0; i < nbb_cells.length; ++i) {\n",
       "                    if (nbb_cells[i].input_prompt_number == nbb_cell_id) {\n",
       "                        if (nbb_cells[i].get_text() == nbb_unformatted_code) {\n",
       "                             nbb_cells[i].set_text(nbb_formatted_code);\n",
       "                        }\n",
       "                        break;\n",
       "                    }\n",
       "                }\n",
       "            }, 500);\n",
       "            "
      ],
      "text/plain": [
       "<IPython.core.display.Javascript object>"
      ]
     },
     "metadata": {},
     "output_type": "display_data"
    }
   ],
   "source": [
    "cl1, cl2 = nb_clfr.classes_\n",
    "cl1_prior, cl2_prior = nb_clfr.class_log_prior_\n",
    "\n",
    "print(\"Prior:\")\n",
    "print(cl1, \"=\", cl1_prior)\n",
    "print(cl2, \"=\", cl2_prior)"
   ]
  },
  {
   "cell_type": "markdown",
   "id": "fcf11c12",
   "metadata": {},
   "source": [
    "#### Display Likelihood\n",
    "\n",
    "Display likelihood computed by `CategoricalNB` model in tabular format."
   ]
  },
  {
   "cell_type": "code",
   "execution_count": 10,
   "id": "51ce48bf",
   "metadata": {},
   "outputs": [
    {
     "name": "stdout",
     "output_type": "stream",
     "text": [
      "Likelihood table:\n",
      "+--------------+---------------+-------------+-----------------+\n",
      "| Feature name | Feature value | Class label | Log Probability |\n",
      "+--------------+---------------+-------------+-----------------+\n",
      "|      Outlook |      Overcast |          No |         -2.4849 |\n",
      "|      Outlook |          Rain |          No |         -0.8755 |\n",
      "|      Outlook |         Sunny |          No |         -0.6931 |\n",
      "|      Outlook |      Overcast |         Yes |         -0.8755 |\n",
      "|      Outlook |          Rain |         Yes |         -1.0986 |\n",
      "|      Outlook |         Sunny |         Yes |         -1.3863 |\n",
      "|  Temperature |          Cool |          No |         -1.3863 |\n",
      "|  Temperature |           Hot |          No |         -1.0986 |\n",
      "|  Temperature |          Mild |          No |         -0.8755 |\n",
      "|  Temperature |          Cool |         Yes |         -1.0986 |\n",
      "|  Temperature |           Hot |         Yes |         -1.3863 |\n",
      "|  Temperature |          Mild |         Yes |         -0.8755 |\n",
      "|     Humidity |          High |          No |         -0.4055 |\n",
      "|     Humidity |        Normal |          No |         -1.3863 |\n",
      "|     Humidity |           Low |          No |         -2.4849 |\n",
      "|     Humidity |          High |         Yes |         -1.0986 |\n",
      "|     Humidity |        Normal |         Yes |          -0.539 |\n",
      "|     Humidity |           Low |         Yes |         -2.4849 |\n",
      "|        Windy |        Strong |          No |          -0.452 |\n",
      "|        Windy |          Weak |          No |         -1.0116 |\n",
      "|        Windy |        Strong |         Yes |         -1.0116 |\n",
      "|        Windy |          Weak |         Yes |          -0.452 |\n",
      "+--------------+---------------+-------------+-----------------+\n"
     ]
    },
    {
     "data": {
      "application/javascript": [
       "\n",
       "            setTimeout(function() {\n",
       "                var nbb_cell_id = 10;\n",
       "                var nbb_unformatted_code = \"# Possible categories.\\ncategories = [\\n    [\\\"Overcast\\\", \\\"Rain\\\", \\\"Sunny\\\"],\\n    [\\\"Cool\\\", \\\"Hot\\\", \\\"Mild\\\"],\\n    [\\\"High\\\", \\\"Normal\\\", \\\"Low\\\"],\\n    [\\\"Strong\\\", \\\"Weak\\\"],\\n]\\n\\nft_names = enc.feature_names_in_.tolist()  # Feature names\\nlhood_table = {}\\ntable = PrettyTable([\\\"Feature name\\\", \\\"Feature value\\\", \\\"Class label\\\", \\\"Log Probability\\\"], align=\\\"r\\\")\\n\\nfor ft_idx, ft_name in enumerate(ft_names):  # Feature index, Feature\\n    for cl_idx, cl_label in enumerate(nb_clfr.classes_):  # Class-label index, Class-label\\n        for cat_idx, cat_name in enumerate(categories[ft_idx]):  # Category index, Category\\n            lp = round(nb_clfr.feature_log_prob_[ft_idx][cl_idx][cat_idx], 4)\\n            table.add_row([ft_name, cat_name, cl_label, lp])\\n            lhood_table[(ft_name, cat_name, cl_label)] = lp\\n\\nprint(\\\"Likelihood table:\\\")\\nprint(table)\";\n",
       "                var nbb_formatted_code = \"# Possible categories.\\ncategories = [\\n    [\\\"Overcast\\\", \\\"Rain\\\", \\\"Sunny\\\"],\\n    [\\\"Cool\\\", \\\"Hot\\\", \\\"Mild\\\"],\\n    [\\\"High\\\", \\\"Normal\\\", \\\"Low\\\"],\\n    [\\\"Strong\\\", \\\"Weak\\\"],\\n]\\n\\nft_names = enc.feature_names_in_.tolist()  # Feature names\\nlhood_table = {}\\ntable = PrettyTable([\\\"Feature name\\\", \\\"Feature value\\\", \\\"Class label\\\", \\\"Log Probability\\\"], align=\\\"r\\\")\\n\\nfor ft_idx, ft_name in enumerate(ft_names):  # Feature index, Feature\\n    for cl_idx, cl_label in enumerate(nb_clfr.classes_):  # Class-label index, Class-label\\n        for cat_idx, cat_name in enumerate(categories[ft_idx]):  # Category index, Category\\n            lp = round(nb_clfr.feature_log_prob_[ft_idx][cl_idx][cat_idx], 4)\\n            table.add_row([ft_name, cat_name, cl_label, lp])\\n            lhood_table[(ft_name, cat_name, cl_label)] = lp\\n\\nprint(\\\"Likelihood table:\\\")\\nprint(table)\";\n",
       "                var nbb_cells = Jupyter.notebook.get_cells();\n",
       "                for (var i = 0; i < nbb_cells.length; ++i) {\n",
       "                    if (nbb_cells[i].input_prompt_number == nbb_cell_id) {\n",
       "                        if (nbb_cells[i].get_text() == nbb_unformatted_code) {\n",
       "                             nbb_cells[i].set_text(nbb_formatted_code);\n",
       "                        }\n",
       "                        break;\n",
       "                    }\n",
       "                }\n",
       "            }, 500);\n",
       "            "
      ],
      "text/plain": [
       "<IPython.core.display.Javascript object>"
      ]
     },
     "metadata": {},
     "output_type": "display_data"
    }
   ],
   "source": [
    "# Possible categories.\n",
    "categories = [\n",
    "    [\"Overcast\", \"Rain\", \"Sunny\"],\n",
    "    [\"Cool\", \"Hot\", \"Mild\"],\n",
    "    [\"High\", \"Normal\", \"Low\"],\n",
    "    [\"Strong\", \"Weak\"],\n",
    "]\n",
    "\n",
    "ft_names = enc.feature_names_in_.tolist()  # Feature names\n",
    "lhood_table = {}\n",
    "table = PrettyTable([\"Feature name\", \"Feature value\", \"Class label\", \"Log Probability\"], align=\"r\")\n",
    "\n",
    "for ft_idx, ft_name in enumerate(ft_names):  # Feature index, Feature\n",
    "    for cl_idx, cl_label in enumerate(nb_clfr.classes_):  # Class-label index, Class-label\n",
    "        for cat_idx, cat_name in enumerate(categories[ft_idx]):  # Category index, Category\n",
    "            lp = round(nb_clfr.feature_log_prob_[ft_idx][cl_idx][cat_idx], 4)\n",
    "            table.add_row([ft_name, cat_name, cl_label, lp])\n",
    "            lhood_table[(ft_name, cat_name, cl_label)] = lp\n",
    "\n",
    "print(\"Likelihood table:\")\n",
    "print(table)"
   ]
  },
  {
   "cell_type": "markdown",
   "id": "9c776c4b",
   "metadata": {},
   "source": [
    "# [5] Test Model"
   ]
  },
  {
   "cell_type": "code",
   "execution_count": 11,
   "id": "8402cece",
   "metadata": {},
   "outputs": [
    {
     "data": {
      "application/javascript": [
       "\n",
       "            setTimeout(function() {\n",
       "                var nbb_cell_id = 11;\n",
       "                var nbb_unformatted_code = \"def predict(x_q):\\n    \\\"\\\"\\\"\\n    Function to predict class-label using given query point `x_q`.\\n    \\\"\\\"\\\"\\n    print(\\\"Query Point:\\\", x_q)\\n    print(\\\"Output:\\\", model.predict([x_q]).item())\\n\\n\\ndef get_log_prb(x_q):\\n    \\\"\\\"\\\"\\n    Function to fetch log-pobability of each class-label for the given query point `x_q`.\\n    \\\"\\\"\\\"\\n    cl_sigmas = [] # Sigma per class-label.\\n    for cl_idx, cl_label in enumerate(nb_clfr.classes_):  # Class-label index, Class-label\\n        lp_sum = nb_clfr.class_log_prior_[cl_idx]\\n        for idx, f_val in enumerate(x_q):\\n            lp_sum += lhood_table[(ft_names[idx], f_val, cl_label)]\\n        cl_sigmas.append(round(lp_sum, 4))\\n\\n    no_lp, yes_lp = cl_sigmas\\n    print(f\\\"P(Play = No | {x_q}) = {no_lp}\\\")\\n    print(f\\\"P(Play = Yes | {x_q}) = {yes_lp}\\\")\";\n",
       "                var nbb_formatted_code = \"def predict(x_q):\\n    \\\"\\\"\\\"\\n    Function to predict class-label using given query point `x_q`.\\n    \\\"\\\"\\\"\\n    print(\\\"Query Point:\\\", x_q)\\n    print(\\\"Output:\\\", model.predict([x_q]).item())\\n\\n\\ndef get_log_prb(x_q):\\n    \\\"\\\"\\\"\\n    Function to fetch log-pobability of each class-label for the given query point `x_q`.\\n    \\\"\\\"\\\"\\n    cl_sigmas = []  # Sigma per class-label.\\n    for cl_idx, cl_label in enumerate(nb_clfr.classes_):  # Class-label index, Class-label\\n        lp_sum = nb_clfr.class_log_prior_[cl_idx]\\n        for idx, f_val in enumerate(x_q):\\n            lp_sum += lhood_table[(ft_names[idx], f_val, cl_label)]\\n        cl_sigmas.append(round(lp_sum, 4))\\n\\n    no_lp, yes_lp = cl_sigmas\\n    print(f\\\"P(Play = No | {x_q}) = {no_lp}\\\")\\n    print(f\\\"P(Play = Yes | {x_q}) = {yes_lp}\\\")\";\n",
       "                var nbb_cells = Jupyter.notebook.get_cells();\n",
       "                for (var i = 0; i < nbb_cells.length; ++i) {\n",
       "                    if (nbb_cells[i].input_prompt_number == nbb_cell_id) {\n",
       "                        if (nbb_cells[i].get_text() == nbb_unformatted_code) {\n",
       "                             nbb_cells[i].set_text(nbb_formatted_code);\n",
       "                        }\n",
       "                        break;\n",
       "                    }\n",
       "                }\n",
       "            }, 500);\n",
       "            "
      ],
      "text/plain": [
       "<IPython.core.display.Javascript object>"
      ]
     },
     "metadata": {},
     "output_type": "display_data"
    }
   ],
   "source": [
    "def predict(x_q):\n",
    "    \"\"\"\n",
    "    Function to predict class-label using given query point `x_q`.\n",
    "    \"\"\"\n",
    "    print(\"Query Point:\", x_q)\n",
    "    print(\"Output:\", model.predict([x_q]).item())\n",
    "\n",
    "\n",
    "def get_log_prb(x_q):\n",
    "    \"\"\"\n",
    "    Function to fetch log-pobability of each class-label for the given query point `x_q`.\n",
    "    \"\"\"\n",
    "    cl_sigmas = []  # Sigma per class-label.\n",
    "    for cl_idx, cl_label in enumerate(nb_clfr.classes_):  # Class-label index, Class-label\n",
    "        lp_sum = nb_clfr.class_log_prior_[cl_idx]\n",
    "        for idx, f_val in enumerate(x_q):\n",
    "            lp_sum += lhood_table[(ft_names[idx], f_val, cl_label)]\n",
    "        cl_sigmas.append(round(lp_sum, 4))\n",
    "\n",
    "    no_lp, yes_lp = cl_sigmas\n",
    "    print(f\"P(Play = No | {x_q}) = {no_lp}\")\n",
    "    print(f\"P(Play = Yes | {x_q}) = {yes_lp}\")"
   ]
  },
  {
   "cell_type": "code",
   "execution_count": 12,
   "id": "b12977fe",
   "metadata": {},
   "outputs": [
    {
     "name": "stdout",
     "output_type": "stream",
     "text": [
      "Query Point: [2, 0, 0, 0]\n",
      "Output: No\n",
      "P(Play = No | ['Sunny', 'Cool', 'High', 'Strong']) = -3.63\n",
      "P(Play = Yes | ['Sunny', 'Cool', 'High', 'Strong']) = -5.2882\n"
     ]
    },
    {
     "data": {
      "application/javascript": [
       "\n",
       "            setTimeout(function() {\n",
       "                var nbb_cell_id = 12;\n",
       "                var nbb_unformatted_code = \"# Features: Outlook, Temperature, Humidity, Windy.\\n# query point: 'Sunny', 'Cool', 'High', 'Strong'.\\npredict([2, 0, 0, 0])\\nget_log_prb([\\\"Sunny\\\", \\\"Cool\\\", \\\"High\\\", \\\"Strong\\\"])\";\n",
       "                var nbb_formatted_code = \"# Features: Outlook, Temperature, Humidity, Windy.\\n# query point: 'Sunny', 'Cool', 'High', 'Strong'.\\npredict([2, 0, 0, 0])\\nget_log_prb([\\\"Sunny\\\", \\\"Cool\\\", \\\"High\\\", \\\"Strong\\\"])\";\n",
       "                var nbb_cells = Jupyter.notebook.get_cells();\n",
       "                for (var i = 0; i < nbb_cells.length; ++i) {\n",
       "                    if (nbb_cells[i].input_prompt_number == nbb_cell_id) {\n",
       "                        if (nbb_cells[i].get_text() == nbb_unformatted_code) {\n",
       "                             nbb_cells[i].set_text(nbb_formatted_code);\n",
       "                        }\n",
       "                        break;\n",
       "                    }\n",
       "                }\n",
       "            }, 500);\n",
       "            "
      ],
      "text/plain": [
       "<IPython.core.display.Javascript object>"
      ]
     },
     "metadata": {},
     "output_type": "display_data"
    }
   ],
   "source": [
    "# Features: Outlook, Temperature, Humidity, Windy.\n",
    "# query point: 'Sunny', 'Cool', 'High', 'Strong'.\n",
    "predict([2, 0, 0, 0])\n",
    "get_log_prb([\"Sunny\", \"Cool\", \"High\", \"Strong\"])"
   ]
  },
  {
   "cell_type": "markdown",
   "id": "9c5a44d7",
   "metadata": {},
   "source": [
    "# [6] Testing Additive Smoothing"
   ]
  },
  {
   "cell_type": "code",
   "execution_count": 13,
   "id": "417f27d3",
   "metadata": {},
   "outputs": [
    {
     "name": "stdout",
     "output_type": "stream",
     "text": [
      "Query Point: [2, 0, 2, 0]\n",
      "Output: No\n",
      "P(Play = No | ['Sunny', 'Cool', 'Low', 'Strong']) = -5.7094\n",
      "P(Play = Yes | ['Sunny', 'Cool', 'Low', 'Strong']) = -6.6745\n"
     ]
    },
    {
     "data": {
      "application/javascript": [
       "\n",
       "            setTimeout(function() {\n",
       "                var nbb_cell_id = 13;\n",
       "                var nbb_unformatted_code = \"# Features: Outlook, Temperature, Humidity, Windy.\\n# query point: 'Sunny', 'Cool', 'Low', 'Strong'.\\npredict([2, 0, 2, 0])\\nget_log_prb([\\\"Sunny\\\", \\\"Cool\\\", \\\"Low\\\", \\\"Strong\\\"])\";\n",
       "                var nbb_formatted_code = \"# Features: Outlook, Temperature, Humidity, Windy.\\n# query point: 'Sunny', 'Cool', 'Low', 'Strong'.\\npredict([2, 0, 2, 0])\\nget_log_prb([\\\"Sunny\\\", \\\"Cool\\\", \\\"Low\\\", \\\"Strong\\\"])\";\n",
       "                var nbb_cells = Jupyter.notebook.get_cells();\n",
       "                for (var i = 0; i < nbb_cells.length; ++i) {\n",
       "                    if (nbb_cells[i].input_prompt_number == nbb_cell_id) {\n",
       "                        if (nbb_cells[i].get_text() == nbb_unformatted_code) {\n",
       "                             nbb_cells[i].set_text(nbb_formatted_code);\n",
       "                        }\n",
       "                        break;\n",
       "                    }\n",
       "                }\n",
       "            }, 500);\n",
       "            "
      ],
      "text/plain": [
       "<IPython.core.display.Javascript object>"
      ]
     },
     "metadata": {},
     "output_type": "display_data"
    }
   ],
   "source": [
    "# Features: Outlook, Temperature, Humidity, Windy.\n",
    "# query point: 'Sunny', 'Cool', 'Low', 'Strong'.\n",
    "predict([2, 0, 2, 0])\n",
    "get_log_prb([\"Sunny\", \"Cool\", \"Low\", \"Strong\"])"
   ]
  },
  {
   "cell_type": "code",
   "execution_count": 14,
   "id": "a20f9535",
   "metadata": {},
   "outputs": [
    {
     "name": "stdout",
     "output_type": "stream",
     "text": [
      "Query Point: [2, 0, 2, 1]\n",
      "Output: Yes\n",
      "P(Play = No | ['Sunny', 'Cool', 'Low', 'Weak']) = -6.269\n",
      "P(Play = Yes | ['Sunny', 'Cool', 'Low', 'Weak']) = -6.1149\n"
     ]
    },
    {
     "data": {
      "application/javascript": [
       "\n",
       "            setTimeout(function() {\n",
       "                var nbb_cell_id = 14;\n",
       "                var nbb_unformatted_code = \"# Features: Outlook, Temperature, Humidity, Windy.\\n# query point: 'Sunny', 'Cool', 'Low', 'Weak'.\\npredict([2, 0, 2, 1])\\nget_log_prb([\\\"Sunny\\\", \\\"Cool\\\", \\\"Low\\\", \\\"Weak\\\"])\";\n",
       "                var nbb_formatted_code = \"# Features: Outlook, Temperature, Humidity, Windy.\\n# query point: 'Sunny', 'Cool', 'Low', 'Weak'.\\npredict([2, 0, 2, 1])\\nget_log_prb([\\\"Sunny\\\", \\\"Cool\\\", \\\"Low\\\", \\\"Weak\\\"])\";\n",
       "                var nbb_cells = Jupyter.notebook.get_cells();\n",
       "                for (var i = 0; i < nbb_cells.length; ++i) {\n",
       "                    if (nbb_cells[i].input_prompt_number == nbb_cell_id) {\n",
       "                        if (nbb_cells[i].get_text() == nbb_unformatted_code) {\n",
       "                             nbb_cells[i].set_text(nbb_formatted_code);\n",
       "                        }\n",
       "                        break;\n",
       "                    }\n",
       "                }\n",
       "            }, 500);\n",
       "            "
      ],
      "text/plain": [
       "<IPython.core.display.Javascript object>"
      ]
     },
     "metadata": {},
     "output_type": "display_data"
    }
   ],
   "source": [
    "# Features: Outlook, Temperature, Humidity, Windy.\n",
    "# query point: 'Sunny', 'Cool', 'Low', 'Weak'.\n",
    "predict([2, 0, 2, 1])\n",
    "get_log_prb([\"Sunny\", \"Cool\", \"Low\", \"Weak\"])"
   ]
  }
 ],
 "metadata": {
  "kernelspec": {
   "display_name": "Python 3 (ipykernel)",
   "language": "python",
   "name": "python3"
  },
  "language_info": {
   "codemirror_mode": {
    "name": "ipython",
    "version": 3
   },
   "file_extension": ".py",
   "mimetype": "text/x-python",
   "name": "python",
   "nbconvert_exporter": "python",
   "pygments_lexer": "ipython3",
   "version": "3.9.12"
  }
 },
 "nbformat": 4,
 "nbformat_minor": 5
}
