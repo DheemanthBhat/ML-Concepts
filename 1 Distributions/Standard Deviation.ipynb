{
 "cells": [
  {
   "cell_type": "code",
   "execution_count": 1,
   "id": "753537ab",
   "metadata": {},
   "outputs": [
    {
     "data": {
      "application/javascript": [
       "\n",
       "            setTimeout(function() {\n",
       "                var nbb_cell_id = 1;\n",
       "                var nbb_unformatted_code = \"# Enable code formatting using external plugin: nb_black.\\n%reload_ext nb_black\";\n",
       "                var nbb_formatted_code = \"# Enable code formatting using external plugin: nb_black.\\n%reload_ext nb_black\";\n",
       "                var nbb_cells = Jupyter.notebook.get_cells();\n",
       "                for (var i = 0; i < nbb_cells.length; ++i) {\n",
       "                    if (nbb_cells[i].input_prompt_number == nbb_cell_id) {\n",
       "                        if (nbb_cells[i].get_text() == nbb_unformatted_code) {\n",
       "                             nbb_cells[i].set_text(nbb_formatted_code);\n",
       "                        }\n",
       "                        break;\n",
       "                    }\n",
       "                }\n",
       "            }, 500);\n",
       "            "
      ],
      "text/plain": [
       "<IPython.core.display.Javascript object>"
      ]
     },
     "metadata": {},
     "output_type": "display_data"
    }
   ],
   "source": [
    "# Enable code formatting using external plugin: nb_black.\n",
    "%reload_ext nb_black"
   ]
  },
  {
   "cell_type": "code",
   "execution_count": 2,
   "id": "1f27be54",
   "metadata": {},
   "outputs": [
    {
     "data": {
      "application/javascript": [
       "\n",
       "            setTimeout(function() {\n",
       "                var nbb_cell_id = 2;\n",
       "                var nbb_unformatted_code = \"import numpy as np\\nfrom scipy.stats import norm\\n\\nimport matplotlib.pyplot as plt\\nimport seaborn as sns\\n\\nnp.set_printoptions(linewidth=130)  # Line width: Maximum 130 characters in the output, post which it will continue in next line.\\n\\n# sns.set_style(\\\"whitegrid\\\")\\nsns.set_context(\\\"paper\\\", font_scale=1.5)\";\n",
       "                var nbb_formatted_code = \"import numpy as np\\nfrom scipy.stats import norm\\n\\nimport matplotlib.pyplot as plt\\nimport seaborn as sns\\n\\nnp.set_printoptions(linewidth=130)  # Line width: Maximum 130 characters in the output, post which it will continue in next line.\\n\\n# sns.set_style(\\\"whitegrid\\\")\\nsns.set_context(\\\"paper\\\", font_scale=1.5)\";\n",
       "                var nbb_cells = Jupyter.notebook.get_cells();\n",
       "                for (var i = 0; i < nbb_cells.length; ++i) {\n",
       "                    if (nbb_cells[i].input_prompt_number == nbb_cell_id) {\n",
       "                        if (nbb_cells[i].get_text() == nbb_unformatted_code) {\n",
       "                             nbb_cells[i].set_text(nbb_formatted_code);\n",
       "                        }\n",
       "                        break;\n",
       "                    }\n",
       "                }\n",
       "            }, 500);\n",
       "            "
      ],
      "text/plain": [
       "<IPython.core.display.Javascript object>"
      ]
     },
     "metadata": {},
     "output_type": "display_data"
    }
   ],
   "source": [
    "import numpy as np\n",
    "from scipy.stats import norm\n",
    "\n",
    "import matplotlib.pyplot as plt\n",
    "import seaborn as sns\n",
    "\n",
    "np.set_printoptions(linewidth=130)  # Line width: Maximum 130 characters in the output, post which it will continue in next line.\n",
    "\n",
    "# sns.set_style(\"whitegrid\")\n",
    "sns.set_context(\"paper\", font_scale=1.5)"
   ]
  },
  {
   "cell_type": "code",
   "execution_count": 3,
   "id": "e53665c9",
   "metadata": {},
   "outputs": [
    {
     "name": "stdout",
     "output_type": "stream",
     "text": [
      "Mean: 5.0\n",
      "Variance: 4.0\n",
      "Standard Deviation: 2.0\n"
     ]
    },
    {
     "data": {
      "application/javascript": [
       "\n",
       "            setTimeout(function() {\n",
       "                var nbb_cell_id = 3;\n",
       "                var nbb_unformatted_code = \"X = [1, 2, 2, 3, 3, 3, 4, 4, 4, 4, 5, 5, 5, 5, 5, 6, 6, 6, 6, 7, 7, 7, 8, 8, 9]\\n\\nmean = np.mean(X)\\nvar = np.var(X)\\nstd = np.std(X)\\n\\nprint(\\\"Mean:\\\", mean)\\nprint(\\\"Variance:\\\", var)\\nprint(\\\"Standard Deviation:\\\", std)\";\n",
       "                var nbb_formatted_code = \"X = [1, 2, 2, 3, 3, 3, 4, 4, 4, 4, 5, 5, 5, 5, 5, 6, 6, 6, 6, 7, 7, 7, 8, 8, 9]\\n\\nmean = np.mean(X)\\nvar = np.var(X)\\nstd = np.std(X)\\n\\nprint(\\\"Mean:\\\", mean)\\nprint(\\\"Variance:\\\", var)\\nprint(\\\"Standard Deviation:\\\", std)\";\n",
       "                var nbb_cells = Jupyter.notebook.get_cells();\n",
       "                for (var i = 0; i < nbb_cells.length; ++i) {\n",
       "                    if (nbb_cells[i].input_prompt_number == nbb_cell_id) {\n",
       "                        if (nbb_cells[i].get_text() == nbb_unformatted_code) {\n",
       "                             nbb_cells[i].set_text(nbb_formatted_code);\n",
       "                        }\n",
       "                        break;\n",
       "                    }\n",
       "                }\n",
       "            }, 500);\n",
       "            "
      ],
      "text/plain": [
       "<IPython.core.display.Javascript object>"
      ]
     },
     "metadata": {},
     "output_type": "display_data"
    }
   ],
   "source": [
    "X = [1, 2, 2, 3, 3, 3, 4, 4, 4, 4, 5, 5, 5, 5, 5, 6, 6, 6, 6, 7, 7, 7, 8, 8, 9]\n",
    "\n",
    "mean = np.mean(X)\n",
    "var = np.var(X)\n",
    "std = np.std(X)\n",
    "\n",
    "print(\"Mean:\", mean)\n",
    "print(\"Variance:\", var)\n",
    "print(\"Standard Deviation:\", std)"
   ]
  },
  {
   "cell_type": "code",
   "execution_count": 4,
   "id": "1f552103",
   "metadata": {},
   "outputs": [
    {
     "data": {
      "image/png": "[encoded data removed]",
      "text/plain": [
       "<Figure size 720x360 with 1 Axes>"
      ]
     },
     "metadata": {
      "needs_background": "light"
     },
     "output_type": "display_data"
    },
    {
     "data": {
      "application/javascript": [
       "\n",
       "            setTimeout(function() {\n",
       "                var nbb_cell_id = 4;\n",
       "                var nbb_unformatted_code = \"plt.figure(figsize=(10, 5))\\n\\nax = sns.kdeplot(X, shade=True)\\n\\n# Plot 1-std.\\nx = np.linspace(mean - std, mean + std)\\ny = norm.pdf(x, mean, std)\\nax.fill_between(x, y, alpha=0.5)\\n\\nplt.xlabel(\\\"Random variable X\\\")\\nplt.ylabel(\\\"Probability Density Function\\\")\\nplt.xticks(ticks=range(0, 10))\\nplt.grid()\\n\\nplt.show()\";\n",
       "                var nbb_formatted_code = \"plt.figure(figsize=(10, 5))\\n\\nax = sns.kdeplot(X, shade=True)\\n\\n# Plot 1-std.\\nx = np.linspace(mean - std, mean + std)\\ny = norm.pdf(x, mean, std)\\nax.fill_between(x, y, alpha=0.5)\\n\\nplt.xlabel(\\\"Random variable X\\\")\\nplt.ylabel(\\\"Probability Density Function\\\")\\nplt.xticks(ticks=range(0, 10))\\nplt.grid()\\n\\nplt.show()\";\n",
       "                var nbb_cells = Jupyter.notebook.get_cells();\n",
       "                for (var i = 0; i < nbb_cells.length; ++i) {\n",
       "                    if (nbb_cells[i].input_prompt_number == nbb_cell_id) {\n",
       "                        if (nbb_cells[i].get_text() == nbb_unformatted_code) {\n",
       "                             nbb_cells[i].set_text(nbb_formatted_code);\n",
       "                        }\n",
       "                        break;\n",
       "                    }\n",
       "                }\n",
       "            }, 500);\n",
       "            "
      ],
      "text/plain": [
       "<IPython.core.display.Javascript object>"
      ]
     },
     "metadata": {},
     "output_type": "display_data"
    }
   ],
   "source": [
    "plt.figure(figsize=(10, 5))\n",
    "\n",
    "ax = sns.kdeplot(X, shade=True)\n",
    "\n",
    "# Plot 1-std.\n",
    "x = np.linspace(mean - std, mean + std)\n",
    "y = norm.pdf(x, mean, std)\n",
    "ax.fill_between(x, y, alpha=0.5)\n",
    "\n",
    "plt.xlabel(\"Random variable X\")\n",
    "plt.ylabel(\"Probability Density Function\")\n",
    "plt.xticks(ticks=range(0, 10))\n",
    "plt.grid()\n",
    "\n",
    "plt.show()"
   ]
  },
  {
   "cell_type": "markdown",
   "id": "1b9b5c9a",
   "metadata": {},
   "source": [
    "#### Normal Distribution"
   ]
  },
  {
   "cell_type": "code",
   "execution_count": 5,
   "id": "bbab8ee6",
   "metadata": {},
   "outputs": [
    {
     "data": {
      "application/javascript": [
       "\n",
       "            setTimeout(function() {\n",
       "                var nbb_cell_id = 5;\n",
       "                var nbb_unformatted_code = \"mean = 5\\nstd = 2\\nX = np.random.randn(10000)\\nX = (X - X.mean()) / X.std() * std + mean\";\n",
       "                var nbb_formatted_code = \"mean = 5\\nstd = 2\\nX = np.random.randn(10000)\\nX = (X - X.mean()) / X.std() * std + mean\";\n",
       "                var nbb_cells = Jupyter.notebook.get_cells();\n",
       "                for (var i = 0; i < nbb_cells.length; ++i) {\n",
       "                    if (nbb_cells[i].input_prompt_number == nbb_cell_id) {\n",
       "                        if (nbb_cells[i].get_text() == nbb_unformatted_code) {\n",
       "                             nbb_cells[i].set_text(nbb_formatted_code);\n",
       "                        }\n",
       "                        break;\n",
       "                    }\n",
       "                }\n",
       "            }, 500);\n",
       "            "
      ],
      "text/plain": [
       "<IPython.core.display.Javascript object>"
      ]
     },
     "metadata": {},
     "output_type": "display_data"
    }
   ],
   "source": [
    "mean = 5\n",
    "std = 2\n",
    "X = np.random.randn(10000)\n",
    "X = (X - X.mean()) / X.std() * std + mean"
   ]
  },
  {
   "cell_type": "code",
   "execution_count": null,
   "id": "18a72c63",
   "metadata": {},
   "outputs": [],
   "source": []
  }
 ],
 "metadata": {
  "kernelspec": {
   "display_name": "Python 3 (ipykernel)",
   "language": "python",
   "name": "python3"
  },
  "language_info": {
   "codemirror_mode": {
    "name": "ipython",
    "version": 3
   },
   "file_extension": ".py",
   "mimetype": "text/x-python",
   "name": "python",
   "nbconvert_exporter": "python",
   "pygments_lexer": "ipython3",
   "version": "3.9.7"
  }
 },
 "nbformat": 4,
 "nbformat_minor": 5
}
